{
  "nbformat": 4,
  "nbformat_minor": 0,
  "metadata": {
    "colab": {
      "name": "LSTM&GRU&MLP.ipynb",
      "provenance": [],
      "toc_visible": true
    },
    "kernelspec": {
      "name": "python3",
      "display_name": "Python 3"
    },
    "language_info": {
      "name": "python"
    }
  },
  "cells": [
    {
      "cell_type": "code",
      "metadata": {
        "id": "3rEfUbxnwTwD",
        "colab": {
          "base_uri": "https://localhost:8080/"
        },
        "outputId": "1d47918b-add4-4395-ad2b-0aae81fcbd54"
      },
      "source": [
        "import pandas as pd\n",
        "import matplotlib.pyplot as plt\n",
        "import seaborn as sns\n",
        "from matplotlib import pyplot\n",
        "import numpy as np\n",
        "from sklearn.preprocessing import MinMaxScaler\n",
        "\n",
        "\n",
        "from matplotlib.backends.backend_pdf import PdfPages\n",
        "from google.colab import files\n",
        "from pylab import rcParams\n",
        "import statsmodels.api as sm\n",
        "from sklearn.metrics import mean_squared_error\n",
        "from sklearn.metrics import mean_absolute_error\n",
        "\n",
        "from keras.models import Sequential\n",
        "from keras.layers import Dense, LSTM, GRU, Flatten\n",
        "from keras.callbacks import EarlyStopping\n"
      ],
      "execution_count": 1,
      "outputs": [
        {
          "output_type": "stream",
          "text": [
            "/usr/local/lib/python3.7/dist-packages/statsmodels/tools/_testing.py:19: FutureWarning: pandas.util.testing is deprecated. Use the functions in the public API at pandas.testing instead.\n",
            "  import pandas.util.testing as tm\n"
          ],
          "name": "stderr"
        }
      ]
    },
    {
      "cell_type": "markdown",
      "metadata": {
        "id": "ADyUUoDs82Qn"
      },
      "source": [
        "# Functions"
      ]
    },
    {
      "cell_type": "code",
      "metadata": {
        "id": "RQv8QWKfwmhb"
      },
      "source": [
        "def create_dataset(dataset, look_back=1, response_variable_index=0, multi_feature = True):\n",
        "  dataX, dataY = [], []\n",
        "  if multi_feature :\n",
        "    for i in range(len(dataset)-look_back-1):\n",
        "      a = dataset[i:(i+look_back)]\n",
        "      dataX.append(a)\n",
        "      dataY.append(dataset[i + look_back, response_variable_index])\n",
        "  else:\n",
        "    for i in range(len(dataset)-look_back -1):\n",
        "      a = dataset[i:(i+look_back-1),response_variable_index]\n",
        "      dataX.append(a)\n",
        "      dataY.append(dataset[i + look_back, response_variable_index])\n",
        "  return np.array(dataX), np.array(dataY)"
      ],
      "execution_count": 2,
      "outputs": []
    },
    {
      "cell_type": "code",
      "metadata": {
        "id": "Efsd9zwFwvk1"
      },
      "source": [
        "def prepare(df, scaling_range=(0,1),time_step=5,multi_feature=True, response_variable_index=0,data_split_ratio=0.8):\n",
        "  df = df.astype(\"float32\")\n",
        "  scaler = MinMaxScaler(feature_range=scaling_range)\n",
        "  dataset = scaler.fit_transform(df)\n",
        "  X, Y = create_dataset(dataset, time_step, response_variable_index, multi_feature = True)\n",
        "  # split into train and test sets\n",
        "  train_size = int(len(dataset) * data_split_ratio)\n",
        "  test_size = len(dataset) - train_size\n",
        "  trainX, testX = X[0:train_size,:], X[train_size:len(dataset),:]\n",
        "  trainY, testY = Y[0:train_size], Y[train_size:len(dataset)]\n",
        "  #print(trainX.shape)\n",
        "  #print(testX.shape)\n",
        "  # reshape input to be [samples, time steps, features]\n",
        "  if not multi_feature:\n",
        "    trainX = np.reshape(trainX, (trainX.shape[0],trainX.shape[1],1))\n",
        "    testX = np.reshape(testX, (testX.shape[0], testX.shape[1],1))\n",
        "    #print(trainX.shape)\n",
        "  X_train=trainX\n",
        "  X_test=testX\n",
        "  y_train=trainY.reshape(-1,1)\n",
        "  y_test=testY.reshape(-1,1)\n",
        "  return X_train,X_test, y_train, y_test"
      ],
      "execution_count": 4,
      "outputs": []
    },
    {
      "cell_type": "code",
      "metadata": {
        "id": "-7PBKIZGxUCP"
      },
      "source": [
        "def model_lstm():\n",
        "  model_lstm = Sequential()\n",
        "  model_lstm.add(LSTM(16, return_sequences=True, activation='relu', input_shape=(X_train.shape[1], X_train.shape[2])))\n",
        "  model_lstm.add(LSTM(units=16))\n",
        "  model_lstm.add(Dense(units=1))\n",
        "  model_lstm.compile(loss='mae', optimizer='adam')\n",
        "  return model_lstm\n",
        "  #model_lstm.summary()"
      ],
      "execution_count": 5,
      "outputs": []
    },
    {
      "cell_type": "code",
      "metadata": {
        "id": "c6cWqHvZxUFG"
      },
      "source": [
        "def model_gru():\n",
        "  model_gru = Sequential()\n",
        "  model_gru.add(GRU(16, return_sequences=True, activation='relu', input_shape=(X_train.shape[1], X_train.shape[2])))\n",
        "  model_gru.add(GRU(units=16))\n",
        "  model_gru.add(Dense(units=1))\n",
        "  model_gru.compile(loss='mae', optimizer='adam')\n",
        "  return model_gru"
      ],
      "execution_count": 6,
      "outputs": []
    },
    {
      "cell_type": "code",
      "metadata": {
        "id": "BTwzX0Qn0dtq"
      },
      "source": [
        "def model_mlp():\n",
        "  model_mlp = Sequential()\n",
        "  model_mlp.add(Flatten(input_shape = (X_train.shape[1], X_train.shape[2])))\n",
        "  model_mlp.add(Dense(16, activation = \"relu\"))\n",
        "  model_mlp.add(Dense(16, activation = \"relu\"))\n",
        "  model_mlp.compile(loss='mae', optimizer='adam')\n",
        "  return model_mlp"
      ],
      "execution_count": 7,
      "outputs": []
    },
    {
      "cell_type": "code",
      "metadata": {
        "id": "_zCYu4sxwvpj"
      },
      "source": [
        "def fit(model, X_train, X_test, y_train, y_test):\n",
        "  history = model.fit(X_train, y_train, epochs=100, batch_size=16, validation_data=(X_test, y_test), callbacks=[EarlyStopping(monitor= \"val_loss\", patience=10)], shuffle=False)\n",
        "  return history\n"
      ],
      "execution_count": 8,
      "outputs": []
    },
    {
      "cell_type": "code",
      "metadata": {
        "id": "8UpO-j2OAu9L"
      },
      "source": [
        "def predict(model, y_test):\n",
        "  y_test_pre = model.predict(X_test)\n",
        "  return y_test_pre"
      ],
      "execution_count": 9,
      "outputs": []
    },
    {
      "cell_type": "code",
      "metadata": {
        "id": "io86Y-oGwv3j"
      },
      "source": [
        "def visualize(y_test, y_pre, title):\n",
        "  results = pd.DataFrame()\n",
        "  #results['Date']= date_test.reset_index().Date.iloc[1:-1]\n",
        "  #results[\"Date\"] = date_test\n",
        "  results[\"predicted\"]=[i[0] for i in y_pre][1:] \n",
        "  results[\"true\"] = y_test[:-1]\n",
        "  #results = results.set_index([\"Date\"])\n",
        "  #results.head()\n",
        "  pyplot.plot(results[\"predicted\"], label='predicted', color='red')\n",
        "  pyplot.plot(results[\"true\"], label='true', color= 'green')\n",
        "  pyplot.legend()\n",
        "  pyplot.title(title)\n",
        "  pyplot.show()"
      ],
      "execution_count": 10,
      "outputs": []
    },
    {
      "cell_type": "code",
      "metadata": {
        "id": "2CqE7mfdwv4w"
      },
      "source": [
        "def evaluate(y_test, y_pre):\n",
        "  true = y_test[:-1]\n",
        "  predicted = [i[0] for i in y_pre][1:]\n",
        "  rmse = np.sqrt(mean_squared_error(true, predicted))\n",
        "  mae = mean_absolute_error(true, predicted)\n",
        "  #print(len(true))\n",
        "  #print(len(predicted))\n",
        "  return rmse, mae\n"
      ],
      "execution_count": 11,
      "outputs": []
    },
    {
      "cell_type": "markdown",
      "metadata": {
        "id": "bm4qCwdl8c4-"
      },
      "source": [
        "#Import Data"
      ]
    },
    {
      "cell_type": "code",
      "metadata": {
        "id": "2NZn4Z7t8gmA"
      },
      "source": [
        "# Maharashtra\n",
        "df_Ma = pd.read_csv(\"https://raw.githubusercontent.com/sureshkuc/Data-Science-in-Life-Science-Project/main/Indian-States-Covid19-Datasets/Maharashtra.csv\", parse_dates=[\"Date\"]).drop(columns =[\"Unnamed: 0\"])\n",
        "# Karnataka\n",
        "df_Ka = pd.read_csv(\"https://raw.githubusercontent.com/sureshkuc/Data-Science-in-Life-Science-Project/main/Indian-States-Covid19-Datasets/Karnataka.csv\", parse_dates=[\"Date\"]).drop(columns =[\"Unnamed: 0\"])\n",
        "# Kerala\n",
        "df_Ke = pd.read_csv(\"https://raw.githubusercontent.com/sureshkuc/Data-Science-in-Life-Science-Project/main/Indian-States-Covid19-Datasets/Kerala.csv\", parse_dates=[\"Date\"]).drop(columns =[\"Unnamed: 0\"])\n",
        "# Tamil Nadu\n",
        "df_TN = pd.read_csv(\"https://raw.githubusercontent.com/sureshkuc/Data-Science-in-Life-Science-Project/main/Indian-States-Covid19-Datasets/Tamil-Nadu.csv\", parse_dates=[\"Date\"]).drop(columns =[\"Unnamed: 0\"])\n",
        "# Uttar Pradesh\n",
        "df_UP = pd.read_csv(\"https://raw.githubusercontent.com/sureshkuc/Data-Science-in-Life-Science-Project/main/Indian-States-Covid19-Datasets/Uttar-Pradesh.csv\", parse_dates=[\"Date\"]).drop(columns =[\"Unnamed: 0\"])\n",
        "\n"
      ],
      "execution_count": 12,
      "outputs": []
    },
    {
      "cell_type": "code",
      "metadata": {
        "id": "POL56eLD8h2d"
      },
      "source": [
        "df_Ma = df_Ma[[\"Date\", \"Confirmed\", \"Recovered\", \"Deceased\", \"New_Confirmerd\", \"New_Deaths\", \"New_Recovered\"]]\n",
        "df_Ka = df_Ka[[\"Date\", \"Confirmed\", \"Recovered\", \"Deceased\", \"New_Confirmerd\", \"New_Deaths\", \"New_Recovered\"]]\n",
        "df_Ke = df_Ke[[\"Date\", \"Confirmed\", \"Recovered\", \"Deceased\", \"New_Confirmerd\", \"New_Deaths\", \"New_Recovered\"]]\n",
        "df_TN = df_TN[[\"Date\", \"Confirmed\", \"Recovered\", \"Deceased\", \"New_Confirmerd\", \"New_Deaths\", \"New_Recovered\"]]\n",
        "df_UP = df_UP[[\"Date\", \"Confirmed\", \"Recovered\", \"Deceased\", \"New_Confirmerd\", \"New_Deaths\", \"New_Recovered\"]]"
      ],
      "execution_count": 13,
      "outputs": []
    },
    {
      "cell_type": "code",
      "metadata": {
        "id": "FpGnjvWs8h5X"
      },
      "source": [
        "df_Ma = df_Ma[df_Ma[\"Date\"] > \"2020-03-09\"]\n",
        "df_Ka = df_Ka[df_Ka[\"Date\"] > \"2020-03-09\"]\n",
        "df_Ke = df_Ke[df_Ke[\"Date\"] > \"2020-03-09\"]\n",
        "df_TN = df_TN[df_TN[\"Date\"] > \"2020-03-09\"]\n",
        "df_UP = df_UP[df_UP[\"Date\"] > \"2020-03-09\"]"
      ],
      "execution_count": 14,
      "outputs": []
    },
    {
      "cell_type": "code",
      "metadata": {
        "colab": {
          "base_uri": "https://localhost:8080/",
          "height": 204
        },
        "id": "cdGbeQkHxUjj",
        "outputId": "ad54dc60-5318-4492-a84f-6a5b1019a236"
      },
      "source": [
        "df_Ma.tail()"
      ],
      "execution_count": 16,
      "outputs": [
        {
          "output_type": "execute_result",
          "data": {
            "text/html": [
              "<div>\n",
              "<style scoped>\n",
              "    .dataframe tbody tr th:only-of-type {\n",
              "        vertical-align: middle;\n",
              "    }\n",
              "\n",
              "    .dataframe tbody tr th {\n",
              "        vertical-align: top;\n",
              "    }\n",
              "\n",
              "    .dataframe thead th {\n",
              "        text-align: right;\n",
              "    }\n",
              "</style>\n",
              "<table border=\"1\" class=\"dataframe\">\n",
              "  <thead>\n",
              "    <tr style=\"text-align: right;\">\n",
              "      <th></th>\n",
              "      <th>Date</th>\n",
              "      <th>Confirmed</th>\n",
              "      <th>Recovered</th>\n",
              "      <th>Deceased</th>\n",
              "      <th>New_Confirmerd</th>\n",
              "      <th>New_Deaths</th>\n",
              "      <th>New_Recovered</th>\n",
              "    </tr>\n",
              "  </thead>\n",
              "  <tbody>\n",
              "    <tr>\n",
              "      <th>473</th>\n",
              "      <td>2021-06-25</td>\n",
              "      <td>6017035</td>\n",
              "      <td>5772799</td>\n",
              "      <td>120370</td>\n",
              "      <td>9604.0</td>\n",
              "      <td>511.0</td>\n",
              "      <td>10138.0</td>\n",
              "    </tr>\n",
              "    <tr>\n",
              "      <th>474</th>\n",
              "      <td>2021-06-26</td>\n",
              "      <td>6026847</td>\n",
              "      <td>5781551</td>\n",
              "      <td>120881</td>\n",
              "      <td>9812.0</td>\n",
              "      <td>511.0</td>\n",
              "      <td>8752.0</td>\n",
              "    </tr>\n",
              "    <tr>\n",
              "      <th>475</th>\n",
              "      <td>2021-06-27</td>\n",
              "      <td>6036821</td>\n",
              "      <td>5790113</td>\n",
              "      <td>121286</td>\n",
              "      <td>9974.0</td>\n",
              "      <td>405.0</td>\n",
              "      <td>8562.0</td>\n",
              "    </tr>\n",
              "    <tr>\n",
              "      <th>476</th>\n",
              "      <td>2021-06-28</td>\n",
              "      <td>6043548</td>\n",
              "      <td>5800925</td>\n",
              "      <td>121573</td>\n",
              "      <td>6727.0</td>\n",
              "      <td>287.0</td>\n",
              "      <td>10812.0</td>\n",
              "    </tr>\n",
              "    <tr>\n",
              "      <th>477</th>\n",
              "      <td>2021-06-29</td>\n",
              "      <td>6043548</td>\n",
              "      <td>5800925</td>\n",
              "      <td>121573</td>\n",
              "      <td>0.0</td>\n",
              "      <td>0.0</td>\n",
              "      <td>0.0</td>\n",
              "    </tr>\n",
              "  </tbody>\n",
              "</table>\n",
              "</div>"
            ],
            "text/plain": [
              "          Date  Confirmed  Recovered  ...  New_Confirmerd  New_Deaths  New_Recovered\n",
              "473 2021-06-25    6017035    5772799  ...          9604.0       511.0        10138.0\n",
              "474 2021-06-26    6026847    5781551  ...          9812.0       511.0         8752.0\n",
              "475 2021-06-27    6036821    5790113  ...          9974.0       405.0         8562.0\n",
              "476 2021-06-28    6043548    5800925  ...          6727.0       287.0        10812.0\n",
              "477 2021-06-29    6043548    5800925  ...             0.0         0.0            0.0\n",
              "\n",
              "[5 rows x 7 columns]"
            ]
          },
          "metadata": {
            "tags": []
          },
          "execution_count": 16
        }
      ]
    },
    {
      "cell_type": "code",
      "metadata": {
        "id": "gFg977kC8rBe"
      },
      "source": [
        "df_Ma = df_Ma.set_index(\"Date\")\n",
        "df_Ka = df_Ka.set_index(\"Date\")\n",
        "df_Ke = df_Ke.set_index(\"Date\")\n",
        "df_TN = df_TN.set_index(\"Date\")\n",
        "df_UP = df_UP.set_index(\"Date\")\n"
      ],
      "execution_count": null,
      "outputs": []
    },
    {
      "cell_type": "code",
      "metadata": {
        "id": "zhHeg-d7FvOD"
      },
      "source": [
        "RMSE_lstm = []\n",
        "MAE_lstm = []\n",
        "RMSE_gru = []\n",
        "MAE_gru = []\n",
        "RMSE_mlp = []\n",
        "MAE_mlp = []\n",
        "states = [\"Maharashtra\", \"Karnataka\", \"Kerala\", \"Tamil Nadu\", \"Uttar Pradesh\"]"
      ],
      "execution_count": null,
      "outputs": []
    },
    {
      "cell_type": "markdown",
      "metadata": {
        "id": "-KxC5oBn4Blx"
      },
      "source": [
        "# Maharashtra"
      ]
    },
    {
      "cell_type": "code",
      "metadata": {
        "id": "JDCmwofL6_Oc"
      },
      "source": [
        "X_train,X_test, y_train, y_test = prepare(df_Ma, scaling_range=(0,1),time_step=5,multi_feature=True, response_variable_index=0,data_split_ratio=0.8)"
      ],
      "execution_count": null,
      "outputs": []
    },
    {
      "cell_type": "code",
      "metadata": {
        "colab": {
          "base_uri": "https://localhost:8080/"
        },
        "id": "znhqCg0Sv5qo",
        "outputId": "6b4873e9-c242-4124-aab1-7bd2c88c2009"
      },
      "source": [
        "print(\"X_train.shape\", X_train.shape)\n",
        "print(\"X_test.shape\", X_test.shape)\n",
        "print(\"y_train.shape\", y_train.shape)\n",
        "print(\"y_test.shape\", y_test.shape)"
      ],
      "execution_count": null,
      "outputs": [
        {
          "output_type": "stream",
          "text": [
            "X_train.shape (381, 5, 6)\n",
            "X_test.shape (90, 5, 6)\n",
            "y_train.shape (381, 1)\n",
            "y_test.shape (90, 1)\n"
          ],
          "name": "stdout"
        }
      ]
    },
    {
      "cell_type": "code",
      "metadata": {
        "colab": {
          "base_uri": "https://localhost:8080/"
        },
        "id": "rxSJYg251UL5",
        "outputId": "cb714ede-34be-4ea4-e02e-ec15b76d423c"
      },
      "source": [
        "model_MLP = model_mlp()\n",
        "fit(model_MLP, X_train, X_test, y_train, y_test)"
      ],
      "execution_count": null,
      "outputs": [
        {
          "output_type": "stream",
          "text": [
            "Epoch 1/100\n",
            "24/24 [==============================] - 1s 12ms/step - loss: 0.0636 - val_loss: 0.5326\n",
            "Epoch 2/100\n",
            "24/24 [==============================] - 0s 3ms/step - loss: 0.0508 - val_loss: 0.4548\n",
            "Epoch 3/100\n",
            "24/24 [==============================] - 0s 3ms/step - loss: 0.0452 - val_loss: 0.4054\n",
            "Epoch 4/100\n",
            "24/24 [==============================] - 0s 2ms/step - loss: 0.0427 - val_loss: 0.3648\n",
            "Epoch 5/100\n",
            "24/24 [==============================] - 0s 3ms/step - loss: 0.0372 - val_loss: 0.3596\n",
            "Epoch 6/100\n",
            "24/24 [==============================] - 0s 2ms/step - loss: 0.0336 - val_loss: 0.3572\n",
            "Epoch 7/100\n",
            "24/24 [==============================] - 0s 3ms/step - loss: 0.0319 - val_loss: 0.3539\n",
            "Epoch 8/100\n",
            "24/24 [==============================] - 0s 3ms/step - loss: 0.0311 - val_loss: 0.3447\n",
            "Epoch 9/100\n",
            "24/24 [==============================] - 0s 3ms/step - loss: 0.0300 - val_loss: 0.3467\n",
            "Epoch 10/100\n",
            "24/24 [==============================] - 0s 3ms/step - loss: 0.0308 - val_loss: 0.3351\n",
            "Epoch 11/100\n",
            "24/24 [==============================] - 0s 3ms/step - loss: 0.0295 - val_loss: 0.3405\n",
            "Epoch 12/100\n",
            "24/24 [==============================] - 0s 3ms/step - loss: 0.0300 - val_loss: 0.3574\n",
            "Epoch 13/100\n",
            "24/24 [==============================] - 0s 3ms/step - loss: 0.0309 - val_loss: 0.3462\n",
            "Epoch 14/100\n",
            "24/24 [==============================] - 0s 3ms/step - loss: 0.0303 - val_loss: 0.3265\n",
            "Epoch 15/100\n",
            "24/24 [==============================] - 0s 3ms/step - loss: 0.0300 - val_loss: 0.3378\n",
            "Epoch 16/100\n",
            "24/24 [==============================] - 0s 3ms/step - loss: 0.0303 - val_loss: 0.3416\n",
            "Epoch 17/100\n",
            "24/24 [==============================] - 0s 3ms/step - loss: 0.0300 - val_loss: 0.3468\n",
            "Epoch 18/100\n",
            "24/24 [==============================] - 0s 3ms/step - loss: 0.0307 - val_loss: 0.3296\n",
            "Epoch 19/100\n",
            "24/24 [==============================] - 0s 2ms/step - loss: 0.0288 - val_loss: 0.3330\n",
            "Epoch 20/100\n",
            "24/24 [==============================] - 0s 3ms/step - loss: 0.0301 - val_loss: 0.3392\n",
            "Epoch 21/100\n",
            "24/24 [==============================] - 0s 3ms/step - loss: 0.0316 - val_loss: 0.3504\n",
            "Epoch 22/100\n",
            "24/24 [==============================] - 0s 3ms/step - loss: 0.0305 - val_loss: 0.3273\n",
            "Epoch 23/100\n",
            "24/24 [==============================] - 0s 3ms/step - loss: 0.0289 - val_loss: 0.3282\n",
            "Epoch 24/100\n",
            "24/24 [==============================] - 0s 3ms/step - loss: 0.0283 - val_loss: 0.3180\n",
            "Epoch 25/100\n",
            "24/24 [==============================] - 0s 3ms/step - loss: 0.0280 - val_loss: 0.3141\n",
            "Epoch 26/100\n",
            "24/24 [==============================] - 0s 3ms/step - loss: 0.0268 - val_loss: 0.2915\n",
            "Epoch 27/100\n",
            "24/24 [==============================] - 0s 4ms/step - loss: 0.0245 - val_loss: 0.2883\n",
            "Epoch 28/100\n",
            "24/24 [==============================] - 0s 3ms/step - loss: 0.0239 - val_loss: 0.3000\n",
            "Epoch 29/100\n",
            "24/24 [==============================] - 0s 3ms/step - loss: 0.0242 - val_loss: 0.3127\n",
            "Epoch 30/100\n",
            "24/24 [==============================] - 0s 3ms/step - loss: 0.0245 - val_loss: 0.2972\n",
            "Epoch 31/100\n",
            "24/24 [==============================] - 0s 3ms/step - loss: 0.0242 - val_loss: 0.2894\n",
            "Epoch 32/100\n",
            "24/24 [==============================] - 0s 2ms/step - loss: 0.0238 - val_loss: 0.2911\n",
            "Epoch 33/100\n",
            "24/24 [==============================] - 0s 2ms/step - loss: 0.0244 - val_loss: 0.2899\n",
            "Epoch 34/100\n",
            "24/24 [==============================] - 0s 3ms/step - loss: 0.0232 - val_loss: 0.3008\n",
            "Epoch 35/100\n",
            "24/24 [==============================] - 0s 3ms/step - loss: 0.0239 - val_loss: 0.3192\n",
            "Epoch 36/100\n",
            "24/24 [==============================] - 0s 4ms/step - loss: 0.0241 - val_loss: 0.3136\n",
            "Epoch 37/100\n",
            "24/24 [==============================] - 0s 3ms/step - loss: 0.0234 - val_loss: 0.2949\n"
          ],
          "name": "stdout"
        },
        {
          "output_type": "execute_result",
          "data": {
            "text/plain": [
              "<keras.callbacks.History at 0x7f5449959f10>"
            ]
          },
          "metadata": {
            "tags": []
          },
          "execution_count": 81
        }
      ]
    },
    {
      "cell_type": "code",
      "metadata": {
        "colab": {
          "base_uri": "https://localhost:8080/"
        },
        "id": "eX2-lUDM1Ud_",
        "outputId": "0d60ef6c-c147-48fa-93c7-90ae8eaa5705"
      },
      "source": [
        "model_MLP.summary()"
      ],
      "execution_count": null,
      "outputs": [
        {
          "output_type": "stream",
          "text": [
            "Model: \"sequential_15\"\n",
            "_________________________________________________________________\n",
            "Layer (type)                 Output Shape              Param #   \n",
            "=================================================================\n",
            "flatten_5 (Flatten)          (None, 30)                0         \n",
            "_________________________________________________________________\n",
            "dense_20 (Dense)             (None, 16)                496       \n",
            "_________________________________________________________________\n",
            "dense_21 (Dense)             (None, 16)                272       \n",
            "=================================================================\n",
            "Total params: 768\n",
            "Trainable params: 768\n",
            "Non-trainable params: 0\n",
            "_________________________________________________________________\n"
          ],
          "name": "stdout"
        }
      ]
    },
    {
      "cell_type": "code",
      "metadata": {
        "colab": {
          "base_uri": "https://localhost:8080/"
        },
        "id": "jyAQOefw1rmX",
        "outputId": "19dea6a4-32a8-417d-ca3f-2fc4aef60dcc"
      },
      "source": [
        "y_test_pre_mlp = predict(model_MLP, y_test)\n",
        "print(\"MLP RESULTS\")\n",
        "rmse, mae = evaluate(y_test, y_test_pre_mlp)\n",
        "RMSE_mlp.append(rmse)\n",
        "MAE_mlp.append(mae)\n",
        "print(\"RMSE = \", rmse)\n",
        "print(\"MAE = \", mae)\n",
        "\n",
        "visualize(y_test, y_test_pre_mlp, \"results of MLP\")"
      ],
      "execution_count": null,
      "outputs": [
        {
          "output_type": "stream",
          "text": [
            "MLP RESULTS\n",
            "RMSE =  0.8315616\n",
            "MAE =  0.81427824\n"
          ],
          "name": "stdout"
        },
        {
          "output_type": "display_data",
          "data": {
            "image/png": "[encoded data removed]",
            "text/plain": [
              "<Figure size 432x288 with 1 Axes>"
            ]
          },
          "metadata": {
            "tags": [],
            "needs_background": "light"
          }
        }
      ]
    },
    {
      "cell_type": "code",
      "metadata": {
        "id": "TDDM2of_1rpN"
      },
      "source": [
        ""
      ],
      "execution_count": null,
      "outputs": []
    },
    {
      "cell_type": "code",
      "metadata": {
        "colab": {
          "base_uri": "https://localhost:8080/"
        },
        "id": "uJFXwGnrAVMh",
        "outputId": "7bd74531-df0c-4a53-becf-dbafcb26464c"
      },
      "source": [
        "model_LSTM = model_lstm()\n",
        "fit(model_LSTM, X_train, X_test, y_train, y_test)"
      ],
      "execution_count": null,
      "outputs": [
        {
          "output_type": "stream",
          "text": [
            "Epoch 1/100\n",
            "24/24 [==============================] - 5s 54ms/step - loss: 0.0572 - val_loss: 0.6225\n",
            "Epoch 2/100\n",
            "24/24 [==============================] - 0s 8ms/step - loss: 0.1078 - val_loss: 0.4683\n",
            "Epoch 3/100\n",
            "24/24 [==============================] - 0s 8ms/step - loss: 0.1196 - val_loss: 0.2233\n",
            "Epoch 4/100\n",
            "24/24 [==============================] - 0s 7ms/step - loss: 0.1319 - val_loss: 0.2007\n",
            "Epoch 5/100\n",
            "24/24 [==============================] - 0s 7ms/step - loss: 0.0706 - val_loss: 0.1485\n",
            "Epoch 6/100\n",
            "24/24 [==============================] - 0s 8ms/step - loss: 0.0378 - val_loss: 0.1180\n",
            "Epoch 7/100\n",
            "24/24 [==============================] - 0s 8ms/step - loss: 0.0086 - val_loss: 0.0838\n",
            "Epoch 8/100\n",
            "24/24 [==============================] - 0s 8ms/step - loss: 0.0597 - val_loss: 0.1377\n",
            "Epoch 9/100\n",
            "24/24 [==============================] - 0s 7ms/step - loss: 0.0198 - val_loss: 0.1285\n",
            "Epoch 10/100\n",
            "24/24 [==============================] - 0s 8ms/step - loss: 0.0183 - val_loss: 0.0859\n",
            "Epoch 11/100\n",
            "24/24 [==============================] - 0s 8ms/step - loss: 0.0406 - val_loss: 0.1720\n",
            "Epoch 12/100\n",
            "24/24 [==============================] - 0s 8ms/step - loss: 0.0146 - val_loss: 0.1541\n",
            "Epoch 13/100\n",
            "24/24 [==============================] - 0s 8ms/step - loss: 0.0238 - val_loss: 0.0928\n",
            "Epoch 14/100\n",
            "24/24 [==============================] - 0s 8ms/step - loss: 0.0176 - val_loss: 0.1572\n",
            "Epoch 15/100\n",
            "24/24 [==============================] - 0s 8ms/step - loss: 0.0215 - val_loss: 0.2257\n",
            "Epoch 16/100\n",
            "24/24 [==============================] - 0s 9ms/step - loss: 0.0119 - val_loss: 0.2093\n",
            "Epoch 17/100\n",
            "24/24 [==============================] - 0s 8ms/step - loss: 0.0128 - val_loss: 0.2102\n"
          ],
          "name": "stdout"
        },
        {
          "output_type": "execute_result",
          "data": {
            "text/plain": [
              "<keras.callbacks.History at 0x7f5423efebd0>"
            ]
          },
          "metadata": {
            "tags": []
          },
          "execution_count": 84
        }
      ]
    },
    {
      "cell_type": "code",
      "metadata": {
        "colab": {
          "base_uri": "https://localhost:8080/"
        },
        "id": "4Cij9L_nKxe_",
        "outputId": "f6733b9b-0a5e-4428-d9fe-8fdd9fce0d38"
      },
      "source": [
        "model_LSTM.summary()"
      ],
      "execution_count": null,
      "outputs": [
        {
          "output_type": "stream",
          "text": [
            "Model: \"sequential_16\"\n",
            "_________________________________________________________________\n",
            "Layer (type)                 Output Shape              Param #   \n",
            "=================================================================\n",
            "lstm_10 (LSTM)               (None, 5, 16)             1472      \n",
            "_________________________________________________________________\n",
            "lstm_11 (LSTM)               (None, 16)                2112      \n",
            "_________________________________________________________________\n",
            "dense_22 (Dense)             (None, 1)                 17        \n",
            "=================================================================\n",
            "Total params: 3,601\n",
            "Trainable params: 3,601\n",
            "Non-trainable params: 0\n",
            "_________________________________________________________________\n"
          ],
          "name": "stdout"
        }
      ]
    },
    {
      "cell_type": "code",
      "metadata": {
        "colab": {
          "base_uri": "https://localhost:8080/"
        },
        "id": "AkAoVdwS4dkL",
        "outputId": "40e69a44-8237-44e3-a27b-b642ac5aa3c8"
      },
      "source": [
        "y_test_pre_lstm = predict(model_LSTM, y_test)\n",
        "print(\"LSTM RESULTS\")\n",
        "rmse, mae = evaluate(y_test, y_test_pre_lstm)\n",
        "RMSE_lstm.append(rmse)\n",
        "MAE_lstm.append(mae)\n",
        "print(\"RMSE = \", rmse)\n",
        "print(\"MAE = \", mae)\n",
        "\n",
        "visualize(y_test, y_test_pre_lstm, \"results of LSTM\")\n"
      ],
      "execution_count": null,
      "outputs": [
        {
          "output_type": "stream",
          "text": [
            "LSTM RESULTS\n",
            "RMSE =  0.25415742\n",
            "MAE =  0.21389021\n"
          ],
          "name": "stdout"
        },
        {
          "output_type": "display_data",
          "data": {
            "image/png": "[encoded data removed]",
            "text/plain": [
              "<Figure size 432x288 with 1 Axes>"
            ]
          },
          "metadata": {
            "tags": [],
            "needs_background": "light"
          }
        }
      ]
    },
    {
      "cell_type": "code",
      "metadata": {
        "id": "dFPNA4TcC3Wm"
      },
      "source": [
        ""
      ],
      "execution_count": null,
      "outputs": []
    },
    {
      "cell_type": "code",
      "metadata": {
        "colab": {
          "base_uri": "https://localhost:8080/"
        },
        "id": "PrKPGSRWC3Zf",
        "outputId": "85ad6877-cf0a-4863-85cb-32b532df12c1"
      },
      "source": [
        "model_GRU = model_gru()\n",
        "fit(model_GRU, X_train, X_test, y_train, y_test)"
      ],
      "execution_count": null,
      "outputs": [
        {
          "output_type": "stream",
          "text": [
            "Epoch 1/100\n",
            "24/24 [==============================] - 5s 56ms/step - loss: 0.0770 - val_loss: 0.6704\n",
            "Epoch 2/100\n",
            "24/24 [==============================] - 0s 8ms/step - loss: 0.1443 - val_loss: 0.4774\n",
            "Epoch 3/100\n",
            "24/24 [==============================] - 0s 9ms/step - loss: 0.1545 - val_loss: 0.3063\n",
            "Epoch 4/100\n",
            "24/24 [==============================] - 0s 9ms/step - loss: 0.1552 - val_loss: 0.2710\n",
            "Epoch 5/100\n",
            "24/24 [==============================] - 0s 9ms/step - loss: 0.0832 - val_loss: 0.2583\n",
            "Epoch 6/100\n",
            "24/24 [==============================] - 0s 8ms/step - loss: 0.0370 - val_loss: 0.1978\n",
            "Epoch 7/100\n",
            "24/24 [==============================] - 0s 8ms/step - loss: 0.0343 - val_loss: 0.1370\n",
            "Epoch 8/100\n",
            "24/24 [==============================] - 0s 8ms/step - loss: 0.0296 - val_loss: 0.1013\n",
            "Epoch 9/100\n",
            "24/24 [==============================] - 0s 8ms/step - loss: 0.0108 - val_loss: 0.0755\n",
            "Epoch 10/100\n",
            "24/24 [==============================] - 0s 8ms/step - loss: 0.0127 - val_loss: 0.1070\n",
            "Epoch 11/100\n",
            "24/24 [==============================] - 0s 8ms/step - loss: 0.0322 - val_loss: 0.0571\n",
            "Epoch 12/100\n",
            "24/24 [==============================] - 0s 9ms/step - loss: 0.0462 - val_loss: 0.0277\n",
            "Epoch 13/100\n",
            "24/24 [==============================] - 0s 9ms/step - loss: 0.0254 - val_loss: 0.1339\n",
            "Epoch 14/100\n",
            "24/24 [==============================] - 0s 8ms/step - loss: 0.0190 - val_loss: 0.1344\n",
            "Epoch 15/100\n",
            "24/24 [==============================] - 0s 9ms/step - loss: 0.0340 - val_loss: 0.0783\n",
            "Epoch 16/100\n",
            "24/24 [==============================] - 0s 8ms/step - loss: 0.0088 - val_loss: 0.0789\n",
            "Epoch 17/100\n",
            "24/24 [==============================] - 0s 8ms/step - loss: 0.0227 - val_loss: 0.0257\n",
            "Epoch 18/100\n",
            "24/24 [==============================] - 0s 9ms/step - loss: 0.0209 - val_loss: 0.0755\n",
            "Epoch 19/100\n",
            "24/24 [==============================] - 0s 10ms/step - loss: 0.0192 - val_loss: 0.0648\n",
            "Epoch 20/100\n",
            "24/24 [==============================] - 0s 8ms/step - loss: 0.0057 - val_loss: 0.0498\n",
            "Epoch 21/100\n",
            "24/24 [==============================] - 0s 8ms/step - loss: 0.0136 - val_loss: 0.0746\n",
            "Epoch 22/100\n",
            "24/24 [==============================] - 0s 8ms/step - loss: 0.0223 - val_loss: 0.0535\n",
            "Epoch 23/100\n",
            "24/24 [==============================] - 0s 8ms/step - loss: 0.0350 - val_loss: 0.1231\n",
            "Epoch 24/100\n",
            "24/24 [==============================] - 0s 8ms/step - loss: 0.0168 - val_loss: 0.1308\n",
            "Epoch 25/100\n",
            "24/24 [==============================] - 0s 8ms/step - loss: 0.0502 - val_loss: 0.0876\n",
            "Epoch 26/100\n",
            "24/24 [==============================] - 0s 8ms/step - loss: 0.0267 - val_loss: 0.0610\n",
            "Epoch 27/100\n",
            "24/24 [==============================] - 0s 7ms/step - loss: 0.0073 - val_loss: 0.0750\n"
          ],
          "name": "stdout"
        },
        {
          "output_type": "execute_result",
          "data": {
            "text/plain": [
              "<keras.callbacks.History at 0x7f542f9889d0>"
            ]
          },
          "metadata": {
            "tags": []
          },
          "execution_count": 87
        }
      ]
    },
    {
      "cell_type": "code",
      "metadata": {
        "colab": {
          "base_uri": "https://localhost:8080/"
        },
        "id": "FekZzDgBK2U6",
        "outputId": "6d737727-f1d5-49f1-84e5-5ab1ed721d44"
      },
      "source": [
        "model_GRU.summary()"
      ],
      "execution_count": null,
      "outputs": [
        {
          "output_type": "stream",
          "text": [
            "Model: \"sequential_17\"\n",
            "_________________________________________________________________\n",
            "Layer (type)                 Output Shape              Param #   \n",
            "=================================================================\n",
            "gru_10 (GRU)                 (None, 5, 16)             1152      \n",
            "_________________________________________________________________\n",
            "gru_11 (GRU)                 (None, 16)                1632      \n",
            "_________________________________________________________________\n",
            "dense_23 (Dense)             (None, 1)                 17        \n",
            "=================================================================\n",
            "Total params: 2,801\n",
            "Trainable params: 2,801\n",
            "Non-trainable params: 0\n",
            "_________________________________________________________________\n"
          ],
          "name": "stdout"
        }
      ]
    },
    {
      "cell_type": "code",
      "metadata": {
        "colab": {
          "base_uri": "https://localhost:8080/"
        },
        "id": "9QH1G4bCC3kf",
        "outputId": "a4b5af02-d6a8-4dcc-cae9-b26c1f7d4ce2"
      },
      "source": [
        "y_test_pre_gru = predict(model_GRU, y_test)\n",
        "print(\"GRU RESULTS\")\n",
        "rmse, mae = evaluate(y_test, y_test_pre_gru)\n",
        "RMSE_gru.append(rmse)\n",
        "MAE_gru.append(mae)\n",
        "print(\"RMSE = \", rmse)\n",
        "print(\"MAE = \", mae)\n",
        "\n",
        "visualize(y_test, y_test_pre_gru, \"results of GRU\")\n",
        "\n"
      ],
      "execution_count": null,
      "outputs": [
        {
          "output_type": "stream",
          "text": [
            "GRU RESULTS\n",
            "RMSE =  0.07357706\n",
            "MAE =  0.069679424\n"
          ],
          "name": "stdout"
        },
        {
          "output_type": "display_data",
          "data": {
            "image/png": "[encoded data removed]",
            "text/plain": [
              "<Figure size 432x288 with 1 Axes>"
            ]
          },
          "metadata": {
            "tags": [],
            "needs_background": "light"
          }
        }
      ]
    },
    {
      "cell_type": "code",
      "metadata": {
        "id": "fWxJfIIyC3yG"
      },
      "source": [
        ""
      ],
      "execution_count": null,
      "outputs": []
    },
    {
      "cell_type": "markdown",
      "metadata": {
        "id": "RrhjGqWB4M01"
      },
      "source": [
        "# Karnataka\n"
      ]
    },
    {
      "cell_type": "code",
      "metadata": {
        "id": "AA9wMKH74e6o"
      },
      "source": [
        "X_train,X_test, y_train, y_test = prepare(df_Ka, scaling_range=(0,1),time_step=5,multi_feature=True, response_variable_index=0,data_split_ratio=0.8)"
      ],
      "execution_count": null,
      "outputs": []
    },
    {
      "cell_type": "code",
      "metadata": {
        "colab": {
          "base_uri": "https://localhost:8080/"
        },
        "id": "lP059zY-2H89",
        "outputId": "ab547d1a-72cb-4f90-fa9e-eabc5b388580"
      },
      "source": [
        "model_MLP = model_mlp()\n",
        "fit(model_MLP, X_train, X_test, y_train, y_test)"
      ],
      "execution_count": null,
      "outputs": [
        {
          "output_type": "stream",
          "text": [
            "Epoch 1/100\n",
            "24/24 [==============================] - 1s 11ms/step - loss: 0.0529 - val_loss: 0.5025\n",
            "Epoch 2/100\n",
            "24/24 [==============================] - 0s 3ms/step - loss: 0.0496 - val_loss: 0.4664\n",
            "Epoch 3/100\n",
            "24/24 [==============================] - 0s 2ms/step - loss: 0.0452 - val_loss: 0.4112\n",
            "Epoch 4/100\n",
            "24/24 [==============================] - 0s 3ms/step - loss: 0.0416 - val_loss: 0.3634\n",
            "Epoch 5/100\n",
            "24/24 [==============================] - 0s 2ms/step - loss: 0.0367 - val_loss: 0.3255\n",
            "Epoch 6/100\n",
            "24/24 [==============================] - 0s 3ms/step - loss: 0.0346 - val_loss: 0.3002\n",
            "Epoch 7/100\n",
            "24/24 [==============================] - 0s 3ms/step - loss: 0.0313 - val_loss: 0.2897\n",
            "Epoch 8/100\n",
            "24/24 [==============================] - 0s 2ms/step - loss: 0.0281 - val_loss: 0.2762\n",
            "Epoch 9/100\n",
            "24/24 [==============================] - 0s 4ms/step - loss: 0.0267 - val_loss: 0.2659\n",
            "Epoch 10/100\n",
            "24/24 [==============================] - 0s 3ms/step - loss: 0.0238 - val_loss: 0.2516\n",
            "Epoch 11/100\n",
            "24/24 [==============================] - 0s 3ms/step - loss: 0.0219 - val_loss: 0.2359\n",
            "Epoch 12/100\n",
            "24/24 [==============================] - 0s 3ms/step - loss: 0.0202 - val_loss: 0.2157\n",
            "Epoch 13/100\n",
            "24/24 [==============================] - 0s 3ms/step - loss: 0.0190 - val_loss: 0.2043\n",
            "Epoch 14/100\n",
            "24/24 [==============================] - 0s 3ms/step - loss: 0.0178 - val_loss: 0.2027\n",
            "Epoch 15/100\n",
            "24/24 [==============================] - 0s 3ms/step - loss: 0.0185 - val_loss: 0.1976\n",
            "Epoch 16/100\n",
            "24/24 [==============================] - 0s 3ms/step - loss: 0.0174 - val_loss: 0.1982\n",
            "Epoch 17/100\n",
            "24/24 [==============================] - 0s 3ms/step - loss: 0.0173 - val_loss: 0.2001\n",
            "Epoch 18/100\n",
            "24/24 [==============================] - 0s 3ms/step - loss: 0.0169 - val_loss: 0.1977\n",
            "Epoch 19/100\n",
            "24/24 [==============================] - 0s 3ms/step - loss: 0.0170 - val_loss: 0.2041\n",
            "Epoch 20/100\n",
            "24/24 [==============================] - 0s 3ms/step - loss: 0.0173 - val_loss: 0.2104\n",
            "Epoch 21/100\n",
            "24/24 [==============================] - 0s 2ms/step - loss: 0.0169 - val_loss: 0.1987\n",
            "Epoch 22/100\n",
            "24/24 [==============================] - 0s 3ms/step - loss: 0.0171 - val_loss: 0.1921\n",
            "Epoch 23/100\n",
            "24/24 [==============================] - 0s 3ms/step - loss: 0.0172 - val_loss: 0.2041\n",
            "Epoch 24/100\n",
            "24/24 [==============================] - 0s 3ms/step - loss: 0.0173 - val_loss: 0.2325\n",
            "Epoch 25/100\n",
            "24/24 [==============================] - 0s 3ms/step - loss: 0.0189 - val_loss: 0.1908\n",
            "Epoch 26/100\n",
            "24/24 [==============================] - 0s 3ms/step - loss: 0.0168 - val_loss: 0.1959\n",
            "Epoch 27/100\n",
            "24/24 [==============================] - 0s 3ms/step - loss: 0.0162 - val_loss: 0.1967\n",
            "Epoch 28/100\n",
            "24/24 [==============================] - 0s 3ms/step - loss: 0.0161 - val_loss: 0.1968\n",
            "Epoch 29/100\n",
            "24/24 [==============================] - 0s 3ms/step - loss: 0.0159 - val_loss: 0.1980\n",
            "Epoch 30/100\n",
            "24/24 [==============================] - 0s 3ms/step - loss: 0.0157 - val_loss: 0.2097\n",
            "Epoch 31/100\n",
            "24/24 [==============================] - 0s 3ms/step - loss: 0.0163 - val_loss: 0.2095\n",
            "Epoch 32/100\n",
            "24/24 [==============================] - 0s 2ms/step - loss: 0.0158 - val_loss: 0.2112\n",
            "Epoch 33/100\n",
            "24/24 [==============================] - 0s 3ms/step - loss: 0.0161 - val_loss: 0.1991\n",
            "Epoch 34/100\n",
            "24/24 [==============================] - 0s 3ms/step - loss: 0.0161 - val_loss: 0.2071\n",
            "Epoch 35/100\n",
            "24/24 [==============================] - 0s 2ms/step - loss: 0.0162 - val_loss: 0.2046\n"
          ],
          "name": "stdout"
        },
        {
          "output_type": "execute_result",
          "data": {
            "text/plain": [
              "<keras.callbacks.History at 0x7f541fe84d90>"
            ]
          },
          "metadata": {
            "tags": []
          },
          "execution_count": 91
        }
      ]
    },
    {
      "cell_type": "code",
      "metadata": {
        "colab": {
          "base_uri": "https://localhost:8080/"
        },
        "id": "-ctROxPZ2Iy5",
        "outputId": "62454cd4-8738-47cf-8c95-82c9c33f95b3"
      },
      "source": [
        "y_test_pre_mlp = predict(model_MLP, y_test)\n",
        "print(\"MLP RESULTS\")\n",
        "rmse, mae = evaluate(y_test, y_test_pre_mlp)\n",
        "RMSE_mlp.append(rmse)\n",
        "MAE_mlp.append(mae)\n",
        "print(\"RMSE = \", rmse)\n",
        "print(\"MAE = \", mae)\n",
        "\n",
        "visualize(y_test, y_test_pre_mlp, \"results of MLP\")"
      ],
      "execution_count": null,
      "outputs": [
        {
          "output_type": "stream",
          "text": [
            "MLP RESULTS\n",
            "RMSE =  0.20465636\n",
            "MAE =  0.17444712\n"
          ],
          "name": "stdout"
        },
        {
          "output_type": "display_data",
          "data": {
            "image/png": "[encoded data removed]",
            "text/plain": [
              "<Figure size 432x288 with 1 Axes>"
            ]
          },
          "metadata": {
            "tags": [],
            "needs_background": "light"
          }
        }
      ]
    },
    {
      "cell_type": "code",
      "metadata": {
        "colab": {
          "base_uri": "https://localhost:8080/"
        },
        "id": "86O2EN8d4fFE",
        "outputId": "6bb4e940-507a-4d3e-ea2a-cc2158a2f9f3"
      },
      "source": [
        "model_LSTM = model_lstm()\n",
        "fit(model_LSTM, X_train, X_test, y_train, y_test)"
      ],
      "execution_count": null,
      "outputs": [
        {
          "output_type": "stream",
          "text": [
            "Epoch 1/100\n",
            "24/24 [==============================] - 5s 52ms/step - loss: 0.0532 - val_loss: 0.5115\n",
            "Epoch 2/100\n",
            "24/24 [==============================] - 0s 7ms/step - loss: 0.0887 - val_loss: 0.3256\n",
            "Epoch 3/100\n",
            "24/24 [==============================] - 0s 7ms/step - loss: 0.0993 - val_loss: 0.0564\n",
            "Epoch 4/100\n",
            "24/24 [==============================] - 0s 7ms/step - loss: 0.1069 - val_loss: 0.1018\n",
            "Epoch 5/100\n",
            "24/24 [==============================] - 0s 8ms/step - loss: 0.0382 - val_loss: 0.1486\n",
            "Epoch 6/100\n",
            "24/24 [==============================] - 0s 8ms/step - loss: 0.0057 - val_loss: 0.1590\n",
            "Epoch 7/100\n",
            "24/24 [==============================] - 0s 8ms/step - loss: 0.0210 - val_loss: 0.1191\n",
            "Epoch 8/100\n",
            "24/24 [==============================] - 0s 9ms/step - loss: 0.0302 - val_loss: 0.1330\n",
            "Epoch 9/100\n",
            "24/24 [==============================] - 0s 7ms/step - loss: 0.0226 - val_loss: 0.1609\n",
            "Epoch 10/100\n",
            "24/24 [==============================] - 0s 8ms/step - loss: 0.0189 - val_loss: 0.1564\n",
            "Epoch 11/100\n",
            "24/24 [==============================] - 0s 8ms/step - loss: 0.0155 - val_loss: 0.0961\n",
            "Epoch 12/100\n",
            "24/24 [==============================] - 0s 8ms/step - loss: 0.0461 - val_loss: 0.1030\n",
            "Epoch 13/100\n",
            "24/24 [==============================] - 0s 8ms/step - loss: 0.0265 - val_loss: 0.1404\n"
          ],
          "name": "stdout"
        },
        {
          "output_type": "execute_result",
          "data": {
            "text/plain": [
              "<keras.callbacks.History at 0x7f541f37edd0>"
            ]
          },
          "metadata": {
            "tags": []
          },
          "execution_count": 93
        }
      ]
    },
    {
      "cell_type": "code",
      "metadata": {
        "colab": {
          "base_uri": "https://localhost:8080/"
        },
        "id": "XhidBZQB4fH8",
        "outputId": "9fd73574-127a-4e04-d4ea-244e0fa72eca"
      },
      "source": [
        "y_test_pre_lstm = predict(model_LSTM, y_test)\n",
        "print(\"LSTM RESULTS\")\n",
        "rmse, mae = evaluate(y_test, y_test_pre_lstm)\n",
        "RMSE_lstm.append(rmse)\n",
        "MAE_lstm.append(mae)\n",
        "print(\"RMSE = \", rmse)\n",
        "print(\"MAE = \", mae)\n",
        "\n",
        "visualize(y_test, y_test_pre_lstm, \"results of LSTM\")"
      ],
      "execution_count": null,
      "outputs": [
        {
          "output_type": "stream",
          "text": [
            "LSTM RESULTS\n",
            "RMSE =  0.15901573\n",
            "MAE =  0.137007\n"
          ],
          "name": "stdout"
        },
        {
          "output_type": "display_data",
          "data": {
            "image/png": "[encoded data removed]",
            "text/plain": [
              "<Figure size 432x288 with 1 Axes>"
            ]
          },
          "metadata": {
            "tags": [],
            "needs_background": "light"
          }
        }
      ]
    },
    {
      "cell_type": "code",
      "metadata": {
        "colab": {
          "base_uri": "https://localhost:8080/"
        },
        "id": "5JpL1NsY6fMq",
        "outputId": "0b44c0bf-8286-453c-9c63-1922255aca7c"
      },
      "source": [
        "model_GRU = model_gru()\n",
        "fit(model_GRU, X_train, X_test, y_train, y_test)"
      ],
      "execution_count": null,
      "outputs": [
        {
          "output_type": "stream",
          "text": [
            "Epoch 1/100\n",
            "24/24 [==============================] - 5s 54ms/step - loss: 0.0638 - val_loss: 0.5291\n",
            "Epoch 2/100\n",
            "24/24 [==============================] - 0s 8ms/step - loss: 0.0973 - val_loss: 0.2720\n",
            "Epoch 3/100\n",
            "24/24 [==============================] - 0s 8ms/step - loss: 0.1167 - val_loss: 0.2052\n",
            "Epoch 4/100\n",
            "24/24 [==============================] - 0s 8ms/step - loss: 0.0664 - val_loss: 0.1584\n",
            "Epoch 5/100\n",
            "24/24 [==============================] - 0s 8ms/step - loss: 0.0344 - val_loss: 0.0738\n",
            "Epoch 6/100\n",
            "24/24 [==============================] - 0s 9ms/step - loss: 0.0180 - val_loss: 0.0555\n",
            "Epoch 7/100\n",
            "24/24 [==============================] - 0s 8ms/step - loss: 0.0144 - val_loss: 0.0619\n",
            "Epoch 8/100\n",
            "24/24 [==============================] - 0s 8ms/step - loss: 0.0040 - val_loss: 0.0948\n",
            "Epoch 9/100\n",
            "24/24 [==============================] - 0s 8ms/step - loss: 0.0109 - val_loss: 0.0883\n",
            "Epoch 10/100\n",
            "24/24 [==============================] - 0s 8ms/step - loss: 0.0063 - val_loss: 0.0576\n",
            "Epoch 11/100\n",
            "24/24 [==============================] - 0s 9ms/step - loss: 0.0316 - val_loss: 0.0234\n",
            "Epoch 12/100\n",
            "24/24 [==============================] - 0s 8ms/step - loss: 0.0135 - val_loss: 0.0364\n",
            "Epoch 13/100\n",
            "24/24 [==============================] - 0s 8ms/step - loss: 0.0314 - val_loss: 0.0276\n",
            "Epoch 14/100\n",
            "24/24 [==============================] - 0s 7ms/step - loss: 0.0042 - val_loss: 0.0373\n",
            "Epoch 15/100\n",
            "24/24 [==============================] - 0s 8ms/step - loss: 0.0027 - val_loss: 0.0301\n",
            "Epoch 16/100\n",
            "24/24 [==============================] - 0s 8ms/step - loss: 0.0064 - val_loss: 0.0176\n",
            "Epoch 17/100\n",
            "24/24 [==============================] - 0s 8ms/step - loss: 0.0053 - val_loss: 0.0252\n",
            "Epoch 18/100\n",
            "24/24 [==============================] - 0s 8ms/step - loss: 0.0157 - val_loss: 0.0502\n",
            "Epoch 19/100\n",
            "24/24 [==============================] - 0s 7ms/step - loss: 0.0138 - val_loss: 0.0350\n",
            "Epoch 20/100\n",
            "24/24 [==============================] - 0s 7ms/step - loss: 0.0096 - val_loss: 0.0348\n",
            "Epoch 21/100\n",
            "24/24 [==============================] - 0s 7ms/step - loss: 0.0092 - val_loss: 0.0525\n",
            "Epoch 22/100\n",
            "24/24 [==============================] - 0s 7ms/step - loss: 0.0054 - val_loss: 0.0510\n",
            "Epoch 23/100\n",
            "24/24 [==============================] - 0s 7ms/step - loss: 0.0251 - val_loss: 0.0357\n",
            "Epoch 24/100\n",
            "24/24 [==============================] - 0s 7ms/step - loss: 0.0066 - val_loss: 0.0203\n",
            "Epoch 25/100\n",
            "24/24 [==============================] - 0s 8ms/step - loss: 0.0099 - val_loss: 0.0247\n",
            "Epoch 26/100\n",
            "24/24 [==============================] - 0s 7ms/step - loss: 0.0177 - val_loss: 0.0171\n",
            "Epoch 27/100\n",
            "24/24 [==============================] - 0s 8ms/step - loss: 0.0111 - val_loss: 0.0355\n",
            "Epoch 28/100\n",
            "24/24 [==============================] - 0s 8ms/step - loss: 0.0182 - val_loss: 0.0341\n",
            "Epoch 29/100\n",
            "24/24 [==============================] - 0s 7ms/step - loss: 0.0088 - val_loss: 0.0529\n",
            "Epoch 30/100\n",
            "24/24 [==============================] - 0s 7ms/step - loss: 0.0072 - val_loss: 0.0213\n",
            "Epoch 31/100\n",
            "24/24 [==============================] - 0s 8ms/step - loss: 0.0065 - val_loss: 0.0190\n",
            "Epoch 32/100\n",
            "24/24 [==============================] - 0s 7ms/step - loss: 0.0124 - val_loss: 0.0147\n",
            "Epoch 33/100\n",
            "24/24 [==============================] - 0s 8ms/step - loss: 0.0036 - val_loss: 0.0160\n",
            "Epoch 34/100\n",
            "24/24 [==============================] - 0s 7ms/step - loss: 0.0033 - val_loss: 0.0175\n",
            "Epoch 35/100\n",
            "24/24 [==============================] - 0s 7ms/step - loss: 0.0073 - val_loss: 0.0273\n",
            "Epoch 36/100\n",
            "24/24 [==============================] - 0s 8ms/step - loss: 0.0107 - val_loss: 0.0241\n",
            "Epoch 37/100\n",
            "24/24 [==============================] - 0s 7ms/step - loss: 0.0102 - val_loss: 0.0715\n",
            "Epoch 38/100\n",
            "24/24 [==============================] - 0s 7ms/step - loss: 0.0175 - val_loss: 0.0822\n",
            "Epoch 39/100\n",
            "24/24 [==============================] - 0s 7ms/step - loss: 0.0289 - val_loss: 0.0307\n",
            "Epoch 40/100\n",
            "24/24 [==============================] - 0s 7ms/step - loss: 0.0122 - val_loss: 0.0212\n",
            "Epoch 41/100\n",
            "24/24 [==============================] - 0s 7ms/step - loss: 0.0210 - val_loss: 0.0157\n",
            "Epoch 42/100\n",
            "24/24 [==============================] - 0s 8ms/step - loss: 0.0052 - val_loss: 0.0166\n"
          ],
          "name": "stdout"
        },
        {
          "output_type": "execute_result",
          "data": {
            "text/plain": [
              "<keras.callbacks.History at 0x7f541d17e290>"
            ]
          },
          "metadata": {
            "tags": []
          },
          "execution_count": 95
        }
      ]
    },
    {
      "cell_type": "code",
      "metadata": {
        "colab": {
          "base_uri": "https://localhost:8080/"
        },
        "id": "ga-Ua-RM6fYv",
        "outputId": "42b2aa82-6fe8-4a6d-e5e8-a6ed6137aba2"
      },
      "source": [
        "y_test_pre_gru = predict(model_GRU, y_test)\n",
        "print(\"GRU RESULTS\")\n",
        "rmse, mae = evaluate(y_test, y_test_pre_gru)\n",
        "RMSE_gru.append(rmse)\n",
        "MAE_gru.append(mae)\n",
        "print(\"RMSE = \", rmse)\n",
        "print(\"MAE = \", mae)\n",
        "\n",
        "visualize(y_test, y_test_pre_gru, \"results of GRU\")\n"
      ],
      "execution_count": null,
      "outputs": [
        {
          "output_type": "stream",
          "text": [
            "GRU RESULTS\n",
            "RMSE =  0.020455832\n",
            "MAE =  0.015903559\n"
          ],
          "name": "stdout"
        },
        {
          "output_type": "display_data",
          "data": {
            "image/png": "[encoded data removed]",
            "text/plain": [
              "<Figure size 432x288 with 1 Axes>"
            ]
          },
          "metadata": {
            "tags": [],
            "needs_background": "light"
          }
        }
      ]
    },
    {
      "cell_type": "markdown",
      "metadata": {
        "id": "AcSgMuCI4NCo"
      },
      "source": [
        "# Kerala"
      ]
    },
    {
      "cell_type": "code",
      "metadata": {
        "id": "k4CAYzO24f_n"
      },
      "source": [
        "X_train,X_test, y_train, y_test = prepare(df_Ke, scaling_range=(0,1),time_step=5,multi_feature=True, response_variable_index=0,data_split_ratio=0.8)"
      ],
      "execution_count": null,
      "outputs": []
    },
    {
      "cell_type": "code",
      "metadata": {
        "colab": {
          "base_uri": "https://localhost:8080/"
        },
        "id": "x5cXy0F22J2x",
        "outputId": "ceaa963a-a90c-4fd1-cd65-d59105f95627"
      },
      "source": [
        "model_MLP = model_mlp()\n",
        "fit(model_MLP, X_train, X_test, y_train, y_test)"
      ],
      "execution_count": null,
      "outputs": [
        {
          "output_type": "stream",
          "text": [
            "Epoch 1/100\n",
            "24/24 [==============================] - 1s 11ms/step - loss: 0.0311 - val_loss: 0.5144\n",
            "Epoch 2/100\n",
            "24/24 [==============================] - 0s 3ms/step - loss: 0.0275 - val_loss: 0.4374\n",
            "Epoch 3/100\n",
            "24/24 [==============================] - 0s 3ms/step - loss: 0.0256 - val_loss: 0.3794\n",
            "Epoch 4/100\n",
            "24/24 [==============================] - 0s 3ms/step - loss: 0.0234 - val_loss: 0.3676\n",
            "Epoch 5/100\n",
            "24/24 [==============================] - 0s 2ms/step - loss: 0.0202 - val_loss: 0.3246\n",
            "Epoch 6/100\n",
            "24/24 [==============================] - 0s 3ms/step - loss: 0.0179 - val_loss: 0.3089\n",
            "Epoch 7/100\n",
            "24/24 [==============================] - 0s 2ms/step - loss: 0.0171 - val_loss: 0.2806\n",
            "Epoch 8/100\n",
            "24/24 [==============================] - 0s 2ms/step - loss: 0.0148 - val_loss: 0.2744\n",
            "Epoch 9/100\n",
            "24/24 [==============================] - 0s 2ms/step - loss: 0.0140 - val_loss: 0.2503\n",
            "Epoch 10/100\n",
            "24/24 [==============================] - 0s 3ms/step - loss: 0.0127 - val_loss: 0.2484\n",
            "Epoch 11/100\n",
            "24/24 [==============================] - 0s 3ms/step - loss: 0.0138 - val_loss: 0.2229\n",
            "Epoch 12/100\n",
            "24/24 [==============================] - 0s 3ms/step - loss: 0.0120 - val_loss: 0.2418\n",
            "Epoch 13/100\n",
            "24/24 [==============================] - 0s 3ms/step - loss: 0.0132 - val_loss: 0.2220\n",
            "Epoch 14/100\n",
            "24/24 [==============================] - 0s 2ms/step - loss: 0.0130 - val_loss: 0.2269\n",
            "Epoch 15/100\n",
            "24/24 [==============================] - 0s 3ms/step - loss: 0.0130 - val_loss: 0.2200\n",
            "Epoch 16/100\n",
            "24/24 [==============================] - 0s 3ms/step - loss: 0.0137 - val_loss: 0.2134\n",
            "Epoch 17/100\n",
            "24/24 [==============================] - 0s 3ms/step - loss: 0.0108 - val_loss: 0.1911\n",
            "Epoch 18/100\n",
            "24/24 [==============================] - 0s 2ms/step - loss: 0.0126 - val_loss: 0.1822\n",
            "Epoch 19/100\n",
            "24/24 [==============================] - 0s 3ms/step - loss: 0.0119 - val_loss: 0.1733\n",
            "Epoch 20/100\n",
            "24/24 [==============================] - 0s 4ms/step - loss: 0.0121 - val_loss: 0.1676\n",
            "Epoch 21/100\n",
            "24/24 [==============================] - 0s 3ms/step - loss: 0.0091 - val_loss: 0.1673\n",
            "Epoch 22/100\n",
            "24/24 [==============================] - 0s 2ms/step - loss: 0.0103 - val_loss: 0.1682\n",
            "Epoch 23/100\n",
            "24/24 [==============================] - 0s 2ms/step - loss: 0.0095 - val_loss: 0.1757\n",
            "Epoch 24/100\n",
            "24/24 [==============================] - 0s 2ms/step - loss: 0.0110 - val_loss: 0.1549\n",
            "Epoch 25/100\n",
            "24/24 [==============================] - 0s 3ms/step - loss: 0.0089 - val_loss: 0.1352\n",
            "Epoch 26/100\n",
            "24/24 [==============================] - 0s 3ms/step - loss: 0.0098 - val_loss: 0.1289\n",
            "Epoch 27/100\n",
            "24/24 [==============================] - 0s 3ms/step - loss: 0.0064 - val_loss: 0.1255\n",
            "Epoch 28/100\n",
            "24/24 [==============================] - 0s 2ms/step - loss: 0.0077 - val_loss: 0.1203\n",
            "Epoch 29/100\n",
            "24/24 [==============================] - 0s 2ms/step - loss: 0.0078 - val_loss: 0.1257\n",
            "Epoch 30/100\n",
            "24/24 [==============================] - 0s 3ms/step - loss: 0.0081 - val_loss: 0.1155\n",
            "Epoch 31/100\n",
            "24/24 [==============================] - 0s 3ms/step - loss: 0.0082 - val_loss: 0.1164\n",
            "Epoch 32/100\n",
            "24/24 [==============================] - 0s 3ms/step - loss: 0.0100 - val_loss: 0.1204\n",
            "Epoch 33/100\n",
            "24/24 [==============================] - 0s 3ms/step - loss: 0.0070 - val_loss: 0.1139\n",
            "Epoch 34/100\n",
            "24/24 [==============================] - 0s 3ms/step - loss: 0.0095 - val_loss: 0.1195\n",
            "Epoch 35/100\n",
            "24/24 [==============================] - 0s 3ms/step - loss: 0.0074 - val_loss: 0.1167\n",
            "Epoch 36/100\n",
            "24/24 [==============================] - 0s 3ms/step - loss: 0.0089 - val_loss: 0.1141\n",
            "Epoch 37/100\n",
            "24/24 [==============================] - 0s 2ms/step - loss: 0.0072 - val_loss: 0.1132\n",
            "Epoch 38/100\n",
            "24/24 [==============================] - 0s 2ms/step - loss: 0.0080 - val_loss: 0.1146\n",
            "Epoch 39/100\n",
            "24/24 [==============================] - 0s 3ms/step - loss: 0.0071 - val_loss: 0.1161\n",
            "Epoch 40/100\n",
            "24/24 [==============================] - 0s 3ms/step - loss: 0.0073 - val_loss: 0.1157\n",
            "Epoch 41/100\n",
            "24/24 [==============================] - 0s 3ms/step - loss: 0.0077 - val_loss: 0.1163\n",
            "Epoch 42/100\n",
            "24/24 [==============================] - 0s 2ms/step - loss: 0.0061 - val_loss: 0.1076\n",
            "Epoch 43/100\n",
            "24/24 [==============================] - 0s 3ms/step - loss: 0.0078 - val_loss: 0.1141\n",
            "Epoch 44/100\n",
            "24/24 [==============================] - 0s 3ms/step - loss: 0.0063 - val_loss: 0.1042\n",
            "Epoch 45/100\n",
            "24/24 [==============================] - 0s 3ms/step - loss: 0.0080 - val_loss: 0.1100\n",
            "Epoch 46/100\n",
            "24/24 [==============================] - 0s 3ms/step - loss: 0.0065 - val_loss: 0.1087\n",
            "Epoch 47/100\n",
            "24/24 [==============================] - 0s 3ms/step - loss: 0.0091 - val_loss: 0.1095\n",
            "Epoch 48/100\n",
            "24/24 [==============================] - 0s 3ms/step - loss: 0.0070 - val_loss: 0.1041\n",
            "Epoch 49/100\n",
            "24/24 [==============================] - 0s 3ms/step - loss: 0.0104 - val_loss: 0.1103\n",
            "Epoch 50/100\n",
            "24/24 [==============================] - 0s 2ms/step - loss: 0.0065 - val_loss: 0.0996\n",
            "Epoch 51/100\n",
            "24/24 [==============================] - 0s 3ms/step - loss: 0.0097 - val_loss: 0.1047\n",
            "Epoch 52/100\n",
            "24/24 [==============================] - 0s 3ms/step - loss: 0.0070 - val_loss: 0.1011\n",
            "Epoch 53/100\n",
            "24/24 [==============================] - 0s 2ms/step - loss: 0.0083 - val_loss: 0.1022\n",
            "Epoch 54/100\n",
            "24/24 [==============================] - 0s 3ms/step - loss: 0.0078 - val_loss: 0.0996\n",
            "Epoch 55/100\n",
            "24/24 [==============================] - 0s 3ms/step - loss: 0.0079 - val_loss: 0.1021\n",
            "Epoch 56/100\n",
            "24/24 [==============================] - 0s 3ms/step - loss: 0.0078 - val_loss: 0.0984\n",
            "Epoch 57/100\n",
            "24/24 [==============================] - 0s 3ms/step - loss: 0.0089 - val_loss: 0.0976\n",
            "Epoch 58/100\n",
            "24/24 [==============================] - 0s 3ms/step - loss: 0.0085 - val_loss: 0.0976\n",
            "Epoch 59/100\n",
            "24/24 [==============================] - 0s 3ms/step - loss: 0.0078 - val_loss: 0.0975\n",
            "Epoch 60/100\n",
            "24/24 [==============================] - 0s 3ms/step - loss: 0.0084 - val_loss: 0.0986\n",
            "Epoch 61/100\n",
            "24/24 [==============================] - 0s 3ms/step - loss: 0.0073 - val_loss: 0.0951\n",
            "Epoch 62/100\n",
            "24/24 [==============================] - 0s 2ms/step - loss: 0.0083 - val_loss: 0.0958\n",
            "Epoch 63/100\n",
            "24/24 [==============================] - 0s 2ms/step - loss: 0.0077 - val_loss: 0.0949\n",
            "Epoch 64/100\n",
            "24/24 [==============================] - 0s 3ms/step - loss: 0.0074 - val_loss: 0.0945\n",
            "Epoch 65/100\n",
            "24/24 [==============================] - 0s 3ms/step - loss: 0.0071 - val_loss: 0.0940\n",
            "Epoch 66/100\n",
            "24/24 [==============================] - 0s 3ms/step - loss: 0.0079 - val_loss: 0.0954\n",
            "Epoch 67/100\n",
            "24/24 [==============================] - 0s 3ms/step - loss: 0.0074 - val_loss: 0.0939\n",
            "Epoch 68/100\n",
            "24/24 [==============================] - 0s 3ms/step - loss: 0.0067 - val_loss: 0.0942\n",
            "Epoch 69/100\n",
            "24/24 [==============================] - 0s 3ms/step - loss: 0.0068 - val_loss: 0.0920\n",
            "Epoch 70/100\n",
            "24/24 [==============================] - 0s 4ms/step - loss: 0.0072 - val_loss: 0.0934\n",
            "Epoch 71/100\n",
            "24/24 [==============================] - 0s 3ms/step - loss: 0.0084 - val_loss: 0.0962\n",
            "Epoch 72/100\n",
            "24/24 [==============================] - 0s 2ms/step - loss: 0.0057 - val_loss: 0.0928\n",
            "Epoch 73/100\n",
            "24/24 [==============================] - 0s 2ms/step - loss: 0.0067 - val_loss: 0.0937\n",
            "Epoch 74/100\n",
            "24/24 [==============================] - 0s 3ms/step - loss: 0.0066 - val_loss: 0.0996\n",
            "Epoch 75/100\n",
            "24/24 [==============================] - 0s 4ms/step - loss: 0.0104 - val_loss: 0.1012\n",
            "Epoch 76/100\n",
            "24/24 [==============================] - 0s 3ms/step - loss: 0.0056 - val_loss: 0.0899\n",
            "Epoch 77/100\n",
            "24/24 [==============================] - 0s 3ms/step - loss: 0.0064 - val_loss: 0.0899\n",
            "Epoch 78/100\n",
            "24/24 [==============================] - 0s 3ms/step - loss: 0.0062 - val_loss: 0.0912\n",
            "Epoch 79/100\n",
            "24/24 [==============================] - 0s 2ms/step - loss: 0.0070 - val_loss: 0.0876\n",
            "Epoch 80/100\n",
            "24/24 [==============================] - 0s 3ms/step - loss: 0.0069 - val_loss: 0.0901\n",
            "Epoch 81/100\n",
            "24/24 [==============================] - 0s 3ms/step - loss: 0.0073 - val_loss: 0.0942\n",
            "Epoch 82/100\n",
            "24/24 [==============================] - 0s 3ms/step - loss: 0.0070 - val_loss: 0.0969\n",
            "Epoch 83/100\n",
            "24/24 [==============================] - 0s 3ms/step - loss: 0.0109 - val_loss: 0.1019\n",
            "Epoch 84/100\n",
            "24/24 [==============================] - 0s 3ms/step - loss: 0.0058 - val_loss: 0.0911\n",
            "Epoch 85/100\n",
            "24/24 [==============================] - 0s 2ms/step - loss: 0.0072 - val_loss: 0.0872\n",
            "Epoch 86/100\n",
            "24/24 [==============================] - 0s 3ms/step - loss: 0.0072 - val_loss: 0.0913\n",
            "Epoch 87/100\n",
            "24/24 [==============================] - 0s 3ms/step - loss: 0.0115 - val_loss: 0.0891\n",
            "Epoch 88/100\n",
            "24/24 [==============================] - 0s 4ms/step - loss: 0.0072 - val_loss: 0.0931\n",
            "Epoch 89/100\n",
            "24/24 [==============================] - 0s 2ms/step - loss: 0.0080 - val_loss: 0.0942\n",
            "Epoch 90/100\n",
            "24/24 [==============================] - 0s 2ms/step - loss: 0.0065 - val_loss: 0.0919\n",
            "Epoch 91/100\n",
            "24/24 [==============================] - 0s 3ms/step - loss: 0.0076 - val_loss: 0.0923\n",
            "Epoch 92/100\n",
            "24/24 [==============================] - 0s 4ms/step - loss: 0.0072 - val_loss: 0.0923\n",
            "Epoch 93/100\n",
            "24/24 [==============================] - 0s 3ms/step - loss: 0.0072 - val_loss: 0.0895\n",
            "Epoch 94/100\n",
            "24/24 [==============================] - 0s 3ms/step - loss: 0.0072 - val_loss: 0.0873\n",
            "Epoch 95/100\n",
            "24/24 [==============================] - 0s 3ms/step - loss: 0.0070 - val_loss: 0.0867\n",
            "Epoch 96/100\n",
            "24/24 [==============================] - 0s 3ms/step - loss: 0.0070 - val_loss: 0.0856\n",
            "Epoch 97/100\n",
            "24/24 [==============================] - 0s 2ms/step - loss: 0.0068 - val_loss: 0.0857\n",
            "Epoch 98/100\n",
            "24/24 [==============================] - 0s 3ms/step - loss: 0.0067 - val_loss: 0.0875\n",
            "Epoch 99/100\n",
            "24/24 [==============================] - 0s 3ms/step - loss: 0.0071 - val_loss: 0.0866\n",
            "Epoch 100/100\n",
            "24/24 [==============================] - 0s 4ms/step - loss: 0.0067 - val_loss: 0.0860\n"
          ],
          "name": "stdout"
        },
        {
          "output_type": "execute_result",
          "data": {
            "text/plain": [
              "<keras.callbacks.History at 0x7f541b051210>"
            ]
          },
          "metadata": {
            "tags": []
          },
          "execution_count": 98
        }
      ]
    },
    {
      "cell_type": "code",
      "metadata": {
        "colab": {
          "base_uri": "https://localhost:8080/"
        },
        "id": "O5cUpvb82Kgs",
        "outputId": "1ae5a74b-266d-4bf4-f623-d20c4c8cc050"
      },
      "source": [
        "y_test_pre_mlp = predict(model_MLP, y_test)\n",
        "print(\"MLP RESULTS\")\n",
        "rmse, mae = evaluate(y_test, y_test_pre_mlp)\n",
        "RMSE_mlp.append(rmse)\n",
        "MAE_mlp.append(mae)\n",
        "print(\"RMSE = \", rmse)\n",
        "print(\"MAE = \", mae)\n",
        "\n",
        "visualize(y_test, y_test_pre_mlp, \"results of MLP\")"
      ],
      "execution_count": null,
      "outputs": [
        {
          "output_type": "stream",
          "text": [
            "MLP RESULTS\n",
            "RMSE =  0.04576023\n",
            "MAE =  0.037774485\n"
          ],
          "name": "stdout"
        },
        {
          "output_type": "display_data",
          "data": {
            "image/png": "[encoded data removed]",
            "text/plain": [
              "<Figure size 432x288 with 1 Axes>"
            ]
          },
          "metadata": {
            "tags": [],
            "needs_background": "light"
          }
        }
      ]
    },
    {
      "cell_type": "code",
      "metadata": {
        "colab": {
          "base_uri": "https://localhost:8080/"
        },
        "id": "DARcZlZJ4gBP",
        "outputId": "adbd4d72-0d1a-4444-a73f-9ee6a1cf8e6a"
      },
      "source": [
        "model_LSTM = model_lstm()\n",
        "fit(model_LSTM, X_train, X_test, y_train, y_test)"
      ],
      "execution_count": null,
      "outputs": [
        {
          "output_type": "stream",
          "text": [
            "Epoch 1/100\n",
            "24/24 [==============================] - 6s 68ms/step - loss: 0.0363 - val_loss: 0.6499\n",
            "Epoch 2/100\n",
            "24/24 [==============================] - 0s 10ms/step - loss: 0.0664 - val_loss: 0.5997\n",
            "Epoch 3/100\n",
            "24/24 [==============================] - 0s 9ms/step - loss: 0.0670 - val_loss: 0.5327\n",
            "Epoch 4/100\n",
            "24/24 [==============================] - 0s 9ms/step - loss: 0.0615 - val_loss: 0.3551\n",
            "Epoch 5/100\n",
            "24/24 [==============================] - 0s 9ms/step - loss: 0.0492 - val_loss: 0.1665\n",
            "Epoch 6/100\n",
            "24/24 [==============================] - 0s 10ms/step - loss: 0.0424 - val_loss: 0.2174\n",
            "Epoch 7/100\n",
            "24/24 [==============================] - 0s 9ms/step - loss: 0.0516 - val_loss: 0.3000\n",
            "Epoch 8/100\n",
            "24/24 [==============================] - 0s 10ms/step - loss: 0.0165 - val_loss: 0.2136\n",
            "Epoch 9/100\n",
            "24/24 [==============================] - 0s 10ms/step - loss: 0.0091 - val_loss: 0.2241\n",
            "Epoch 10/100\n",
            "24/24 [==============================] - 0s 10ms/step - loss: 0.0091 - val_loss: 0.2314\n",
            "Epoch 11/100\n",
            "24/24 [==============================] - 0s 9ms/step - loss: 0.0029 - val_loss: 0.2932\n",
            "Epoch 12/100\n",
            "24/24 [==============================] - 0s 10ms/step - loss: 0.0174 - val_loss: 0.1794\n",
            "Epoch 13/100\n",
            "24/24 [==============================] - 0s 9ms/step - loss: 0.0068 - val_loss: 0.1997\n",
            "Epoch 14/100\n",
            "24/24 [==============================] - 0s 11ms/step - loss: 0.0214 - val_loss: 0.2366\n",
            "Epoch 15/100\n",
            "24/24 [==============================] - 0s 10ms/step - loss: 0.0151 - val_loss: 0.2348\n"
          ],
          "name": "stdout"
        },
        {
          "output_type": "execute_result",
          "data": {
            "text/plain": [
              "<keras.callbacks.History at 0x7f5417cec050>"
            ]
          },
          "metadata": {
            "tags": []
          },
          "execution_count": 100
        }
      ]
    },
    {
      "cell_type": "code",
      "metadata": {
        "colab": {
          "base_uri": "https://localhost:8080/"
        },
        "id": "z8zA3Kjj4gE9",
        "outputId": "704af469-7bdc-4122-d0e2-3ebc4364683d"
      },
      "source": [
        "y_test_pre_lstm = predict(model_LSTM, y_test)\n",
        "print(\"LSTM RESULTS\")\n",
        "rmse, mae = evaluate(y_test, y_test_pre_lstm)\n",
        "RMSE_lstm.append(rmse)\n",
        "MAE_lstm.append(mae)\n",
        "print(\"RMSE = \", rmse)\n",
        "print(\"MAE = \", mae)\n",
        "\n",
        "visualize(y_test, y_test_pre_lstm, \"results of LSTM\")"
      ],
      "execution_count": null,
      "outputs": [
        {
          "output_type": "stream",
          "text": [
            "LSTM RESULTS\n",
            "RMSE =  0.29180294\n",
            "MAE =  0.24369742\n"
          ],
          "name": "stdout"
        },
        {
          "output_type": "display_data",
          "data": {
            "image/png": "[encoded data removed]",
            "text/plain": [
              "<Figure size 432x288 with 1 Axes>"
            ]
          },
          "metadata": {
            "tags": [],
            "needs_background": "light"
          }
        }
      ]
    },
    {
      "cell_type": "code",
      "metadata": {
        "colab": {
          "base_uri": "https://localhost:8080/"
        },
        "id": "pffz85tSHHGk",
        "outputId": "6bf0e0a8-bf38-40c8-8aa3-59f366e2e5d2"
      },
      "source": [
        "model_GRU = model_gru()\n",
        "fit(model_GRU, X_train, X_test, y_train, y_test)"
      ],
      "execution_count": null,
      "outputs": [
        {
          "output_type": "stream",
          "text": [
            "Epoch 1/100\n",
            "24/24 [==============================] - 6s 53ms/step - loss: 0.0320 - val_loss: 0.5130\n",
            "Epoch 2/100\n",
            "24/24 [==============================] - 0s 8ms/step - loss: 0.1305 - val_loss: 0.3880\n",
            "Epoch 3/100\n",
            "24/24 [==============================] - 0s 9ms/step - loss: 0.1079 - val_loss: 0.2450\n",
            "Epoch 4/100\n",
            "24/24 [==============================] - 0s 8ms/step - loss: 0.0710 - val_loss: 0.0638\n",
            "Epoch 5/100\n",
            "24/24 [==============================] - 0s 8ms/step - loss: 0.0398 - val_loss: 0.2478\n",
            "Epoch 6/100\n",
            "24/24 [==============================] - 0s 9ms/step - loss: 0.0383 - val_loss: 0.1392\n",
            "Epoch 7/100\n",
            "24/24 [==============================] - 0s 9ms/step - loss: 0.0265 - val_loss: 0.0496\n",
            "Epoch 8/100\n",
            "24/24 [==============================] - 0s 8ms/step - loss: 0.0736 - val_loss: 0.0961\n",
            "Epoch 9/100\n",
            "24/24 [==============================] - 0s 8ms/step - loss: 0.0375 - val_loss: 0.1635\n",
            "Epoch 10/100\n",
            "24/24 [==============================] - 0s 8ms/step - loss: 0.0140 - val_loss: 0.1535\n",
            "Epoch 11/100\n",
            "24/24 [==============================] - 0s 8ms/step - loss: 0.0061 - val_loss: 0.1062\n",
            "Epoch 12/100\n",
            "24/24 [==============================] - 0s 8ms/step - loss: 0.0189 - val_loss: 0.0642\n",
            "Epoch 13/100\n",
            "24/24 [==============================] - 0s 7ms/step - loss: 0.0293 - val_loss: 0.1154\n",
            "Epoch 14/100\n",
            "24/24 [==============================] - 0s 7ms/step - loss: 0.0101 - val_loss: 0.0899\n",
            "Epoch 15/100\n",
            "24/24 [==============================] - 0s 7ms/step - loss: 0.0151 - val_loss: 0.1204\n",
            "Epoch 16/100\n",
            "24/24 [==============================] - 0s 7ms/step - loss: 0.0017 - val_loss: 0.1510\n",
            "Epoch 17/100\n",
            "24/24 [==============================] - 0s 7ms/step - loss: 0.0157 - val_loss: 0.1142\n"
          ],
          "name": "stdout"
        },
        {
          "output_type": "execute_result",
          "data": {
            "text/plain": [
              "<keras.callbacks.History at 0x7f541684afd0>"
            ]
          },
          "metadata": {
            "tags": []
          },
          "execution_count": 102
        }
      ]
    },
    {
      "cell_type": "code",
      "metadata": {
        "colab": {
          "base_uri": "https://localhost:8080/"
        },
        "id": "sGY5tCePHHJb",
        "outputId": "3f3cfd4b-e22c-48a2-82e4-60b2bafe10e8"
      },
      "source": [
        "y_test_pre_gru = predict(model_GRU, y_test)\n",
        "print(\"GRU RESULTS\")\n",
        "rmse, mae = evaluate(y_test, y_test_pre_gru)\n",
        "RMSE_gru.append(rmse)\n",
        "MAE_gru.append(mae)\n",
        "print(\"RMSE = \", rmse)\n",
        "print(\"MAE = \", mae)\n",
        "\n",
        "visualize(y_test, y_test_pre_gru, \"results of GRU\")\n"
      ],
      "execution_count": null,
      "outputs": [
        {
          "output_type": "stream",
          "text": [
            "GRU RESULTS\n",
            "RMSE =  0.15460803\n",
            "MAE =  0.11973623\n"
          ],
          "name": "stdout"
        },
        {
          "output_type": "display_data",
          "data": {
            "image/png": "[encoded data removed]",
            "text/plain": [
              "<Figure size 432x288 with 1 Axes>"
            ]
          },
          "metadata": {
            "tags": [],
            "needs_background": "light"
          }
        }
      ]
    },
    {
      "cell_type": "markdown",
      "metadata": {
        "id": "NNUCDsv24NM1"
      },
      "source": [
        "# Tamil Nadu\n",
        "\n"
      ]
    },
    {
      "cell_type": "code",
      "metadata": {
        "id": "7TTMRAEL4hCV"
      },
      "source": [
        "X_train,X_test, y_train, y_test = prepare(df_TN, scaling_range=(0,1),time_step=5,multi_feature=True, response_variable_index=0,data_split_ratio=0.8)"
      ],
      "execution_count": null,
      "outputs": []
    },
    {
      "cell_type": "code",
      "metadata": {
        "colab": {
          "base_uri": "https://localhost:8080/"
        },
        "id": "i67B5Vk-2Lky",
        "outputId": "fdf75b80-c8ad-4df3-d3b0-4c3cbf338b78"
      },
      "source": [
        "model_MLP = model_mlp()\n",
        "fit(model_MLP, X_train, X_test, y_train, y_test)"
      ],
      "execution_count": null,
      "outputs": [
        {
          "output_type": "stream",
          "text": [
            "Epoch 1/100\n",
            "24/24 [==============================] - 1s 13ms/step - loss: 0.0557 - val_loss: 0.3855\n",
            "Epoch 2/100\n",
            "24/24 [==============================] - 0s 3ms/step - loss: 0.0566 - val_loss: 0.3443\n",
            "Epoch 3/100\n",
            "24/24 [==============================] - 0s 3ms/step - loss: 0.0518 - val_loss: 0.3118\n",
            "Epoch 4/100\n",
            "24/24 [==============================] - 0s 2ms/step - loss: 0.0431 - val_loss: 0.2695\n",
            "Epoch 5/100\n",
            "24/24 [==============================] - 0s 3ms/step - loss: 0.0372 - val_loss: 0.2110\n",
            "Epoch 6/100\n",
            "24/24 [==============================] - 0s 3ms/step - loss: 0.0345 - val_loss: 0.2044\n",
            "Epoch 7/100\n",
            "24/24 [==============================] - 0s 2ms/step - loss: 0.0305 - val_loss: 0.2008\n",
            "Epoch 8/100\n",
            "24/24 [==============================] - 0s 2ms/step - loss: 0.0280 - val_loss: 0.2075\n",
            "Epoch 9/100\n",
            "24/24 [==============================] - 0s 2ms/step - loss: 0.0255 - val_loss: 0.2108\n",
            "Epoch 10/100\n",
            "24/24 [==============================] - 0s 3ms/step - loss: 0.0239 - val_loss: 0.1915\n",
            "Epoch 11/100\n",
            "24/24 [==============================] - 0s 2ms/step - loss: 0.0207 - val_loss: 0.1760\n",
            "Epoch 12/100\n",
            "24/24 [==============================] - 0s 2ms/step - loss: 0.0194 - val_loss: 0.1625\n",
            "Epoch 13/100\n",
            "24/24 [==============================] - 0s 3ms/step - loss: 0.0160 - val_loss: 0.1350\n",
            "Epoch 14/100\n",
            "24/24 [==============================] - 0s 3ms/step - loss: 0.0160 - val_loss: 0.1362\n",
            "Epoch 15/100\n",
            "24/24 [==============================] - 0s 3ms/step - loss: 0.0137 - val_loss: 0.1307\n",
            "Epoch 16/100\n",
            "24/24 [==============================] - 0s 3ms/step - loss: 0.0136 - val_loss: 0.1412\n",
            "Epoch 17/100\n",
            "24/24 [==============================] - 0s 2ms/step - loss: 0.0134 - val_loss: 0.1329\n",
            "Epoch 18/100\n",
            "24/24 [==============================] - 0s 2ms/step - loss: 0.0133 - val_loss: 0.1316\n",
            "Epoch 19/100\n",
            "24/24 [==============================] - 0s 2ms/step - loss: 0.0136 - val_loss: 0.1521\n",
            "Epoch 20/100\n",
            "24/24 [==============================] - 0s 3ms/step - loss: 0.0135 - val_loss: 0.1440\n",
            "Epoch 21/100\n",
            "24/24 [==============================] - 0s 3ms/step - loss: 0.0126 - val_loss: 0.1360\n",
            "Epoch 22/100\n",
            "24/24 [==============================] - 0s 2ms/step - loss: 0.0140 - val_loss: 0.1482\n",
            "Epoch 23/100\n",
            "24/24 [==============================] - 0s 3ms/step - loss: 0.0125 - val_loss: 0.1438\n",
            "Epoch 24/100\n",
            "24/24 [==============================] - 0s 3ms/step - loss: 0.0122 - val_loss: 0.1535\n",
            "Epoch 25/100\n",
            "24/24 [==============================] - 0s 3ms/step - loss: 0.0126 - val_loss: 0.1655\n"
          ],
          "name": "stdout"
        },
        {
          "output_type": "execute_result",
          "data": {
            "text/plain": [
              "<keras.callbacks.History at 0x7f5415eeb390>"
            ]
          },
          "metadata": {
            "tags": []
          },
          "execution_count": 105
        }
      ]
    },
    {
      "cell_type": "code",
      "metadata": {
        "colab": {
          "base_uri": "https://localhost:8080/"
        },
        "id": "1wUISxiG2TP9",
        "outputId": "5cc70c49-ba74-4d63-c691-0d023d56c63c"
      },
      "source": [
        "y_test_pre_mlp = predict(model_MLP, y_test)\n",
        "print(\"MLP RESULTS\")\n",
        "rmse, mae = evaluate(y_test, y_test_pre_mlp)\n",
        "RMSE_mlp.append(rmse)\n",
        "MAE_mlp.append(mae)\n",
        "print(\"RMSE = \", rmse)\n",
        "print(\"MAE = \", mae)\n",
        "\n",
        "visualize(y_test, y_test_pre_mlp, \"results of MLP\")"
      ],
      "execution_count": null,
      "outputs": [
        {
          "output_type": "stream",
          "text": [
            "MLP RESULTS\n",
            "RMSE =  0.19514075\n",
            "MAE =  0.15956987\n"
          ],
          "name": "stdout"
        },
        {
          "output_type": "display_data",
          "data": {
            "image/png": "[encoded data removed]",
            "text/plain": [
              "<Figure size 432x288 with 1 Axes>"
            ]
          },
          "metadata": {
            "tags": [],
            "needs_background": "light"
          }
        }
      ]
    },
    {
      "cell_type": "code",
      "metadata": {
        "colab": {
          "base_uri": "https://localhost:8080/"
        },
        "id": "hgRp9KIX4hDr",
        "outputId": "9ba5e4b0-a76f-4deb-bed3-29cc499c7b33"
      },
      "source": [
        "model_LSTM = model_lstm()\n",
        "fit(model_LSTM, X_train, X_test, y_train, y_test)"
      ],
      "execution_count": null,
      "outputs": [
        {
          "output_type": "stream",
          "text": [
            "Epoch 1/100\n",
            "24/24 [==============================] - 5s 47ms/step - loss: 0.0856 - val_loss: 0.5802\n",
            "Epoch 2/100\n",
            "24/24 [==============================] - 0s 7ms/step - loss: 0.0799 - val_loss: 0.3440\n",
            "Epoch 3/100\n",
            "24/24 [==============================] - 0s 7ms/step - loss: 0.0937 - val_loss: 0.0886\n",
            "Epoch 4/100\n",
            "24/24 [==============================] - 0s 8ms/step - loss: 0.1186 - val_loss: 0.1617\n",
            "Epoch 5/100\n",
            "24/24 [==============================] - 0s 8ms/step - loss: 0.0492 - val_loss: 0.1100\n",
            "Epoch 6/100\n",
            "24/24 [==============================] - 0s 8ms/step - loss: 0.0275 - val_loss: 0.0939\n",
            "Epoch 7/100\n",
            "24/24 [==============================] - 0s 8ms/step - loss: 0.0141 - val_loss: 0.1095\n",
            "Epoch 8/100\n",
            "24/24 [==============================] - 0s 8ms/step - loss: 0.0121 - val_loss: 0.1071\n",
            "Epoch 9/100\n",
            "24/24 [==============================] - 0s 8ms/step - loss: 0.0159 - val_loss: 0.1287\n",
            "Epoch 10/100\n",
            "24/24 [==============================] - 0s 8ms/step - loss: 0.0056 - val_loss: 0.1659\n",
            "Epoch 11/100\n",
            "24/24 [==============================] - 0s 7ms/step - loss: 0.0148 - val_loss: 0.1371\n",
            "Epoch 12/100\n",
            "24/24 [==============================] - 0s 7ms/step - loss: 0.0201 - val_loss: 0.0919\n",
            "Epoch 13/100\n",
            "24/24 [==============================] - 0s 7ms/step - loss: 0.0198 - val_loss: 0.0800\n",
            "Epoch 14/100\n",
            "24/24 [==============================] - 0s 9ms/step - loss: 0.0117 - val_loss: 0.0880\n",
            "Epoch 15/100\n",
            "24/24 [==============================] - 0s 8ms/step - loss: 0.0079 - val_loss: 0.0788\n",
            "Epoch 16/100\n",
            "24/24 [==============================] - 0s 8ms/step - loss: 0.0087 - val_loss: 0.0887\n",
            "Epoch 17/100\n",
            "24/24 [==============================] - 0s 7ms/step - loss: 0.0072 - val_loss: 0.0982\n",
            "Epoch 18/100\n",
            "24/24 [==============================] - 0s 7ms/step - loss: 0.0087 - val_loss: 0.0890\n",
            "Epoch 19/100\n",
            "24/24 [==============================] - 0s 7ms/step - loss: 0.0243 - val_loss: 0.1233\n",
            "Epoch 20/100\n",
            "24/24 [==============================] - 0s 8ms/step - loss: 0.0139 - val_loss: 0.0806\n",
            "Epoch 21/100\n",
            "24/24 [==============================] - 0s 7ms/step - loss: 0.0337 - val_loss: 0.0690\n",
            "Epoch 22/100\n",
            "24/24 [==============================] - 0s 8ms/step - loss: 0.0314 - val_loss: 0.0905\n",
            "Epoch 23/100\n",
            "24/24 [==============================] - 0s 7ms/step - loss: 0.0110 - val_loss: 0.1245\n",
            "Epoch 24/100\n",
            "24/24 [==============================] - 0s 7ms/step - loss: 0.0131 - val_loss: 0.0830\n",
            "Epoch 25/100\n",
            "24/24 [==============================] - 0s 7ms/step - loss: 0.0291 - val_loss: 0.0682\n",
            "Epoch 26/100\n",
            "24/24 [==============================] - 0s 7ms/step - loss: 0.0250 - val_loss: 0.0838\n",
            "Epoch 27/100\n",
            "24/24 [==============================] - 0s 6ms/step - loss: 0.0064 - val_loss: 0.0876\n",
            "Epoch 28/100\n",
            "24/24 [==============================] - 0s 7ms/step - loss: 0.0096 - val_loss: 0.0885\n",
            "Epoch 29/100\n",
            "24/24 [==============================] - 0s 7ms/step - loss: 0.0059 - val_loss: 0.1083\n",
            "Epoch 30/100\n",
            "24/24 [==============================] - 0s 7ms/step - loss: 0.0048 - val_loss: 0.1119\n",
            "Epoch 31/100\n",
            "24/24 [==============================] - 0s 7ms/step - loss: 0.0209 - val_loss: 0.0683\n",
            "Epoch 32/100\n",
            "24/24 [==============================] - 0s 8ms/step - loss: 0.0207 - val_loss: 0.0689\n",
            "Epoch 33/100\n",
            "24/24 [==============================] - 0s 7ms/step - loss: 0.0052 - val_loss: 0.0660\n",
            "Epoch 34/100\n",
            "24/24 [==============================] - 0s 7ms/step - loss: 0.0049 - val_loss: 0.0799\n",
            "Epoch 35/100\n",
            "24/24 [==============================] - 0s 7ms/step - loss: 0.0185 - val_loss: 0.0693\n",
            "Epoch 36/100\n",
            "24/24 [==============================] - 0s 8ms/step - loss: 0.0040 - val_loss: 0.0745\n",
            "Epoch 37/100\n",
            "24/24 [==============================] - 0s 7ms/step - loss: 0.0034 - val_loss: 0.0780\n",
            "Epoch 38/100\n",
            "24/24 [==============================] - 0s 7ms/step - loss: 0.0098 - val_loss: 0.0757\n",
            "Epoch 39/100\n",
            "24/24 [==============================] - 0s 7ms/step - loss: 0.0047 - val_loss: 0.0670\n",
            "Epoch 40/100\n",
            "24/24 [==============================] - 0s 7ms/step - loss: 0.0048 - val_loss: 0.0844\n",
            "Epoch 41/100\n",
            "24/24 [==============================] - 0s 7ms/step - loss: 0.0201 - val_loss: 0.1057\n",
            "Epoch 42/100\n",
            "24/24 [==============================] - 0s 7ms/step - loss: 0.0066 - val_loss: 0.0748\n",
            "Epoch 43/100\n",
            "24/24 [==============================] - 0s 6ms/step - loss: 0.0280 - val_loss: 0.0586\n",
            "Epoch 44/100\n",
            "24/24 [==============================] - 0s 6ms/step - loss: 0.0237 - val_loss: 0.0830\n",
            "Epoch 45/100\n",
            "24/24 [==============================] - 0s 6ms/step - loss: 0.0132 - val_loss: 0.1154\n",
            "Epoch 46/100\n",
            "24/24 [==============================] - 0s 7ms/step - loss: 0.0102 - val_loss: 0.0979\n",
            "Epoch 47/100\n",
            "24/24 [==============================] - 0s 6ms/step - loss: 0.0196 - val_loss: 0.0618\n",
            "Epoch 48/100\n",
            "24/24 [==============================] - 0s 6ms/step - loss: 0.0179 - val_loss: 0.0687\n",
            "Epoch 49/100\n",
            "24/24 [==============================] - 0s 7ms/step - loss: 0.0033 - val_loss: 0.0586\n",
            "Epoch 50/100\n",
            "24/24 [==============================] - 0s 8ms/step - loss: 0.0140 - val_loss: 0.0743\n",
            "Epoch 51/100\n",
            "24/24 [==============================] - 0s 8ms/step - loss: 0.0144 - val_loss: 0.1124\n",
            "Epoch 52/100\n",
            "24/24 [==============================] - 0s 8ms/step - loss: 0.0095 - val_loss: 0.0942\n",
            "Epoch 53/100\n",
            "24/24 [==============================] - 0s 8ms/step - loss: 0.0201 - val_loss: 0.0742\n"
          ],
          "name": "stdout"
        },
        {
          "output_type": "execute_result",
          "data": {
            "text/plain": [
              "<keras.callbacks.History at 0x7f5415be17d0>"
            ]
          },
          "metadata": {
            "tags": []
          },
          "execution_count": 107
        }
      ]
    },
    {
      "cell_type": "code",
      "metadata": {
        "colab": {
          "base_uri": "https://localhost:8080/"
        },
        "id": "4Upn9Fhc4hHS",
        "outputId": "63262c2a-ff4b-44e7-e67b-4248f65bb8fc"
      },
      "source": [
        "y_test_pre_lstm = predict(model_LSTM, y_test)\n",
        "print(\"LSTM RESULTS\")\n",
        "rmse, mae = evaluate(y_test, y_test_pre_lstm)\n",
        "RMSE_lstm.append(rmse)\n",
        "MAE_lstm.append(mae)\n",
        "print(\"RMSE = \", rmse)\n",
        "print(\"MAE = \", mae)\n",
        "\n",
        "visualize(y_test, y_test_pre_lstm, \"results of LSTM\")"
      ],
      "execution_count": null,
      "outputs": [
        {
          "output_type": "stream",
          "text": [
            "LSTM RESULTS\n",
            "RMSE =  0.079083405\n",
            "MAE =  0.069167435\n"
          ],
          "name": "stdout"
        },
        {
          "output_type": "display_data",
          "data": {
            "image/png": "[encoded data removed]",
            "text/plain": [
              "<Figure size 432x288 with 1 Axes>"
            ]
          },
          "metadata": {
            "tags": [],
            "needs_background": "light"
          }
        }
      ]
    },
    {
      "cell_type": "code",
      "metadata": {
        "colab": {
          "base_uri": "https://localhost:8080/"
        },
        "id": "pyUTeilyHPro",
        "outputId": "56ca40e3-f123-4732-d1b2-61c94821150d"
      },
      "source": [
        "model_GRU = model_gru()\n",
        "fit(model_GRU, X_train, X_test, y_train, y_test)"
      ],
      "execution_count": null,
      "outputs": [
        {
          "output_type": "stream",
          "text": [
            "Epoch 1/100\n",
            "24/24 [==============================] - 5s 48ms/step - loss: 0.0621 - val_loss: 0.3156\n",
            "Epoch 2/100\n",
            "24/24 [==============================] - 0s 7ms/step - loss: 0.1326 - val_loss: 0.2212\n",
            "Epoch 3/100\n",
            "24/24 [==============================] - 0s 7ms/step - loss: 0.1186 - val_loss: 0.2459\n",
            "Epoch 4/100\n",
            "24/24 [==============================] - 0s 6ms/step - loss: 0.0673 - val_loss: 0.3441\n",
            "Epoch 5/100\n",
            "24/24 [==============================] - 0s 6ms/step - loss: 0.0350 - val_loss: 0.2423\n",
            "Epoch 6/100\n",
            "24/24 [==============================] - 0s 7ms/step - loss: 0.0378 - val_loss: 0.0843\n",
            "Epoch 7/100\n",
            "24/24 [==============================] - 0s 6ms/step - loss: 0.0446 - val_loss: 0.0966\n",
            "Epoch 8/100\n",
            "24/24 [==============================] - 0s 7ms/step - loss: 0.0132 - val_loss: 0.0487\n",
            "Epoch 9/100\n",
            "24/24 [==============================] - 0s 8ms/step - loss: 0.0239 - val_loss: 0.0542\n",
            "Epoch 10/100\n",
            "24/24 [==============================] - 0s 7ms/step - loss: 0.0174 - val_loss: 0.0725\n",
            "Epoch 11/100\n",
            "24/24 [==============================] - 0s 7ms/step - loss: 0.0170 - val_loss: 0.0450\n",
            "Epoch 12/100\n",
            "24/24 [==============================] - 0s 7ms/step - loss: 0.0079 - val_loss: 0.0405\n",
            "Epoch 13/100\n",
            "24/24 [==============================] - 0s 7ms/step - loss: 0.0176 - val_loss: 0.1027\n",
            "Epoch 14/100\n",
            "24/24 [==============================] - 0s 8ms/step - loss: 0.0104 - val_loss: 0.1958\n",
            "Epoch 15/100\n",
            "24/24 [==============================] - 0s 8ms/step - loss: 0.0187 - val_loss: 0.2123\n",
            "Epoch 16/100\n",
            "24/24 [==============================] - 0s 7ms/step - loss: 0.0345 - val_loss: 0.1005\n",
            "Epoch 17/100\n",
            "24/24 [==============================] - 0s 7ms/step - loss: 0.0355 - val_loss: 0.0996\n",
            "Epoch 18/100\n",
            "24/24 [==============================] - 0s 8ms/step - loss: 0.0085 - val_loss: 0.1282\n",
            "Epoch 19/100\n",
            "24/24 [==============================] - 0s 7ms/step - loss: 0.0091 - val_loss: 0.2062\n",
            "Epoch 20/100\n",
            "24/24 [==============================] - 0s 7ms/step - loss: 0.0141 - val_loss: 0.1748\n",
            "Epoch 21/100\n",
            "24/24 [==============================] - 0s 7ms/step - loss: 0.0331 - val_loss: 0.0882\n",
            "Epoch 22/100\n",
            "24/24 [==============================] - 0s 7ms/step - loss: 0.0319 - val_loss: 0.0989\n"
          ],
          "name": "stdout"
        },
        {
          "output_type": "execute_result",
          "data": {
            "text/plain": [
              "<keras.callbacks.History at 0x7f54109e9690>"
            ]
          },
          "metadata": {
            "tags": []
          },
          "execution_count": 109
        }
      ]
    },
    {
      "cell_type": "code",
      "metadata": {
        "colab": {
          "base_uri": "https://localhost:8080/"
        },
        "id": "BsRT9VavHPuj",
        "outputId": "f4f2c9da-71c6-49c5-afee-4d6d9f3d0619"
      },
      "source": [
        "y_test_pre_gru = predict(model_GRU, y_test)\n",
        "print(\"GRU RESULTS\")\n",
        "rmse, mae = evaluate(y_test, y_test_pre_gru)\n",
        "RMSE_gru.append(rmse)\n",
        "MAE_gru.append(mae)\n",
        "print(\"RMSE = \", rmse)\n",
        "print(\"MAE = \", mae)\n",
        "\n",
        "visualize(y_test, y_test_pre_gru, \"results of GRU\")\n"
      ],
      "execution_count": null,
      "outputs": [
        {
          "output_type": "stream",
          "text": [
            "GRU RESULTS\n",
            "RMSE =  0.10811183\n",
            "MAE =  0.09271281\n"
          ],
          "name": "stdout"
        },
        {
          "output_type": "display_data",
          "data": {
            "image/png": "[encoded data removed]",
            "text/plain": [
              "<Figure size 432x288 with 1 Axes>"
            ]
          },
          "metadata": {
            "tags": [],
            "needs_background": "light"
          }
        }
      ]
    },
    {
      "cell_type": "markdown",
      "metadata": {
        "id": "qtSdq2La4NVe"
      },
      "source": [
        "# Uttar Pradesh"
      ]
    },
    {
      "cell_type": "code",
      "metadata": {
        "id": "-KxhTpBr4h65"
      },
      "source": [
        "X_train,X_test, y_train, y_test = prepare(df_UP, scaling_range=(0,1),time_step=5,multi_feature=True, response_variable_index=0,data_split_ratio=0.8)"
      ],
      "execution_count": null,
      "outputs": []
    },
    {
      "cell_type": "code",
      "metadata": {
        "colab": {
          "base_uri": "https://localhost:8080/"
        },
        "id": "NHp66Pwz2NFq",
        "outputId": "231df15a-cdda-451b-fcbb-938d67d47a52"
      },
      "source": [
        "model_MLP = model_mlp()\n",
        "fit(model_MLP, X_train, X_test, y_train, y_test)"
      ],
      "execution_count": null,
      "outputs": [
        {
          "output_type": "stream",
          "text": [
            "Epoch 1/100\n",
            "24/24 [==============================] - 1s 13ms/step - loss: 0.0433 - val_loss: 0.4240\n",
            "Epoch 2/100\n",
            "24/24 [==============================] - 0s 3ms/step - loss: 0.0381 - val_loss: 0.3025\n",
            "Epoch 3/100\n",
            "24/24 [==============================] - 0s 3ms/step - loss: 0.0348 - val_loss: 0.2739\n",
            "Epoch 4/100\n",
            "24/24 [==============================] - 0s 2ms/step - loss: 0.0258 - val_loss: 0.2157\n",
            "Epoch 5/100\n",
            "24/24 [==============================] - 0s 3ms/step - loss: 0.0242 - val_loss: 0.1887\n",
            "Epoch 6/100\n",
            "24/24 [==============================] - 0s 3ms/step - loss: 0.0177 - val_loss: 0.1588\n",
            "Epoch 7/100\n",
            "24/24 [==============================] - 0s 2ms/step - loss: 0.0152 - val_loss: 0.1469\n",
            "Epoch 8/100\n",
            "24/24 [==============================] - 0s 4ms/step - loss: 0.0119 - val_loss: 0.1342\n",
            "Epoch 9/100\n",
            "24/24 [==============================] - 0s 3ms/step - loss: 0.0113 - val_loss: 0.1213\n",
            "Epoch 10/100\n",
            "24/24 [==============================] - 0s 3ms/step - loss: 0.0106 - val_loss: 0.1331\n",
            "Epoch 11/100\n",
            "24/24 [==============================] - 0s 2ms/step - loss: 0.0112 - val_loss: 0.1303\n",
            "Epoch 12/100\n",
            "24/24 [==============================] - 0s 3ms/step - loss: 0.0111 - val_loss: 0.1322\n",
            "Epoch 13/100\n",
            "24/24 [==============================] - 0s 2ms/step - loss: 0.0103 - val_loss: 0.1263\n",
            "Epoch 14/100\n",
            "24/24 [==============================] - 0s 3ms/step - loss: 0.0099 - val_loss: 0.1290\n",
            "Epoch 15/100\n",
            "24/24 [==============================] - 0s 3ms/step - loss: 0.0101 - val_loss: 0.1276\n",
            "Epoch 16/100\n",
            "24/24 [==============================] - 0s 3ms/step - loss: 0.0094 - val_loss: 0.1342\n",
            "Epoch 17/100\n",
            "24/24 [==============================] - 0s 2ms/step - loss: 0.0093 - val_loss: 0.1371\n",
            "Epoch 18/100\n",
            "24/24 [==============================] - 0s 2ms/step - loss: 0.0095 - val_loss: 0.1224\n",
            "Epoch 19/100\n",
            "24/24 [==============================] - 0s 2ms/step - loss: 0.0100 - val_loss: 0.1127\n",
            "Epoch 20/100\n",
            "24/24 [==============================] - 0s 3ms/step - loss: 0.0108 - val_loss: 0.1246\n",
            "Epoch 21/100\n",
            "24/24 [==============================] - 0s 3ms/step - loss: 0.0099 - val_loss: 0.1525\n",
            "Epoch 22/100\n",
            "24/24 [==============================] - 0s 3ms/step - loss: 0.0117 - val_loss: 0.1334\n",
            "Epoch 23/100\n",
            "24/24 [==============================] - 0s 2ms/step - loss: 0.0090 - val_loss: 0.1205\n",
            "Epoch 24/100\n",
            "24/24 [==============================] - 0s 3ms/step - loss: 0.0095 - val_loss: 0.1160\n",
            "Epoch 25/100\n",
            "24/24 [==============================] - 0s 2ms/step - loss: 0.0102 - val_loss: 0.1168\n",
            "Epoch 26/100\n",
            "24/24 [==============================] - 0s 2ms/step - loss: 0.0106 - val_loss: 0.1234\n",
            "Epoch 27/100\n",
            "24/24 [==============================] - 0s 3ms/step - loss: 0.0108 - val_loss: 0.1315\n",
            "Epoch 28/100\n",
            "24/24 [==============================] - 0s 3ms/step - loss: 0.0102 - val_loss: 0.1305\n",
            "Epoch 29/100\n",
            "24/24 [==============================] - 0s 2ms/step - loss: 0.0099 - val_loss: 0.1225\n"
          ],
          "name": "stdout"
        },
        {
          "output_type": "execute_result",
          "data": {
            "text/plain": [
              "<keras.callbacks.History at 0x7f540e0b8850>"
            ]
          },
          "metadata": {
            "tags": []
          },
          "execution_count": 112
        }
      ]
    },
    {
      "cell_type": "code",
      "metadata": {
        "colab": {
          "base_uri": "https://localhost:8080/"
        },
        "id": "TfXWcbLf2UjA",
        "outputId": "c46093c6-252d-47d9-c8fb-40faec5f30f6"
      },
      "source": [
        "y_test_pre_mlp = predict(model_MLP, y_test)\n",
        "print(\"MLP RESULTS\")\n",
        "rmse, mae = evaluate(y_test, y_test_pre_mlp)\n",
        "RMSE_mlp.append(rmse)\n",
        "MAE_mlp.append(mae)\n",
        "print(\"RMSE = \", rmse)\n",
        "print(\"MAE = \", mae)\n",
        "\n",
        "visualize(y_test, y_test_pre_mlp, \"results of MLP\")"
      ],
      "execution_count": null,
      "outputs": [
        {
          "output_type": "stream",
          "text": [
            "MLP RESULTS\n",
            "RMSE =  0.060962602\n",
            "MAE =  0.050484587\n"
          ],
          "name": "stdout"
        },
        {
          "output_type": "display_data",
          "data": {
            "image/png": "[encoded data removed]",
            "text/plain": [
              "<Figure size 432x288 with 1 Axes>"
            ]
          },
          "metadata": {
            "tags": [],
            "needs_background": "light"
          }
        }
      ]
    },
    {
      "cell_type": "code",
      "metadata": {
        "colab": {
          "base_uri": "https://localhost:8080/"
        },
        "id": "mwluJUvQ4h9y",
        "outputId": "e8c4a531-4364-4c9e-9b8c-8efe570167f8"
      },
      "source": [
        "model_LSTM = model_lstm()\n",
        "fit(model_LSTM, X_train, X_test, y_train, y_test)"
      ],
      "execution_count": null,
      "outputs": [
        {
          "output_type": "stream",
          "text": [
            "Epoch 1/100\n",
            "24/24 [==============================] - 5s 49ms/step - loss: 0.0519 - val_loss: 0.5337\n",
            "Epoch 2/100\n",
            "24/24 [==============================] - 0s 6ms/step - loss: 0.0927 - val_loss: 0.2915\n",
            "Epoch 3/100\n",
            "24/24 [==============================] - 0s 7ms/step - loss: 0.1099 - val_loss: 0.2427\n",
            "Epoch 4/100\n",
            "24/24 [==============================] - 0s 7ms/step - loss: 0.0784 - val_loss: 0.1560\n",
            "Epoch 5/100\n",
            "24/24 [==============================] - 0s 7ms/step - loss: 0.0591 - val_loss: 0.1494\n",
            "Epoch 6/100\n",
            "24/24 [==============================] - 0s 7ms/step - loss: 0.0374 - val_loss: 0.0857\n",
            "Epoch 7/100\n",
            "24/24 [==============================] - 0s 7ms/step - loss: 0.0281 - val_loss: 0.1113\n",
            "Epoch 8/100\n",
            "24/24 [==============================] - 0s 7ms/step - loss: 0.0157 - val_loss: 0.1470\n",
            "Epoch 9/100\n",
            "24/24 [==============================] - 0s 7ms/step - loss: 0.0082 - val_loss: 0.2756\n",
            "Epoch 10/100\n",
            "24/24 [==============================] - 0s 7ms/step - loss: 0.0117 - val_loss: 0.2597\n",
            "Epoch 11/100\n",
            "24/24 [==============================] - 0s 7ms/step - loss: 0.0327 - val_loss: 0.1637\n",
            "Epoch 12/100\n",
            "24/24 [==============================] - 0s 8ms/step - loss: 0.0035 - val_loss: 0.1132\n",
            "Epoch 13/100\n",
            "24/24 [==============================] - 0s 8ms/step - loss: 0.0251 - val_loss: 0.2594\n",
            "Epoch 14/100\n",
            "24/24 [==============================] - 0s 8ms/step - loss: 0.0255 - val_loss: 0.2233\n",
            "Epoch 15/100\n",
            "24/24 [==============================] - 0s 9ms/step - loss: 0.0252 - val_loss: 0.0541\n",
            "Epoch 16/100\n",
            "24/24 [==============================] - 0s 7ms/step - loss: 0.0145 - val_loss: 0.0816\n",
            "Epoch 17/100\n",
            "24/24 [==============================] - 0s 7ms/step - loss: 0.0316 - val_loss: 0.1474\n",
            "Epoch 18/100\n",
            "24/24 [==============================] - 0s 7ms/step - loss: 0.0225 - val_loss: 0.2141\n",
            "Epoch 19/100\n",
            "24/24 [==============================] - 0s 7ms/step - loss: 0.0065 - val_loss: 0.1238\n",
            "Epoch 20/100\n",
            "24/24 [==============================] - 0s 6ms/step - loss: 0.0102 - val_loss: 0.0553\n",
            "Epoch 21/100\n",
            "24/24 [==============================] - 0s 9ms/step - loss: 0.0096 - val_loss: 0.0130\n",
            "Epoch 22/100\n",
            "24/24 [==============================] - 0s 7ms/step - loss: 0.0263 - val_loss: 0.1093\n",
            "Epoch 23/100\n",
            "24/24 [==============================] - 0s 7ms/step - loss: 0.0227 - val_loss: 0.1018\n",
            "Epoch 24/100\n",
            "24/24 [==============================] - 0s 7ms/step - loss: 0.0041 - val_loss: 0.0590\n",
            "Epoch 25/100\n",
            "24/24 [==============================] - 0s 8ms/step - loss: 0.0159 - val_loss: 0.0833\n",
            "Epoch 26/100\n",
            "24/24 [==============================] - 0s 9ms/step - loss: 0.0075 - val_loss: 0.0877\n",
            "Epoch 27/100\n",
            "24/24 [==============================] - 0s 7ms/step - loss: 0.0077 - val_loss: 0.0506\n",
            "Epoch 28/100\n",
            "24/24 [==============================] - 0s 7ms/step - loss: 0.0145 - val_loss: 0.0580\n",
            "Epoch 29/100\n",
            "24/24 [==============================] - 0s 7ms/step - loss: 0.0029 - val_loss: 0.0692\n",
            "Epoch 30/100\n",
            "24/24 [==============================] - 0s 7ms/step - loss: 0.0112 - val_loss: 0.1251\n",
            "Epoch 31/100\n",
            "24/24 [==============================] - 0s 7ms/step - loss: 0.0062 - val_loss: 0.1527\n"
          ],
          "name": "stdout"
        },
        {
          "output_type": "execute_result",
          "data": {
            "text/plain": [
              "<keras.callbacks.History at 0x7f540cdaa350>"
            ]
          },
          "metadata": {
            "tags": []
          },
          "execution_count": 114
        }
      ]
    },
    {
      "cell_type": "code",
      "metadata": {
        "colab": {
          "base_uri": "https://localhost:8080/"
        },
        "id": "mokkcAgrwv8n",
        "outputId": "0205f40e-9e03-4c7d-e7f8-389a93e372b2"
      },
      "source": [
        "y_test_pre_lstm = predict(model_LSTM, y_test)\n",
        "print(\"LSTM RESULTS\")\n",
        "rmse, mae = evaluate(y_test, y_test_pre_lstm)\n",
        "RMSE_lstm.append(rmse)\n",
        "MAE_lstm.append(mae)\n",
        "print(\"RMSE = \", rmse)\n",
        "print(\"MAE = \", mae)\n",
        "\n",
        "visualize(y_test, y_test_pre_lstm, \"results of LSTM\")"
      ],
      "execution_count": null,
      "outputs": [
        {
          "output_type": "stream",
          "text": [
            "LSTM RESULTS\n",
            "RMSE =  0.18546656\n",
            "MAE =  0.1613141\n"
          ],
          "name": "stdout"
        },
        {
          "output_type": "display_data",
          "data": {
            "image/png": "[encoded data removed]",
            "text/plain": [
              "<Figure size 432x288 with 1 Axes>"
            ]
          },
          "metadata": {
            "tags": [],
            "needs_background": "light"
          }
        }
      ]
    },
    {
      "cell_type": "code",
      "metadata": {
        "colab": {
          "base_uri": "https://localhost:8080/"
        },
        "id": "cSzZ_eBGHRTS",
        "outputId": "d1e3e6e7-87fc-4f6c-ce38-3e20abf596b9"
      },
      "source": [
        "model_GRU = model_gru()\n",
        "fit(model_GRU, X_train, X_test, y_train, y_test)"
      ],
      "execution_count": null,
      "outputs": [
        {
          "output_type": "stream",
          "text": [
            "Epoch 1/100\n",
            "24/24 [==============================] - 5s 51ms/step - loss: 0.0443 - val_loss: 0.2594\n",
            "Epoch 2/100\n",
            "24/24 [==============================] - 0s 9ms/step - loss: 0.1344 - val_loss: 0.1401\n",
            "Epoch 3/100\n",
            "24/24 [==============================] - 0s 8ms/step - loss: 0.0981 - val_loss: 0.0727\n",
            "Epoch 4/100\n",
            "24/24 [==============================] - 0s 8ms/step - loss: 0.0516 - val_loss: 0.0207\n",
            "Epoch 5/100\n",
            "24/24 [==============================] - 0s 8ms/step - loss: 0.0057 - val_loss: 0.0297\n",
            "Epoch 6/100\n",
            "24/24 [==============================] - 0s 9ms/step - loss: 0.0120 - val_loss: 0.0565\n",
            "Epoch 7/100\n",
            "24/24 [==============================] - 0s 10ms/step - loss: 0.0282 - val_loss: 0.0611\n",
            "Epoch 8/100\n",
            "24/24 [==============================] - 0s 7ms/step - loss: 0.0104 - val_loss: 0.0413\n",
            "Epoch 9/100\n",
            "24/24 [==============================] - 0s 7ms/step - loss: 0.0096 - val_loss: 0.0273\n",
            "Epoch 10/100\n",
            "24/24 [==============================] - 0s 7ms/step - loss: 0.0117 - val_loss: 0.0359\n",
            "Epoch 11/100\n",
            "24/24 [==============================] - 0s 7ms/step - loss: 0.0050 - val_loss: 0.0490\n",
            "Epoch 12/100\n",
            "24/24 [==============================] - 0s 9ms/step - loss: 0.0139 - val_loss: 0.0382\n",
            "Epoch 13/100\n",
            "24/24 [==============================] - 0s 8ms/step - loss: 0.0075 - val_loss: 0.0291\n",
            "Epoch 14/100\n",
            "24/24 [==============================] - 0s 9ms/step - loss: 0.0094 - val_loss: 0.0550\n"
          ],
          "name": "stdout"
        },
        {
          "output_type": "execute_result",
          "data": {
            "text/plain": [
              "<keras.callbacks.History at 0x7f540c8ef290>"
            ]
          },
          "metadata": {
            "tags": []
          },
          "execution_count": 116
        }
      ]
    },
    {
      "cell_type": "code",
      "metadata": {
        "colab": {
          "base_uri": "https://localhost:8080/"
        },
        "id": "TySlHNNEHb2m",
        "outputId": "9b934225-fb23-493b-e745-7bbd88ba7cc4"
      },
      "source": [
        "y_test_pre_gru = predict(model_GRU, y_test)\n",
        "print(\"GRU RESULTS\")\n",
        "rmse, mae = evaluate(y_test, y_test_pre_gru)\n",
        "RMSE_gru.append(rmse)\n",
        "MAE_gru.append(mae)\n",
        "print(\"RMSE = \", rmse)\n",
        "print(\"MAE = \", mae)\n",
        "\n",
        "visualize(y_test, y_test_pre_gru, \"results of GRU\")\n"
      ],
      "execution_count": null,
      "outputs": [
        {
          "output_type": "stream",
          "text": [
            "GRU RESULTS\n",
            "RMSE =  0.068189554\n",
            "MAE =  0.055727705\n"
          ],
          "name": "stdout"
        },
        {
          "output_type": "display_data",
          "data": {
            "image/png": "[encoded data removed]",
            "text/plain": [
              "<Figure size 432x288 with 1 Axes>"
            ]
          },
          "metadata": {
            "tags": [],
            "needs_background": "light"
          }
        }
      ]
    },
    {
      "cell_type": "markdown",
      "metadata": {
        "id": "TfrWgDg_HdTj"
      },
      "source": [
        "# Comparison"
      ]
    },
    {
      "cell_type": "code",
      "metadata": {
        "id": "iVVDXLwU31r4"
      },
      "source": [
        "MAE_cnn = [0.0765, 0.1056, 0.1014, 0.1084, 0.0552]\n",
        "RMSE_cnn = [0.0864, 0.1543, 0.1347, 0.1418, 0.0738]"
      ],
      "execution_count": null,
      "outputs": []
    },
    {
      "cell_type": "code",
      "metadata": {
        "id": "BomQ0MEfHhW-"
      },
      "source": [
        "compare = pd.DataFrame()\n",
        "compare[\"State\"] = states\n",
        "compare[\"rmse_mlp\"] = RMSE_mlp\n",
        "compare[\"rmse_lstm\"] = RMSE_lstm\n",
        "compare[\"rmse_gru\"] = RMSE_gru\n",
        "compare[\"rmse_cnn\"] = RMSE_cnn\n",
        "compare[\"mae_mlp\"] = MAE_mlp\n",
        "compare[\"mae_lstm\"] = MAE_lstm\n",
        "compare[\"mae_gru\"] = MAE_gru\n",
        "compare[\"mae_cnn\"] = MAE_cnn\n"
      ],
      "execution_count": null,
      "outputs": []
    },
    {
      "cell_type": "code",
      "metadata": {
        "colab": {
          "base_uri": "https://localhost:8080/",
          "height": 203
        },
        "id": "_qlYElihJLv-",
        "outputId": "76610345-ea0d-4477-dc6f-1731eb93b781"
      },
      "source": [
        "compare = compare.round(4)\n",
        "compare.head()"
      ],
      "execution_count": null,
      "outputs": [
        {
          "output_type": "execute_result",
          "data": {
            "text/html": [
              "<div>\n",
              "<style scoped>\n",
              "    .dataframe tbody tr th:only-of-type {\n",
              "        vertical-align: middle;\n",
              "    }\n",
              "\n",
              "    .dataframe tbody tr th {\n",
              "        vertical-align: top;\n",
              "    }\n",
              "\n",
              "    .dataframe thead th {\n",
              "        text-align: right;\n",
              "    }\n",
              "</style>\n",
              "<table border=\"1\" class=\"dataframe\">\n",
              "  <thead>\n",
              "    <tr style=\"text-align: right;\">\n",
              "      <th></th>\n",
              "      <th>State</th>\n",
              "      <th>rmse_mlp</th>\n",
              "      <th>rmse_lstm</th>\n",
              "      <th>rmse_gru</th>\n",
              "      <th>rmse_cnn</th>\n",
              "      <th>mae_mlp</th>\n",
              "      <th>mae_lstm</th>\n",
              "      <th>mae_gru</th>\n",
              "      <th>mae_cnn</th>\n",
              "    </tr>\n",
              "  </thead>\n",
              "  <tbody>\n",
              "    <tr>\n",
              "      <th>0</th>\n",
              "      <td>Maharashtra</td>\n",
              "      <td>0.8316</td>\n",
              "      <td>0.2542</td>\n",
              "      <td>0.0736</td>\n",
              "      <td>0.0864</td>\n",
              "      <td>0.8143</td>\n",
              "      <td>0.2139</td>\n",
              "      <td>0.0697</td>\n",
              "      <td>0.0765</td>\n",
              "    </tr>\n",
              "    <tr>\n",
              "      <th>1</th>\n",
              "      <td>Karnataka</td>\n",
              "      <td>0.2047</td>\n",
              "      <td>0.1590</td>\n",
              "      <td>0.0205</td>\n",
              "      <td>0.1543</td>\n",
              "      <td>0.1744</td>\n",
              "      <td>0.1370</td>\n",
              "      <td>0.0159</td>\n",
              "      <td>0.1056</td>\n",
              "    </tr>\n",
              "    <tr>\n",
              "      <th>2</th>\n",
              "      <td>Kerala</td>\n",
              "      <td>0.0458</td>\n",
              "      <td>0.2918</td>\n",
              "      <td>0.1546</td>\n",
              "      <td>0.1347</td>\n",
              "      <td>0.0378</td>\n",
              "      <td>0.2437</td>\n",
              "      <td>0.1197</td>\n",
              "      <td>0.1014</td>\n",
              "    </tr>\n",
              "    <tr>\n",
              "      <th>3</th>\n",
              "      <td>Tamil Nadu</td>\n",
              "      <td>0.1951</td>\n",
              "      <td>0.0791</td>\n",
              "      <td>0.1081</td>\n",
              "      <td>0.1418</td>\n",
              "      <td>0.1596</td>\n",
              "      <td>0.0692</td>\n",
              "      <td>0.0927</td>\n",
              "      <td>0.1084</td>\n",
              "    </tr>\n",
              "    <tr>\n",
              "      <th>4</th>\n",
              "      <td>Uttar Pradesh</td>\n",
              "      <td>0.0610</td>\n",
              "      <td>0.1855</td>\n",
              "      <td>0.0682</td>\n",
              "      <td>0.0738</td>\n",
              "      <td>0.0505</td>\n",
              "      <td>0.1613</td>\n",
              "      <td>0.0557</td>\n",
              "      <td>0.0552</td>\n",
              "    </tr>\n",
              "  </tbody>\n",
              "</table>\n",
              "</div>"
            ],
            "text/plain": [
              "           State  rmse_mlp  rmse_lstm  ...  mae_lstm  mae_gru  mae_cnn\n",
              "0    Maharashtra    0.8316     0.2542  ...    0.2139   0.0697   0.0765\n",
              "1      Karnataka    0.2047     0.1590  ...    0.1370   0.0159   0.1056\n",
              "2         Kerala    0.0458     0.2918  ...    0.2437   0.1197   0.1014\n",
              "3     Tamil Nadu    0.1951     0.0791  ...    0.0692   0.0927   0.1084\n",
              "4  Uttar Pradesh    0.0610     0.1855  ...    0.1613   0.0557   0.0552\n",
              "\n",
              "[5 rows x 9 columns]"
            ]
          },
          "metadata": {
            "tags": []
          },
          "execution_count": 120
        }
      ]
    },
    {
      "cell_type": "code",
      "metadata": {
        "colab": {
          "base_uri": "https://localhost:8080/"
        },
        "id": "KI4T13dKhbS3",
        "outputId": "0127876a-043e-44d2-f3cb-df3b5ad47352"
      },
      "source": [
        "compare[[\"rmse_mlp\",\t\"rmse_lstm\",\t\"rmse_gru\",\t\"rmse_cnn\"]].mean(axis = 0)"
      ],
      "execution_count": null,
      "outputs": [
        {
          "output_type": "execute_result",
          "data": {
            "text/plain": [
              "rmse_mlp     0.26764\n",
              "rmse_lstm    0.19392\n",
              "rmse_gru     0.08500\n",
              "rmse_cnn     0.11820\n",
              "dtype: float64"
            ]
          },
          "metadata": {
            "tags": []
          },
          "execution_count": 121
        }
      ]
    },
    {
      "cell_type": "code",
      "metadata": {
        "colab": {
          "base_uri": "https://localhost:8080/"
        },
        "id": "QD4deNYEiAJG",
        "outputId": "c80cc6f7-4d90-4bb2-98f5-469a6dc16c6f"
      },
      "source": [
        "compare[[\"mae_mlp\",\t\"mae_lstm\",\t\"mae_gru\",\t\"mae_cnn\"]].mean(axis = 0)"
      ],
      "execution_count": null,
      "outputs": [
        {
          "output_type": "execute_result",
          "data": {
            "text/plain": [
              "mae_mlp     0.24732\n",
              "mae_lstm    0.16502\n",
              "mae_gru     0.07074\n",
              "mae_cnn     0.08942\n",
              "dtype: float64"
            ]
          },
          "metadata": {
            "tags": []
          },
          "execution_count": 122
        }
      ]
    },
    {
      "cell_type": "code",
      "metadata": {
        "id": "kwwnTtg-wMTF"
      },
      "source": [
        ""
      ],
      "execution_count": null,
      "outputs": []
    },
    {
      "cell_type": "markdown",
      "metadata": {
        "id": "NzgqEFhu5Ox0"
      },
      "source": [
        "# RMSE Radar Chart"
      ]
    },
    {
      "cell_type": "code",
      "metadata": {
        "colab": {
          "base_uri": "https://localhost:8080/",
          "height": 527
        },
        "id": "bBgbbx6kwMW8",
        "outputId": "adab15b8-99b8-4b21-e562-09a0aeabd9b9"
      },
      "source": [
        "categories = states\n",
        "categories = [*categories, categories[0]]\n",
        "\n",
        "CNN = RMSE_cnn\n",
        "MLP = RMSE_mlp\n",
        "LSTM = RMSE_lstm\n",
        "GRU = RMSE_gru\n",
        "CNN = [*CNN, CNN[0]]\n",
        "MLP = [*MLP, MLP[0]]\n",
        "LSTM = [*LSTM, LSTM[0]]\n",
        "GRU = [*GRU, GRU[0]]\n",
        "\n",
        "label_loc = np.linspace(start=0, stop=6, num=len(CNN))\n",
        "\n",
        "plt.figure(figsize=(8, 8))\n",
        "plt.subplot(polar=True)\n",
        "plt.plot(label_loc, CNN, label='CNN')\n",
        "plt.plot(label_loc, MLP, label='MLP')\n",
        "plt.plot(label_loc, LSTM, label='LSTM')\n",
        "plt.plot(label_loc, GRU, label='GRU')\n",
        "plt.title('RMSE Radar Chart', size=20, y=1.05)\n",
        "lines, labels = plt.thetagrids(np.degrees(label_loc), labels=categories)\n",
        "plt.legend()\n",
        "plt.show()"
      ],
      "execution_count": null,
      "outputs": [
        {
          "output_type": "display_data",
          "data": {
            "image/png": "[encoded data removed]",
            "text/plain": [
              "<Figure size 576x576 with 1 Axes>"
            ]
          },
          "metadata": {
            "tags": [],
            "needs_background": "light"
          }
        }
      ]
    },
    {
      "cell_type": "markdown",
      "metadata": {
        "id": "WKfnkWoQ5RlM"
      },
      "source": [
        "# MAE Radar Chart"
      ]
    },
    {
      "cell_type": "code",
      "metadata": {
        "colab": {
          "base_uri": "https://localhost:8080/",
          "height": 527
        },
        "id": "YkeFbJpl5T0Z",
        "outputId": "0778d3c2-20c3-4a1b-d930-572a71260be4"
      },
      "source": [
        "CNN = MAE_cnn\n",
        "MLP = MAE_mlp\n",
        "LSTM = MAE_lstm\n",
        "GRU = MAE_gru\n",
        "CNN = [*CNN, CNN[0]]\n",
        "MLP = [*MLP, MLP[0]]\n",
        "LSTM = [*LSTM, LSTM[0]]\n",
        "GRU = [*GRU, GRU[0]]\n",
        "\n",
        "label_loc = np.linspace(start=0, stop=6, num=len(CNN))\n",
        "\n",
        "plt.figure(figsize=(8, 8))\n",
        "plt.subplot(polar=True)\n",
        "plt.plot(label_loc, CNN, label='CNN')\n",
        "plt.plot(label_loc, MLP, label='MLP')\n",
        "plt.plot(label_loc, LSTM, label='LSTM')\n",
        "plt.plot(label_loc, GRU, label='GRU')\n",
        "plt.title('MAE Radar Chart', size=20, y=1.05)\n",
        "lines, labels = plt.thetagrids(np.degrees(label_loc), labels=categories)\n",
        "plt.legend()\n",
        "plt.show()"
      ],
      "execution_count": null,
      "outputs": [
        {
          "output_type": "display_data",
          "data": {
            "image/png": "[encoded data removed]",
            "text/plain": [
              "<Figure size 576x576 with 1 Axes>"
            ]
          },
          "metadata": {
            "tags": [],
            "needs_background": "light"
          }
        }
      ]
    }
  ]
}