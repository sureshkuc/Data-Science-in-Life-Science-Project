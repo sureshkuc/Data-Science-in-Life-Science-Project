{
  "nbformat": 4,
  "nbformat_minor": 0,
  "metadata": {
    "colab": {
      "name": "CNN&Tuner.ipynb",
      "provenance": [],
      "toc_visible": true
    },
    "kernelspec": {
      "name": "python3",
      "display_name": "Python 3"
    },
    "language_info": {
      "name": "python"
    }
  },
  "cells": [
    {
      "cell_type": "code",
      "metadata": {
        "colab": {
          "base_uri": "https://localhost:8080/"
        },
        "id": "DNYzOWbxhSZF",
        "outputId": "ca026918-32b9-483f-e89c-d4abf0ceb1d2"
      },
      "source": [
        "!pip install keras-tuner\n"
      ],
      "execution_count": null,
      "outputs": [
        {
          "output_type": "stream",
          "text": [
            "Requirement already satisfied: keras-tuner in /usr/local/lib/python3.7/dist-packages (1.0.2)\n",
            "Requirement already satisfied: colorama in /usr/local/lib/python3.7/dist-packages (from keras-tuner) (0.4.4)\n",
            "Requirement already satisfied: packaging in /usr/local/lib/python3.7/dist-packages (from keras-tuner) (20.9)\n",
            "Requirement already satisfied: numpy in /usr/local/lib/python3.7/dist-packages (from keras-tuner) (1.19.5)\n",
            "Requirement already satisfied: tqdm in /usr/local/lib/python3.7/dist-packages (from keras-tuner) (4.41.1)\n",
            "Requirement already satisfied: scipy in /usr/local/lib/python3.7/dist-packages (from keras-tuner) (1.4.1)\n",
            "Requirement already satisfied: future in /usr/local/lib/python3.7/dist-packages (from keras-tuner) (0.16.0)\n",
            "Requirement already satisfied: terminaltables in /usr/local/lib/python3.7/dist-packages (from keras-tuner) (3.1.0)\n",
            "Requirement already satisfied: requests in /usr/local/lib/python3.7/dist-packages (from keras-tuner) (2.23.0)\n",
            "Requirement already satisfied: scikit-learn in /usr/local/lib/python3.7/dist-packages (from keras-tuner) (0.22.2.post1)\n",
            "Requirement already satisfied: tabulate in /usr/local/lib/python3.7/dist-packages (from keras-tuner) (0.8.9)\n",
            "Requirement already satisfied: pyparsing>=2.0.2 in /usr/local/lib/python3.7/dist-packages (from packaging->keras-tuner) (2.4.7)\n",
            "Requirement already satisfied: urllib3!=1.25.0,!=1.25.1,<1.26,>=1.21.1 in /usr/local/lib/python3.7/dist-packages (from requests->keras-tuner) (1.24.3)\n",
            "Requirement already satisfied: chardet<4,>=3.0.2 in /usr/local/lib/python3.7/dist-packages (from requests->keras-tuner) (3.0.4)\n",
            "Requirement already satisfied: idna<3,>=2.5 in /usr/local/lib/python3.7/dist-packages (from requests->keras-tuner) (2.10)\n",
            "Requirement already satisfied: certifi>=2017.4.17 in /usr/local/lib/python3.7/dist-packages (from requests->keras-tuner) (2021.5.30)\n",
            "Requirement already satisfied: joblib>=0.11 in /usr/local/lib/python3.7/dist-packages (from scikit-learn->keras-tuner) (1.0.1)\n"
          ],
          "name": "stdout"
        }
      ]
    },
    {
      "cell_type": "code",
      "metadata": {
        "id": "uOgt4Yx3hUvC"
      },
      "source": [
        "import pandas as pd\n",
        "import matplotlib.pyplot as plt\n",
        "import seaborn as sns\n",
        "from matplotlib import pyplot\n",
        "import numpy as np\n",
        "from sklearn.preprocessing import MinMaxScaler\n",
        "from keras.layers import LeakyReLU\n",
        "\n",
        "\n",
        "from matplotlib.backends.backend_pdf import PdfPages\n",
        "from google.colab import files\n",
        "from pylab import rcParams\n",
        "import statsmodels.api as sm\n",
        "from sklearn.metrics import mean_squared_error\n",
        "from sklearn.metrics import mean_absolute_error\n",
        "\n",
        "from keras.models import Sequential\n",
        "from tensorflow import keras\n",
        "from tensorflow.keras import layers\n",
        "from tensorflow.keras.layers import Conv1D, MaxPooling1D, Dense, Flatten, Activation, Dropout, LeakyReLU\n",
        "from kerastuner.tuners import RandomSearch\n",
        "from keras.callbacks import EarlyStopping"
      ],
      "execution_count": null,
      "outputs": []
    },
    {
      "cell_type": "markdown",
      "metadata": {
        "id": "ADyUUoDs82Qn"
      },
      "source": [
        "# Functions"
      ]
    },
    {
      "cell_type": "code",
      "metadata": {
        "id": "RQv8QWKfwmhb"
      },
      "source": [
        "def create_dataset(dataset, look_back=1, response_variable_index=0, multi_feature = True):\n",
        "  dataX, dataY = [], []\n",
        "  if multi_feature :\n",
        "    for i in range(len(dataset)-look_back-1):\n",
        "      a = dataset[i:(i+look_back)]\n",
        "      dataX.append(a)\n",
        "      dataY.append(dataset[i + look_back, response_variable_index])\n",
        "  else:\n",
        "    for i in range(len(dataset)-look_back-1):\n",
        "      a = dataset[i:(i+look_back-1),response_variable_index]\n",
        "      dataX.append(a)\n",
        "      dataY.append(dataset[i + look_back, response_variable_index])\n",
        "  return np.array(dataX), np.array(dataY)"
      ],
      "execution_count": null,
      "outputs": []
    },
    {
      "cell_type": "code",
      "metadata": {
        "id": "Efsd9zwFwvk1"
      },
      "source": [
        "def prepare(df, scaling_range=(0,1),time_step=5,multi_feature=True, response_variable_index=0,data_split_ratio=0.8):\n",
        "  df = df.astype(\"float32\")\n",
        "  scaler = MinMaxScaler(feature_range=scaling_range)\n",
        "  dataset = scaler.fit_transform(df)\n",
        "  X, Y = create_dataset(dataset, time_step, response_variable_index, multi_feature = True)\n",
        "  # split into train and test sets\n",
        "  train_size = int(len(dataset) * data_split_ratio)\n",
        "  test_size = len(dataset) - train_size\n",
        "  trainX, testX = X[0:train_size,:], X[train_size:len(dataset),:]\n",
        "  trainY, testY = Y[0:train_size], Y[train_size:len(dataset)]\n",
        "  #print(trainX.shape)\n",
        "  #print(testX.shape)\n",
        "  # reshape input to be [samples, time steps, features]\n",
        "  if not multi_feature:\n",
        "    trainX = np.reshape(trainX, (trainX.shape[0],trainX.shape[1],1))\n",
        "    testX = np.reshape(testX, (testX.shape[0], testX.shape[1],1))\n",
        "    #print(trainX.shape)\n",
        "  X_train=trainX\n",
        "  X_test=testX\n",
        "  y_train=trainY.reshape(-1,1)\n",
        "  y_test=testY.reshape(-1,1)\n",
        "  return X_train,X_test, y_train, y_test"
      ],
      "execution_count": null,
      "outputs": []
    },
    {
      "cell_type": "code",
      "metadata": {
        "id": "-7PBKIZGxUCP"
      },
      "source": [
        "def model_cnn():\n",
        "  model_cnn = keras.Sequential()\n",
        "  model_cnn.add(Conv1D(filters=16,\n",
        "        kernel_size=3,\n",
        "        input_shape=(X_train.shape[1], X_train.shape[2])\n",
        "            )\n",
        "                  )\n",
        "  model_cnn.add(LeakyReLU(alpha=0.1))\n",
        "  model_cnn.add(MaxPooling1D(pool_size=1))\n",
        "  model_cnn.add(Dropout(rate=0.2))\n",
        "  model_cnn.add(Flatten())\n",
        "  model_cnn.add(Dense(1))\n",
        "  model_cnn.compile(loss='mae', optimizer='adam')\n",
        "  return model_cnn\n"
      ],
      "execution_count": null,
      "outputs": []
    },
    {
      "cell_type": "code",
      "metadata": {
        "id": "_zCYu4sxwvpj"
      },
      "source": [
        "def fit(model, X_train, X_test, y_train, y_test):\n",
        "  history = model.fit(X_train, y_train, epochs=100, batch_size=16, validation_data=(X_test, y_test), callbacks=[EarlyStopping(monitor= \"val_loss\", patience=10)], shuffle=False)\n",
        "  return history\n"
      ],
      "execution_count": null,
      "outputs": []
    },
    {
      "cell_type": "code",
      "metadata": {
        "id": "8UpO-j2OAu9L"
      },
      "source": [
        "def predict(model, y_test):\n",
        "  y_test_pre = model.predict(X_test)\n",
        "  return y_test_pre"
      ],
      "execution_count": null,
      "outputs": []
    },
    {
      "cell_type": "code",
      "metadata": {
        "id": "io86Y-oGwv3j"
      },
      "source": [
        "def visualize(y_test, y_pre, title):\n",
        "  results = pd.DataFrame()\n",
        "  #results['Date']= date_test.reset_index().Date.iloc[1:-1]\n",
        "  #results[\"Date\"] = date_test\n",
        "  results[\"predicted\"]=[i[0] for i in y_pre][1:] \n",
        "  results[\"true\"] = y_test[:-1]\n",
        "  #results = results.set_index([\"Date\"])\n",
        "  #results.head()\n",
        "  pyplot.plot(results[\"predicted\"], label='predicted', color='red')\n",
        "  pyplot.plot(results[\"true\"], label='true', color= 'green')\n",
        "  pyplot.legend()\n",
        "  pyplot.title(title)\n",
        "  pyplot.show()"
      ],
      "execution_count": null,
      "outputs": []
    },
    {
      "cell_type": "code",
      "metadata": {
        "id": "2CqE7mfdwv4w"
      },
      "source": [
        "def evaluate(y_test, y_pre):\n",
        "  true = y_test[:-1]\n",
        "  predicted = [i[0] for i in y_pre][1:]\n",
        "  rmse = np.sqrt(mean_squared_error(true, predicted))\n",
        "  mae = mean_absolute_error(true, predicted)\n",
        "  #print(len(true))\n",
        "  #print(len(predicted))\n",
        "  return rmse, mae\n"
      ],
      "execution_count": null,
      "outputs": []
    },
    {
      "cell_type": "markdown",
      "metadata": {
        "id": "lN3p8HGjnJM5"
      },
      "source": [
        "# Keras Tuner"
      ]
    },
    {
      "cell_type": "code",
      "metadata": {
        "id": "UfoA1Cd3nLRT"
      },
      "source": [
        "def build_model(hp):  \n",
        "  model = keras.Sequential([\n",
        "    keras.layers.Conv1D(\n",
        "        hp.Int(\"input_units\", min_value=16, max_value=256, step=16),\n",
        "        kernel_size= hp.Choice('conv_1_kernel', values = [1,5]),\n",
        "        input_shape= (X_train.shape[1], X_train.shape[2])\n",
        "    ),\n",
        "    keras.layers.LeakyReLU(alpha=0.1),\n",
        "    keras.layers.MaxPooling1D(1),\n",
        "   \n",
        "    keras.layers.Flatten(),\n",
        "    keras.layers.Dropout(0.2)\n",
        "    \n",
        "  ])\n",
        "  \n",
        "  model.compile(optimizer=keras.optimizers.Adam(hp.Choice('learning_rate', values=[1e-2, 1e-3])),\n",
        "              loss='mae',\n",
        "              metrics=['mae'])\n",
        "  print(model.summary())\n",
        "  return model"
      ],
      "execution_count": null,
      "outputs": []
    },
    {
      "cell_type": "code",
      "metadata": {
        "id": "5nhfn49nnqnb"
      },
      "source": [
        "log_dir = \"logs\"\n"
      ],
      "execution_count": null,
      "outputs": []
    },
    {
      "cell_type": "markdown",
      "metadata": {
        "id": "bm4qCwdl8c4-"
      },
      "source": [
        "#Import Data"
      ]
    },
    {
      "cell_type": "code",
      "metadata": {
        "id": "2NZn4Z7t8gmA"
      },
      "source": [
        "# Maharashtra\n",
        "df_Ma = pd.read_csv(\"https://raw.githubusercontent.com/sureshkuc/Data-Science-in-Life-Science-Project/main/Indian-States-Covid19-Datasets/Maharashtra.csv\", parse_dates=[\"Date\"]).drop(columns =[\"Unnamed: 0\"])\n",
        "# Karnataka\n",
        "df_Ka = pd.read_csv(\"https://raw.githubusercontent.com/sureshkuc/Data-Science-in-Life-Science-Project/main/Indian-States-Covid19-Datasets/Karnataka.csv\", parse_dates=[\"Date\"]).drop(columns =[\"Unnamed: 0\"])\n",
        "# Kerala\n",
        "df_Ke = pd.read_csv(\"https://raw.githubusercontent.com/sureshkuc/Data-Science-in-Life-Science-Project/main/Indian-States-Covid19-Datasets/Kerala.csv\", parse_dates=[\"Date\"]).drop(columns =[\"Unnamed: 0\"])\n",
        "# Tamil Nadu\n",
        "df_TN = pd.read_csv(\"https://raw.githubusercontent.com/sureshkuc/Data-Science-in-Life-Science-Project/main/Indian-States-Covid19-Datasets/Tamil-Nadu.csv\", parse_dates=[\"Date\"]).drop(columns =[\"Unnamed: 0\"])\n",
        "# Uttar Pradesh\n",
        "df_UP = pd.read_csv(\"https://raw.githubusercontent.com/sureshkuc/Data-Science-in-Life-Science-Project/main/Indian-States-Covid19-Datasets/Uttar-Pradesh.csv\", parse_dates=[\"Date\"]).drop(columns =[\"Unnamed: 0\"])\n",
        "\n"
      ],
      "execution_count": null,
      "outputs": []
    },
    {
      "cell_type": "code",
      "metadata": {
        "id": "POL56eLD8h2d"
      },
      "source": [
        "df_Ma = df_Ma[[\"Date\", \"Confirmed\", \"Recovered\", \"Deceased\", \"New_Confirmerd\", \"New_Deaths\", \"New_Recovered\"]]\n",
        "df_Ka = df_Ka[[\"Date\", \"Confirmed\", \"Recovered\", \"Deceased\", \"New_Confirmerd\", \"New_Deaths\", \"New_Recovered\"]]\n",
        "df_Ke = df_Ke[[\"Date\", \"Confirmed\", \"Recovered\", \"Deceased\", \"New_Confirmerd\", \"New_Deaths\", \"New_Recovered\"]]\n",
        "df_TN = df_TN[[\"Date\", \"Confirmed\", \"Recovered\", \"Deceased\", \"New_Confirmerd\", \"New_Deaths\", \"New_Recovered\"]]\n",
        "df_UP = df_UP[[\"Date\", \"Confirmed\", \"Recovered\", \"Deceased\", \"New_Confirmerd\", \"New_Deaths\", \"New_Recovered\"]]"
      ],
      "execution_count": null,
      "outputs": []
    },
    {
      "cell_type": "code",
      "metadata": {
        "id": "FpGnjvWs8h5X"
      },
      "source": [
        "df_Ma = df_Ma[df_Ma[\"Date\"] > \"2020-03-09\"]\n",
        "df_Ka = df_Ka[df_Ka[\"Date\"] > \"2020-03-09\"]\n",
        "df_Ke = df_Ke[df_Ke[\"Date\"] > \"2020-03-09\"]\n",
        "df_TN = df_TN[df_TN[\"Date\"] > \"2020-03-09\"]\n",
        "df_UP = df_UP[df_UP[\"Date\"] > \"2020-03-09\"]"
      ],
      "execution_count": null,
      "outputs": []
    },
    {
      "cell_type": "code",
      "metadata": {
        "id": "gFg977kC8rBe"
      },
      "source": [
        "df_Ma = df_Ma.set_index(\"Date\")\n",
        "df_Ka = df_Ka.set_index(\"Date\")\n",
        "df_Ke = df_Ke.set_index(\"Date\")\n",
        "df_TN = df_TN.set_index(\"Date\")\n",
        "df_UP = df_UP.set_index(\"Date\")\n"
      ],
      "execution_count": null,
      "outputs": []
    },
    {
      "cell_type": "code",
      "metadata": {
        "id": "zhHeg-d7FvOD"
      },
      "source": [
        "RMSE_cnn = []\n",
        "MAE_cnn = []\n",
        "RMSE_tun = []\n",
        "MAE_tun = []\n",
        "states = [\"Maharashtra\", \"Karnataka\", \"Kerala\", \"Tamil Nadu\", \"Uttar Pradesh\"]"
      ],
      "execution_count": null,
      "outputs": []
    },
    {
      "cell_type": "markdown",
      "metadata": {
        "id": "-KxC5oBn4Blx"
      },
      "source": [
        "# Maharashtra"
      ]
    },
    {
      "cell_type": "code",
      "metadata": {
        "id": "JDCmwofL6_Oc"
      },
      "source": [
        "X_train,X_test, y_train, y_test = prepare(df_Ma, scaling_range=(0,1),time_step=5,multi_feature=True, response_variable_index=0,data_split_ratio=0.8)"
      ],
      "execution_count": null,
      "outputs": []
    },
    {
      "cell_type": "code",
      "metadata": {
        "id": "znhqCg0Sv5qo",
        "colab": {
          "base_uri": "https://localhost:8080/"
        },
        "outputId": "48ca43a2-2e5e-4b75-cbd8-f81336ff5102"
      },
      "source": [
        "print(\"X_train.shape\", X_train.shape)\n",
        "print(\"X_test.shape\", X_test.shape)\n",
        "print(\"y_train.shape\", y_train.shape)\n",
        "print(\"y_test.shape\", y_test.shape)"
      ],
      "execution_count": null,
      "outputs": [
        {
          "output_type": "stream",
          "text": [
            "X_train.shape (364, 5, 6)\n",
            "X_test.shape (86, 5, 6)\n",
            "y_train.shape (364, 1)\n",
            "y_test.shape (86, 1)\n"
          ],
          "name": "stdout"
        }
      ]
    },
    {
      "cell_type": "code",
      "metadata": {
        "id": "uJFXwGnrAVMh",
        "colab": {
          "base_uri": "https://localhost:8080/"
        },
        "outputId": "37327707-9352-4fcf-d2ef-f120addbc763"
      },
      "source": [
        "model_CNN = model_cnn()\n",
        "fit(model_CNN, X_train, X_test, y_train, y_test)"
      ],
      "execution_count": null,
      "outputs": [
        {
          "output_type": "stream",
          "text": [
            "Epoch 1/100\n",
            "23/23 [==============================] - 0s 6ms/step - loss: 0.0679 - val_loss: 0.1217\n",
            "Epoch 2/100\n",
            "23/23 [==============================] - 0s 2ms/step - loss: 0.0724 - val_loss: 0.0596\n",
            "Epoch 3/100\n",
            "23/23 [==============================] - 0s 2ms/step - loss: 0.0475 - val_loss: 0.0609\n",
            "Epoch 4/100\n",
            "23/23 [==============================] - 0s 2ms/step - loss: 0.0465 - val_loss: 0.0955\n",
            "Epoch 5/100\n",
            "23/23 [==============================] - 0s 2ms/step - loss: 0.0447 - val_loss: 0.0726\n",
            "Epoch 6/100\n",
            "23/23 [==============================] - 0s 2ms/step - loss: 0.0443 - val_loss: 0.1265\n",
            "Epoch 7/100\n",
            "23/23 [==============================] - 0s 2ms/step - loss: 0.0397 - val_loss: 0.1267\n",
            "Epoch 8/100\n",
            "23/23 [==============================] - 0s 2ms/step - loss: 0.0567 - val_loss: 0.0705\n",
            "Epoch 9/100\n",
            "23/23 [==============================] - 0s 3ms/step - loss: 0.0355 - val_loss: 0.0630\n",
            "Epoch 10/100\n",
            "23/23 [==============================] - 0s 2ms/step - loss: 0.0315 - val_loss: 0.0909\n",
            "Epoch 11/100\n",
            "23/23 [==============================] - 0s 2ms/step - loss: 0.0349 - val_loss: 0.0469\n",
            "Epoch 12/100\n",
            "23/23 [==============================] - 0s 2ms/step - loss: 0.0346 - val_loss: 0.0559\n",
            "Epoch 13/100\n",
            "23/23 [==============================] - 0s 2ms/step - loss: 0.0285 - val_loss: 0.0640\n",
            "Epoch 14/100\n",
            "23/23 [==============================] - 0s 2ms/step - loss: 0.0340 - val_loss: 0.0609\n",
            "Epoch 15/100\n",
            "23/23 [==============================] - 0s 2ms/step - loss: 0.0309 - val_loss: 0.0516\n",
            "Epoch 16/100\n",
            "23/23 [==============================] - 0s 2ms/step - loss: 0.0271 - val_loss: 0.0746\n",
            "Epoch 17/100\n",
            "23/23 [==============================] - 0s 3ms/step - loss: 0.0292 - val_loss: 0.0598\n",
            "Epoch 18/100\n",
            "23/23 [==============================] - 0s 2ms/step - loss: 0.0304 - val_loss: 0.0494\n",
            "Epoch 19/100\n",
            "23/23 [==============================] - 0s 3ms/step - loss: 0.0271 - val_loss: 0.0547\n",
            "Epoch 20/100\n",
            "23/23 [==============================] - 0s 2ms/step - loss: 0.0255 - val_loss: 0.0799\n",
            "Epoch 21/100\n",
            "23/23 [==============================] - 0s 2ms/step - loss: 0.0297 - val_loss: 0.0694\n"
          ],
          "name": "stdout"
        },
        {
          "output_type": "execute_result",
          "data": {
            "text/plain": [
              "<tensorflow.python.keras.callbacks.History at 0x7f388de15d90>"
            ]
          },
          "metadata": {
            "tags": []
          },
          "execution_count": 597
        }
      ]
    },
    {
      "cell_type": "code",
      "metadata": {
        "id": "4Cij9L_nKxe_",
        "colab": {
          "base_uri": "https://localhost:8080/"
        },
        "outputId": "4cb3d455-76c2-47a2-8525-d91a1b252930"
      },
      "source": [
        "model_CNN.summary()"
      ],
      "execution_count": null,
      "outputs": [
        {
          "output_type": "stream",
          "text": [
            "Model: \"sequential_1\"\n",
            "_________________________________________________________________\n",
            "Layer (type)                 Output Shape              Param #   \n",
            "=================================================================\n",
            "conv1d_1 (Conv1D)            (None, 3, 16)             304       \n",
            "_________________________________________________________________\n",
            "leaky_re_lu_1 (LeakyReLU)    (None, 3, 16)             0         \n",
            "_________________________________________________________________\n",
            "max_pooling1d_1 (MaxPooling1 (None, 3, 16)             0         \n",
            "_________________________________________________________________\n",
            "dropout_1 (Dropout)          (None, 3, 16)             0         \n",
            "_________________________________________________________________\n",
            "flatten_1 (Flatten)          (None, 48)                0         \n",
            "_________________________________________________________________\n",
            "dense (Dense)                (None, 1)                 49        \n",
            "=================================================================\n",
            "Total params: 353\n",
            "Trainable params: 353\n",
            "Non-trainable params: 0\n",
            "_________________________________________________________________\n"
          ],
          "name": "stdout"
        }
      ]
    },
    {
      "cell_type": "code",
      "metadata": {
        "id": "AkAoVdwS4dkL",
        "colab": {
          "base_uri": "https://localhost:8080/",
          "height": 331
        },
        "outputId": "d5b030c6-c7ea-448b-e15e-763c27dbe7c8"
      },
      "source": [
        "y_test_pre_cnn = predict(model_CNN, y_test)\n",
        "print(\"CNN RESULTS\")\n",
        "rmse, mae = evaluate(y_test, y_test_pre_cnn)\n",
        "RMSE_cnn.append(rmse)\n",
        "MAE_cnn.append(mae)\n",
        "print(\"RMSE = \", rmse)\n",
        "print(\"MAE = \", mae)\n",
        "\n",
        "visualize(y_test, y_test_pre_cnn, \"results of CNN\")\n"
      ],
      "execution_count": null,
      "outputs": [
        {
          "output_type": "stream",
          "text": [
            "CNN RESULTS\n",
            "RMSE =  0.08641861\n",
            "MAE =  0.076487124\n"
          ],
          "name": "stdout"
        },
        {
          "output_type": "display_data",
          "data": {
            "image/png": "[encoded data removed]",
            "text/plain": [
              "<Figure size 432x288 with 1 Axes>"
            ]
          },
          "metadata": {
            "tags": [],
            "needs_background": "light"
          }
        }
      ]
    },
    {
      "cell_type": "code",
      "metadata": {
        "colab": {
          "base_uri": "https://localhost:8080/"
        },
        "id": "DX9SE9_dWVmp",
        "outputId": "55651ab7-cf1d-48e9-ee99-385a3f08071f"
      },
      "source": [
        "tuner =  RandomSearch( build_model, objective= \"mae\", max_trials=2, executions_per_trial= 2, directory= \"log_dir\", overwrite=True)"
      ],
      "execution_count": null,
      "outputs": [
        {
          "output_type": "stream",
          "text": [
            "Model: \"sequential\"\n",
            "_________________________________________________________________\n",
            "Layer (type)                 Output Shape              Param #   \n",
            "=================================================================\n",
            "conv1d (Conv1D)              (None, 5, 16)             112       \n",
            "_________________________________________________________________\n",
            "leaky_re_lu (LeakyReLU)      (None, 5, 16)             0         \n",
            "_________________________________________________________________\n",
            "max_pooling1d (MaxPooling1D) (None, 5, 16)             0         \n",
            "_________________________________________________________________\n",
            "flatten (Flatten)            (None, 80)                0         \n",
            "_________________________________________________________________\n",
            "dropout (Dropout)            (None, 80)                0         \n",
            "=================================================================\n",
            "Total params: 112\n",
            "Trainable params: 112\n",
            "Non-trainable params: 0\n",
            "_________________________________________________________________\n",
            "None\n"
          ],
          "name": "stdout"
        }
      ]
    },
    {
      "cell_type": "code",
      "metadata": {
        "colab": {
          "base_uri": "https://localhost:8080/"
        },
        "id": "FeE7I9KmGEBl",
        "outputId": "37ac6581-f355-4374-9ef7-211196d5862f"
      },
      "source": [
        "tuner.search(X_train, y_train, epochs= 100, batch_size= 16, validation_data=(X_test, y_test))"
      ],
      "execution_count": null,
      "outputs": [
        {
          "output_type": "stream",
          "text": [
            "Trial 2 Complete [00h 00m 18s]\n",
            "mae: 0.0356050468981266\n",
            "\n",
            "Best mae So Far: 0.0356050468981266\n",
            "Total elapsed time: 00h 00m 33s\n",
            "INFO:tensorflow:Oracle triggered exit\n"
          ],
          "name": "stdout"
        }
      ]
    },
    {
      "cell_type": "code",
      "metadata": {
        "colab": {
          "base_uri": "https://localhost:8080/"
        },
        "id": "pNyoXbqYGmQm",
        "outputId": "a8851978-892c-4caf-ea5d-d8d24dc8c445"
      },
      "source": [
        "tuner.results_summary()"
      ],
      "execution_count": null,
      "outputs": [
        {
          "output_type": "stream",
          "text": [
            "Results summary\n",
            "Results in log_dir/untitled_project\n",
            "Showing 10 best trials\n",
            "Objective(name='mae', direction='min')\n",
            "Trial summary\n",
            "Hyperparameters:\n",
            "input_units: 144\n",
            "conv_1_kernel: 5\n",
            "learning_rate: 0.001\n",
            "Score: 0.0356050468981266\n",
            "Trial summary\n",
            "Hyperparameters:\n",
            "input_units: 80\n",
            "conv_1_kernel: 5\n",
            "learning_rate: 0.01\n",
            "Score: 0.03958258591592312\n"
          ],
          "name": "stdout"
        }
      ]
    },
    {
      "cell_type": "code",
      "metadata": {
        "id": "Nlt2Ki1mGuIp"
      },
      "source": [
        "model_cnn_tuner = keras.Sequential()\n",
        "model_cnn_tuner.add(Conv1D(filters=144,\n",
        "  kernel_size=5,\n",
        "  input_shape=(X_train.shape[1], X_train.shape[2])\n",
        "              )\n",
        "                    )\n",
        "model_cnn_tuner.add(LeakyReLU(alpha=0.1))\n",
        "model_cnn_tuner.add(MaxPooling1D(pool_size=1))\n",
        "model_cnn_tuner.add(Dropout(rate=0.2))\n",
        "model_cnn_tuner.add(Flatten())\n",
        "model_cnn_tuner.add(Dense(1))\n",
        "model_cnn_tuner.compile(optimizer=keras.optimizers.Adam(learning_rate=0.001),\n",
        "              loss=\"mae\",\n",
        "              metrics=[\"mae\"])"
      ],
      "execution_count": null,
      "outputs": []
    },
    {
      "cell_type": "code",
      "metadata": {
        "id": "dFPNA4TcC3Wm",
        "colab": {
          "base_uri": "https://localhost:8080/"
        },
        "outputId": "8ed51b8f-15a8-407e-afd4-0712972fed77"
      },
      "source": [
        "fit(model_cnn_tuner, X_train, X_test, y_train, y_test)"
      ],
      "execution_count": null,
      "outputs": [
        {
          "output_type": "stream",
          "text": [
            "Epoch 1/100\n",
            "23/23 [==============================] - 0s 6ms/step - loss: 0.0326 - mae: 0.0326 - val_loss: 0.0340 - val_mae: 0.0340\n",
            "Epoch 2/100\n",
            "23/23 [==============================] - 0s 2ms/step - loss: 0.0297 - mae: 0.0297 - val_loss: 0.1496 - val_mae: 0.1496\n",
            "Epoch 3/100\n",
            "23/23 [==============================] - 0s 2ms/step - loss: 0.0756 - mae: 0.0756 - val_loss: 0.1577 - val_mae: 0.1577\n",
            "Epoch 4/100\n",
            "23/23 [==============================] - 0s 2ms/step - loss: 0.0765 - mae: 0.0765 - val_loss: 0.5895 - val_mae: 0.5895\n",
            "Epoch 5/100\n",
            "23/23 [==============================] - 0s 2ms/step - loss: 0.1256 - mae: 0.1256 - val_loss: 0.0826 - val_mae: 0.0826\n",
            "Epoch 6/100\n",
            "23/23 [==============================] - 0s 3ms/step - loss: 0.0220 - mae: 0.0220 - val_loss: 0.0815 - val_mae: 0.0815\n",
            "Epoch 7/100\n",
            "23/23 [==============================] - 0s 2ms/step - loss: 0.0236 - mae: 0.0236 - val_loss: 0.0829 - val_mae: 0.0829\n",
            "Epoch 8/100\n",
            "23/23 [==============================] - 0s 2ms/step - loss: 0.0171 - mae: 0.0171 - val_loss: 0.1264 - val_mae: 0.1264\n",
            "Epoch 9/100\n",
            "23/23 [==============================] - 0s 2ms/step - loss: 0.0230 - mae: 0.0230 - val_loss: 0.2086 - val_mae: 0.2086\n",
            "Epoch 10/100\n",
            "23/23 [==============================] - 0s 2ms/step - loss: 0.0180 - mae: 0.0180 - val_loss: 0.0427 - val_mae: 0.0427\n",
            "Epoch 11/100\n",
            "23/23 [==============================] - 0s 2ms/step - loss: 0.0457 - mae: 0.0457 - val_loss: 0.0729 - val_mae: 0.0729\n"
          ],
          "name": "stdout"
        },
        {
          "output_type": "execute_result",
          "data": {
            "text/plain": [
              "<tensorflow.python.keras.callbacks.History at 0x7f388dc5fe10>"
            ]
          },
          "metadata": {
            "tags": []
          },
          "execution_count": 603
        }
      ]
    },
    {
      "cell_type": "code",
      "metadata": {
        "id": "r0-RSLmkqAOl",
        "colab": {
          "base_uri": "https://localhost:8080/",
          "height": 331
        },
        "outputId": "7e634f05-c1a6-421f-803a-e1425553fffe"
      },
      "source": [
        "y_test_pre_cnn_t = predict(model_cnn_tuner, y_test)\n",
        "print(\"CNN_tun RESULTS\")\n",
        "rmse, mae = evaluate(y_test, y_test_pre_cnn_t)\n",
        "RMSE_tun.append(rmse)\n",
        "MAE_tun.append(mae)\n",
        "print(\"RMSE = \", rmse)\n",
        "print(\"MAE = \", mae)\n",
        "\n",
        "visualize(y_test, y_test_pre_cnn_t, \"results of CNN_tun\")"
      ],
      "execution_count": null,
      "outputs": [
        {
          "output_type": "stream",
          "text": [
            "CNN_tun RESULTS\n",
            "RMSE =  0.0869774\n",
            "MAE =  0.08031924\n"
          ],
          "name": "stdout"
        },
        {
          "output_type": "display_data",
          "data": {
            "image/png": "[encoded data removed]",
            "text/plain": [
              "<Figure size 432x288 with 1 Axes>"
            ]
          },
          "metadata": {
            "tags": [],
            "needs_background": "light"
          }
        }
      ]
    },
    {
      "cell_type": "markdown",
      "metadata": {
        "id": "RrhjGqWB4M01"
      },
      "source": [
        "# Karnataka\n"
      ]
    },
    {
      "cell_type": "code",
      "metadata": {
        "id": "AA9wMKH74e6o"
      },
      "source": [
        "X_train,X_test, y_train, y_test = prepare(df_Ka, scaling_range=(0,1),time_step=5,multi_feature=True, response_variable_index=0,data_split_ratio=0.8)"
      ],
      "execution_count": null,
      "outputs": []
    },
    {
      "cell_type": "code",
      "metadata": {
        "id": "86O2EN8d4fFE",
        "colab": {
          "base_uri": "https://localhost:8080/"
        },
        "outputId": "645dc878-6508-4b7e-f08b-90a69b4337f3"
      },
      "source": [
        "model_CNN = model_cnn()\n",
        "fit(model_CNN, X_train, X_test, y_train, y_test)"
      ],
      "execution_count": null,
      "outputs": [
        {
          "output_type": "stream",
          "text": [
            "Epoch 1/100\n",
            "23/23 [==============================] - 0s 7ms/step - loss: 0.1398 - val_loss: 0.3473\n",
            "Epoch 2/100\n",
            "23/23 [==============================] - 0s 2ms/step - loss: 0.0774 - val_loss: 0.0887\n",
            "Epoch 3/100\n",
            "23/23 [==============================] - 0s 2ms/step - loss: 0.0566 - val_loss: 0.0577\n",
            "Epoch 4/100\n",
            "23/23 [==============================] - 0s 2ms/step - loss: 0.0401 - val_loss: 0.0560\n",
            "Epoch 5/100\n",
            "23/23 [==============================] - 0s 3ms/step - loss: 0.0361 - val_loss: 0.0613\n",
            "Epoch 6/100\n",
            "23/23 [==============================] - 0s 2ms/step - loss: 0.0268 - val_loss: 0.0833\n",
            "Epoch 7/100\n",
            "23/23 [==============================] - 0s 2ms/step - loss: 0.0286 - val_loss: 0.0855\n",
            "Epoch 8/100\n",
            "23/23 [==============================] - 0s 2ms/step - loss: 0.0240 - val_loss: 0.0716\n",
            "Epoch 9/100\n",
            "23/23 [==============================] - 0s 2ms/step - loss: 0.0246 - val_loss: 0.1346\n",
            "Epoch 10/100\n",
            "23/23 [==============================] - 0s 2ms/step - loss: 0.0279 - val_loss: 0.0744\n",
            "Epoch 11/100\n",
            "23/23 [==============================] - 0s 2ms/step - loss: 0.0267 - val_loss: 0.0596\n",
            "Epoch 12/100\n",
            "23/23 [==============================] - 0s 2ms/step - loss: 0.0355 - val_loss: 0.1623\n",
            "Epoch 13/100\n",
            "23/23 [==============================] - 0s 2ms/step - loss: 0.0426 - val_loss: 0.0636\n",
            "Epoch 14/100\n",
            "23/23 [==============================] - 0s 2ms/step - loss: 0.0304 - val_loss: 0.0984\n"
          ],
          "name": "stdout"
        },
        {
          "output_type": "execute_result",
          "data": {
            "text/plain": [
              "<tensorflow.python.keras.callbacks.History at 0x7f388dbb7d10>"
            ]
          },
          "metadata": {
            "tags": []
          },
          "execution_count": 606
        }
      ]
    },
    {
      "cell_type": "code",
      "metadata": {
        "id": "XhidBZQB4fH8",
        "colab": {
          "base_uri": "https://localhost:8080/",
          "height": 331
        },
        "outputId": "16a885c0-c0b7-4d7f-a641-702533962768"
      },
      "source": [
        "y_test_pre_cnn = predict(model_CNN, y_test)\n",
        "print(\"CNN RESULTS\")\n",
        "rmse, mae = evaluate(y_test, y_test_pre_cnn)\n",
        "RMSE_cnn.append(rmse)\n",
        "MAE_cnn.append(mae)\n",
        "print(\"RMSE = \", rmse)\n",
        "print(\"MAE = \", mae)\n",
        "\n",
        "visualize(y_test, y_test_pre_cnn, \"results of CNN\")\n"
      ],
      "execution_count": null,
      "outputs": [
        {
          "output_type": "stream",
          "text": [
            "CNN RESULTS\n",
            "RMSE =  0.15430492\n",
            "MAE =  0.10560146\n"
          ],
          "name": "stdout"
        },
        {
          "output_type": "display_data",
          "data": {
            "image/png": "[encoded data removed]",
            "text/plain": [
              "<Figure size 432x288 with 1 Axes>"
            ]
          },
          "metadata": {
            "tags": [],
            "needs_background": "light"
          }
        }
      ]
    },
    {
      "cell_type": "code",
      "metadata": {
        "colab": {
          "base_uri": "https://localhost:8080/"
        },
        "id": "SMtoHAL9P6oB",
        "outputId": "ed40315d-17b4-4a32-edb1-ab48a81e1d1c"
      },
      "source": [
        "log_dir = \"logs\"\n",
        "tuner =  RandomSearch( build_model, objective= \"mae\", max_trials=2, executions_per_trial= 2, directory= \"log_dir\", overwrite=True)"
      ],
      "execution_count": null,
      "outputs": [
        {
          "output_type": "stream",
          "text": [
            "Model: \"sequential\"\n",
            "_________________________________________________________________\n",
            "Layer (type)                 Output Shape              Param #   \n",
            "=================================================================\n",
            "conv1d (Conv1D)              (None, 5, 16)             112       \n",
            "_________________________________________________________________\n",
            "leaky_re_lu (LeakyReLU)      (None, 5, 16)             0         \n",
            "_________________________________________________________________\n",
            "max_pooling1d (MaxPooling1D) (None, 5, 16)             0         \n",
            "_________________________________________________________________\n",
            "flatten (Flatten)            (None, 80)                0         \n",
            "_________________________________________________________________\n",
            "dropout (Dropout)            (None, 80)                0         \n",
            "=================================================================\n",
            "Total params: 112\n",
            "Trainable params: 112\n",
            "Non-trainable params: 0\n",
            "_________________________________________________________________\n",
            "None\n"
          ],
          "name": "stdout"
        }
      ]
    },
    {
      "cell_type": "code",
      "metadata": {
        "colab": {
          "base_uri": "https://localhost:8080/"
        },
        "id": "w5hoi5FKUbtf",
        "outputId": "111c56f7-e94a-4fcf-b9b8-68bd4451ad25"
      },
      "source": [
        "tuner.search(X_train, y_train, epochs=100, batch_size= 16, validation_data=(X_test, y_test))"
      ],
      "execution_count": null,
      "outputs": [
        {
          "output_type": "stream",
          "text": [
            "Trial 2 Complete [00h 00m 18s]\n",
            "mae: 0.03796365484595299\n",
            "\n",
            "Best mae So Far: 0.03385276161134243\n",
            "Total elapsed time: 00h 00m 37s\n",
            "INFO:tensorflow:Oracle triggered exit\n"
          ],
          "name": "stdout"
        }
      ]
    },
    {
      "cell_type": "code",
      "metadata": {
        "colab": {
          "base_uri": "https://localhost:8080/"
        },
        "id": "yMCEvgE1KRJQ",
        "outputId": "4b87327e-c354-4b84-91af-f480bd08900e"
      },
      "source": [
        "tuner.results_summary()"
      ],
      "execution_count": null,
      "outputs": [
        {
          "output_type": "stream",
          "text": [
            "Results summary\n",
            "Results in log_dir/untitled_project\n",
            "Showing 10 best trials\n",
            "Objective(name='mae', direction='min')\n",
            "Trial summary\n",
            "Hyperparameters:\n",
            "input_units: 96\n",
            "conv_1_kernel: 5\n",
            "learning_rate: 0.001\n",
            "Score: 0.03385276161134243\n",
            "Trial summary\n",
            "Hyperparameters:\n",
            "input_units: 144\n",
            "conv_1_kernel: 5\n",
            "learning_rate: 0.01\n",
            "Score: 0.03796365484595299\n"
          ],
          "name": "stdout"
        }
      ]
    },
    {
      "cell_type": "code",
      "metadata": {
        "id": "7uLWZbW7KRuI"
      },
      "source": [
        "model_cnn_tuner = keras.Sequential()\n",
        "model_cnn_tuner.add(Conv1D(filters=96,\n",
        "  kernel_size=5,\n",
        "  input_shape=(X_train.shape[1], X_train.shape[2])\n",
        "              )\n",
        "                    )\n",
        "model_cnn_tuner.add(LeakyReLU(alpha=0.1))\n",
        "model_cnn_tuner.add(MaxPooling1D(pool_size=1))\n",
        "model_cnn_tuner.add(Dropout(rate=0.2))\n",
        "model_cnn_tuner.add(Flatten())\n",
        "model_cnn_tuner.add(Dense(1))\n",
        "model_cnn_tuner.compile(optimizer=keras.optimizers.Adam(learning_rate=0.001),\n",
        "              loss=\"mae\",\n",
        "              metrics=[\"mae\"])"
      ],
      "execution_count": null,
      "outputs": []
    },
    {
      "cell_type": "code",
      "metadata": {
        "id": "COpHDqxPqpU-",
        "colab": {
          "base_uri": "https://localhost:8080/"
        },
        "outputId": "0c52b8c1-d6ef-4a0a-9812-e768406a1d68"
      },
      "source": [
        "fit(model_cnn_tuner, X_train, X_test, y_train, y_test)"
      ],
      "execution_count": null,
      "outputs": [
        {
          "output_type": "stream",
          "text": [
            "Epoch 1/100\n",
            "23/23 [==============================] - 0s 7ms/step - loss: 0.0433 - mae: 0.0433 - val_loss: 0.3719 - val_mae: 0.3719\n",
            "Epoch 2/100\n",
            "23/23 [==============================] - 0s 2ms/step - loss: 0.0770 - mae: 0.0770 - val_loss: 0.0611 - val_mae: 0.0611\n",
            "Epoch 3/100\n",
            "23/23 [==============================] - 0s 3ms/step - loss: 0.0234 - mae: 0.0234 - val_loss: 0.1386 - val_mae: 0.1386\n",
            "Epoch 4/100\n",
            "23/23 [==============================] - 0s 2ms/step - loss: 0.0278 - mae: 0.0278 - val_loss: 0.0562 - val_mae: 0.0562\n",
            "Epoch 5/100\n",
            "23/23 [==============================] - 0s 2ms/step - loss: 0.0297 - mae: 0.0297 - val_loss: 0.1255 - val_mae: 0.1255\n",
            "Epoch 6/100\n",
            "23/23 [==============================] - 0s 2ms/step - loss: 0.0321 - mae: 0.0321 - val_loss: 0.0755 - val_mae: 0.0755\n",
            "Epoch 7/100\n",
            "23/23 [==============================] - 0s 2ms/step - loss: 0.0280 - mae: 0.0280 - val_loss: 0.0798 - val_mae: 0.0798\n",
            "Epoch 8/100\n",
            "23/23 [==============================] - 0s 3ms/step - loss: 0.0269 - mae: 0.0269 - val_loss: 0.1272 - val_mae: 0.1272\n",
            "Epoch 9/100\n",
            "23/23 [==============================] - 0s 3ms/step - loss: 0.0310 - mae: 0.0310 - val_loss: 0.0329 - val_mae: 0.0329\n",
            "Epoch 10/100\n",
            "23/23 [==============================] - 0s 3ms/step - loss: 0.0215 - mae: 0.0215 - val_loss: 0.1681 - val_mae: 0.1681\n",
            "Epoch 11/100\n",
            "23/23 [==============================] - 0s 2ms/step - loss: 0.0307 - mae: 0.0307 - val_loss: 0.0554 - val_mae: 0.0554\n",
            "Epoch 12/100\n",
            "23/23 [==============================] - 0s 3ms/step - loss: 0.0279 - mae: 0.0279 - val_loss: 0.1040 - val_mae: 0.1040\n",
            "Epoch 13/100\n",
            "23/23 [==============================] - 0s 2ms/step - loss: 0.0260 - mae: 0.0260 - val_loss: 0.0121 - val_mae: 0.0121\n",
            "Epoch 14/100\n",
            "23/23 [==============================] - 0s 2ms/step - loss: 0.0156 - mae: 0.0156 - val_loss: 0.0625 - val_mae: 0.0625\n",
            "Epoch 15/100\n",
            "23/23 [==============================] - 0s 2ms/step - loss: 0.0163 - mae: 0.0163 - val_loss: 0.0278 - val_mae: 0.0278\n",
            "Epoch 16/100\n",
            "23/23 [==============================] - 0s 2ms/step - loss: 0.0251 - mae: 0.0251 - val_loss: 0.1307 - val_mae: 0.1307\n",
            "Epoch 17/100\n",
            "23/23 [==============================] - 0s 2ms/step - loss: 0.0256 - mae: 0.0256 - val_loss: 0.0766 - val_mae: 0.0766\n",
            "Epoch 18/100\n",
            "23/23 [==============================] - 0s 3ms/step - loss: 0.0217 - mae: 0.0217 - val_loss: 0.0533 - val_mae: 0.0533\n",
            "Epoch 19/100\n",
            "23/23 [==============================] - 0s 2ms/step - loss: 0.0213 - mae: 0.0213 - val_loss: 0.1187 - val_mae: 0.1187\n",
            "Epoch 20/100\n",
            "23/23 [==============================] - 0s 2ms/step - loss: 0.0285 - mae: 0.0285 - val_loss: 0.0962 - val_mae: 0.0962\n",
            "Epoch 21/100\n",
            "23/23 [==============================] - 0s 2ms/step - loss: 0.0289 - mae: 0.0289 - val_loss: 0.1428 - val_mae: 0.1428\n",
            "Epoch 22/100\n",
            "23/23 [==============================] - 0s 2ms/step - loss: 0.0254 - mae: 0.0254 - val_loss: 0.0434 - val_mae: 0.0434\n",
            "Epoch 23/100\n",
            "23/23 [==============================] - 0s 2ms/step - loss: 0.0207 - mae: 0.0207 - val_loss: 0.0611 - val_mae: 0.0611\n"
          ],
          "name": "stdout"
        },
        {
          "output_type": "execute_result",
          "data": {
            "text/plain": [
              "<tensorflow.python.keras.callbacks.History at 0x7f388db2e590>"
            ]
          },
          "metadata": {
            "tags": []
          },
          "execution_count": 612
        }
      ]
    },
    {
      "cell_type": "code",
      "metadata": {
        "id": "uK5f90UMqpxQ",
        "colab": {
          "base_uri": "https://localhost:8080/",
          "height": 331
        },
        "outputId": "2e8e63a4-3fca-45c8-c929-7e82d427e621"
      },
      "source": [
        "y_test_pre_cnn_t = predict(model_cnn_tuner, y_test)\n",
        "print(\"CNN_tun RESULTS\")\n",
        "rmse, mae = evaluate(y_test, y_test_pre_cnn_t)\n",
        "RMSE_tun.append(rmse)\n",
        "MAE_tun.append(mae)\n",
        "print(\"RMSE = \", rmse)\n",
        "print(\"MAE = \", mae)\n",
        "\n",
        "visualize(y_test, y_test_pre_cnn_t, \"results of CNN_tun\")"
      ],
      "execution_count": null,
      "outputs": [
        {
          "output_type": "stream",
          "text": [
            "CNN_tun RESULTS\n",
            "RMSE =  0.081083015\n",
            "MAE =  0.06909799\n"
          ],
          "name": "stdout"
        },
        {
          "output_type": "display_data",
          "data": {
            "image/png": "[encoded data removed]",
            "text/plain": [
              "<Figure size 432x288 with 1 Axes>"
            ]
          },
          "metadata": {
            "tags": [],
            "needs_background": "light"
          }
        }
      ]
    },
    {
      "cell_type": "markdown",
      "metadata": {
        "id": "AcSgMuCI4NCo"
      },
      "source": [
        "# Kerala"
      ]
    },
    {
      "cell_type": "code",
      "metadata": {
        "id": "k4CAYzO24f_n"
      },
      "source": [
        "X_train,X_test, y_train, y_test = prepare(df_Ke, scaling_range=(0,1),time_step=5,multi_feature=True, response_variable_index=0,data_split_ratio=0.8)"
      ],
      "execution_count": null,
      "outputs": []
    },
    {
      "cell_type": "code",
      "metadata": {
        "id": "DARcZlZJ4gBP",
        "colab": {
          "base_uri": "https://localhost:8080/"
        },
        "outputId": "8a489507-4464-4105-9d10-991879b50dd8"
      },
      "source": [
        "model_CNN = model_cnn()\n",
        "fit(model_CNN, X_train, X_test, y_train, y_test)"
      ],
      "execution_count": null,
      "outputs": [
        {
          "output_type": "stream",
          "text": [
            "Epoch 1/100\n",
            "23/23 [==============================] - 0s 6ms/step - loss: 0.0586 - val_loss: 0.0925\n",
            "Epoch 2/100\n",
            "23/23 [==============================] - 0s 3ms/step - loss: 0.0673 - val_loss: 0.0818\n",
            "Epoch 3/100\n",
            "23/23 [==============================] - 0s 2ms/step - loss: 0.0391 - val_loss: 0.0813\n",
            "Epoch 4/100\n",
            "23/23 [==============================] - 0s 2ms/step - loss: 0.0388 - val_loss: 0.0628\n",
            "Epoch 5/100\n",
            "23/23 [==============================] - 0s 2ms/step - loss: 0.0361 - val_loss: 0.0769\n",
            "Epoch 6/100\n",
            "23/23 [==============================] - 0s 2ms/step - loss: 0.0294 - val_loss: 0.0582\n",
            "Epoch 7/100\n",
            "23/23 [==============================] - 0s 2ms/step - loss: 0.0248 - val_loss: 0.0652\n",
            "Epoch 8/100\n",
            "23/23 [==============================] - 0s 3ms/step - loss: 0.0280 - val_loss: 0.0830\n",
            "Epoch 9/100\n",
            "23/23 [==============================] - 0s 2ms/step - loss: 0.0253 - val_loss: 0.0567\n",
            "Epoch 10/100\n",
            "23/23 [==============================] - 0s 2ms/step - loss: 0.0208 - val_loss: 0.0562\n",
            "Epoch 11/100\n",
            "23/23 [==============================] - 0s 2ms/step - loss: 0.0222 - val_loss: 0.0526\n",
            "Epoch 12/100\n",
            "23/23 [==============================] - 0s 2ms/step - loss: 0.0210 - val_loss: 0.0784\n",
            "Epoch 13/100\n",
            "23/23 [==============================] - 0s 2ms/step - loss: 0.0232 - val_loss: 0.0409\n",
            "Epoch 14/100\n",
            "23/23 [==============================] - 0s 2ms/step - loss: 0.0233 - val_loss: 0.0621\n",
            "Epoch 15/100\n",
            "23/23 [==============================] - 0s 2ms/step - loss: 0.0264 - val_loss: 0.0487\n",
            "Epoch 16/100\n",
            "23/23 [==============================] - 0s 2ms/step - loss: 0.0219 - val_loss: 0.0499\n",
            "Epoch 17/100\n",
            "23/23 [==============================] - 0s 2ms/step - loss: 0.0187 - val_loss: 0.0340\n",
            "Epoch 18/100\n",
            "23/23 [==============================] - 0s 2ms/step - loss: 0.0222 - val_loss: 0.0424\n",
            "Epoch 19/100\n",
            "23/23 [==============================] - 0s 2ms/step - loss: 0.0180 - val_loss: 0.0354\n",
            "Epoch 20/100\n",
            "23/23 [==============================] - 0s 2ms/step - loss: 0.0184 - val_loss: 0.0557\n",
            "Epoch 21/100\n",
            "23/23 [==============================] - 0s 2ms/step - loss: 0.0225 - val_loss: 0.0464\n",
            "Epoch 22/100\n",
            "23/23 [==============================] - 0s 2ms/step - loss: 0.0205 - val_loss: 0.0482\n",
            "Epoch 23/100\n",
            "23/23 [==============================] - 0s 2ms/step - loss: 0.0264 - val_loss: 0.0857\n",
            "Epoch 24/100\n",
            "23/23 [==============================] - 0s 2ms/step - loss: 0.0237 - val_loss: 0.0565\n",
            "Epoch 25/100\n",
            "23/23 [==============================] - 0s 2ms/step - loss: 0.0308 - val_loss: 0.0824\n",
            "Epoch 26/100\n",
            "23/23 [==============================] - 0s 2ms/step - loss: 0.0276 - val_loss: 0.0507\n",
            "Epoch 27/100\n",
            "23/23 [==============================] - 0s 3ms/step - loss: 0.0258 - val_loss: 0.0936\n"
          ],
          "name": "stdout"
        },
        {
          "output_type": "execute_result",
          "data": {
            "text/plain": [
              "<tensorflow.python.keras.callbacks.History at 0x7f388da85290>"
            ]
          },
          "metadata": {
            "tags": []
          },
          "execution_count": 615
        }
      ]
    },
    {
      "cell_type": "code",
      "metadata": {
        "id": "z8zA3Kjj4gE9",
        "colab": {
          "base_uri": "https://localhost:8080/",
          "height": 331
        },
        "outputId": "4624be48-e17f-4360-f36c-d3d6c3fe9941"
      },
      "source": [
        "y_test_pre_cnn = predict(model_CNN, y_test)\n",
        "print(\"CNN RESULTS\")\n",
        "rmse, mae = evaluate(y_test, y_test_pre_cnn)\n",
        "RMSE_cnn.append(rmse)\n",
        "MAE_cnn.append(mae)\n",
        "print(\"RMSE = \", rmse)\n",
        "print(\"MAE = \", mae)\n",
        "\n",
        "visualize(y_test, y_test_pre_cnn, \"results of CNN\")\n"
      ],
      "execution_count": null,
      "outputs": [
        {
          "output_type": "stream",
          "text": [
            "CNN RESULTS\n",
            "RMSE =  0.13467601\n",
            "MAE =  0.10137611\n"
          ],
          "name": "stdout"
        },
        {
          "output_type": "display_data",
          "data": {
            "image/png": "[encoded data removed]",
            "text/plain": [
              "<Figure size 432x288 with 1 Axes>"
            ]
          },
          "metadata": {
            "tags": [],
            "needs_background": "light"
          }
        }
      ]
    },
    {
      "cell_type": "code",
      "metadata": {
        "colab": {
          "base_uri": "https://localhost:8080/"
        },
        "id": "-K5lEq42UpUK",
        "outputId": "cd19864f-e969-419c-fa85-ce7f1b877b88"
      },
      "source": [
        "tuner =  RandomSearch( build_model, objective= \"mae\", max_trials=2, executions_per_trial= 2, directory= \"log_dir\", overwrite=True)"
      ],
      "execution_count": null,
      "outputs": [
        {
          "output_type": "stream",
          "text": [
            "Model: \"sequential\"\n",
            "_________________________________________________________________\n",
            "Layer (type)                 Output Shape              Param #   \n",
            "=================================================================\n",
            "conv1d (Conv1D)              (None, 5, 16)             112       \n",
            "_________________________________________________________________\n",
            "leaky_re_lu (LeakyReLU)      (None, 5, 16)             0         \n",
            "_________________________________________________________________\n",
            "max_pooling1d (MaxPooling1D) (None, 5, 16)             0         \n",
            "_________________________________________________________________\n",
            "flatten (Flatten)            (None, 80)                0         \n",
            "_________________________________________________________________\n",
            "dropout (Dropout)            (None, 80)                0         \n",
            "=================================================================\n",
            "Total params: 112\n",
            "Trainable params: 112\n",
            "Non-trainable params: 0\n",
            "_________________________________________________________________\n",
            "None\n"
          ],
          "name": "stdout"
        }
      ]
    },
    {
      "cell_type": "code",
      "metadata": {
        "colab": {
          "base_uri": "https://localhost:8080/"
        },
        "id": "s2fhx75fKYJC",
        "outputId": "d01629e2-24ea-4828-bffa-5c6f4a828fd1"
      },
      "source": [
        "tuner.search(X_train, y_train, epochs=100, batch_size=16, validation_data=(X_test, y_test))"
      ],
      "execution_count": null,
      "outputs": [
        {
          "output_type": "stream",
          "text": [
            "Trial 2 Complete [00h 00m 18s]\n",
            "mae: 0.025344809517264366\n",
            "\n",
            "Best mae So Far: 0.025344809517264366\n",
            "Total elapsed time: 00h 00m 36s\n",
            "INFO:tensorflow:Oracle triggered exit\n"
          ],
          "name": "stdout"
        }
      ]
    },
    {
      "cell_type": "code",
      "metadata": {
        "colab": {
          "base_uri": "https://localhost:8080/"
        },
        "id": "ABUTGxv6KYKY",
        "outputId": "9f9c3f92-7fe9-48c4-a171-cfefd6a2e5ed"
      },
      "source": [
        "tuner.results_summary()"
      ],
      "execution_count": null,
      "outputs": [
        {
          "output_type": "stream",
          "text": [
            "Results summary\n",
            "Results in log_dir/untitled_project\n",
            "Showing 10 best trials\n",
            "Objective(name='mae', direction='min')\n",
            "Trial summary\n",
            "Hyperparameters:\n",
            "input_units: 192\n",
            "conv_1_kernel: 5\n",
            "learning_rate: 0.001\n",
            "Score: 0.025344809517264366\n",
            "Trial summary\n",
            "Hyperparameters:\n",
            "input_units: 16\n",
            "conv_1_kernel: 1\n",
            "learning_rate: 0.01\n",
            "Score: 0.02586822584271431\n"
          ],
          "name": "stdout"
        }
      ]
    },
    {
      "cell_type": "code",
      "metadata": {
        "id": "l9XO11WVKYN8"
      },
      "source": [
        "model_cnn_tuner = keras.Sequential()\n",
        "model_cnn_tuner.add(Conv1D(filters=192,\n",
        "  kernel_size=5,\n",
        "  input_shape=(X_train.shape[1], X_train.shape[2])\n",
        "              )\n",
        "                    )\n",
        "model_cnn_tuner.add(LeakyReLU(alpha=0.1))\n",
        "model_cnn_tuner.add(MaxPooling1D(pool_size=1))\n",
        "model_cnn_tuner.add(Dropout(rate=0.2))\n",
        "model_cnn_tuner.add(Flatten())\n",
        "model_cnn_tuner.add(Dense(1))\n",
        "model_cnn_tuner.compile(optimizer=keras.optimizers.Adam(learning_rate=0.001),\n",
        "              loss=\"mae\",\n",
        "              metrics=[\"mae\"])"
      ],
      "execution_count": null,
      "outputs": []
    },
    {
      "cell_type": "code",
      "metadata": {
        "id": "UHn_99oiqsK0",
        "colab": {
          "base_uri": "https://localhost:8080/"
        },
        "outputId": "ae84e873-e0a2-454c-b2df-1e304e749d3d"
      },
      "source": [
        "fit(model_cnn_tuner, X_train, X_test, y_train, y_test)"
      ],
      "execution_count": null,
      "outputs": [
        {
          "output_type": "stream",
          "text": [
            "Epoch 1/100\n",
            "23/23 [==============================] - 1s 7ms/step - loss: 0.0117 - mae: 0.0117 - val_loss: 0.1943 - val_mae: 0.1943\n",
            "Epoch 2/100\n",
            "23/23 [==============================] - 0s 2ms/step - loss: 0.0534 - mae: 0.0534 - val_loss: 0.0340 - val_mae: 0.0340\n",
            "Epoch 3/100\n",
            "23/23 [==============================] - 0s 2ms/step - loss: 0.0209 - mae: 0.0209 - val_loss: 0.1266 - val_mae: 0.1266\n",
            "Epoch 4/100\n",
            "23/23 [==============================] - 0s 3ms/step - loss: 0.0367 - mae: 0.0367 - val_loss: 0.0745 - val_mae: 0.0745\n",
            "Epoch 5/100\n",
            "23/23 [==============================] - 0s 3ms/step - loss: 0.0140 - mae: 0.0140 - val_loss: 0.0552 - val_mae: 0.0552\n",
            "Epoch 6/100\n",
            "23/23 [==============================] - 0s 2ms/step - loss: 0.0233 - mae: 0.0233 - val_loss: 0.0240 - val_mae: 0.0240\n",
            "Epoch 7/100\n",
            "23/23 [==============================] - 0s 2ms/step - loss: 0.0356 - mae: 0.0356 - val_loss: 0.1023 - val_mae: 0.1023\n",
            "Epoch 8/100\n",
            "23/23 [==============================] - 0s 2ms/step - loss: 0.0772 - mae: 0.0772 - val_loss: 0.0546 - val_mae: 0.0546\n",
            "Epoch 9/100\n",
            "23/23 [==============================] - 0s 2ms/step - loss: 0.0685 - mae: 0.0685 - val_loss: 0.1183 - val_mae: 0.1183\n",
            "Epoch 10/100\n",
            "23/23 [==============================] - 0s 2ms/step - loss: 0.0238 - mae: 0.0238 - val_loss: 0.0280 - val_mae: 0.0280\n",
            "Epoch 11/100\n",
            "23/23 [==============================] - 0s 3ms/step - loss: 0.0090 - mae: 0.0090 - val_loss: 0.0205 - val_mae: 0.0205\n",
            "Epoch 12/100\n",
            "23/23 [==============================] - 0s 2ms/step - loss: 0.0187 - mae: 0.0187 - val_loss: 0.0864 - val_mae: 0.0864\n",
            "Epoch 13/100\n",
            "23/23 [==============================] - 0s 2ms/step - loss: 0.0122 - mae: 0.0122 - val_loss: 0.0330 - val_mae: 0.0330\n",
            "Epoch 14/100\n",
            "23/23 [==============================] - 0s 2ms/step - loss: 0.0113 - mae: 0.0113 - val_loss: 0.0281 - val_mae: 0.0281\n",
            "Epoch 15/100\n",
            "23/23 [==============================] - 0s 2ms/step - loss: 0.0136 - mae: 0.0136 - val_loss: 0.0296 - val_mae: 0.0296\n",
            "Epoch 16/100\n",
            "23/23 [==============================] - 0s 2ms/step - loss: 0.0146 - mae: 0.0146 - val_loss: 0.1045 - val_mae: 0.1045\n",
            "Epoch 17/100\n",
            "23/23 [==============================] - 0s 2ms/step - loss: 0.0213 - mae: 0.0213 - val_loss: 0.0393 - val_mae: 0.0393\n",
            "Epoch 18/100\n",
            "23/23 [==============================] - 0s 2ms/step - loss: 0.0127 - mae: 0.0127 - val_loss: 0.0208 - val_mae: 0.0208\n",
            "Epoch 19/100\n",
            "23/23 [==============================] - 0s 2ms/step - loss: 0.0098 - mae: 0.0098 - val_loss: 0.0452 - val_mae: 0.0452\n",
            "Epoch 20/100\n",
            "23/23 [==============================] - 0s 2ms/step - loss: 0.0109 - mae: 0.0109 - val_loss: 0.1153 - val_mae: 0.1153\n",
            "Epoch 21/100\n",
            "23/23 [==============================] - 0s 2ms/step - loss: 0.0203 - mae: 0.0203 - val_loss: 0.0404 - val_mae: 0.0404\n"
          ],
          "name": "stdout"
        },
        {
          "output_type": "execute_result",
          "data": {
            "text/plain": [
              "<tensorflow.python.keras.callbacks.History at 0x7f388deff090>"
            ]
          },
          "metadata": {
            "tags": []
          },
          "execution_count": 621
        }
      ]
    },
    {
      "cell_type": "code",
      "metadata": {
        "id": "oY40lOezqtO9",
        "colab": {
          "base_uri": "https://localhost:8080/",
          "height": 331
        },
        "outputId": "a67db599-ef0f-46c6-9544-adf099ee4a84"
      },
      "source": [
        "y_test_pre_cnn_t = predict(model_cnn_tuner, y_test)\n",
        "print(\"CNN_tun RESULTS\")\n",
        "rmse, mae = evaluate(y_test, y_test_pre_cnn_t)\n",
        "RMSE_tun.append(rmse)\n",
        "MAE_tun.append(mae)\n",
        "print(\"RMSE = \", rmse)\n",
        "print(\"MAE = \", mae)\n",
        "\n",
        "visualize(y_test, y_test_pre_cnn_t, \"results of CNN_tun\")"
      ],
      "execution_count": null,
      "outputs": [
        {
          "output_type": "stream",
          "text": [
            "CNN_tun RESULTS\n",
            "RMSE =  0.05059366\n",
            "MAE =  0.044362705\n"
          ],
          "name": "stdout"
        },
        {
          "output_type": "display_data",
          "data": {
            "image/png": "[encoded data removed]",
            "text/plain": [
              "<Figure size 432x288 with 1 Axes>"
            ]
          },
          "metadata": {
            "tags": [],
            "needs_background": "light"
          }
        }
      ]
    },
    {
      "cell_type": "markdown",
      "metadata": {
        "id": "NNUCDsv24NM1"
      },
      "source": [
        "# Tamil Nadu\n",
        "\n"
      ]
    },
    {
      "cell_type": "code",
      "metadata": {
        "id": "7TTMRAEL4hCV"
      },
      "source": [
        "X_train,X_test, y_train, y_test = prepare(df_TN, scaling_range=(0,1),time_step=5,multi_feature=True, response_variable_index=0,data_split_ratio=0.8)"
      ],
      "execution_count": null,
      "outputs": []
    },
    {
      "cell_type": "code",
      "metadata": {
        "id": "hgRp9KIX4hDr",
        "colab": {
          "base_uri": "https://localhost:8080/"
        },
        "outputId": "1643f547-543d-4c1b-e78c-463b6da9113c"
      },
      "source": [
        "model_CNN = model_cnn()\n",
        "fit(model_CNN, X_train, X_test, y_train, y_test)"
      ],
      "execution_count": null,
      "outputs": [
        {
          "output_type": "stream",
          "text": [
            "Epoch 1/100\n",
            "23/23 [==============================] - 0s 6ms/step - loss: 0.1022 - val_loss: 0.2567\n",
            "Epoch 2/100\n",
            "23/23 [==============================] - 0s 2ms/step - loss: 0.0584 - val_loss: 0.2268\n",
            "Epoch 3/100\n",
            "23/23 [==============================] - 0s 3ms/step - loss: 0.0444 - val_loss: 0.1563\n",
            "Epoch 4/100\n",
            "23/23 [==============================] - 0s 2ms/step - loss: 0.0411 - val_loss: 0.2111\n",
            "Epoch 5/100\n",
            "23/23 [==============================] - 0s 2ms/step - loss: 0.0374 - val_loss: 0.1549\n",
            "Epoch 6/100\n",
            "23/23 [==============================] - 0s 2ms/step - loss: 0.0304 - val_loss: 0.1786\n",
            "Epoch 7/100\n",
            "23/23 [==============================] - 0s 3ms/step - loss: 0.0315 - val_loss: 0.2196\n",
            "Epoch 8/100\n",
            "23/23 [==============================] - 0s 2ms/step - loss: 0.0387 - val_loss: 0.0706\n",
            "Epoch 9/100\n",
            "23/23 [==============================] - 0s 2ms/step - loss: 0.0456 - val_loss: 0.1940\n",
            "Epoch 10/100\n",
            "23/23 [==============================] - 0s 2ms/step - loss: 0.0334 - val_loss: 0.1271\n",
            "Epoch 11/100\n",
            "23/23 [==============================] - 0s 2ms/step - loss: 0.0294 - val_loss: 0.1375\n",
            "Epoch 12/100\n",
            "23/23 [==============================] - 0s 2ms/step - loss: 0.0272 - val_loss: 0.1551\n",
            "Epoch 13/100\n",
            "23/23 [==============================] - 0s 2ms/step - loss: 0.0260 - val_loss: 0.1047\n",
            "Epoch 14/100\n",
            "23/23 [==============================] - 0s 2ms/step - loss: 0.0283 - val_loss: 0.1060\n",
            "Epoch 15/100\n",
            "23/23 [==============================] - 0s 2ms/step - loss: 0.0283 - val_loss: 0.2043\n",
            "Epoch 16/100\n",
            "23/23 [==============================] - 0s 2ms/step - loss: 0.0304 - val_loss: 0.1223\n",
            "Epoch 17/100\n",
            "23/23 [==============================] - 0s 2ms/step - loss: 0.0232 - val_loss: 0.0877\n",
            "Epoch 18/100\n",
            "23/23 [==============================] - 0s 2ms/step - loss: 0.0245 - val_loss: 0.1137\n"
          ],
          "name": "stdout"
        },
        {
          "output_type": "execute_result",
          "data": {
            "text/plain": [
              "<tensorflow.python.keras.callbacks.History at 0x7f3885f49a10>"
            ]
          },
          "metadata": {
            "tags": []
          },
          "execution_count": 624
        }
      ]
    },
    {
      "cell_type": "code",
      "metadata": {
        "id": "4Upn9Fhc4hHS",
        "colab": {
          "base_uri": "https://localhost:8080/",
          "height": 331
        },
        "outputId": "0f2cb309-b02c-4265-a61b-f93627c1be6a"
      },
      "source": [
        "y_test_pre_cnn = predict(model_CNN, y_test)\n",
        "print(\"CNN RESULTS\")\n",
        "rmse, mae = evaluate(y_test, y_test_pre_cnn)\n",
        "RMSE_cnn.append(rmse)\n",
        "MAE_cnn.append(mae)\n",
        "print(\"RMSE = \", rmse)\n",
        "print(\"MAE = \", mae)\n",
        "\n",
        "visualize(y_test, y_test_pre_cnn, \"results of CNN\")\n"
      ],
      "execution_count": null,
      "outputs": [
        {
          "output_type": "stream",
          "text": [
            "CNN RESULTS\n",
            "RMSE =  0.14178877\n",
            "MAE =  0.1084182\n"
          ],
          "name": "stdout"
        },
        {
          "output_type": "display_data",
          "data": {
            "image/png": "[encoded data removed]",
            "text/plain": [
              "<Figure size 432x288 with 1 Axes>"
            ]
          },
          "metadata": {
            "tags": [],
            "needs_background": "light"
          }
        }
      ]
    },
    {
      "cell_type": "code",
      "metadata": {
        "colab": {
          "base_uri": "https://localhost:8080/"
        },
        "id": "e9zzvmvrUsWi",
        "outputId": "2d433033-66cd-4cac-993a-743031179a4e"
      },
      "source": [
        "tuner =  RandomSearch( build_model, objective= \"mae\", max_trials=2, executions_per_trial= 2, directory= \"log_dir\", overwrite=True)"
      ],
      "execution_count": null,
      "outputs": [
        {
          "output_type": "stream",
          "text": [
            "Model: \"sequential\"\n",
            "_________________________________________________________________\n",
            "Layer (type)                 Output Shape              Param #   \n",
            "=================================================================\n",
            "conv1d (Conv1D)              (None, 5, 16)             112       \n",
            "_________________________________________________________________\n",
            "leaky_re_lu (LeakyReLU)      (None, 5, 16)             0         \n",
            "_________________________________________________________________\n",
            "max_pooling1d (MaxPooling1D) (None, 5, 16)             0         \n",
            "_________________________________________________________________\n",
            "flatten (Flatten)            (None, 80)                0         \n",
            "_________________________________________________________________\n",
            "dropout (Dropout)            (None, 80)                0         \n",
            "=================================================================\n",
            "Total params: 112\n",
            "Trainable params: 112\n",
            "Non-trainable params: 0\n",
            "_________________________________________________________________\n",
            "None\n"
          ],
          "name": "stdout"
        }
      ]
    },
    {
      "cell_type": "code",
      "metadata": {
        "colab": {
          "base_uri": "https://localhost:8080/"
        },
        "id": "TQGezHLWKbkz",
        "outputId": "dc11f428-b95b-4149-d1a5-579eb1541282"
      },
      "source": [
        "tuner.search(X_train, y_train, epochs=100, batch_size=16, validation_data=(X_test, y_test))"
      ],
      "execution_count": null,
      "outputs": [
        {
          "output_type": "stream",
          "text": [
            "Trial 2 Complete [00h 00m 16s]\n",
            "mae: 0.040923647582530975\n",
            "\n",
            "Best mae So Far: 0.03913860209286213\n",
            "Total elapsed time: 00h 00m 38s\n",
            "INFO:tensorflow:Oracle triggered exit\n"
          ],
          "name": "stdout"
        }
      ]
    },
    {
      "cell_type": "code",
      "metadata": {
        "colab": {
          "base_uri": "https://localhost:8080/"
        },
        "id": "E1qaX8shKbqp",
        "outputId": "18765d15-3100-41ed-db88-5682a14efd74"
      },
      "source": [
        "tuner.results_summary()"
      ],
      "execution_count": null,
      "outputs": [
        {
          "output_type": "stream",
          "text": [
            "Results summary\n",
            "Results in log_dir/untitled_project\n",
            "Showing 10 best trials\n",
            "Objective(name='mae', direction='min')\n",
            "Trial summary\n",
            "Hyperparameters:\n",
            "input_units: 32\n",
            "conv_1_kernel: 5\n",
            "learning_rate: 0.001\n",
            "Score: 0.03913860209286213\n",
            "Trial summary\n",
            "Hyperparameters:\n",
            "input_units: 128\n",
            "conv_1_kernel: 1\n",
            "learning_rate: 0.01\n",
            "Score: 0.040923647582530975\n"
          ],
          "name": "stdout"
        }
      ]
    },
    {
      "cell_type": "code",
      "metadata": {
        "id": "c1po0kbkKb4k"
      },
      "source": [
        "model_cnn_tuner = keras.Sequential()\n",
        "model_cnn_tuner.add(Conv1D(filters=32,\n",
        "  kernel_size=5,\n",
        "  input_shape=(X_train.shape[1], X_train.shape[2])\n",
        "              )\n",
        "                    )\n",
        "model_cnn_tuner.add(LeakyReLU(alpha=0.1))\n",
        "model_cnn_tuner.add(MaxPooling1D(pool_size=1))\n",
        "model_cnn_tuner.add(Dropout(rate=0.2))\n",
        "model_cnn_tuner.add(Flatten())\n",
        "model_cnn_tuner.add(Dense(1))\n",
        "model_cnn_tuner.compile(optimizer=keras.optimizers.Adam(learning_rate=0.001),\n",
        "              loss=\"mae\",\n",
        "              metrics=[\"mae\"])"
      ],
      "execution_count": null,
      "outputs": []
    },
    {
      "cell_type": "code",
      "metadata": {
        "id": "ym3_uv2gqwF5",
        "colab": {
          "base_uri": "https://localhost:8080/"
        },
        "outputId": "6966908b-3913-4f23-a223-ced2d49a89bd"
      },
      "source": [
        "fit(model_cnn_tuner, X_train, X_test, y_train, y_test)"
      ],
      "execution_count": null,
      "outputs": [
        {
          "output_type": "stream",
          "text": [
            "Epoch 1/100\n",
            "23/23 [==============================] - 0s 7ms/step - loss: 0.0918 - mae: 0.0918 - val_loss: 0.0183 - val_mae: 0.0183\n",
            "Epoch 2/100\n",
            "23/23 [==============================] - 0s 2ms/step - loss: 0.0743 - mae: 0.0743 - val_loss: 0.1192 - val_mae: 0.1192\n",
            "Epoch 3/100\n",
            "23/23 [==============================] - 0s 3ms/step - loss: 0.0522 - mae: 0.0522 - val_loss: 0.0090 - val_mae: 0.0090\n",
            "Epoch 4/100\n",
            "23/23 [==============================] - 0s 3ms/step - loss: 0.0448 - mae: 0.0448 - val_loss: 0.1429 - val_mae: 0.1429\n",
            "Epoch 5/100\n",
            "23/23 [==============================] - 0s 2ms/step - loss: 0.0402 - mae: 0.0402 - val_loss: 0.0153 - val_mae: 0.0153\n",
            "Epoch 6/100\n",
            "23/23 [==============================] - 0s 2ms/step - loss: 0.0429 - mae: 0.0429 - val_loss: 0.1070 - val_mae: 0.1070\n",
            "Epoch 7/100\n",
            "23/23 [==============================] - 0s 3ms/step - loss: 0.0313 - mae: 0.0313 - val_loss: 0.0533 - val_mae: 0.0533\n",
            "Epoch 8/100\n",
            "23/23 [==============================] - 0s 2ms/step - loss: 0.0281 - mae: 0.0281 - val_loss: 0.0152 - val_mae: 0.0152\n",
            "Epoch 9/100\n",
            "23/23 [==============================] - 0s 2ms/step - loss: 0.0283 - mae: 0.0283 - val_loss: 0.1066 - val_mae: 0.1066\n",
            "Epoch 10/100\n",
            "23/23 [==============================] - 0s 2ms/step - loss: 0.0269 - mae: 0.0269 - val_loss: 0.0484 - val_mae: 0.0484\n",
            "Epoch 11/100\n",
            "23/23 [==============================] - 0s 2ms/step - loss: 0.0298 - mae: 0.0298 - val_loss: 0.0129 - val_mae: 0.0129\n",
            "Epoch 12/100\n",
            "23/23 [==============================] - 0s 2ms/step - loss: 0.0266 - mae: 0.0266 - val_loss: 0.0892 - val_mae: 0.0892\n",
            "Epoch 13/100\n",
            "23/23 [==============================] - 0s 2ms/step - loss: 0.0230 - mae: 0.0230 - val_loss: 0.0214 - val_mae: 0.0214\n"
          ],
          "name": "stdout"
        },
        {
          "output_type": "execute_result",
          "data": {
            "text/plain": [
              "<tensorflow.python.keras.callbacks.History at 0x7f389be08210>"
            ]
          },
          "metadata": {
            "tags": []
          },
          "execution_count": 630
        }
      ]
    },
    {
      "cell_type": "code",
      "metadata": {
        "id": "HvwWcIAcqw50",
        "colab": {
          "base_uri": "https://localhost:8080/",
          "height": 331
        },
        "outputId": "86e78eb9-b492-4c30-e9f1-87810bb54a33"
      },
      "source": [
        "y_test_pre_cnn_t = predict(model_cnn_tuner, y_test)\n",
        "print(\"CNN_tun RESULTS\")\n",
        "rmse, mae = evaluate(y_test, y_test_pre_cnn_t)\n",
        "RMSE_tun.append(rmse)\n",
        "MAE_tun.append(mae)\n",
        "print(\"RMSE = \", rmse)\n",
        "print(\"MAE = \", mae)\n",
        "\n",
        "visualize(y_test, y_test_pre_cnn_t, \"results of CNN_tun\")"
      ],
      "execution_count": null,
      "outputs": [
        {
          "output_type": "stream",
          "text": [
            "CNN_tun RESULTS\n",
            "RMSE =  0.017732266\n",
            "MAE =  0.015831325\n"
          ],
          "name": "stdout"
        },
        {
          "output_type": "display_data",
          "data": {
            "image/png": "[encoded data removed]",
            "text/plain": [
              "<Figure size 432x288 with 1 Axes>"
            ]
          },
          "metadata": {
            "tags": [],
            "needs_background": "light"
          }
        }
      ]
    },
    {
      "cell_type": "markdown",
      "metadata": {
        "id": "qtSdq2La4NVe"
      },
      "source": [
        "# Uttar Pradesh"
      ]
    },
    {
      "cell_type": "code",
      "metadata": {
        "id": "-KxhTpBr4h65"
      },
      "source": [
        "X_train,X_test, y_train, y_test = prepare(df_UP, scaling_range=(0,1),time_step=5,multi_feature=True, response_variable_index=0,data_split_ratio=0.8)"
      ],
      "execution_count": null,
      "outputs": []
    },
    {
      "cell_type": "code",
      "metadata": {
        "id": "mwluJUvQ4h9y",
        "colab": {
          "base_uri": "https://localhost:8080/"
        },
        "outputId": "77baa92c-aa2f-4c11-de1c-4beb2305425e"
      },
      "source": [
        "model_CNN = model_cnn()\n",
        "fit(model_CNN, X_train, X_test, y_train, y_test)"
      ],
      "execution_count": null,
      "outputs": [
        {
          "output_type": "stream",
          "text": [
            "Epoch 1/100\n",
            "23/23 [==============================] - 0s 7ms/step - loss: 0.1827 - val_loss: 0.3935\n",
            "Epoch 2/100\n",
            "23/23 [==============================] - 0s 2ms/step - loss: 0.1159 - val_loss: 0.1680\n",
            "Epoch 3/100\n",
            "23/23 [==============================] - 0s 2ms/step - loss: 0.0706 - val_loss: 0.0928\n",
            "Epoch 4/100\n",
            "23/23 [==============================] - 0s 2ms/step - loss: 0.0549 - val_loss: 0.0598\n",
            "Epoch 5/100\n",
            "23/23 [==============================] - 0s 2ms/step - loss: 0.0419 - val_loss: 0.0980\n",
            "Epoch 6/100\n",
            "23/23 [==============================] - 0s 2ms/step - loss: 0.0351 - val_loss: 0.1307\n",
            "Epoch 7/100\n",
            "23/23 [==============================] - 0s 2ms/step - loss: 0.0307 - val_loss: 0.0714\n",
            "Epoch 8/100\n",
            "23/23 [==============================] - 0s 2ms/step - loss: 0.0305 - val_loss: 0.0657\n",
            "Epoch 9/100\n",
            "23/23 [==============================] - 0s 2ms/step - loss: 0.0296 - val_loss: 0.0687\n",
            "Epoch 10/100\n",
            "23/23 [==============================] - 0s 2ms/step - loss: 0.0254 - val_loss: 0.0396\n",
            "Epoch 11/100\n",
            "23/23 [==============================] - 0s 2ms/step - loss: 0.0280 - val_loss: 0.0439\n",
            "Epoch 12/100\n",
            "23/23 [==============================] - 0s 2ms/step - loss: 0.0272 - val_loss: 0.0509\n",
            "Epoch 13/100\n",
            "23/23 [==============================] - 0s 2ms/step - loss: 0.0261 - val_loss: 0.0593\n",
            "Epoch 14/100\n",
            "23/23 [==============================] - 0s 2ms/step - loss: 0.0227 - val_loss: 0.0343\n",
            "Epoch 15/100\n",
            "23/23 [==============================] - 0s 2ms/step - loss: 0.0225 - val_loss: 0.0313\n",
            "Epoch 16/100\n",
            "23/23 [==============================] - 0s 3ms/step - loss: 0.0232 - val_loss: 0.0507\n",
            "Epoch 17/100\n",
            "23/23 [==============================] - 0s 2ms/step - loss: 0.0218 - val_loss: 0.0445\n",
            "Epoch 18/100\n",
            "23/23 [==============================] - 0s 2ms/step - loss: 0.0236 - val_loss: 0.0743\n",
            "Epoch 19/100\n",
            "23/23 [==============================] - 0s 3ms/step - loss: 0.0254 - val_loss: 0.0312\n",
            "Epoch 20/100\n",
            "23/23 [==============================] - 0s 2ms/step - loss: 0.0192 - val_loss: 0.0411\n",
            "Epoch 21/100\n",
            "23/23 [==============================] - 0s 2ms/step - loss: 0.0211 - val_loss: 0.0332\n",
            "Epoch 22/100\n",
            "23/23 [==============================] - 0s 3ms/step - loss: 0.0188 - val_loss: 0.0252\n",
            "Epoch 23/100\n",
            "23/23 [==============================] - 0s 2ms/step - loss: 0.0209 - val_loss: 0.0381\n",
            "Epoch 24/100\n",
            "23/23 [==============================] - 0s 2ms/step - loss: 0.0201 - val_loss: 0.0420\n",
            "Epoch 25/100\n",
            "23/23 [==============================] - 0s 2ms/step - loss: 0.0320 - val_loss: 0.1333\n",
            "Epoch 26/100\n",
            "23/23 [==============================] - 0s 2ms/step - loss: 0.0335 - val_loss: 0.0314\n",
            "Epoch 27/100\n",
            "23/23 [==============================] - 0s 2ms/step - loss: 0.0241 - val_loss: 0.0361\n",
            "Epoch 28/100\n",
            "23/23 [==============================] - 0s 2ms/step - loss: 0.0207 - val_loss: 0.0891\n",
            "Epoch 29/100\n",
            "23/23 [==============================] - 0s 2ms/step - loss: 0.0246 - val_loss: 0.0788\n",
            "Epoch 30/100\n",
            "23/23 [==============================] - 0s 2ms/step - loss: 0.0361 - val_loss: 0.0659\n",
            "Epoch 31/100\n",
            "23/23 [==============================] - 0s 2ms/step - loss: 0.0240 - val_loss: 0.0187\n",
            "Epoch 32/100\n",
            "23/23 [==============================] - 0s 2ms/step - loss: 0.0215 - val_loss: 0.0562\n",
            "Epoch 33/100\n",
            "23/23 [==============================] - 0s 3ms/step - loss: 0.0234 - val_loss: 0.0413\n",
            "Epoch 34/100\n",
            "23/23 [==============================] - 0s 3ms/step - loss: 0.0231 - val_loss: 0.0249\n",
            "Epoch 35/100\n",
            "23/23 [==============================] - 0s 2ms/step - loss: 0.0180 - val_loss: 0.0270\n",
            "Epoch 36/100\n",
            "23/23 [==============================] - 0s 2ms/step - loss: 0.0180 - val_loss: 0.0271\n",
            "Epoch 37/100\n",
            "23/23 [==============================] - 0s 2ms/step - loss: 0.0183 - val_loss: 0.0948\n",
            "Epoch 38/100\n",
            "23/23 [==============================] - 0s 2ms/step - loss: 0.0204 - val_loss: 0.0472\n",
            "Epoch 39/100\n",
            "23/23 [==============================] - 0s 3ms/step - loss: 0.0187 - val_loss: 0.0326\n",
            "Epoch 40/100\n",
            "23/23 [==============================] - 0s 2ms/step - loss: 0.0198 - val_loss: 0.0455\n",
            "Epoch 41/100\n",
            "23/23 [==============================] - 0s 2ms/step - loss: 0.0198 - val_loss: 0.0469\n"
          ],
          "name": "stdout"
        },
        {
          "output_type": "execute_result",
          "data": {
            "text/plain": [
              "<tensorflow.python.keras.callbacks.History at 0x7f3885c5ffd0>"
            ]
          },
          "metadata": {
            "tags": []
          },
          "execution_count": 633
        }
      ]
    },
    {
      "cell_type": "code",
      "metadata": {
        "id": "mokkcAgrwv8n",
        "colab": {
          "base_uri": "https://localhost:8080/",
          "height": 331
        },
        "outputId": "7177057d-12dc-467e-c402-f70196767ffd"
      },
      "source": [
        "y_test_pre_cnn = predict(model_CNN, y_test)\n",
        "print(\"CNN RESULTS\")\n",
        "rmse, mae = evaluate(y_test, y_test_pre_cnn)\n",
        "RMSE_cnn.append(rmse)\n",
        "MAE_cnn.append(mae)\n",
        "print(\"RMSE = \", rmse)\n",
        "print(\"MAE = \", mae)\n",
        "\n",
        "visualize(y_test, y_test_pre_cnn, \"results of CNN\")\n"
      ],
      "execution_count": null,
      "outputs": [
        {
          "output_type": "stream",
          "text": [
            "CNN RESULTS\n",
            "RMSE =  0.07383372\n",
            "MAE =  0.055243347\n"
          ],
          "name": "stdout"
        },
        {
          "output_type": "display_data",
          "data": {
            "image/png": "[encoded data removed]",
            "text/plain": [
              "<Figure size 432x288 with 1 Axes>"
            ]
          },
          "metadata": {
            "tags": [],
            "needs_background": "light"
          }
        }
      ]
    },
    {
      "cell_type": "code",
      "metadata": {
        "colab": {
          "base_uri": "https://localhost:8080/"
        },
        "id": "F4Q87ou1Uv6a",
        "outputId": "8fa94013-dc96-44d0-e250-9bae9e83f658"
      },
      "source": [
        "tuner =  RandomSearch( build_model, objective= \"mae\", max_trials=2, executions_per_trial= 2, directory= \"log_dir\", overwrite=True)"
      ],
      "execution_count": null,
      "outputs": [
        {
          "output_type": "stream",
          "text": [
            "Model: \"sequential\"\n",
            "_________________________________________________________________\n",
            "Layer (type)                 Output Shape              Param #   \n",
            "=================================================================\n",
            "conv1d (Conv1D)              (None, 5, 16)             112       \n",
            "_________________________________________________________________\n",
            "leaky_re_lu (LeakyReLU)      (None, 5, 16)             0         \n",
            "_________________________________________________________________\n",
            "max_pooling1d (MaxPooling1D) (None, 5, 16)             0         \n",
            "_________________________________________________________________\n",
            "flatten (Flatten)            (None, 80)                0         \n",
            "_________________________________________________________________\n",
            "dropout (Dropout)            (None, 80)                0         \n",
            "=================================================================\n",
            "Total params: 112\n",
            "Trainable params: 112\n",
            "Non-trainable params: 0\n",
            "_________________________________________________________________\n",
            "None\n"
          ],
          "name": "stdout"
        }
      ]
    },
    {
      "cell_type": "code",
      "metadata": {
        "colab": {
          "base_uri": "https://localhost:8080/"
        },
        "id": "GhQtVEmDKd53",
        "outputId": "db53d68e-79e6-482d-f8bc-b5e57c0edfbd"
      },
      "source": [
        "tuner.search(X_train, y_train, epochs=100, batch_size=16, validation_data=(X_test, y_test))"
      ],
      "execution_count": null,
      "outputs": [
        {
          "output_type": "stream",
          "text": [
            "Trial 2 Complete [00h 00m 18s]\n",
            "mae: 0.03499121591448784\n",
            "\n",
            "Best mae So Far: 0.033767541870474815\n",
            "Total elapsed time: 00h 00m 37s\n",
            "INFO:tensorflow:Oracle triggered exit\n"
          ],
          "name": "stdout"
        }
      ]
    },
    {
      "cell_type": "code",
      "metadata": {
        "colab": {
          "base_uri": "https://localhost:8080/"
        },
        "id": "IIeF-AaOKd8u",
        "outputId": "4681be3d-6133-4481-d176-b9c8b2cdff0b"
      },
      "source": [
        "tuner.results_summary()"
      ],
      "execution_count": null,
      "outputs": [
        {
          "output_type": "stream",
          "text": [
            "Results summary\n",
            "Results in log_dir/untitled_project\n",
            "Showing 10 best trials\n",
            "Objective(name='mae', direction='min')\n",
            "Trial summary\n",
            "Hyperparameters:\n",
            "input_units: 112\n",
            "conv_1_kernel: 5\n",
            "learning_rate: 0.001\n",
            "Score: 0.033767541870474815\n",
            "Trial summary\n",
            "Hyperparameters:\n",
            "input_units: 80\n",
            "conv_1_kernel: 1\n",
            "learning_rate: 0.01\n",
            "Score: 0.03499121591448784\n"
          ],
          "name": "stdout"
        }
      ]
    },
    {
      "cell_type": "code",
      "metadata": {
        "id": "cNwVfYuoKeL9"
      },
      "source": [
        "model_cnn_tuner = keras.Sequential()\n",
        "model_cnn_tuner.add(Conv1D(filters=112,\n",
        "  kernel_size=5,\n",
        "  input_shape=(X_train.shape[1], X_train.shape[2])\n",
        "              )\n",
        "                    )\n",
        "model_cnn_tuner.add(LeakyReLU(alpha=0.1))\n",
        "model_cnn_tuner.add(MaxPooling1D(pool_size=1))\n",
        "model_cnn_tuner.add(Dropout(rate=0.2))\n",
        "model_cnn_tuner.add(Flatten())\n",
        "model_cnn_tuner.add(Dense(1))\n",
        "model_cnn_tuner.compile(optimizer=keras.optimizers.Adam(learning_rate=0.001),\n",
        "              loss=\"mae\",\n",
        "              metrics=[\"mae\"])"
      ],
      "execution_count": null,
      "outputs": []
    },
    {
      "cell_type": "code",
      "metadata": {
        "id": "ebQRxdZpqyt-",
        "colab": {
          "base_uri": "https://localhost:8080/"
        },
        "outputId": "d9ca6416-9fb8-447d-bd40-7788857d0665"
      },
      "source": [
        "fit(model_cnn_tuner, X_train, X_test, y_train, y_test)"
      ],
      "execution_count": null,
      "outputs": [
        {
          "output_type": "stream",
          "text": [
            "Epoch 1/100\n",
            "23/23 [==============================] - 0s 7ms/step - loss: 0.0193 - mae: 0.0193 - val_loss: 0.1551 - val_mae: 0.1551\n",
            "Epoch 2/100\n",
            "23/23 [==============================] - 0s 3ms/step - loss: 0.0429 - mae: 0.0429 - val_loss: 0.0704 - val_mae: 0.0704\n",
            "Epoch 3/100\n",
            "23/23 [==============================] - 0s 2ms/step - loss: 0.0223 - mae: 0.0223 - val_loss: 0.0531 - val_mae: 0.0531\n",
            "Epoch 4/100\n",
            "23/23 [==============================] - 0s 2ms/step - loss: 0.0254 - mae: 0.0254 - val_loss: 0.0372 - val_mae: 0.0372\n",
            "Epoch 5/100\n",
            "23/23 [==============================] - 0s 3ms/step - loss: 0.0227 - mae: 0.0227 - val_loss: 0.1425 - val_mae: 0.1425\n",
            "Epoch 6/100\n",
            "23/23 [==============================] - 0s 3ms/step - loss: 0.0502 - mae: 0.0502 - val_loss: 0.1824 - val_mae: 0.1824\n",
            "Epoch 7/100\n",
            "23/23 [==============================] - 0s 2ms/step - loss: 0.0562 - mae: 0.0562 - val_loss: 0.1863 - val_mae: 0.1863\n",
            "Epoch 8/100\n",
            "23/23 [==============================] - 0s 2ms/step - loss: 0.0640 - mae: 0.0640 - val_loss: 0.0447 - val_mae: 0.0447\n",
            "Epoch 9/100\n",
            "23/23 [==============================] - 0s 2ms/step - loss: 0.0251 - mae: 0.0251 - val_loss: 0.1708 - val_mae: 0.1708\n",
            "Epoch 10/100\n",
            "23/23 [==============================] - 0s 2ms/step - loss: 0.0368 - mae: 0.0368 - val_loss: 0.0824 - val_mae: 0.0824\n",
            "Epoch 11/100\n",
            "23/23 [==============================] - 0s 2ms/step - loss: 0.0237 - mae: 0.0237 - val_loss: 0.0811 - val_mae: 0.0811\n",
            "Epoch 12/100\n",
            "23/23 [==============================] - 0s 3ms/step - loss: 0.0241 - mae: 0.0241 - val_loss: 0.0717 - val_mae: 0.0717\n",
            "Epoch 13/100\n",
            "23/23 [==============================] - 0s 2ms/step - loss: 0.0151 - mae: 0.0151 - val_loss: 0.0269 - val_mae: 0.0269\n",
            "Epoch 14/100\n",
            "23/23 [==============================] - 0s 2ms/step - loss: 0.0160 - mae: 0.0160 - val_loss: 0.0415 - val_mae: 0.0415\n",
            "Epoch 15/100\n",
            "23/23 [==============================] - 0s 3ms/step - loss: 0.0189 - mae: 0.0189 - val_loss: 0.1013 - val_mae: 0.1013\n",
            "Epoch 16/100\n",
            "23/23 [==============================] - 0s 2ms/step - loss: 0.0200 - mae: 0.0200 - val_loss: 0.0974 - val_mae: 0.0974\n",
            "Epoch 17/100\n",
            "23/23 [==============================] - 0s 2ms/step - loss: 0.0179 - mae: 0.0179 - val_loss: 0.0192 - val_mae: 0.0192\n",
            "Epoch 18/100\n",
            "23/23 [==============================] - 0s 2ms/step - loss: 0.0139 - mae: 0.0139 - val_loss: 0.0923 - val_mae: 0.0923\n",
            "Epoch 19/100\n",
            "23/23 [==============================] - 0s 2ms/step - loss: 0.0224 - mae: 0.0224 - val_loss: 0.0414 - val_mae: 0.0414\n",
            "Epoch 20/100\n",
            "23/23 [==============================] - 0s 3ms/step - loss: 0.0244 - mae: 0.0244 - val_loss: 0.1682 - val_mae: 0.1682\n",
            "Epoch 21/100\n",
            "23/23 [==============================] - 0s 2ms/step - loss: 0.0300 - mae: 0.0300 - val_loss: 0.0533 - val_mae: 0.0533\n",
            "Epoch 22/100\n",
            "23/23 [==============================] - 0s 2ms/step - loss: 0.0221 - mae: 0.0221 - val_loss: 0.0498 - val_mae: 0.0498\n",
            "Epoch 23/100\n",
            "23/23 [==============================] - 0s 2ms/step - loss: 0.0171 - mae: 0.0171 - val_loss: 0.1040 - val_mae: 0.1040\n",
            "Epoch 24/100\n",
            "23/23 [==============================] - 0s 3ms/step - loss: 0.0255 - mae: 0.0255 - val_loss: 0.0689 - val_mae: 0.0689\n",
            "Epoch 25/100\n",
            "23/23 [==============================] - 0s 3ms/step - loss: 0.0180 - mae: 0.0180 - val_loss: 0.0877 - val_mae: 0.0877\n",
            "Epoch 26/100\n",
            "23/23 [==============================] - 0s 3ms/step - loss: 0.0235 - mae: 0.0235 - val_loss: 0.0291 - val_mae: 0.0291\n",
            "Epoch 27/100\n",
            "23/23 [==============================] - 0s 3ms/step - loss: 0.0149 - mae: 0.0149 - val_loss: 0.0589 - val_mae: 0.0589\n"
          ],
          "name": "stdout"
        },
        {
          "output_type": "execute_result",
          "data": {
            "text/plain": [
              "<tensorflow.python.keras.callbacks.History at 0x7f3885ce5750>"
            ]
          },
          "metadata": {
            "tags": []
          },
          "execution_count": 659
        }
      ]
    },
    {
      "cell_type": "code",
      "metadata": {
        "id": "jnJJ0K3lqzva",
        "colab": {
          "base_uri": "https://localhost:8080/",
          "height": 331
        },
        "outputId": "c95cc127-c4ae-408e-af75-3873dc050ca1"
      },
      "source": [
        "y_test_pre_cnn_t = predict(model_cnn_tuner, y_test)\n",
        "print(\"CNN_tun RESULTS\")\n",
        "rmse, mae = evaluate(y_test, y_test_pre_cnn_t)\n",
        "RMSE_tun.append(rmse)\n",
        "MAE_tun.append(mae)\n",
        "print(\"RMSE = \", rmse)\n",
        "print(\"MAE = \", mae)\n",
        "\n",
        "visualize(y_test, y_test_pre_cnn_t, \"results of CNN_tun\")"
      ],
      "execution_count": null,
      "outputs": [
        {
          "output_type": "stream",
          "text": [
            "CNN_tun RESULTS\n",
            "RMSE =  0.09005914\n",
            "MAE =  0.06727739\n"
          ],
          "name": "stdout"
        },
        {
          "output_type": "display_data",
          "data": {
            "image/png": "[encoded data removed]",
            "text/plain": [
              "<Figure size 432x288 with 1 Axes>"
            ]
          },
          "metadata": {
            "tags": [],
            "needs_background": "light"
          }
        }
      ]
    },
    {
      "cell_type": "markdown",
      "metadata": {
        "id": "TfrWgDg_HdTj"
      },
      "source": [
        "# Comparison"
      ]
    },
    {
      "cell_type": "code",
      "metadata": {
        "id": "BomQ0MEfHhW-"
      },
      "source": [
        "compare = pd.DataFrame()\n",
        "compare[\"State\"] = states\n",
        "compare[\"rmse_cnn\"] = RMSE_cnn\n",
        "compare[\"rmse_cnn_t\"] = RMSE_tun\n",
        "compare[\"mae_cnn\"] = MAE_cnn\n",
        "compare[\"mae_cnn_t\"] = MAE_tun\n",
        "compare = compare.round(4)"
      ],
      "execution_count": null,
      "outputs": []
    },
    {
      "cell_type": "code",
      "metadata": {
        "colab": {
          "base_uri": "https://localhost:8080/",
          "height": 162
        },
        "id": "ENRoAAuz3JQ-",
        "outputId": "0f9e4cf0-ba64-41cc-92ab-90086466b5a6"
      },
      "source": [
        "MAE_cnn = [0.0765, 0.1056, 0.1014, 0.1084, 0.0552]\n",
        "RMSE_cnn = [0.0864, 0.1543, 0.1347, 0.1418, 0.0738]"
      ],
      "execution_count": null,
      "outputs": [
        {
          "output_type": "error",
          "ename": "NameError",
          "evalue": "ignored",
          "traceback": [
            "\u001b[0;31m---------------------------------------------------------------------------\u001b[0m",
            "\u001b[0;31mNameError\u001b[0m                                 Traceback (most recent call last)",
            "\u001b[0;32m<ipython-input-678-64dd5554f919>\u001b[0m in \u001b[0;36m<module>\u001b[0;34m()\u001b[0m\n\u001b[0;32m----> 1\u001b[0;31m \u001b[0mmae_cnn\u001b[0m\u001b[0;34m\u001b[0m\u001b[0;34m\u001b[0m\u001b[0m\n\u001b[0m",
            "\u001b[0;31mNameError\u001b[0m: name 'mae_cnn' is not defined"
          ]
        }
      ]
    },
    {
      "cell_type": "code",
      "metadata": {
        "colab": {
          "base_uri": "https://localhost:8080/",
          "height": 203
        },
        "id": "lcwurLiBBokT",
        "outputId": "07f3cf67-2131-445b-f3d1-4f1a60a74687"
      },
      "source": [
        "compare.head()"
      ],
      "execution_count": null,
      "outputs": [
        {
          "output_type": "execute_result",
          "data": {
            "text/html": [
              "<div>\n",
              "<style scoped>\n",
              "    .dataframe tbody tr th:only-of-type {\n",
              "        vertical-align: middle;\n",
              "    }\n",
              "\n",
              "    .dataframe tbody tr th {\n",
              "        vertical-align: top;\n",
              "    }\n",
              "\n",
              "    .dataframe thead th {\n",
              "        text-align: right;\n",
              "    }\n",
              "</style>\n",
              "<table border=\"1\" class=\"dataframe\">\n",
              "  <thead>\n",
              "    <tr style=\"text-align: right;\">\n",
              "      <th></th>\n",
              "      <th>State</th>\n",
              "      <th>rmse_cnn</th>\n",
              "      <th>rmse_cnn_t</th>\n",
              "      <th>mae_cnn</th>\n",
              "      <th>mae_cnn_t</th>\n",
              "    </tr>\n",
              "  </thead>\n",
              "  <tbody>\n",
              "    <tr>\n",
              "      <th>0</th>\n",
              "      <td>Maharashtra</td>\n",
              "      <td>0.0864</td>\n",
              "      <td>0.0870</td>\n",
              "      <td>0.0765</td>\n",
              "      <td>0.0803</td>\n",
              "    </tr>\n",
              "    <tr>\n",
              "      <th>1</th>\n",
              "      <td>Karnataka</td>\n",
              "      <td>0.1543</td>\n",
              "      <td>0.0811</td>\n",
              "      <td>0.1056</td>\n",
              "      <td>0.0691</td>\n",
              "    </tr>\n",
              "    <tr>\n",
              "      <th>2</th>\n",
              "      <td>Kerala</td>\n",
              "      <td>0.1347</td>\n",
              "      <td>0.0506</td>\n",
              "      <td>0.1014</td>\n",
              "      <td>0.0444</td>\n",
              "    </tr>\n",
              "    <tr>\n",
              "      <th>3</th>\n",
              "      <td>Tamil Nadu</td>\n",
              "      <td>0.1418</td>\n",
              "      <td>0.0177</td>\n",
              "      <td>0.1084</td>\n",
              "      <td>0.0158</td>\n",
              "    </tr>\n",
              "    <tr>\n",
              "      <th>4</th>\n",
              "      <td>Uttar Pradesh</td>\n",
              "      <td>0.0738</td>\n",
              "      <td>0.0901</td>\n",
              "      <td>0.0552</td>\n",
              "      <td>0.0673</td>\n",
              "    </tr>\n",
              "  </tbody>\n",
              "</table>\n",
              "</div>"
            ],
            "text/plain": [
              "           State  rmse_cnn  rmse_cnn_t  mae_cnn  mae_cnn_t\n",
              "0    Maharashtra    0.0864      0.0870   0.0765     0.0803\n",
              "1      Karnataka    0.1543      0.0811   0.1056     0.0691\n",
              "2         Kerala    0.1347      0.0506   0.1014     0.0444\n",
              "3     Tamil Nadu    0.1418      0.0177   0.1084     0.0158\n",
              "4  Uttar Pradesh    0.0738      0.0901   0.0552     0.0673"
            ]
          },
          "metadata": {
            "tags": []
          },
          "execution_count": 675
        }
      ]
    },
    {
      "cell_type": "code",
      "metadata": {
        "id": "ae5SYuSOJ9qV",
        "colab": {
          "base_uri": "https://localhost:8080/"
        },
        "outputId": "607d4ff5-90c5-428d-8312-d6fb6a187d6e"
      },
      "source": [
        "compare.mean(axis=0)"
      ],
      "execution_count": null,
      "outputs": [
        {
          "output_type": "execute_result",
          "data": {
            "text/plain": [
              "rmse_cnn      0.11820\n",
              "rmse_cnn_t    0.06530\n",
              "mae_cnn       0.08942\n",
              "mae_cnn_t     0.05538\n",
              "dtype: float64"
            ]
          },
          "metadata": {
            "tags": []
          },
          "execution_count": 676
        }
      ]
    },
    {
      "cell_type": "code",
      "metadata": {
        "id": "yS-200sVmDtt",
        "colab": {
          "base_uri": "https://localhost:8080/",
          "height": 86
        },
        "outputId": "02eee8a3-57f2-425a-e204-7d12f0e08f32"
      },
      "source": [
        "compare.to_latex()"
      ],
      "execution_count": null,
      "outputs": [
        {
          "output_type": "execute_result",
          "data": {
            "application/vnd.google.colaboratory.intrinsic+json": {
              "type": "string"
            },
            "text/plain": [
              "'\\\\begin{tabular}{llrrrr}\\n\\\\toprule\\n{} &          State &  rmse\\\\_cnn &  rmse\\\\_cnn\\\\_t &  mae\\\\_cnn &  mae\\\\_cnn\\\\_t \\\\\\\\\\n\\\\midrule\\n0 &    Maharashtra &    0.0864 &      0.0870 &   0.0765 &     0.0803 \\\\\\\\\\n1 &      Karnataka &    0.1543 &      0.0811 &   0.1056 &     0.0691 \\\\\\\\\\n2 &         Kerala &    0.1347 &      0.0506 &   0.1014 &     0.0444 \\\\\\\\\\n3 &     Tamil Nadu &    0.1418 &      0.0177 &   0.1084 &     0.0158 \\\\\\\\\\n4 &  Uttar Pradesh &    0.0738 &      0.0901 &   0.0552 &     0.0673 \\\\\\\\\\n\\\\bottomrule\\n\\\\end{tabular}\\n'"
            ]
          },
          "metadata": {
            "tags": []
          },
          "execution_count": 677
        }
      ]
    },
    {
      "cell_type": "code",
      "metadata": {
        "id": "4LysCG5hsYZk"
      },
      "source": [
        ""
      ],
      "execution_count": null,
      "outputs": []
    }
  ]
}