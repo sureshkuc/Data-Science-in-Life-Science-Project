{
  "nbformat": 4,
  "nbformat_minor": 0,
  "metadata": {
    "colab": {
      "name": "LSTM&GRU&MLP_SHORT.ipynb",
      "provenance": [],
      "toc_visible": true
    },
    "kernelspec": {
      "name": "python3",
      "display_name": "Python 3"
    },
    "language_info": {
      "name": "python"
    }
  },
  "cells": [
    {
      "cell_type": "code",
      "metadata": {
        "id": "3rEfUbxnwTwD"
      },
      "source": [
        "import pandas as pd\n",
        "import matplotlib.pyplot as plt\n",
        "import seaborn as sns\n",
        "from matplotlib import pyplot\n",
        "import numpy as np\n",
        "from sklearn.preprocessing import MinMaxScaler\n",
        "\n",
        "\n",
        "from matplotlib.backends.backend_pdf import PdfPages\n",
        "from google.colab import files\n",
        "from pylab import rcParams\n",
        "import statsmodels.api as sm\n",
        "from sklearn.metrics import mean_squared_error\n",
        "from sklearn.metrics import mean_absolute_error\n",
        "\n",
        "from keras.models import Sequential\n",
        "from keras.layers import Dense, LSTM, GRU, Flatten, Conv1D, MaxPooling1D, Dropout\n",
        "from keras.callbacks import EarlyStopping\n",
        "from keras.layers import LeakyReLU\n"
      ],
      "execution_count": null,
      "outputs": []
    },
    {
      "cell_type": "markdown",
      "metadata": {
        "id": "ADyUUoDs82Qn"
      },
      "source": [
        "# Functions"
      ]
    },
    {
      "cell_type": "code",
      "metadata": {
        "id": "hjURy8O4DWff"
      },
      "source": [
        "def split_sequences(sequences, n_steps):\n",
        "\tX, y = list(), list()\n",
        "\tfor i in range(len(sequences)):\n",
        "\t\t# find the end of this pattern\n",
        "\t\tend_ix = i + n_steps\n",
        "\t\t# check if we are beyond the dataset\n",
        "\t\tif end_ix > len(sequences):\n",
        "\t\t\tbreak\n",
        "\t\t# gather input and output parts of the pattern\n",
        "\t\tseq_x, seq_y = sequences[i:end_ix, :-1], sequences[end_ix-1, -1]\n",
        "\t\tX.append(seq_x)\n",
        "\t\ty.append(seq_y)"
      ],
      "execution_count": null,
      "outputs": []
    },
    {
      "cell_type": "code",
      "metadata": {
        "id": "RQv8QWKfwmhb"
      },
      "source": [
        "def create_dataset(dataset, look_back=1, response_variable_index=0, multi_feature = True):\n",
        "  dataX, dataY = [], []\n",
        "  if multi_feature :\n",
        "    for i in range(len(dataset)-look_back-1):\n",
        "      a = dataset[i:(i+look_back)]\n",
        "      dataX.append(a)\n",
        "      dataY.append(dataset[i + look_back, response_variable_index])\n",
        "  else:\n",
        "    for i in range(len(dataset)-look_back -1):\n",
        "      a = dataset[i:(i+look_back-1),response_variable_index]\n",
        "      dataX.append(a)\n",
        "      dataY.append(dataset[i + look_back, response_variable_index])\n",
        "  return np.array(dataX), np.array(dataY)"
      ],
      "execution_count": null,
      "outputs": []
    },
    {
      "cell_type": "code",
      "metadata": {
        "id": "Efsd9zwFwvk1"
      },
      "source": [
        "def prepare(df, scaling_range=(0,1),time_step=5,multi_feature=True, response_variable_index=0,data_split_ratio=0.8):\n",
        "  df = df.astype(\"float32\")\n",
        "  scaler = MinMaxScaler(feature_range=scaling_range)\n",
        "  dataset = scaler.fit_transform(df)\n",
        "  X, Y = create_dataset(dataset, time_step, response_variable_index, multi_feature = True)\n",
        "  # split into train and test sets\n",
        "  train_size = int(len(dataset) * data_split_ratio)\n",
        "  test_size = len(dataset) - train_size\n",
        "  trainX, testX = X[0:train_size,:], X[train_size:len(dataset),:]\n",
        "  trainY, testY = Y[0:train_size], Y[train_size:len(dataset)]\n",
        "  #print(trainX.shape)\n",
        "  #print(testX.shape)\n",
        "  # reshape input to be [samples, time steps, features]\n",
        "  if not multi_feature:\n",
        "    trainX = np.reshape(trainX, (trainX.shape[0],trainX.shape[1],1))\n",
        "    testX = np.reshape(testX, (testX.shape[0], testX.shape[1],1))\n",
        "    #print(trainX.shape)\n",
        "  X_train=trainX\n",
        "  X_test=testX\n",
        "  y_train=trainY.reshape(-1,1)\n",
        "  y_test=testY.reshape(-1,1)\n",
        "  return X_train,X_test, y_train, y_test"
      ],
      "execution_count": null,
      "outputs": []
    },
    {
      "cell_type": "code",
      "metadata": {
        "id": "7nqHZjug9avd"
      },
      "source": [
        "def model_cnn():\n",
        "  model_cnn = Sequential()\n",
        "  model_cnn.add(Conv1D(filters=16,\n",
        "        kernel_size=3,\n",
        "        input_shape=(X_train.shape[1], X_train.shape[2])\n",
        "            )\n",
        "                  )\n",
        "  model_cnn.add(LeakyReLU(alpha=0.1))\n",
        "  model_cnn.add(MaxPooling1D(pool_size=1))\n",
        "  model_cnn.add(Dropout(rate=0.2))\n",
        "  model_cnn.add(Flatten())\n",
        "  model_cnn.add(Dense(1))\n",
        "  model_cnn.compile(loss='mae', optimizer='adam')\n",
        "  return model_cnn"
      ],
      "execution_count": null,
      "outputs": []
    },
    {
      "cell_type": "code",
      "metadata": {
        "id": "-7PBKIZGxUCP"
      },
      "source": [
        "def model_lstm():\n",
        "  model_lstm = Sequential()\n",
        "  model_lstm.add(LSTM(16, return_sequences=True, activation='relu', input_shape=(X_train.shape[1], X_train.shape[2])))\n",
        "  model_lstm.add(LSTM(units=16))\n",
        "  model_lstm.add(Dense(units=1))\n",
        "  model_lstm.compile(loss='mae', optimizer='adam')\n",
        "  return model_lstm\n",
        "  #model_lstm.summary()"
      ],
      "execution_count": null,
      "outputs": []
    },
    {
      "cell_type": "code",
      "metadata": {
        "id": "c6cWqHvZxUFG"
      },
      "source": [
        "def model_gru():\n",
        "  model_gru = Sequential()\n",
        "  model_gru.add(GRU(16, return_sequences=True, activation='relu', input_shape=(X_train.shape[1], X_train.shape[2])))\n",
        "  model_gru.add(GRU(units=16))\n",
        "  model_gru.add(Dense(units=1))\n",
        "  model_gru.compile(loss='mae', optimizer='adam')\n",
        "  return model_gru"
      ],
      "execution_count": null,
      "outputs": []
    },
    {
      "cell_type": "code",
      "metadata": {
        "id": "BTwzX0Qn0dtq"
      },
      "source": [
        "def model_mlp():\n",
        "  model_mlp = Sequential()\n",
        "  model_mlp.add(Flatten(input_shape = (X_train.shape[1], X_train.shape[2])))\n",
        "  model_mlp.add(Dense(16, activation = \"relu\"))\n",
        "  model_mlp.add(Dense(16, activation = \"relu\"))\n",
        "  model_mlp.compile(loss='mae', optimizer='adam')\n",
        "  return model_mlp"
      ],
      "execution_count": null,
      "outputs": []
    },
    {
      "cell_type": "code",
      "metadata": {
        "id": "_zCYu4sxwvpj"
      },
      "source": [
        "def fit(model, X_train, X_test, y_train, y_test):\n",
        "  history = model.fit(X_train, y_train, epochs=100, batch_size=16, validation_data=(X_test, y_test), callbacks=[EarlyStopping(monitor= \"val_loss\", patience=10)], shuffle=False)\n",
        "  return history\n"
      ],
      "execution_count": null,
      "outputs": []
    },
    {
      "cell_type": "code",
      "metadata": {
        "id": "8UpO-j2OAu9L"
      },
      "source": [
        "def predict(model, y_test):\n",
        "  y_test_pre = model.predict(X_test)\n",
        "  return y_test_pre"
      ],
      "execution_count": null,
      "outputs": []
    },
    {
      "cell_type": "code",
      "metadata": {
        "id": "io86Y-oGwv3j"
      },
      "source": [
        "def visualize(y_test, y_pre, title):\n",
        "  results = pd.DataFrame()\n",
        "  #results['Date']= date_test.reset_index().Date.iloc[1:-1]\n",
        "  #results[\"Date\"] = date_test\n",
        "  results[\"predicted\"]=[i[0] for i in y_pre][1:] \n",
        "  results[\"true\"] = y_test[:-1]\n",
        "  #results = results.set_index([\"Date\"])\n",
        "  #results.head()\n",
        "  pyplot.plot(results[\"predicted\"], label='predicted', color='red')\n",
        "  pyplot.plot(results[\"true\"], label='true', color= 'green')\n",
        "  pyplot.legend()\n",
        "  pyplot.title(title)\n",
        "  pyplot.show()"
      ],
      "execution_count": null,
      "outputs": []
    },
    {
      "cell_type": "code",
      "metadata": {
        "id": "2CqE7mfdwv4w"
      },
      "source": [
        "def evaluate(y_test, y_pre):\n",
        "  true = y_test[:-1]\n",
        "  predicted = [i[0] for i in y_pre][1:]\n",
        "  rmse = np.sqrt(mean_squared_error(true, predicted))\n",
        "  mae = mean_absolute_error(true, predicted)\n",
        "  #print(len(true))\n",
        "  #print(len(predicted))\n",
        "  return rmse, mae\n"
      ],
      "execution_count": null,
      "outputs": []
    },
    {
      "cell_type": "markdown",
      "metadata": {
        "id": "bm4qCwdl8c4-"
      },
      "source": [
        "#Import Data"
      ]
    },
    {
      "cell_type": "code",
      "metadata": {
        "id": "2NZn4Z7t8gmA"
      },
      "source": [
        "# Maharashtra\n",
        "df_Ma = pd.read_csv(\"https://raw.githubusercontent.com/sureshkuc/Data-Science-in-Life-Science-Project/main/Indian-States-Covid19-Datasets/Maharashtra.csv\", parse_dates=[\"Date\"]).drop(columns =[\"Unnamed: 0\"])\n",
        "# Karnataka\n",
        "df_Ka = pd.read_csv(\"https://raw.githubusercontent.com/sureshkuc/Data-Science-in-Life-Science-Project/main/Indian-States-Covid19-Datasets/Karnataka.csv\", parse_dates=[\"Date\"]).drop(columns =[\"Unnamed: 0\"])\n",
        "# Kerala\n",
        "df_Ke = pd.read_csv(\"https://raw.githubusercontent.com/sureshkuc/Data-Science-in-Life-Science-Project/main/Indian-States-Covid19-Datasets/Kerala.csv\", parse_dates=[\"Date\"]).drop(columns =[\"Unnamed: 0\"])\n",
        "# Tamil Nadu\n",
        "df_TN = pd.read_csv(\"https://raw.githubusercontent.com/sureshkuc/Data-Science-in-Life-Science-Project/main/Indian-States-Covid19-Datasets/Tamil-Nadu.csv\", parse_dates=[\"Date\"]).drop(columns =[\"Unnamed: 0\"])\n",
        "# Uttar Pradesh\n",
        "df_UP = pd.read_csv(\"https://raw.githubusercontent.com/sureshkuc/Data-Science-in-Life-Science-Project/main/Indian-States-Covid19-Datasets/Uttar-Pradesh.csv\", parse_dates=[\"Date\"]).drop(columns =[\"Unnamed: 0\"])\n",
        "\n"
      ],
      "execution_count": null,
      "outputs": []
    },
    {
      "cell_type": "code",
      "metadata": {
        "id": "POL56eLD8h2d"
      },
      "source": [
        "df_Ma = df_Ma[[\"Date\", \"Confirmed\", \"Recovered\", \"Deceased\", \"New_Confirmerd\", \"New_Deaths\", \"New_Recovered\"]]\n",
        "df_Ka = df_Ka[[\"Date\", \"Confirmed\", \"Recovered\", \"Deceased\", \"New_Confirmerd\", \"New_Deaths\", \"New_Recovered\"]]\n",
        "df_Ke = df_Ke[[\"Date\", \"Confirmed\", \"Recovered\", \"Deceased\", \"New_Confirmerd\", \"New_Deaths\", \"New_Recovered\"]]\n",
        "df_TN = df_TN[[\"Date\", \"Confirmed\", \"Recovered\", \"Deceased\", \"New_Confirmerd\", \"New_Deaths\", \"New_Recovered\"]]\n",
        "df_UP = df_UP[[\"Date\", \"Confirmed\", \"Recovered\", \"Deceased\", \"New_Confirmerd\", \"New_Deaths\", \"New_Recovered\"]]"
      ],
      "execution_count": null,
      "outputs": []
    },
    {
      "cell_type": "code",
      "metadata": {
        "id": "FpGnjvWs8h5X"
      },
      "source": [
        "df_Ma = df_Ma[(df_Ma[\"Date\"] > \"2020-03-09\") & (df_Ma[\"Date\"] < \"2020-06-18\")]\n",
        "df_Ka = df_Ka[(df_Ka[\"Date\"] > \"2020-03-09\") & (df_Ka[\"Date\"] < \"2020-06-18\")]\n",
        "df_Ke = df_Ke[(df_Ke[\"Date\"] > \"2020-03-09\") & (df_Ke[\"Date\"] < \"2020-06-18\")]\n",
        "df_TN = df_TN[(df_TN[\"Date\"] > \"2020-03-09\") & (df_TN[\"Date\"] < \"2020-06-18\")]\n",
        "df_UP = df_UP[(df_UP[\"Date\"] > \"2020-03-09\") & (df_UP[\"Date\"] < \"2020-06-18\")]"
      ],
      "execution_count": null,
      "outputs": []
    },
    {
      "cell_type": "code",
      "metadata": {
        "colab": {
          "base_uri": "https://localhost:8080/"
        },
        "id": "mu7sUQxA-qtF",
        "outputId": "4f1007e5-6459-440d-c27d-fec4afbd230d"
      },
      "source": [
        "df_Ma.shape"
      ],
      "execution_count": null,
      "outputs": [
        {
          "output_type": "execute_result",
          "data": {
            "text/plain": [
              "(100, 7)"
            ]
          },
          "metadata": {
            "tags": []
          },
          "execution_count": 132
        }
      ]
    },
    {
      "cell_type": "code",
      "metadata": {
        "id": "gFg977kC8rBe"
      },
      "source": [
        "df_Ma = df_Ma.set_index(\"Date\")\n",
        "df_Ka = df_Ka.set_index(\"Date\")\n",
        "df_Ke = df_Ke.set_index(\"Date\")\n",
        "df_TN = df_TN.set_index(\"Date\")\n",
        "df_UP = df_UP.set_index(\"Date\")\n"
      ],
      "execution_count": null,
      "outputs": []
    },
    {
      "cell_type": "code",
      "metadata": {
        "id": "zhHeg-d7FvOD"
      },
      "source": [
        "RMSE_lstm = []\n",
        "MAE_lstm = []\n",
        "RMSE_gru = []\n",
        "MAE_gru = []\n",
        "RMSE_mlp = []\n",
        "MAE_mlp = []\n",
        "RMSE_cnn = []\n",
        "MAE_cnn = []\n",
        "states = [\"Maharashtra\", \"Karnataka\", \"Kerala\", \"Tamil Nadu\", \"Uttar Pradesh\"]"
      ],
      "execution_count": null,
      "outputs": []
    },
    {
      "cell_type": "markdown",
      "metadata": {
        "id": "-KxC5oBn4Blx"
      },
      "source": [
        "# Maharashtra"
      ]
    },
    {
      "cell_type": "code",
      "metadata": {
        "id": "JDCmwofL6_Oc"
      },
      "source": [
        "X_train,X_test, y_train, y_test = prepare(df_Ma, scaling_range=(0,1),time_step=5,multi_feature=True, response_variable_index=0,data_split_ratio=0.8)"
      ],
      "execution_count": null,
      "outputs": []
    },
    {
      "cell_type": "code",
      "metadata": {
        "colab": {
          "base_uri": "https://localhost:8080/"
        },
        "id": "znhqCg0Sv5qo",
        "outputId": "5f651f6b-3c46-42e0-d3b5-b143948ecd44"
      },
      "source": [
        "print(\"X_train.shape\", X_train.shape)\n",
        "print(\"X_test.shape\", X_test.shape)\n",
        "print(\"y_train.shape\", y_train.shape)\n",
        "print(\"y_test.shape\", y_test.shape)"
      ],
      "execution_count": null,
      "outputs": [
        {
          "output_type": "stream",
          "text": [
            "X_train.shape (80, 5, 6)\n",
            "X_test.shape (14, 5, 6)\n",
            "y_train.shape (80, 1)\n",
            "y_test.shape (14, 1)\n"
          ],
          "name": "stdout"
        }
      ]
    },
    {
      "cell_type": "code",
      "metadata": {
        "colab": {
          "base_uri": "https://localhost:8080/"
        },
        "id": "VGvT8m7-9ylI",
        "outputId": "7c86a888-8de1-4553-fcd3-dd00c936a96b"
      },
      "source": [
        "model_CNN = model_cnn()\n",
        "fit(model_CNN, X_train, X_test, y_train, y_test)"
      ],
      "execution_count": null,
      "outputs": [
        {
          "output_type": "stream",
          "text": [
            "Epoch 1/100\n",
            "5/5 [==============================] - 15s 113ms/step - loss: 0.0509 - val_loss: 0.5480\n",
            "Epoch 2/100\n",
            "5/5 [==============================] - 0s 5ms/step - loss: 0.0449 - val_loss: 0.4592\n",
            "Epoch 3/100\n",
            "5/5 [==============================] - 0s 5ms/step - loss: 0.0399 - val_loss: 0.3692\n",
            "Epoch 4/100\n",
            "5/5 [==============================] - 0s 5ms/step - loss: 0.0316 - val_loss: 0.2823\n",
            "Epoch 5/100\n",
            "5/5 [==============================] - 0s 5ms/step - loss: 0.0262 - val_loss: 0.2036\n",
            "Epoch 6/100\n",
            "5/5 [==============================] - 0s 5ms/step - loss: 0.0241 - val_loss: 0.1399\n",
            "Epoch 7/100\n",
            "5/5 [==============================] - 0s 6ms/step - loss: 0.0232 - val_loss: 0.0864\n",
            "Epoch 8/100\n",
            "5/5 [==============================] - 0s 6ms/step - loss: 0.0207 - val_loss: 0.0515\n",
            "Epoch 9/100\n",
            "5/5 [==============================] - 0s 5ms/step - loss: 0.0175 - val_loss: 0.0431\n",
            "Epoch 10/100\n",
            "5/5 [==============================] - 0s 6ms/step - loss: 0.0171 - val_loss: 0.0484\n",
            "Epoch 11/100\n",
            "5/5 [==============================] - 0s 5ms/step - loss: 0.0161 - val_loss: 0.0472\n",
            "Epoch 12/100\n",
            "5/5 [==============================] - 0s 6ms/step - loss: 0.0173 - val_loss: 0.0489\n",
            "Epoch 13/100\n",
            "5/5 [==============================] - 0s 5ms/step - loss: 0.0172 - val_loss: 0.0538\n",
            "Epoch 14/100\n",
            "5/5 [==============================] - 0s 6ms/step - loss: 0.0136 - val_loss: 0.0661\n",
            "Epoch 15/100\n",
            "5/5 [==============================] - 0s 5ms/step - loss: 0.0115 - val_loss: 0.0682\n",
            "Epoch 16/100\n",
            "5/5 [==============================] - 0s 5ms/step - loss: 0.0128 - val_loss: 0.0584\n",
            "Epoch 17/100\n",
            "5/5 [==============================] - 0s 5ms/step - loss: 0.0146 - val_loss: 0.0583\n",
            "Epoch 18/100\n",
            "5/5 [==============================] - 0s 5ms/step - loss: 0.0110 - val_loss: 0.0564\n",
            "Epoch 19/100\n",
            "5/5 [==============================] - 0s 6ms/step - loss: 0.0088 - val_loss: 0.0612\n"
          ],
          "name": "stdout"
        },
        {
          "output_type": "execute_result",
          "data": {
            "text/plain": [
              "<keras.callbacks.History at 0x7f2df7cb7a90>"
            ]
          },
          "metadata": {
            "tags": []
          },
          "execution_count": 137
        }
      ]
    },
    {
      "cell_type": "code",
      "metadata": {
        "colab": {
          "base_uri": "https://localhost:8080/",
          "height": 331
        },
        "id": "gTQk3PDG9zhp",
        "outputId": "417b9f7b-620f-4667-95c9-f5c31c789483"
      },
      "source": [
        "y_test_pre_cnn = predict(model_CNN, y_test)\n",
        "print(\"CNN RESULTS\")\n",
        "rmse, mae = evaluate(y_test, y_test_pre_cnn)\n",
        "RMSE_cnn.append(rmse)\n",
        "MAE_cnn.append(mae)\n",
        "print(\"RMSE = \", rmse)\n",
        "print(\"MAE = \", mae)\n",
        "\n",
        "visualize(y_test, y_test_pre_cnn, \"results of CNN\")"
      ],
      "execution_count": null,
      "outputs": [
        {
          "output_type": "stream",
          "text": [
            "CNN RESULTS\n",
            "RMSE =  0.049744766\n",
            "MAE =  0.03917126\n"
          ],
          "name": "stdout"
        },
        {
          "output_type": "display_data",
          "data": {
            "image/png": "[encoded data removed]",
            "text/plain": [
              "<Figure size 432x288 with 1 Axes>"
            ]
          },
          "metadata": {
            "tags": [],
            "needs_background": "light"
          }
        }
      ]
    },
    {
      "cell_type": "code",
      "metadata": {
        "colab": {
          "base_uri": "https://localhost:8080/"
        },
        "id": "rxSJYg251UL5",
        "outputId": "0f5b0045-fb88-401a-de82-909363efabc2"
      },
      "source": [
        "model_MLP = model_mlp()\n",
        "fit(model_MLP, X_train, X_test, y_train, y_test)"
      ],
      "execution_count": null,
      "outputs": [
        {
          "output_type": "stream",
          "text": [
            "Epoch 1/100\n",
            "5/5 [==============================] - 1s 49ms/step - loss: 0.0560 - val_loss: 0.7296\n",
            "Epoch 2/100\n",
            "5/5 [==============================] - 0s 7ms/step - loss: 0.0557 - val_loss: 0.7181\n",
            "Epoch 3/100\n",
            "5/5 [==============================] - 0s 6ms/step - loss: 0.0536 - val_loss: 0.6996\n",
            "Epoch 4/100\n",
            "5/5 [==============================] - 0s 6ms/step - loss: 0.0518 - val_loss: 0.6778\n",
            "Epoch 5/100\n",
            "5/5 [==============================] - 0s 6ms/step - loss: 0.0501 - val_loss: 0.6510\n",
            "Epoch 6/100\n",
            "5/5 [==============================] - 0s 5ms/step - loss: 0.0485 - val_loss: 0.6236\n",
            "Epoch 7/100\n",
            "5/5 [==============================] - 0s 5ms/step - loss: 0.0473 - val_loss: 0.6010\n",
            "Epoch 8/100\n",
            "5/5 [==============================] - 0s 5ms/step - loss: 0.0464 - val_loss: 0.5833\n",
            "Epoch 9/100\n",
            "5/5 [==============================] - 0s 7ms/step - loss: 0.0456 - val_loss: 0.5692\n",
            "Epoch 10/100\n",
            "5/5 [==============================] - 0s 5ms/step - loss: 0.0448 - val_loss: 0.5591\n",
            "Epoch 11/100\n",
            "5/5 [==============================] - 0s 5ms/step - loss: 0.0438 - val_loss: 0.5510\n",
            "Epoch 12/100\n",
            "5/5 [==============================] - 0s 6ms/step - loss: 0.0429 - val_loss: 0.5425\n",
            "Epoch 13/100\n",
            "5/5 [==============================] - 0s 6ms/step - loss: 0.0422 - val_loss: 0.5325\n",
            "Epoch 14/100\n",
            "5/5 [==============================] - 0s 6ms/step - loss: 0.0413 - val_loss: 0.5212\n",
            "Epoch 15/100\n",
            "5/5 [==============================] - 0s 6ms/step - loss: 0.0404 - val_loss: 0.5091\n",
            "Epoch 16/100\n",
            "5/5 [==============================] - 0s 5ms/step - loss: 0.0395 - val_loss: 0.4970\n",
            "Epoch 17/100\n",
            "5/5 [==============================] - 0s 5ms/step - loss: 0.0386 - val_loss: 0.4846\n",
            "Epoch 18/100\n",
            "5/5 [==============================] - 0s 7ms/step - loss: 0.0378 - val_loss: 0.4724\n",
            "Epoch 19/100\n",
            "5/5 [==============================] - 0s 6ms/step - loss: 0.0371 - val_loss: 0.4600\n",
            "Epoch 20/100\n",
            "5/5 [==============================] - 0s 5ms/step - loss: 0.0364 - val_loss: 0.4481\n",
            "Epoch 21/100\n",
            "5/5 [==============================] - 0s 5ms/step - loss: 0.0359 - val_loss: 0.4381\n",
            "Epoch 22/100\n",
            "5/5 [==============================] - 0s 5ms/step - loss: 0.0355 - val_loss: 0.4299\n",
            "Epoch 23/100\n",
            "5/5 [==============================] - 0s 6ms/step - loss: 0.0349 - val_loss: 0.4237\n",
            "Epoch 24/100\n",
            "5/5 [==============================] - 0s 6ms/step - loss: 0.0341 - val_loss: 0.4179\n",
            "Epoch 25/100\n",
            "5/5 [==============================] - 0s 10ms/step - loss: 0.0332 - val_loss: 0.4122\n",
            "Epoch 26/100\n",
            "5/5 [==============================] - 0s 6ms/step - loss: 0.0324 - val_loss: 0.4045\n",
            "Epoch 27/100\n",
            "5/5 [==============================] - 0s 6ms/step - loss: 0.0316 - val_loss: 0.3962\n",
            "Epoch 28/100\n",
            "5/5 [==============================] - 0s 6ms/step - loss: 0.0309 - val_loss: 0.3880\n",
            "Epoch 29/100\n",
            "5/5 [==============================] - 0s 6ms/step - loss: 0.0302 - val_loss: 0.3810\n",
            "Epoch 30/100\n",
            "5/5 [==============================] - 0s 7ms/step - loss: 0.0294 - val_loss: 0.3741\n",
            "Epoch 31/100\n",
            "5/5 [==============================] - 0s 6ms/step - loss: 0.0287 - val_loss: 0.3658\n",
            "Epoch 32/100\n",
            "5/5 [==============================] - 0s 6ms/step - loss: 0.0281 - val_loss: 0.3575\n",
            "Epoch 33/100\n",
            "5/5 [==============================] - 0s 6ms/step - loss: 0.0277 - val_loss: 0.3513\n",
            "Epoch 34/100\n",
            "5/5 [==============================] - 0s 5ms/step - loss: 0.0273 - val_loss: 0.3476\n",
            "Epoch 35/100\n",
            "5/5 [==============================] - 0s 5ms/step - loss: 0.0269 - val_loss: 0.3461\n",
            "Epoch 36/100\n",
            "5/5 [==============================] - 0s 5ms/step - loss: 0.0266 - val_loss: 0.3440\n",
            "Epoch 37/100\n",
            "5/5 [==============================] - 0s 6ms/step - loss: 0.0262 - val_loss: 0.3408\n",
            "Epoch 38/100\n",
            "5/5 [==============================] - 0s 6ms/step - loss: 0.0258 - val_loss: 0.3378\n",
            "Epoch 39/100\n",
            "5/5 [==============================] - 0s 6ms/step - loss: 0.0254 - val_loss: 0.3352\n",
            "Epoch 40/100\n",
            "5/5 [==============================] - 0s 5ms/step - loss: 0.0251 - val_loss: 0.3327\n",
            "Epoch 41/100\n",
            "5/5 [==============================] - 0s 5ms/step - loss: 0.0248 - val_loss: 0.3308\n",
            "Epoch 42/100\n",
            "5/5 [==============================] - 0s 5ms/step - loss: 0.0246 - val_loss: 0.3299\n",
            "Epoch 43/100\n",
            "5/5 [==============================] - 0s 5ms/step - loss: 0.0245 - val_loss: 0.3283\n",
            "Epoch 44/100\n",
            "5/5 [==============================] - 0s 7ms/step - loss: 0.0243 - val_loss: 0.3253\n",
            "Epoch 45/100\n",
            "5/5 [==============================] - 0s 6ms/step - loss: 0.0241 - val_loss: 0.3206\n",
            "Epoch 46/100\n",
            "5/5 [==============================] - 0s 6ms/step - loss: 0.0237 - val_loss: 0.3154\n",
            "Epoch 47/100\n",
            "5/5 [==============================] - 0s 7ms/step - loss: 0.0234 - val_loss: 0.3093\n",
            "Epoch 48/100\n",
            "5/5 [==============================] - 0s 8ms/step - loss: 0.0230 - val_loss: 0.3035\n",
            "Epoch 49/100\n",
            "5/5 [==============================] - 0s 6ms/step - loss: 0.0227 - val_loss: 0.2971\n",
            "Epoch 50/100\n",
            "5/5 [==============================] - 0s 5ms/step - loss: 0.0224 - val_loss: 0.2920\n",
            "Epoch 51/100\n",
            "5/5 [==============================] - 0s 5ms/step - loss: 0.0221 - val_loss: 0.2860\n",
            "Epoch 52/100\n",
            "5/5 [==============================] - 0s 5ms/step - loss: 0.0218 - val_loss: 0.2795\n",
            "Epoch 53/100\n",
            "5/5 [==============================] - 0s 5ms/step - loss: 0.0215 - val_loss: 0.2737\n",
            "Epoch 54/100\n",
            "5/5 [==============================] - 0s 6ms/step - loss: 0.0210 - val_loss: 0.2666\n",
            "Epoch 55/100\n",
            "5/5 [==============================] - 0s 5ms/step - loss: 0.0204 - val_loss: 0.2610\n",
            "Epoch 56/100\n",
            "5/5 [==============================] - 0s 6ms/step - loss: 0.0197 - val_loss: 0.2550\n",
            "Epoch 57/100\n",
            "5/5 [==============================] - 0s 6ms/step - loss: 0.0191 - val_loss: 0.2493\n",
            "Epoch 58/100\n",
            "5/5 [==============================] - 0s 6ms/step - loss: 0.0186 - val_loss: 0.2429\n",
            "Epoch 59/100\n",
            "5/5 [==============================] - 0s 5ms/step - loss: 0.0183 - val_loss: 0.2372\n",
            "Epoch 60/100\n",
            "5/5 [==============================] - 0s 6ms/step - loss: 0.0181 - val_loss: 0.2322\n",
            "Epoch 61/100\n",
            "5/5 [==============================] - 0s 5ms/step - loss: 0.0179 - val_loss: 0.2293\n",
            "Epoch 62/100\n",
            "5/5 [==============================] - 0s 7ms/step - loss: 0.0177 - val_loss: 0.2281\n",
            "Epoch 63/100\n",
            "5/5 [==============================] - 0s 5ms/step - loss: 0.0174 - val_loss: 0.2266\n",
            "Epoch 64/100\n",
            "5/5 [==============================] - 0s 5ms/step - loss: 0.0171 - val_loss: 0.2251\n",
            "Epoch 65/100\n",
            "5/5 [==============================] - 0s 7ms/step - loss: 0.0168 - val_loss: 0.2219\n",
            "Epoch 66/100\n",
            "5/5 [==============================] - 0s 8ms/step - loss: 0.0167 - val_loss: 0.2236\n",
            "Epoch 67/100\n",
            "5/5 [==============================] - 0s 6ms/step - loss: 0.0167 - val_loss: 0.2248\n",
            "Epoch 68/100\n",
            "5/5 [==============================] - 0s 7ms/step - loss: 0.0166 - val_loss: 0.2230\n",
            "Epoch 69/100\n",
            "5/5 [==============================] - 0s 7ms/step - loss: 0.0165 - val_loss: 0.2211\n",
            "Epoch 70/100\n",
            "5/5 [==============================] - 0s 5ms/step - loss: 0.0164 - val_loss: 0.2198\n",
            "Epoch 71/100\n",
            "5/5 [==============================] - 0s 5ms/step - loss: 0.0162 - val_loss: 0.2216\n",
            "Epoch 72/100\n",
            "5/5 [==============================] - 0s 5ms/step - loss: 0.0158 - val_loss: 0.2176\n",
            "Epoch 73/100\n",
            "5/5 [==============================] - 0s 5ms/step - loss: 0.0154 - val_loss: 0.2132\n",
            "Epoch 74/100\n",
            "5/5 [==============================] - 0s 7ms/step - loss: 0.0150 - val_loss: 0.2072\n",
            "Epoch 75/100\n",
            "5/5 [==============================] - 0s 5ms/step - loss: 0.0148 - val_loss: 0.2005\n",
            "Epoch 76/100\n",
            "5/5 [==============================] - 0s 6ms/step - loss: 0.0146 - val_loss: 0.1966\n",
            "Epoch 77/100\n",
            "5/5 [==============================] - 0s 5ms/step - loss: 0.0144 - val_loss: 0.1911\n",
            "Epoch 78/100\n",
            "5/5 [==============================] - 0s 6ms/step - loss: 0.0141 - val_loss: 0.1853\n",
            "Epoch 79/100\n",
            "5/5 [==============================] - 0s 6ms/step - loss: 0.0139 - val_loss: 0.1819\n",
            "Epoch 80/100\n",
            "5/5 [==============================] - 0s 6ms/step - loss: 0.0137 - val_loss: 0.1790\n",
            "Epoch 81/100\n",
            "5/5 [==============================] - 0s 7ms/step - loss: 0.0135 - val_loss: 0.1744\n",
            "Epoch 82/100\n",
            "5/5 [==============================] - 0s 5ms/step - loss: 0.0133 - val_loss: 0.1737\n",
            "Epoch 83/100\n",
            "5/5 [==============================] - 0s 6ms/step - loss: 0.0130 - val_loss: 0.1712\n",
            "Epoch 84/100\n",
            "5/5 [==============================] - 0s 6ms/step - loss: 0.0127 - val_loss: 0.1721\n",
            "Epoch 85/100\n",
            "5/5 [==============================] - 0s 6ms/step - loss: 0.0124 - val_loss: 0.1708\n",
            "Epoch 86/100\n",
            "5/5 [==============================] - 0s 5ms/step - loss: 0.0122 - val_loss: 0.1713\n",
            "Epoch 87/100\n",
            "5/5 [==============================] - 0s 7ms/step - loss: 0.0122 - val_loss: 0.1705\n",
            "Epoch 88/100\n",
            "5/5 [==============================] - 0s 6ms/step - loss: 0.0122 - val_loss: 0.1693\n",
            "Epoch 89/100\n",
            "5/5 [==============================] - 0s 5ms/step - loss: 0.0121 - val_loss: 0.1674\n",
            "Epoch 90/100\n",
            "5/5 [==============================] - 0s 6ms/step - loss: 0.0121 - val_loss: 0.1688\n",
            "Epoch 91/100\n",
            "5/5 [==============================] - 0s 5ms/step - loss: 0.0121 - val_loss: 0.1672\n",
            "Epoch 92/100\n",
            "5/5 [==============================] - 0s 6ms/step - loss: 0.0121 - val_loss: 0.1652\n",
            "Epoch 93/100\n",
            "5/5 [==============================] - 0s 5ms/step - loss: 0.0120 - val_loss: 0.1677\n",
            "Epoch 94/100\n",
            "5/5 [==============================] - 0s 7ms/step - loss: 0.0119 - val_loss: 0.1662\n",
            "Epoch 95/100\n",
            "5/5 [==============================] - 0s 6ms/step - loss: 0.0119 - val_loss: 0.1651\n",
            "Epoch 96/100\n",
            "5/5 [==============================] - 0s 5ms/step - loss: 0.0119 - val_loss: 0.1652\n",
            "Epoch 97/100\n",
            "5/5 [==============================] - 0s 6ms/step - loss: 0.0119 - val_loss: 0.1656\n",
            "Epoch 98/100\n",
            "5/5 [==============================] - 0s 5ms/step - loss: 0.0118 - val_loss: 0.1634\n",
            "Epoch 99/100\n",
            "5/5 [==============================] - 0s 7ms/step - loss: 0.0118 - val_loss: 0.1623\n",
            "Epoch 100/100\n",
            "5/5 [==============================] - 0s 6ms/step - loss: 0.0118 - val_loss: 0.1614\n"
          ],
          "name": "stdout"
        },
        {
          "output_type": "execute_result",
          "data": {
            "text/plain": [
              "<keras.callbacks.History at 0x7f2df68b2710>"
            ]
          },
          "metadata": {
            "tags": []
          },
          "execution_count": 139
        }
      ]
    },
    {
      "cell_type": "code",
      "metadata": {
        "colab": {
          "base_uri": "https://localhost:8080/"
        },
        "id": "eX2-lUDM1Ud_",
        "outputId": "1ef706ea-e252-4503-c123-9c07516eb83f"
      },
      "source": [
        "model_MLP.summary()"
      ],
      "execution_count": null,
      "outputs": [
        {
          "output_type": "stream",
          "text": [
            "Model: \"sequential_2\"\n",
            "_________________________________________________________________\n",
            "Layer (type)                 Output Shape              Param #   \n",
            "=================================================================\n",
            "flatten_1 (Flatten)          (None, 30)                0         \n",
            "_________________________________________________________________\n",
            "dense_1 (Dense)              (None, 16)                496       \n",
            "_________________________________________________________________\n",
            "dense_2 (Dense)              (None, 16)                272       \n",
            "=================================================================\n",
            "Total params: 768\n",
            "Trainable params: 768\n",
            "Non-trainable params: 0\n",
            "_________________________________________________________________\n"
          ],
          "name": "stdout"
        }
      ]
    },
    {
      "cell_type": "code",
      "metadata": {
        "colab": {
          "base_uri": "https://localhost:8080/",
          "height": 331
        },
        "id": "jyAQOefw1rmX",
        "outputId": "da045613-4578-49c4-fc2b-bb71e2e24844"
      },
      "source": [
        "y_test_pre_mlp = predict(model_MLP, y_test)\n",
        "print(\"MLP RESULTS\")\n",
        "rmse, mae = evaluate(y_test, y_test_pre_mlp)\n",
        "RMSE_mlp.append(rmse)\n",
        "MAE_mlp.append(mae)\n",
        "print(\"RMSE = \", rmse)\n",
        "print(\"MAE = \", mae)\n",
        "\n",
        "visualize(y_test, y_test_pre_mlp, \"results of MLP\")"
      ],
      "execution_count": null,
      "outputs": [
        {
          "output_type": "stream",
          "text": [
            "MLP RESULTS\n",
            "RMSE =  0.7946809\n",
            "MAE =  0.78880364\n"
          ],
          "name": "stdout"
        },
        {
          "output_type": "display_data",
          "data": {
            "image/png": "[encoded data removed]",
            "text/plain": [
              "<Figure size 432x288 with 1 Axes>"
            ]
          },
          "metadata": {
            "tags": [],
            "needs_background": "light"
          }
        }
      ]
    },
    {
      "cell_type": "code",
      "metadata": {
        "id": "TDDM2of_1rpN"
      },
      "source": [
        ""
      ],
      "execution_count": null,
      "outputs": []
    },
    {
      "cell_type": "code",
      "metadata": {
        "colab": {
          "base_uri": "https://localhost:8080/"
        },
        "id": "uJFXwGnrAVMh",
        "outputId": "76fcda53-4741-4ec6-8cff-4168b8d7d0a0"
      },
      "source": [
        "model_LSTM = model_lstm()\n",
        "fit(model_LSTM, X_train, X_test, y_train, y_test)"
      ],
      "execution_count": null,
      "outputs": [
        {
          "output_type": "stream",
          "text": [
            "Epoch 1/100\n",
            "5/5 [==============================] - 10s 214ms/step - loss: 0.0570 - val_loss: 0.7519\n",
            "Epoch 2/100\n",
            "5/5 [==============================] - 0s 8ms/step - loss: 0.0614 - val_loss: 0.7154\n",
            "Epoch 3/100\n",
            "5/5 [==============================] - 0s 7ms/step - loss: 0.0642 - val_loss: 0.6830\n",
            "Epoch 4/100\n",
            "5/5 [==============================] - 0s 6ms/step - loss: 0.0653 - val_loss: 0.6513\n",
            "Epoch 5/100\n",
            "5/5 [==============================] - 0s 7ms/step - loss: 0.0653 - val_loss: 0.6181\n",
            "Epoch 6/100\n",
            "5/5 [==============================] - 0s 7ms/step - loss: 0.0645 - val_loss: 0.5829\n",
            "Epoch 7/100\n",
            "5/5 [==============================] - 0s 7ms/step - loss: 0.0627 - val_loss: 0.5447\n",
            "Epoch 8/100\n",
            "5/5 [==============================] - 0s 7ms/step - loss: 0.0599 - val_loss: 0.5011\n",
            "Epoch 9/100\n",
            "5/5 [==============================] - 0s 7ms/step - loss: 0.0564 - val_loss: 0.4514\n",
            "Epoch 10/100\n",
            "5/5 [==============================] - 0s 8ms/step - loss: 0.0519 - val_loss: 0.3932\n",
            "Epoch 11/100\n",
            "5/5 [==============================] - 0s 8ms/step - loss: 0.0464 - val_loss: 0.3229\n",
            "Epoch 12/100\n",
            "5/5 [==============================] - 0s 7ms/step - loss: 0.0401 - val_loss: 0.2373\n",
            "Epoch 13/100\n",
            "5/5 [==============================] - 0s 7ms/step - loss: 0.0329 - val_loss: 0.1395\n",
            "Epoch 14/100\n",
            "5/5 [==============================] - 0s 8ms/step - loss: 0.0244 - val_loss: 0.0552\n",
            "Epoch 15/100\n",
            "5/5 [==============================] - 0s 7ms/step - loss: 0.0131 - val_loss: 0.0364\n",
            "Epoch 16/100\n",
            "5/5 [==============================] - 0s 7ms/step - loss: 0.0085 - val_loss: 0.0332\n",
            "Epoch 17/100\n",
            "5/5 [==============================] - 0s 8ms/step - loss: 0.0073 - val_loss: 0.0357\n",
            "Epoch 18/100\n",
            "5/5 [==============================] - 0s 8ms/step - loss: 0.0061 - val_loss: 0.0539\n",
            "Epoch 19/100\n",
            "5/5 [==============================] - 0s 7ms/step - loss: 0.0057 - val_loss: 0.0638\n",
            "Epoch 20/100\n",
            "5/5 [==============================] - 0s 8ms/step - loss: 0.0053 - val_loss: 0.0444\n",
            "Epoch 21/100\n",
            "5/5 [==============================] - 0s 8ms/step - loss: 0.0050 - val_loss: 0.0501\n",
            "Epoch 22/100\n",
            "5/5 [==============================] - 0s 7ms/step - loss: 0.0047 - val_loss: 0.0576\n",
            "Epoch 23/100\n",
            "5/5 [==============================] - 0s 7ms/step - loss: 0.0042 - val_loss: 0.0534\n",
            "Epoch 24/100\n",
            "5/5 [==============================] - 0s 9ms/step - loss: 0.0055 - val_loss: 0.0579\n",
            "Epoch 25/100\n",
            "5/5 [==============================] - 0s 7ms/step - loss: 0.0040 - val_loss: 0.0528\n",
            "Epoch 26/100\n",
            "5/5 [==============================] - 0s 7ms/step - loss: 0.0038 - val_loss: 0.0563\n"
          ],
          "name": "stdout"
        },
        {
          "output_type": "execute_result",
          "data": {
            "text/plain": [
              "<keras.callbacks.History at 0x7f2df6f0f210>"
            ]
          },
          "metadata": {
            "tags": []
          },
          "execution_count": 142
        }
      ]
    },
    {
      "cell_type": "code",
      "metadata": {
        "colab": {
          "base_uri": "https://localhost:8080/"
        },
        "id": "4Cij9L_nKxe_",
        "outputId": "e6b3f469-0cdc-4a4b-bf5c-e020bda03cfb"
      },
      "source": [
        "model_LSTM.summary()"
      ],
      "execution_count": null,
      "outputs": [
        {
          "output_type": "stream",
          "text": [
            "Model: \"sequential_3\"\n",
            "_________________________________________________________________\n",
            "Layer (type)                 Output Shape              Param #   \n",
            "=================================================================\n",
            "lstm (LSTM)                  (None, 5, 16)             1472      \n",
            "_________________________________________________________________\n",
            "lstm_1 (LSTM)                (None, 16)                2112      \n",
            "_________________________________________________________________\n",
            "dense_3 (Dense)              (None, 1)                 17        \n",
            "=================================================================\n",
            "Total params: 3,601\n",
            "Trainable params: 3,601\n",
            "Non-trainable params: 0\n",
            "_________________________________________________________________\n"
          ],
          "name": "stdout"
        }
      ]
    },
    {
      "cell_type": "code",
      "metadata": {
        "colab": {
          "base_uri": "https://localhost:8080/",
          "height": 331
        },
        "id": "AkAoVdwS4dkL",
        "outputId": "0995d5da-4205-4c81-b0ec-e6b252384020"
      },
      "source": [
        "y_test_pre_lstm = predict(model_LSTM, y_test)\n",
        "print(\"LSTM RESULTS\")\n",
        "rmse, mae = evaluate(y_test, y_test_pre_lstm)\n",
        "RMSE_lstm.append(rmse)\n",
        "MAE_lstm.append(mae)\n",
        "print(\"RMSE = \", rmse)\n",
        "print(\"MAE = \", mae)\n",
        "\n",
        "visualize(y_test, y_test_pre_lstm, \"results of LSTM\")\n"
      ],
      "execution_count": null,
      "outputs": [
        {
          "output_type": "stream",
          "text": [
            "LSTM RESULTS\n",
            "RMSE =  0.042885695\n",
            "MAE =  0.04086044\n"
          ],
          "name": "stdout"
        },
        {
          "output_type": "display_data",
          "data": {
            "image/png": "[encoded data removed]",
            "text/plain": [
              "<Figure size 432x288 with 1 Axes>"
            ]
          },
          "metadata": {
            "tags": [],
            "needs_background": "light"
          }
        }
      ]
    },
    {
      "cell_type": "code",
      "metadata": {
        "id": "dFPNA4TcC3Wm"
      },
      "source": [
        ""
      ],
      "execution_count": null,
      "outputs": []
    },
    {
      "cell_type": "code",
      "metadata": {
        "colab": {
          "base_uri": "https://localhost:8080/"
        },
        "id": "PrKPGSRWC3Zf",
        "outputId": "297666d1-a610-4fb1-dff2-8f0a04c980a6"
      },
      "source": [
        "model_GRU = model_gru()\n",
        "fit(model_GRU, X_train, X_test, y_train, y_test)"
      ],
      "execution_count": null,
      "outputs": [
        {
          "output_type": "stream",
          "text": [
            "Epoch 1/100\n",
            "5/5 [==============================] - 5s 188ms/step - loss: 0.0472 - val_loss: 0.6939\n",
            "Epoch 2/100\n",
            "5/5 [==============================] - 0s 11ms/step - loss: 0.0604 - val_loss: 0.6531\n",
            "Epoch 3/100\n",
            "5/5 [==============================] - 0s 7ms/step - loss: 0.0654 - val_loss: 0.6232\n",
            "Epoch 4/100\n",
            "5/5 [==============================] - 0s 7ms/step - loss: 0.0655 - val_loss: 0.5989\n",
            "Epoch 5/100\n",
            "5/5 [==============================] - 0s 7ms/step - loss: 0.0626 - val_loss: 0.5770\n",
            "Epoch 6/100\n",
            "5/5 [==============================] - 0s 7ms/step - loss: 0.0575 - val_loss: 0.5556\n",
            "Epoch 7/100\n",
            "5/5 [==============================] - 0s 8ms/step - loss: 0.0509 - val_loss: 0.5326\n",
            "Epoch 8/100\n",
            "5/5 [==============================] - 0s 7ms/step - loss: 0.0435 - val_loss: 0.5063\n",
            "Epoch 9/100\n",
            "5/5 [==============================] - 0s 8ms/step - loss: 0.0357 - val_loss: 0.4760\n",
            "Epoch 10/100\n",
            "5/5 [==============================] - 0s 7ms/step - loss: 0.0275 - val_loss: 0.4400\n",
            "Epoch 11/100\n",
            "5/5 [==============================] - 0s 7ms/step - loss: 0.0193 - val_loss: 0.3946\n",
            "Epoch 12/100\n",
            "5/5 [==============================] - 0s 8ms/step - loss: 0.0121 - val_loss: 0.3308\n",
            "Epoch 13/100\n",
            "5/5 [==============================] - 0s 7ms/step - loss: 0.0148 - val_loss: 0.2776\n",
            "Epoch 14/100\n",
            "5/5 [==============================] - 0s 7ms/step - loss: 0.0080 - val_loss: 0.2381\n",
            "Epoch 15/100\n",
            "5/5 [==============================] - 0s 7ms/step - loss: 0.0148 - val_loss: 0.1920\n",
            "Epoch 16/100\n",
            "5/5 [==============================] - 0s 7ms/step - loss: 0.0160 - val_loss: 0.1754\n",
            "Epoch 17/100\n",
            "5/5 [==============================] - 0s 9ms/step - loss: 0.0140 - val_loss: 0.1850\n",
            "Epoch 18/100\n",
            "5/5 [==============================] - 0s 12ms/step - loss: 0.0123 - val_loss: 0.2039\n",
            "Epoch 19/100\n",
            "5/5 [==============================] - 0s 7ms/step - loss: 0.0109 - val_loss: 0.2148\n",
            "Epoch 20/100\n",
            "5/5 [==============================] - 0s 7ms/step - loss: 0.0085 - val_loss: 0.2173\n",
            "Epoch 21/100\n",
            "5/5 [==============================] - 0s 7ms/step - loss: 0.0073 - val_loss: 0.2080\n",
            "Epoch 22/100\n",
            "5/5 [==============================] - 0s 7ms/step - loss: 0.0060 - val_loss: 0.1926\n",
            "Epoch 23/100\n",
            "5/5 [==============================] - 0s 7ms/step - loss: 0.0057 - val_loss: 0.1690\n",
            "Epoch 24/100\n",
            "5/5 [==============================] - 0s 7ms/step - loss: 0.0048 - val_loss: 0.1526\n",
            "Epoch 25/100\n",
            "5/5 [==============================] - 0s 7ms/step - loss: 0.0057 - val_loss: 0.1342\n",
            "Epoch 26/100\n",
            "5/5 [==============================] - 0s 7ms/step - loss: 0.0059 - val_loss: 0.1475\n",
            "Epoch 27/100\n",
            "5/5 [==============================] - 0s 7ms/step - loss: 0.0089 - val_loss: 0.1038\n",
            "Epoch 28/100\n",
            "5/5 [==============================] - 0s 8ms/step - loss: 0.0071 - val_loss: 0.1314\n",
            "Epoch 29/100\n",
            "5/5 [==============================] - 0s 7ms/step - loss: 0.0101 - val_loss: 0.1261\n",
            "Epoch 30/100\n",
            "5/5 [==============================] - 0s 7ms/step - loss: 0.0059 - val_loss: 0.1237\n",
            "Epoch 31/100\n",
            "5/5 [==============================] - 0s 7ms/step - loss: 0.0036 - val_loss: 0.1312\n",
            "Epoch 32/100\n",
            "5/5 [==============================] - 0s 7ms/step - loss: 0.0041 - val_loss: 0.1297\n",
            "Epoch 33/100\n",
            "5/5 [==============================] - 0s 10ms/step - loss: 0.0037 - val_loss: 0.1319\n",
            "Epoch 34/100\n",
            "5/5 [==============================] - 0s 8ms/step - loss: 0.0039 - val_loss: 0.1240\n",
            "Epoch 35/100\n",
            "5/5 [==============================] - 0s 10ms/step - loss: 0.0031 - val_loss: 0.1236\n",
            "Epoch 36/100\n",
            "5/5 [==============================] - 0s 8ms/step - loss: 0.0039 - val_loss: 0.1173\n",
            "Epoch 37/100\n",
            "5/5 [==============================] - 0s 7ms/step - loss: 0.0032 - val_loss: 0.1194\n"
          ],
          "name": "stdout"
        },
        {
          "output_type": "execute_result",
          "data": {
            "text/plain": [
              "<keras.callbacks.History at 0x7f2df15d8650>"
            ]
          },
          "metadata": {
            "tags": []
          },
          "execution_count": 145
        }
      ]
    },
    {
      "cell_type": "code",
      "metadata": {
        "colab": {
          "base_uri": "https://localhost:8080/"
        },
        "id": "FekZzDgBK2U6",
        "outputId": "f2ee9f04-b728-438f-a35d-58ec26ac5056"
      },
      "source": [
        "model_GRU.summary()"
      ],
      "execution_count": null,
      "outputs": [
        {
          "output_type": "stream",
          "text": [
            "Model: \"sequential_4\"\n",
            "_________________________________________________________________\n",
            "Layer (type)                 Output Shape              Param #   \n",
            "=================================================================\n",
            "gru (GRU)                    (None, 5, 16)             1152      \n",
            "_________________________________________________________________\n",
            "gru_1 (GRU)                  (None, 16)                1632      \n",
            "_________________________________________________________________\n",
            "dense_4 (Dense)              (None, 1)                 17        \n",
            "=================================================================\n",
            "Total params: 2,801\n",
            "Trainable params: 2,801\n",
            "Non-trainable params: 0\n",
            "_________________________________________________________________\n"
          ],
          "name": "stdout"
        }
      ]
    },
    {
      "cell_type": "code",
      "metadata": {
        "colab": {
          "base_uri": "https://localhost:8080/",
          "height": 331
        },
        "id": "9QH1G4bCC3kf",
        "outputId": "9476cb7d-426d-4620-9d55-2b2651975807"
      },
      "source": [
        "y_test_pre_gru = predict(model_GRU, y_test)\n",
        "print(\"GRU RESULTS\")\n",
        "rmse, mae = evaluate(y_test, y_test_pre_gru)\n",
        "RMSE_gru.append(rmse)\n",
        "MAE_gru.append(mae)\n",
        "print(\"RMSE = \", rmse)\n",
        "print(\"MAE = \", mae)\n",
        "\n",
        "visualize(y_test, y_test_pre_gru, \"results of GRU\")\n",
        "\n"
      ],
      "execution_count": null,
      "outputs": [
        {
          "output_type": "stream",
          "text": [
            "GRU RESULTS\n",
            "RMSE =  0.09999472\n",
            "MAE =  0.098979935\n"
          ],
          "name": "stdout"
        },
        {
          "output_type": "display_data",
          "data": {
            "image/png": "[encoded data removed]",
            "text/plain": [
              "<Figure size 432x288 with 1 Axes>"
            ]
          },
          "metadata": {
            "tags": [],
            "needs_background": "light"
          }
        }
      ]
    },
    {
      "cell_type": "code",
      "metadata": {
        "id": "fWxJfIIyC3yG"
      },
      "source": [
        ""
      ],
      "execution_count": null,
      "outputs": []
    },
    {
      "cell_type": "markdown",
      "metadata": {
        "id": "RrhjGqWB4M01"
      },
      "source": [
        "# Karnataka\n"
      ]
    },
    {
      "cell_type": "code",
      "metadata": {
        "id": "AA9wMKH74e6o"
      },
      "source": [
        "X_train,X_test, y_train, y_test = prepare(df_Ka, scaling_range=(0,1),time_step=5,multi_feature=True, response_variable_index=0,data_split_ratio=0.8)"
      ],
      "execution_count": null,
      "outputs": []
    },
    {
      "cell_type": "code",
      "metadata": {
        "colab": {
          "base_uri": "https://localhost:8080/"
        },
        "id": "hcnawmRN948K",
        "outputId": "8eeb330f-b01a-4bef-9acc-208c325bf1da"
      },
      "source": [
        "model_CNN = model_cnn()\n",
        "fit(model_CNN, X_train, X_test, y_train, y_test)"
      ],
      "execution_count": null,
      "outputs": [
        {
          "output_type": "stream",
          "text": [
            "Epoch 1/100\n",
            "5/5 [==============================] - 1s 58ms/step - loss: 0.0852 - val_loss: 1.0153\n",
            "Epoch 2/100\n",
            "5/5 [==============================] - 0s 5ms/step - loss: 0.0688 - val_loss: 0.9270\n",
            "Epoch 3/100\n",
            "5/5 [==============================] - 0s 6ms/step - loss: 0.0595 - val_loss: 0.8412\n",
            "Epoch 4/100\n",
            "5/5 [==============================] - 0s 10ms/step - loss: 0.0527 - val_loss: 0.7588\n",
            "Epoch 5/100\n",
            "5/5 [==============================] - 0s 5ms/step - loss: 0.0522 - val_loss: 0.6808\n",
            "Epoch 6/100\n",
            "5/5 [==============================] - 0s 6ms/step - loss: 0.0457 - val_loss: 0.6079\n",
            "Epoch 7/100\n",
            "5/5 [==============================] - 0s 5ms/step - loss: 0.0471 - val_loss: 0.5404\n",
            "Epoch 8/100\n",
            "5/5 [==============================] - 0s 5ms/step - loss: 0.0453 - val_loss: 0.4794\n",
            "Epoch 9/100\n",
            "5/5 [==============================] - 0s 5ms/step - loss: 0.0449 - val_loss: 0.4272\n",
            "Epoch 10/100\n",
            "5/5 [==============================] - 0s 5ms/step - loss: 0.0438 - val_loss: 0.3798\n",
            "Epoch 11/100\n",
            "5/5 [==============================] - 0s 5ms/step - loss: 0.0410 - val_loss: 0.3377\n",
            "Epoch 12/100\n",
            "5/5 [==============================] - 0s 6ms/step - loss: 0.0391 - val_loss: 0.3027\n",
            "Epoch 13/100\n",
            "5/5 [==============================] - 0s 6ms/step - loss: 0.0352 - val_loss: 0.2745\n",
            "Epoch 14/100\n",
            "5/5 [==============================] - 0s 5ms/step - loss: 0.0278 - val_loss: 0.2550\n",
            "Epoch 15/100\n",
            "5/5 [==============================] - 0s 6ms/step - loss: 0.0228 - val_loss: 0.2407\n",
            "Epoch 16/100\n",
            "5/5 [==============================] - 0s 6ms/step - loss: 0.0205 - val_loss: 0.2234\n",
            "Epoch 17/100\n",
            "5/5 [==============================] - 0s 7ms/step - loss: 0.0177 - val_loss: 0.1998\n",
            "Epoch 18/100\n",
            "5/5 [==============================] - 0s 7ms/step - loss: 0.0155 - val_loss: 0.1674\n",
            "Epoch 19/100\n",
            "5/5 [==============================] - 0s 6ms/step - loss: 0.0185 - val_loss: 0.1356\n",
            "Epoch 20/100\n",
            "5/5 [==============================] - 0s 5ms/step - loss: 0.0170 - val_loss: 0.1105\n",
            "Epoch 21/100\n",
            "5/5 [==============================] - 0s 6ms/step - loss: 0.0153 - val_loss: 0.0997\n",
            "Epoch 22/100\n",
            "5/5 [==============================] - 0s 7ms/step - loss: 0.0137 - val_loss: 0.0925\n",
            "Epoch 23/100\n",
            "5/5 [==============================] - 0s 8ms/step - loss: 0.0162 - val_loss: 0.0827\n",
            "Epoch 24/100\n",
            "5/5 [==============================] - 0s 6ms/step - loss: 0.0140 - val_loss: 0.0829\n",
            "Epoch 25/100\n",
            "5/5 [==============================] - 0s 6ms/step - loss: 0.0133 - val_loss: 0.0869\n",
            "Epoch 26/100\n",
            "5/5 [==============================] - 0s 5ms/step - loss: 0.0131 - val_loss: 0.0897\n",
            "Epoch 27/100\n",
            "5/5 [==============================] - 0s 6ms/step - loss: 0.0124 - val_loss: 0.0864\n",
            "Epoch 28/100\n",
            "5/5 [==============================] - 0s 6ms/step - loss: 0.0142 - val_loss: 0.0800\n",
            "Epoch 29/100\n",
            "5/5 [==============================] - 0s 6ms/step - loss: 0.0121 - val_loss: 0.0722\n",
            "Epoch 30/100\n",
            "5/5 [==============================] - 0s 6ms/step - loss: 0.0115 - val_loss: 0.0621\n",
            "Epoch 31/100\n",
            "5/5 [==============================] - 0s 5ms/step - loss: 0.0115 - val_loss: 0.0582\n",
            "Epoch 32/100\n",
            "5/5 [==============================] - 0s 5ms/step - loss: 0.0114 - val_loss: 0.0586\n",
            "Epoch 33/100\n",
            "5/5 [==============================] - 0s 8ms/step - loss: 0.0113 - val_loss: 0.0599\n",
            "Epoch 34/100\n",
            "5/5 [==============================] - 0s 5ms/step - loss: 0.0122 - val_loss: 0.0572\n",
            "Epoch 35/100\n",
            "5/5 [==============================] - 0s 7ms/step - loss: 0.0112 - val_loss: 0.0522\n",
            "Epoch 36/100\n",
            "5/5 [==============================] - 0s 5ms/step - loss: 0.0094 - val_loss: 0.0486\n",
            "Epoch 37/100\n",
            "5/5 [==============================] - 0s 6ms/step - loss: 0.0093 - val_loss: 0.0476\n",
            "Epoch 38/100\n",
            "5/5 [==============================] - 0s 7ms/step - loss: 0.0095 - val_loss: 0.0477\n",
            "Epoch 39/100\n",
            "5/5 [==============================] - 0s 5ms/step - loss: 0.0112 - val_loss: 0.0482\n",
            "Epoch 40/100\n",
            "5/5 [==============================] - 0s 5ms/step - loss: 0.0101 - val_loss: 0.0481\n",
            "Epoch 41/100\n",
            "5/5 [==============================] - 0s 10ms/step - loss: 0.0099 - val_loss: 0.0479\n",
            "Epoch 42/100\n",
            "5/5 [==============================] - 0s 5ms/step - loss: 0.0109 - val_loss: 0.0480\n",
            "Epoch 43/100\n",
            "5/5 [==============================] - 0s 6ms/step - loss: 0.0098 - val_loss: 0.0472\n",
            "Epoch 44/100\n",
            "5/5 [==============================] - 0s 5ms/step - loss: 0.0098 - val_loss: 0.0466\n",
            "Epoch 45/100\n",
            "5/5 [==============================] - 0s 6ms/step - loss: 0.0101 - val_loss: 0.0471\n",
            "Epoch 46/100\n",
            "5/5 [==============================] - 0s 5ms/step - loss: 0.0086 - val_loss: 0.0472\n",
            "Epoch 47/100\n",
            "5/5 [==============================] - 0s 7ms/step - loss: 0.0072 - val_loss: 0.0476\n",
            "Epoch 48/100\n",
            "5/5 [==============================] - 0s 7ms/step - loss: 0.0097 - val_loss: 0.0494\n",
            "Epoch 49/100\n",
            "5/5 [==============================] - 0s 6ms/step - loss: 0.0086 - val_loss: 0.0576\n",
            "Epoch 50/100\n",
            "5/5 [==============================] - 0s 6ms/step - loss: 0.0085 - val_loss: 0.0730\n",
            "Epoch 51/100\n",
            "5/5 [==============================] - 0s 6ms/step - loss: 0.0084 - val_loss: 0.0664\n",
            "Epoch 52/100\n",
            "5/5 [==============================] - 0s 6ms/step - loss: 0.0084 - val_loss: 0.0605\n",
            "Epoch 53/100\n",
            "5/5 [==============================] - 0s 6ms/step - loss: 0.0091 - val_loss: 0.0516\n",
            "Epoch 54/100\n",
            "5/5 [==============================] - 0s 5ms/step - loss: 0.0082 - val_loss: 0.0479\n"
          ],
          "name": "stdout"
        },
        {
          "output_type": "execute_result",
          "data": {
            "text/plain": [
              "<keras.callbacks.History at 0x7f2df1105c10>"
            ]
          },
          "metadata": {
            "tags": []
          },
          "execution_count": 149
        }
      ]
    },
    {
      "cell_type": "code",
      "metadata": {
        "colab": {
          "base_uri": "https://localhost:8080/",
          "height": 368
        },
        "id": "jCESTke5-A76",
        "outputId": "161d0407-5ce9-405a-d54e-8099892e10e6"
      },
      "source": [
        "y_test_pre_cnn = predict(model_CNN, y_test)\n",
        "print(\"CNN RESULTS\")\n",
        "rmse, mae = evaluate(y_test, y_test_pre_cnn)\n",
        "RMSE_cnn.append(rmse)\n",
        "MAE_cnn.append(mae)\n",
        "print(\"RMSE = \", rmse)\n",
        "print(\"MAE = \", mae)\n",
        "\n",
        "visualize(y_test, y_test_pre_cnn, \"results of CNN\")"
      ],
      "execution_count": null,
      "outputs": [
        {
          "output_type": "stream",
          "text": [
            "WARNING:tensorflow:5 out of the last 5 calls to <function Model.make_predict_function.<locals>.predict_function at 0x7f2df17479e0> triggered tf.function retracing. Tracing is expensive and the excessive number of tracings could be due to (1) creating @tf.function repeatedly in a loop, (2) passing tensors with different shapes, (3) passing Python objects instead of tensors. For (1), please define your @tf.function outside of the loop. For (2), @tf.function has experimental_relax_shapes=True option that relaxes argument shapes that can avoid unnecessary retracing. For (3), please refer to https://www.tensorflow.org/guide/function#controlling_retracing and https://www.tensorflow.org/api_docs/python/tf/function for  more details.\n",
            "CNN RESULTS\n",
            "RMSE =  0.09050637\n",
            "MAE =  0.07521052\n"
          ],
          "name": "stdout"
        },
        {
          "output_type": "display_data",
          "data": {
            "image/png": "[encoded data removed]",
            "text/plain": [
              "<Figure size 432x288 with 1 Axes>"
            ]
          },
          "metadata": {
            "tags": [],
            "needs_background": "light"
          }
        }
      ]
    },
    {
      "cell_type": "code",
      "metadata": {
        "colab": {
          "base_uri": "https://localhost:8080/"
        },
        "id": "lP059zY-2H89",
        "outputId": "dc0b2eb3-d1a3-4ceb-9a72-88b493ac57b9"
      },
      "source": [
        "model_MLP = model_mlp()\n",
        "fit(model_MLP, X_train, X_test, y_train, y_test)"
      ],
      "execution_count": null,
      "outputs": [
        {
          "output_type": "stream",
          "text": [
            "Epoch 1/100\n",
            "5/5 [==============================] - 1s 44ms/step - loss: 0.0385 - val_loss: 0.5558\n",
            "Epoch 2/100\n",
            "5/5 [==============================] - 0s 5ms/step - loss: 0.0363 - val_loss: 0.5618\n",
            "Epoch 3/100\n",
            "5/5 [==============================] - 0s 5ms/step - loss: 0.0350 - val_loss: 0.5598\n",
            "Epoch 4/100\n",
            "5/5 [==============================] - 0s 5ms/step - loss: 0.0342 - val_loss: 0.5517\n",
            "Epoch 5/100\n",
            "5/5 [==============================] - 0s 6ms/step - loss: 0.0336 - val_loss: 0.5392\n",
            "Epoch 6/100\n",
            "5/5 [==============================] - 0s 5ms/step - loss: 0.0331 - val_loss: 0.5255\n",
            "Epoch 7/100\n",
            "5/5 [==============================] - 0s 6ms/step - loss: 0.0325 - val_loss: 0.5120\n",
            "Epoch 8/100\n",
            "5/5 [==============================] - 0s 5ms/step - loss: 0.0319 - val_loss: 0.4993\n",
            "Epoch 9/100\n",
            "5/5 [==============================] - 0s 5ms/step - loss: 0.0313 - val_loss: 0.4871\n",
            "Epoch 10/100\n",
            "5/5 [==============================] - 0s 5ms/step - loss: 0.0306 - val_loss: 0.4760\n",
            "Epoch 11/100\n",
            "5/5 [==============================] - 0s 4ms/step - loss: 0.0301 - val_loss: 0.4642\n",
            "Epoch 12/100\n",
            "5/5 [==============================] - 0s 5ms/step - loss: 0.0295 - val_loss: 0.4520\n",
            "Epoch 13/100\n",
            "5/5 [==============================] - 0s 6ms/step - loss: 0.0289 - val_loss: 0.4390\n",
            "Epoch 14/100\n",
            "5/5 [==============================] - 0s 4ms/step - loss: 0.0282 - val_loss: 0.4259\n",
            "Epoch 15/100\n",
            "5/5 [==============================] - 0s 5ms/step - loss: 0.0276 - val_loss: 0.4135\n",
            "Epoch 16/100\n",
            "5/5 [==============================] - 0s 5ms/step - loss: 0.0271 - val_loss: 0.4028\n",
            "Epoch 17/100\n",
            "5/5 [==============================] - 0s 5ms/step - loss: 0.0268 - val_loss: 0.3938\n",
            "Epoch 18/100\n",
            "5/5 [==============================] - 0s 5ms/step - loss: 0.0265 - val_loss: 0.3859\n",
            "Epoch 19/100\n",
            "5/5 [==============================] - 0s 6ms/step - loss: 0.0261 - val_loss: 0.3791\n",
            "Epoch 20/100\n",
            "5/5 [==============================] - 0s 6ms/step - loss: 0.0256 - val_loss: 0.3734\n",
            "Epoch 21/100\n",
            "5/5 [==============================] - 0s 6ms/step - loss: 0.0252 - val_loss: 0.3697\n",
            "Epoch 22/100\n",
            "5/5 [==============================] - 0s 10ms/step - loss: 0.0249 - val_loss: 0.3668\n",
            "Epoch 23/100\n",
            "5/5 [==============================] - 0s 5ms/step - loss: 0.0246 - val_loss: 0.3640\n",
            "Epoch 24/100\n",
            "5/5 [==============================] - 0s 6ms/step - loss: 0.0243 - val_loss: 0.3609\n",
            "Epoch 25/100\n",
            "5/5 [==============================] - 0s 6ms/step - loss: 0.0241 - val_loss: 0.3581\n",
            "Epoch 26/100\n",
            "5/5 [==============================] - 0s 6ms/step - loss: 0.0238 - val_loss: 0.3554\n",
            "Epoch 27/100\n",
            "5/5 [==============================] - 0s 6ms/step - loss: 0.0236 - val_loss: 0.3526\n",
            "Epoch 28/100\n",
            "5/5 [==============================] - 0s 6ms/step - loss: 0.0234 - val_loss: 0.3498\n",
            "Epoch 29/100\n",
            "5/5 [==============================] - 0s 8ms/step - loss: 0.0233 - val_loss: 0.3473\n",
            "Epoch 30/100\n",
            "5/5 [==============================] - 0s 10ms/step - loss: 0.0231 - val_loss: 0.3450\n",
            "Epoch 31/100\n",
            "5/5 [==============================] - 0s 6ms/step - loss: 0.0230 - val_loss: 0.3434\n",
            "Epoch 32/100\n",
            "5/5 [==============================] - 0s 6ms/step - loss: 0.0228 - val_loss: 0.3418\n",
            "Epoch 33/100\n",
            "5/5 [==============================] - 0s 5ms/step - loss: 0.0227 - val_loss: 0.3399\n",
            "Epoch 34/100\n",
            "5/5 [==============================] - 0s 6ms/step - loss: 0.0226 - val_loss: 0.3377\n",
            "Epoch 35/100\n",
            "5/5 [==============================] - 0s 6ms/step - loss: 0.0224 - val_loss: 0.3355\n",
            "Epoch 36/100\n",
            "5/5 [==============================] - 0s 5ms/step - loss: 0.0223 - val_loss: 0.3327\n",
            "Epoch 37/100\n",
            "5/5 [==============================] - 0s 5ms/step - loss: 0.0222 - val_loss: 0.3289\n",
            "Epoch 38/100\n",
            "5/5 [==============================] - 0s 6ms/step - loss: 0.0220 - val_loss: 0.3251\n",
            "Epoch 39/100\n",
            "5/5 [==============================] - 0s 6ms/step - loss: 0.0218 - val_loss: 0.3196\n",
            "Epoch 40/100\n",
            "5/5 [==============================] - 0s 6ms/step - loss: 0.0216 - val_loss: 0.3136\n",
            "Epoch 41/100\n",
            "5/5 [==============================] - 0s 6ms/step - loss: 0.0211 - val_loss: 0.3068\n",
            "Epoch 42/100\n",
            "5/5 [==============================] - 0s 6ms/step - loss: 0.0204 - val_loss: 0.2949\n",
            "Epoch 43/100\n",
            "5/5 [==============================] - 0s 7ms/step - loss: 0.0196 - val_loss: 0.2824\n",
            "Epoch 44/100\n",
            "5/5 [==============================] - 0s 5ms/step - loss: 0.0189 - val_loss: 0.2701\n",
            "Epoch 45/100\n",
            "5/5 [==============================] - 0s 7ms/step - loss: 0.0185 - val_loss: 0.2592\n",
            "Epoch 46/100\n",
            "5/5 [==============================] - 0s 5ms/step - loss: 0.0181 - val_loss: 0.2506\n",
            "Epoch 47/100\n",
            "5/5 [==============================] - 0s 6ms/step - loss: 0.0177 - val_loss: 0.2443\n",
            "Epoch 48/100\n",
            "5/5 [==============================] - 0s 6ms/step - loss: 0.0172 - val_loss: 0.2396\n",
            "Epoch 49/100\n",
            "5/5 [==============================] - 0s 6ms/step - loss: 0.0167 - val_loss: 0.2347\n",
            "Epoch 50/100\n",
            "5/5 [==============================] - 0s 7ms/step - loss: 0.0161 - val_loss: 0.2287\n",
            "Epoch 51/100\n",
            "5/5 [==============================] - 0s 6ms/step - loss: 0.0156 - val_loss: 0.2216\n",
            "Epoch 52/100\n",
            "5/5 [==============================] - 0s 6ms/step - loss: 0.0150 - val_loss: 0.2166\n",
            "Epoch 53/100\n",
            "5/5 [==============================] - 0s 6ms/step - loss: 0.0145 - val_loss: 0.2130\n",
            "Epoch 54/100\n",
            "5/5 [==============================] - 0s 6ms/step - loss: 0.0141 - val_loss: 0.2099\n",
            "Epoch 55/100\n",
            "5/5 [==============================] - 0s 6ms/step - loss: 0.0137 - val_loss: 0.2069\n",
            "Epoch 56/100\n",
            "5/5 [==============================] - 0s 6ms/step - loss: 0.0133 - val_loss: 0.2046\n",
            "Epoch 57/100\n",
            "5/5 [==============================] - 0s 5ms/step - loss: 0.0130 - val_loss: 0.2024\n",
            "Epoch 58/100\n",
            "5/5 [==============================] - 0s 6ms/step - loss: 0.0127 - val_loss: 0.2008\n",
            "Epoch 59/100\n",
            "5/5 [==============================] - 0s 6ms/step - loss: 0.0123 - val_loss: 0.2000\n",
            "Epoch 60/100\n",
            "5/5 [==============================] - 0s 6ms/step - loss: 0.0120 - val_loss: 0.1993\n",
            "Epoch 61/100\n",
            "5/5 [==============================] - 0s 7ms/step - loss: 0.0117 - val_loss: 0.1982\n",
            "Epoch 62/100\n",
            "5/5 [==============================] - 0s 7ms/step - loss: 0.0116 - val_loss: 0.1945\n",
            "Epoch 63/100\n",
            "5/5 [==============================] - 0s 6ms/step - loss: 0.0114 - val_loss: 0.1910\n",
            "Epoch 64/100\n",
            "5/5 [==============================] - 0s 6ms/step - loss: 0.0112 - val_loss: 0.1877\n",
            "Epoch 65/100\n",
            "5/5 [==============================] - 0s 8ms/step - loss: 0.0110 - val_loss: 0.1838\n",
            "Epoch 66/100\n",
            "5/5 [==============================] - 0s 6ms/step - loss: 0.0107 - val_loss: 0.1801\n",
            "Epoch 67/100\n",
            "5/5 [==============================] - 0s 6ms/step - loss: 0.0104 - val_loss: 0.1764\n",
            "Epoch 68/100\n",
            "5/5 [==============================] - 0s 6ms/step - loss: 0.0102 - val_loss: 0.1735\n",
            "Epoch 69/100\n",
            "5/5 [==============================] - 0s 6ms/step - loss: 0.0100 - val_loss: 0.1709\n",
            "Epoch 70/100\n",
            "5/5 [==============================] - 0s 7ms/step - loss: 0.0098 - val_loss: 0.1688\n",
            "Epoch 71/100\n",
            "5/5 [==============================] - 0s 6ms/step - loss: 0.0097 - val_loss: 0.1657\n",
            "Epoch 72/100\n",
            "5/5 [==============================] - 0s 5ms/step - loss: 0.0096 - val_loss: 0.1633\n",
            "Epoch 73/100\n",
            "5/5 [==============================] - 0s 6ms/step - loss: 0.0095 - val_loss: 0.1614\n",
            "Epoch 74/100\n",
            "5/5 [==============================] - 0s 6ms/step - loss: 0.0094 - val_loss: 0.1591\n",
            "Epoch 75/100\n",
            "5/5 [==============================] - 0s 6ms/step - loss: 0.0093 - val_loss: 0.1580\n",
            "Epoch 76/100\n",
            "5/5 [==============================] - 0s 6ms/step - loss: 0.0092 - val_loss: 0.1563\n",
            "Epoch 77/100\n",
            "5/5 [==============================] - 0s 6ms/step - loss: 0.0091 - val_loss: 0.1551\n",
            "Epoch 78/100\n",
            "5/5 [==============================] - 0s 6ms/step - loss: 0.0091 - val_loss: 0.1531\n",
            "Epoch 79/100\n",
            "5/5 [==============================] - 0s 6ms/step - loss: 0.0090 - val_loss: 0.1520\n",
            "Epoch 80/100\n",
            "5/5 [==============================] - 0s 6ms/step - loss: 0.0089 - val_loss: 0.1518\n",
            "Epoch 81/100\n",
            "5/5 [==============================] - 0s 6ms/step - loss: 0.0088 - val_loss: 0.1503\n",
            "Epoch 82/100\n",
            "5/5 [==============================] - 0s 5ms/step - loss: 0.0087 - val_loss: 0.1489\n",
            "Epoch 83/100\n",
            "5/5 [==============================] - 0s 5ms/step - loss: 0.0087 - val_loss: 0.1489\n",
            "Epoch 84/100\n",
            "5/5 [==============================] - 0s 6ms/step - loss: 0.0086 - val_loss: 0.1474\n",
            "Epoch 85/100\n",
            "5/5 [==============================] - 0s 6ms/step - loss: 0.0085 - val_loss: 0.1463\n",
            "Epoch 86/100\n",
            "5/5 [==============================] - 0s 5ms/step - loss: 0.0085 - val_loss: 0.1471\n",
            "Epoch 87/100\n",
            "5/5 [==============================] - 0s 6ms/step - loss: 0.0084 - val_loss: 0.1469\n",
            "Epoch 88/100\n",
            "5/5 [==============================] - 0s 8ms/step - loss: 0.0083 - val_loss: 0.1453\n",
            "Epoch 89/100\n",
            "5/5 [==============================] - 0s 6ms/step - loss: 0.0082 - val_loss: 0.1448\n",
            "Epoch 90/100\n",
            "5/5 [==============================] - 0s 7ms/step - loss: 0.0081 - val_loss: 0.1434\n",
            "Epoch 91/100\n",
            "5/5 [==============================] - 0s 6ms/step - loss: 0.0081 - val_loss: 0.1427\n",
            "Epoch 92/100\n",
            "5/5 [==============================] - 0s 6ms/step - loss: 0.0081 - val_loss: 0.1414\n",
            "Epoch 93/100\n",
            "5/5 [==============================] - 0s 6ms/step - loss: 0.0080 - val_loss: 0.1418\n",
            "Epoch 94/100\n",
            "5/5 [==============================] - 0s 6ms/step - loss: 0.0080 - val_loss: 0.1423\n",
            "Epoch 95/100\n",
            "5/5 [==============================] - 0s 6ms/step - loss: 0.0079 - val_loss: 0.1399\n",
            "Epoch 96/100\n",
            "5/5 [==============================] - 0s 5ms/step - loss: 0.0078 - val_loss: 0.1398\n",
            "Epoch 97/100\n",
            "5/5 [==============================] - 0s 5ms/step - loss: 0.0078 - val_loss: 0.1393\n",
            "Epoch 98/100\n",
            "5/5 [==============================] - 0s 8ms/step - loss: 0.0077 - val_loss: 0.1391\n",
            "Epoch 99/100\n",
            "5/5 [==============================] - 0s 6ms/step - loss: 0.0076 - val_loss: 0.1377\n",
            "Epoch 100/100\n",
            "5/5 [==============================] - 0s 6ms/step - loss: 0.0076 - val_loss: 0.1367\n"
          ],
          "name": "stdout"
        },
        {
          "output_type": "execute_result",
          "data": {
            "text/plain": [
              "<keras.callbacks.History at 0x7f2df1758ed0>"
            ]
          },
          "metadata": {
            "tags": []
          },
          "execution_count": 151
        }
      ]
    },
    {
      "cell_type": "code",
      "metadata": {
        "colab": {
          "base_uri": "https://localhost:8080/",
          "height": 368
        },
        "id": "-ctROxPZ2Iy5",
        "outputId": "7361f85f-0bdb-41c5-cf4c-880b3de683d9"
      },
      "source": [
        "y_test_pre_mlp = predict(model_MLP, y_test)\n",
        "print(\"MLP RESULTS\")\n",
        "rmse, mae = evaluate(y_test, y_test_pre_mlp)\n",
        "RMSE_mlp.append(rmse)\n",
        "MAE_mlp.append(mae)\n",
        "print(\"RMSE = \", rmse)\n",
        "print(\"MAE = \", mae)\n",
        "\n",
        "visualize(y_test, y_test_pre_mlp, \"results of MLP\")"
      ],
      "execution_count": null,
      "outputs": [
        {
          "output_type": "stream",
          "text": [
            "WARNING:tensorflow:6 out of the last 6 calls to <function Model.make_predict_function.<locals>.predict_function at 0x7f2df17d9b00> triggered tf.function retracing. Tracing is expensive and the excessive number of tracings could be due to (1) creating @tf.function repeatedly in a loop, (2) passing tensors with different shapes, (3) passing Python objects instead of tensors. For (1), please define your @tf.function outside of the loop. For (2), @tf.function has experimental_relax_shapes=True option that relaxes argument shapes that can avoid unnecessary retracing. For (3), please refer to https://www.tensorflow.org/guide/function#controlling_retracing and https://www.tensorflow.org/api_docs/python/tf/function for  more details.\n",
            "MLP RESULTS\n",
            "RMSE =  0.05667894\n",
            "MAE =  0.04147262\n"
          ],
          "name": "stdout"
        },
        {
          "output_type": "display_data",
          "data": {
            "image/png": "[encoded data removed]",
            "text/plain": [
              "<Figure size 432x288 with 1 Axes>"
            ]
          },
          "metadata": {
            "tags": [],
            "needs_background": "light"
          }
        }
      ]
    },
    {
      "cell_type": "code",
      "metadata": {
        "colab": {
          "base_uri": "https://localhost:8080/"
        },
        "id": "86O2EN8d4fFE",
        "outputId": "b9757b60-aad2-471c-c251-65ec492facac"
      },
      "source": [
        "model_LSTM = model_lstm()\n",
        "fit(model_LSTM, X_train, X_test, y_train, y_test)"
      ],
      "execution_count": null,
      "outputs": [
        {
          "output_type": "stream",
          "text": [
            "Epoch 1/100\n",
            "5/5 [==============================] - 3s 214ms/step - loss: 0.0490 - val_loss: 0.8109\n",
            "Epoch 2/100\n",
            "5/5 [==============================] - 0s 7ms/step - loss: 0.0441 - val_loss: 0.7711\n",
            "Epoch 3/100\n",
            "5/5 [==============================] - 0s 7ms/step - loss: 0.0472 - val_loss: 0.7395\n",
            "Epoch 4/100\n",
            "5/5 [==============================] - 0s 7ms/step - loss: 0.0500 - val_loss: 0.7147\n",
            "Epoch 5/100\n",
            "5/5 [==============================] - 0s 7ms/step - loss: 0.0524 - val_loss: 0.6959\n",
            "Epoch 6/100\n",
            "5/5 [==============================] - 0s 8ms/step - loss: 0.0529 - val_loss: 0.6814\n",
            "Epoch 7/100\n",
            "5/5 [==============================] - 0s 7ms/step - loss: 0.0518 - val_loss: 0.6691\n",
            "Epoch 8/100\n",
            "5/5 [==============================] - 0s 8ms/step - loss: 0.0495 - val_loss: 0.6569\n",
            "Epoch 9/100\n",
            "5/5 [==============================] - 0s 8ms/step - loss: 0.0468 - val_loss: 0.6436\n",
            "Epoch 10/100\n",
            "5/5 [==============================] - 0s 9ms/step - loss: 0.0438 - val_loss: 0.6287\n",
            "Epoch 11/100\n",
            "5/5 [==============================] - 0s 8ms/step - loss: 0.0405 - val_loss: 0.6101\n",
            "Epoch 12/100\n",
            "5/5 [==============================] - 0s 7ms/step - loss: 0.0376 - val_loss: 0.5865\n",
            "Epoch 13/100\n",
            "5/5 [==============================] - 0s 7ms/step - loss: 0.0350 - val_loss: 0.5588\n",
            "Epoch 14/100\n",
            "5/5 [==============================] - 0s 6ms/step - loss: 0.0322 - val_loss: 0.5268\n",
            "Epoch 15/100\n",
            "5/5 [==============================] - 0s 7ms/step - loss: 0.0289 - val_loss: 0.4929\n",
            "Epoch 16/100\n",
            "5/5 [==============================] - 0s 7ms/step - loss: 0.0244 - val_loss: 0.4540\n",
            "Epoch 17/100\n",
            "5/5 [==============================] - 0s 7ms/step - loss: 0.0193 - val_loss: 0.4055\n",
            "Epoch 18/100\n",
            "5/5 [==============================] - 0s 7ms/step - loss: 0.0144 - val_loss: 0.3476\n",
            "Epoch 19/100\n",
            "5/5 [==============================] - 0s 7ms/step - loss: 0.0116 - val_loss: 0.2827\n",
            "Epoch 20/100\n",
            "5/5 [==============================] - 0s 7ms/step - loss: 0.0104 - val_loss: 0.2200\n",
            "Epoch 21/100\n",
            "5/5 [==============================] - 0s 12ms/step - loss: 0.0105 - val_loss: 0.1648\n",
            "Epoch 22/100\n",
            "5/5 [==============================] - 0s 8ms/step - loss: 0.0106 - val_loss: 0.1167\n",
            "Epoch 23/100\n",
            "5/5 [==============================] - 0s 7ms/step - loss: 0.0106 - val_loss: 0.0829\n",
            "Epoch 24/100\n",
            "5/5 [==============================] - 0s 10ms/step - loss: 0.0103 - val_loss: 0.0633\n",
            "Epoch 25/100\n",
            "5/5 [==============================] - 0s 8ms/step - loss: 0.0099 - val_loss: 0.0611\n",
            "Epoch 26/100\n",
            "5/5 [==============================] - 0s 8ms/step - loss: 0.0097 - val_loss: 0.0627\n",
            "Epoch 27/100\n",
            "5/5 [==============================] - 0s 8ms/step - loss: 0.0093 - val_loss: 0.0691\n",
            "Epoch 28/100\n",
            "5/5 [==============================] - 0s 8ms/step - loss: 0.0088 - val_loss: 0.0782\n",
            "Epoch 29/100\n",
            "5/5 [==============================] - 0s 8ms/step - loss: 0.0081 - val_loss: 0.0878\n",
            "Epoch 30/100\n",
            "5/5 [==============================] - 0s 7ms/step - loss: 0.0077 - val_loss: 0.1063\n",
            "Epoch 31/100\n",
            "5/5 [==============================] - 0s 9ms/step - loss: 0.0072 - val_loss: 0.1329\n",
            "Epoch 32/100\n",
            "5/5 [==============================] - 0s 9ms/step - loss: 0.0070 - val_loss: 0.1583\n",
            "Epoch 33/100\n",
            "5/5 [==============================] - 0s 7ms/step - loss: 0.0066 - val_loss: 0.1685\n",
            "Epoch 34/100\n",
            "5/5 [==============================] - 0s 7ms/step - loss: 0.0062 - val_loss: 0.1810\n",
            "Epoch 35/100\n",
            "5/5 [==============================] - 0s 9ms/step - loss: 0.0059 - val_loss: 0.1940\n"
          ],
          "name": "stdout"
        },
        {
          "output_type": "execute_result",
          "data": {
            "text/plain": [
              "<keras.callbacks.History at 0x7f2df1341e10>"
            ]
          },
          "metadata": {
            "tags": []
          },
          "execution_count": 153
        }
      ]
    },
    {
      "cell_type": "code",
      "metadata": {
        "colab": {
          "base_uri": "https://localhost:8080/",
          "height": 331
        },
        "id": "XhidBZQB4fH8",
        "outputId": "dec0e82e-fc94-4f0f-e8d9-26e0dbfff922"
      },
      "source": [
        "y_test_pre_lstm = predict(model_LSTM, y_test)\n",
        "print(\"LSTM RESULTS\")\n",
        "rmse, mae = evaluate(y_test, y_test_pre_lstm)\n",
        "RMSE_lstm.append(rmse)\n",
        "MAE_lstm.append(mae)\n",
        "print(\"RMSE = \", rmse)\n",
        "print(\"MAE = \", mae)\n",
        "\n",
        "visualize(y_test, y_test_pre_lstm, \"results of LSTM\")"
      ],
      "execution_count": null,
      "outputs": [
        {
          "output_type": "stream",
          "text": [
            "LSTM RESULTS\n",
            "RMSE =  0.2655313\n",
            "MAE =  0.23874329\n"
          ],
          "name": "stdout"
        },
        {
          "output_type": "display_data",
          "data": {
            "image/png": "[encoded data removed]",
            "text/plain": [
              "<Figure size 432x288 with 1 Axes>"
            ]
          },
          "metadata": {
            "tags": [],
            "needs_background": "light"
          }
        }
      ]
    },
    {
      "cell_type": "code",
      "metadata": {
        "colab": {
          "base_uri": "https://localhost:8080/"
        },
        "id": "5JpL1NsY6fMq",
        "outputId": "d546f76f-35b4-49e0-c6ea-baf0d21af819"
      },
      "source": [
        "model_GRU = model_gru()\n",
        "fit(model_GRU, X_train, X_test, y_train, y_test)"
      ],
      "execution_count": null,
      "outputs": [
        {
          "output_type": "stream",
          "text": [
            "Epoch 1/100\n",
            "5/5 [==============================] - 3s 194ms/step - loss: 0.0185 - val_loss: 0.3723\n",
            "Epoch 2/100\n",
            "5/5 [==============================] - 0s 7ms/step - loss: 0.0248 - val_loss: 0.3283\n",
            "Epoch 3/100\n",
            "5/5 [==============================] - 0s 7ms/step - loss: 0.0230 - val_loss: 0.3198\n",
            "Epoch 4/100\n",
            "5/5 [==============================] - 0s 7ms/step - loss: 0.0119 - val_loss: 0.3054\n",
            "Epoch 5/100\n",
            "5/5 [==============================] - 0s 7ms/step - loss: 0.0126 - val_loss: 0.2670\n",
            "Epoch 6/100\n",
            "5/5 [==============================] - 0s 8ms/step - loss: 0.0115 - val_loss: 0.2293\n",
            "Epoch 7/100\n",
            "5/5 [==============================] - 0s 7ms/step - loss: 0.0114 - val_loss: 0.2129\n",
            "Epoch 8/100\n",
            "5/5 [==============================] - 0s 8ms/step - loss: 0.0105 - val_loss: 0.2013\n",
            "Epoch 9/100\n",
            "5/5 [==============================] - 0s 8ms/step - loss: 0.0111 - val_loss: 0.1885\n",
            "Epoch 10/100\n",
            "5/5 [==============================] - 0s 8ms/step - loss: 0.0108 - val_loss: 0.1766\n",
            "Epoch 11/100\n",
            "5/5 [==============================] - 0s 7ms/step - loss: 0.0100 - val_loss: 0.1682\n",
            "Epoch 12/100\n",
            "5/5 [==============================] - 0s 9ms/step - loss: 0.0094 - val_loss: 0.1643\n",
            "Epoch 13/100\n",
            "5/5 [==============================] - 0s 7ms/step - loss: 0.0090 - val_loss: 0.1603\n",
            "Epoch 14/100\n",
            "5/5 [==============================] - 0s 7ms/step - loss: 0.0088 - val_loss: 0.1538\n",
            "Epoch 15/100\n",
            "5/5 [==============================] - 0s 10ms/step - loss: 0.0081 - val_loss: 0.1483\n",
            "Epoch 16/100\n",
            "5/5 [==============================] - 0s 10ms/step - loss: 0.0073 - val_loss: 0.1457\n",
            "Epoch 17/100\n",
            "5/5 [==============================] - 0s 8ms/step - loss: 0.0075 - val_loss: 0.1377\n",
            "Epoch 18/100\n",
            "5/5 [==============================] - 0s 8ms/step - loss: 0.0070 - val_loss: 0.1273\n",
            "Epoch 19/100\n",
            "5/5 [==============================] - 0s 7ms/step - loss: 0.0064 - val_loss: 0.1226\n",
            "Epoch 20/100\n",
            "5/5 [==============================] - 0s 7ms/step - loss: 0.0060 - val_loss: 0.1217\n",
            "Epoch 21/100\n",
            "5/5 [==============================] - 0s 7ms/step - loss: 0.0067 - val_loss: 0.1098\n",
            "Epoch 22/100\n",
            "5/5 [==============================] - 0s 7ms/step - loss: 0.0055 - val_loss: 0.1050\n",
            "Epoch 23/100\n",
            "5/5 [==============================] - 0s 7ms/step - loss: 0.0052 - val_loss: 0.0989\n",
            "Epoch 24/100\n",
            "5/5 [==============================] - 0s 8ms/step - loss: 0.0050 - val_loss: 0.0905\n",
            "Epoch 25/100\n",
            "5/5 [==============================] - 0s 7ms/step - loss: 0.0048 - val_loss: 0.0815\n",
            "Epoch 26/100\n",
            "5/5 [==============================] - 0s 7ms/step - loss: 0.0045 - val_loss: 0.0746\n",
            "Epoch 27/100\n",
            "5/5 [==============================] - 0s 8ms/step - loss: 0.0043 - val_loss: 0.0695\n",
            "Epoch 28/100\n",
            "5/5 [==============================] - 0s 7ms/step - loss: 0.0042 - val_loss: 0.0656\n",
            "Epoch 29/100\n",
            "5/5 [==============================] - 0s 8ms/step - loss: 0.0043 - val_loss: 0.0555\n",
            "Epoch 30/100\n",
            "5/5 [==============================] - 0s 8ms/step - loss: 0.0042 - val_loss: 0.0605\n",
            "Epoch 31/100\n",
            "5/5 [==============================] - 0s 8ms/step - loss: 0.0041 - val_loss: 0.0573\n",
            "Epoch 32/100\n",
            "5/5 [==============================] - 0s 14ms/step - loss: 0.0043 - val_loss: 0.0565\n",
            "Epoch 33/100\n",
            "5/5 [==============================] - 0s 7ms/step - loss: 0.0044 - val_loss: 0.0520\n",
            "Epoch 34/100\n",
            "5/5 [==============================] - 0s 7ms/step - loss: 0.0041 - val_loss: 0.0479\n",
            "Epoch 35/100\n",
            "5/5 [==============================] - 0s 7ms/step - loss: 0.0041 - val_loss: 0.0482\n",
            "Epoch 36/100\n",
            "5/5 [==============================] - 0s 8ms/step - loss: 0.0037 - val_loss: 0.0488\n",
            "Epoch 37/100\n",
            "5/5 [==============================] - 0s 9ms/step - loss: 0.0040 - val_loss: 0.0532\n",
            "Epoch 38/100\n",
            "5/5 [==============================] - 0s 7ms/step - loss: 0.0039 - val_loss: 0.0511\n",
            "Epoch 39/100\n",
            "5/5 [==============================] - 0s 8ms/step - loss: 0.0039 - val_loss: 0.0495\n",
            "Epoch 40/100\n",
            "5/5 [==============================] - 0s 8ms/step - loss: 0.0037 - val_loss: 0.0474\n",
            "Epoch 41/100\n",
            "5/5 [==============================] - 0s 8ms/step - loss: 0.0037 - val_loss: 0.0467\n",
            "Epoch 42/100\n",
            "5/5 [==============================] - 0s 7ms/step - loss: 0.0035 - val_loss: 0.0471\n",
            "Epoch 43/100\n",
            "5/5 [==============================] - 0s 8ms/step - loss: 0.0035 - val_loss: 0.0479\n",
            "Epoch 44/100\n",
            "5/5 [==============================] - 0s 8ms/step - loss: 0.0035 - val_loss: 0.0483\n",
            "Epoch 45/100\n",
            "5/5 [==============================] - 0s 9ms/step - loss: 0.0035 - val_loss: 0.0473\n",
            "Epoch 46/100\n",
            "5/5 [==============================] - 0s 9ms/step - loss: 0.0033 - val_loss: 0.0457\n",
            "Epoch 47/100\n",
            "5/5 [==============================] - 0s 7ms/step - loss: 0.0033 - val_loss: 0.0470\n",
            "Epoch 48/100\n",
            "5/5 [==============================] - 0s 7ms/step - loss: 0.0032 - val_loss: 0.0475\n",
            "Epoch 49/100\n",
            "5/5 [==============================] - 0s 8ms/step - loss: 0.0036 - val_loss: 0.0469\n",
            "Epoch 50/100\n",
            "5/5 [==============================] - 0s 7ms/step - loss: 0.0033 - val_loss: 0.0443\n",
            "Epoch 51/100\n",
            "5/5 [==============================] - 0s 7ms/step - loss: 0.0031 - val_loss: 0.0456\n",
            "Epoch 52/100\n",
            "5/5 [==============================] - 0s 8ms/step - loss: 0.0032 - val_loss: 0.0450\n",
            "Epoch 53/100\n",
            "5/5 [==============================] - 0s 7ms/step - loss: 0.0035 - val_loss: 0.0451\n",
            "Epoch 54/100\n",
            "5/5 [==============================] - 0s 9ms/step - loss: 0.0032 - val_loss: 0.0423\n",
            "Epoch 55/100\n",
            "5/5 [==============================] - 0s 8ms/step - loss: 0.0032 - val_loss: 0.0445\n",
            "Epoch 56/100\n",
            "5/5 [==============================] - 0s 8ms/step - loss: 0.0032 - val_loss: 0.0452\n",
            "Epoch 57/100\n",
            "5/5 [==============================] - 0s 8ms/step - loss: 0.0032 - val_loss: 0.0440\n",
            "Epoch 58/100\n",
            "5/5 [==============================] - 0s 7ms/step - loss: 0.0031 - val_loss: 0.0438\n",
            "Epoch 59/100\n",
            "5/5 [==============================] - 0s 8ms/step - loss: 0.0031 - val_loss: 0.0437\n",
            "Epoch 60/100\n",
            "5/5 [==============================] - 0s 8ms/step - loss: 0.0031 - val_loss: 0.0421\n",
            "Epoch 61/100\n",
            "5/5 [==============================] - 0s 9ms/step - loss: 0.0032 - val_loss: 0.0423\n",
            "Epoch 62/100\n",
            "5/5 [==============================] - 0s 9ms/step - loss: 0.0030 - val_loss: 0.0412\n",
            "Epoch 63/100\n",
            "5/5 [==============================] - 0s 7ms/step - loss: 0.0030 - val_loss: 0.0418\n",
            "Epoch 64/100\n",
            "5/5 [==============================] - 0s 7ms/step - loss: 0.0034 - val_loss: 0.0414\n",
            "Epoch 65/100\n",
            "5/5 [==============================] - 0s 8ms/step - loss: 0.0029 - val_loss: 0.0393\n",
            "Epoch 66/100\n",
            "5/5 [==============================] - 0s 9ms/step - loss: 0.0031 - val_loss: 0.0394\n",
            "Epoch 67/100\n",
            "5/5 [==============================] - 0s 8ms/step - loss: 0.0029 - val_loss: 0.0384\n",
            "Epoch 68/100\n",
            "5/5 [==============================] - 0s 8ms/step - loss: 0.0029 - val_loss: 0.0399\n",
            "Epoch 69/100\n",
            "5/5 [==============================] - 0s 8ms/step - loss: 0.0028 - val_loss: 0.0403\n",
            "Epoch 70/100\n",
            "5/5 [==============================] - 0s 8ms/step - loss: 0.0033 - val_loss: 0.0392\n",
            "Epoch 71/100\n",
            "5/5 [==============================] - 0s 8ms/step - loss: 0.0034 - val_loss: 0.0372\n",
            "Epoch 72/100\n",
            "5/5 [==============================] - 0s 8ms/step - loss: 0.0031 - val_loss: 0.0387\n",
            "Epoch 73/100\n",
            "5/5 [==============================] - 0s 9ms/step - loss: 0.0027 - val_loss: 0.0384\n",
            "Epoch 74/100\n",
            "5/5 [==============================] - 0s 8ms/step - loss: 0.0030 - val_loss: 0.0387\n",
            "Epoch 75/100\n",
            "5/5 [==============================] - 0s 8ms/step - loss: 0.0027 - val_loss: 0.0375\n",
            "Epoch 76/100\n",
            "5/5 [==============================] - 0s 9ms/step - loss: 0.0028 - val_loss: 0.0387\n",
            "Epoch 77/100\n",
            "5/5 [==============================] - 0s 9ms/step - loss: 0.0032 - val_loss: 0.0374\n",
            "Epoch 78/100\n",
            "5/5 [==============================] - 0s 8ms/step - loss: 0.0029 - val_loss: 0.0353\n",
            "Epoch 79/100\n",
            "5/5 [==============================] - 0s 7ms/step - loss: 0.0035 - val_loss: 0.0366\n",
            "Epoch 80/100\n",
            "5/5 [==============================] - 0s 7ms/step - loss: 0.0032 - val_loss: 0.0367\n",
            "Epoch 81/100\n",
            "5/5 [==============================] - 0s 7ms/step - loss: 0.0038 - val_loss: 0.0341\n",
            "Epoch 82/100\n",
            "5/5 [==============================] - 0s 7ms/step - loss: 0.0050 - val_loss: 0.0345\n",
            "Epoch 83/100\n",
            "5/5 [==============================] - 0s 8ms/step - loss: 0.0025 - val_loss: 0.0367\n",
            "Epoch 84/100\n",
            "5/5 [==============================] - 0s 8ms/step - loss: 0.0028 - val_loss: 0.0361\n",
            "Epoch 85/100\n",
            "5/5 [==============================] - 0s 8ms/step - loss: 0.0047 - val_loss: 0.0365\n",
            "Epoch 86/100\n",
            "5/5 [==============================] - 0s 9ms/step - loss: 0.0051 - val_loss: 0.0343\n",
            "Epoch 87/100\n",
            "5/5 [==============================] - 0s 8ms/step - loss: 0.0033 - val_loss: 0.0371\n",
            "Epoch 88/100\n",
            "5/5 [==============================] - 0s 8ms/step - loss: 0.0040 - val_loss: 0.0353\n",
            "Epoch 89/100\n",
            "5/5 [==============================] - 0s 8ms/step - loss: 0.0086 - val_loss: 0.0339\n",
            "Epoch 90/100\n",
            "5/5 [==============================] - 0s 7ms/step - loss: 0.0053 - val_loss: 0.0352\n",
            "Epoch 91/100\n",
            "5/5 [==============================] - 0s 8ms/step - loss: 0.0064 - val_loss: 0.0337\n",
            "Epoch 92/100\n",
            "5/5 [==============================] - 0s 9ms/step - loss: 0.0046 - val_loss: 0.0386\n",
            "Epoch 93/100\n",
            "5/5 [==============================] - 0s 12ms/step - loss: 0.0074 - val_loss: 0.0323\n",
            "Epoch 94/100\n",
            "5/5 [==============================] - 0s 9ms/step - loss: 0.0044 - val_loss: 0.0323\n",
            "Epoch 95/100\n",
            "5/5 [==============================] - 0s 7ms/step - loss: 0.0045 - val_loss: 0.0348\n",
            "Epoch 96/100\n",
            "5/5 [==============================] - 0s 8ms/step - loss: 0.0034 - val_loss: 0.0346\n",
            "Epoch 97/100\n",
            "5/5 [==============================] - 0s 8ms/step - loss: 0.0031 - val_loss: 0.0360\n",
            "Epoch 98/100\n",
            "5/5 [==============================] - 0s 10ms/step - loss: 0.0040 - val_loss: 0.0336\n",
            "Epoch 99/100\n",
            "5/5 [==============================] - 0s 7ms/step - loss: 0.0041 - val_loss: 0.0341\n",
            "Epoch 100/100\n",
            "5/5 [==============================] - 0s 9ms/step - loss: 0.0028 - val_loss: 0.0336\n"
          ],
          "name": "stdout"
        },
        {
          "output_type": "execute_result",
          "data": {
            "text/plain": [
              "<keras.callbacks.History at 0x7f2df1327050>"
            ]
          },
          "metadata": {
            "tags": []
          },
          "execution_count": 155
        }
      ]
    },
    {
      "cell_type": "code",
      "metadata": {
        "colab": {
          "base_uri": "https://localhost:8080/",
          "height": 331
        },
        "id": "ga-Ua-RM6fYv",
        "outputId": "948bb2f5-6a62-46ec-ae84-3e83dccf9c0a"
      },
      "source": [
        "y_test_pre_gru = predict(model_GRU, y_test)\n",
        "print(\"GRU RESULTS\")\n",
        "rmse, mae = evaluate(y_test, y_test_pre_gru)\n",
        "RMSE_gru.append(rmse)\n",
        "MAE_gru.append(mae)\n",
        "print(\"RMSE = \", rmse)\n",
        "print(\"MAE = \", mae)\n",
        "\n",
        "visualize(y_test, y_test_pre_gru, \"results of GRU\")\n"
      ],
      "execution_count": null,
      "outputs": [
        {
          "output_type": "stream",
          "text": [
            "GRU RESULTS\n",
            "RMSE =  0.035919055\n",
            "MAE =  0.033188287\n"
          ],
          "name": "stdout"
        },
        {
          "output_type": "display_data",
          "data": {
            "image/png": "[encoded data removed]",
            "text/plain": [
              "<Figure size 432x288 with 1 Axes>"
            ]
          },
          "metadata": {
            "tags": [],
            "needs_background": "light"
          }
        }
      ]
    },
    {
      "cell_type": "markdown",
      "metadata": {
        "id": "AcSgMuCI4NCo"
      },
      "source": [
        "# Kerala"
      ]
    },
    {
      "cell_type": "code",
      "metadata": {
        "id": "k4CAYzO24f_n"
      },
      "source": [
        "X_train,X_test, y_train, y_test = prepare(df_Ke, scaling_range=(0,1),time_step=5,multi_feature=True, response_variable_index=0,data_split_ratio=0.8)"
      ],
      "execution_count": null,
      "outputs": []
    },
    {
      "cell_type": "code",
      "metadata": {
        "colab": {
          "base_uri": "https://localhost:8080/"
        },
        "id": "YHovdxCR96aa",
        "outputId": "40f652f6-d6b6-49ee-c4bd-cf07b4325cac"
      },
      "source": [
        "model_CNN = model_cnn()\n",
        "fit(model_CNN, X_train, X_test, y_train, y_test)"
      ],
      "execution_count": null,
      "outputs": [
        {
          "output_type": "stream",
          "text": [
            "Epoch 1/100\n",
            "5/5 [==============================] - 1s 62ms/step - loss: 0.1446 - val_loss: 0.9386\n",
            "Epoch 2/100\n",
            "5/5 [==============================] - 0s 6ms/step - loss: 0.1097 - val_loss: 0.8227\n",
            "Epoch 3/100\n",
            "5/5 [==============================] - 0s 6ms/step - loss: 0.0974 - val_loss: 0.7081\n",
            "Epoch 4/100\n",
            "5/5 [==============================] - 0s 5ms/step - loss: 0.0747 - val_loss: 0.5935\n",
            "Epoch 5/100\n",
            "5/5 [==============================] - 0s 5ms/step - loss: 0.0655 - val_loss: 0.4825\n",
            "Epoch 6/100\n",
            "5/5 [==============================] - 0s 5ms/step - loss: 0.0621 - val_loss: 0.3780\n",
            "Epoch 7/100\n",
            "5/5 [==============================] - 0s 7ms/step - loss: 0.0598 - val_loss: 0.2963\n",
            "Epoch 8/100\n",
            "5/5 [==============================] - 0s 9ms/step - loss: 0.0576 - val_loss: 0.2369\n",
            "Epoch 9/100\n",
            "5/5 [==============================] - 0s 5ms/step - loss: 0.0568 - val_loss: 0.2096\n",
            "Epoch 10/100\n",
            "5/5 [==============================] - 0s 5ms/step - loss: 0.0546 - val_loss: 0.2014\n",
            "Epoch 11/100\n",
            "5/5 [==============================] - 0s 4ms/step - loss: 0.0509 - val_loss: 0.2092\n",
            "Epoch 12/100\n",
            "5/5 [==============================] - 0s 6ms/step - loss: 0.0480 - val_loss: 0.2100\n",
            "Epoch 13/100\n",
            "5/5 [==============================] - 0s 6ms/step - loss: 0.0442 - val_loss: 0.2057\n",
            "Epoch 14/100\n",
            "5/5 [==============================] - 0s 5ms/step - loss: 0.0386 - val_loss: 0.2171\n",
            "Epoch 15/100\n",
            "5/5 [==============================] - 0s 6ms/step - loss: 0.0401 - val_loss: 0.2059\n",
            "Epoch 16/100\n",
            "5/5 [==============================] - 0s 7ms/step - loss: 0.0386 - val_loss: 0.1844\n",
            "Epoch 17/100\n",
            "5/5 [==============================] - 0s 6ms/step - loss: 0.0325 - val_loss: 0.1513\n",
            "Epoch 18/100\n",
            "5/5 [==============================] - 0s 6ms/step - loss: 0.0325 - val_loss: 0.1338\n",
            "Epoch 19/100\n",
            "5/5 [==============================] - 0s 5ms/step - loss: 0.0321 - val_loss: 0.1376\n",
            "Epoch 20/100\n",
            "5/5 [==============================] - 0s 5ms/step - loss: 0.0329 - val_loss: 0.1088\n",
            "Epoch 21/100\n",
            "5/5 [==============================] - 0s 5ms/step - loss: 0.0295 - val_loss: 0.0761\n",
            "Epoch 22/100\n",
            "5/5 [==============================] - 0s 5ms/step - loss: 0.0251 - val_loss: 0.0612\n",
            "Epoch 23/100\n",
            "5/5 [==============================] - 0s 7ms/step - loss: 0.0286 - val_loss: 0.0567\n",
            "Epoch 24/100\n",
            "5/5 [==============================] - 0s 5ms/step - loss: 0.0276 - val_loss: 0.0567\n",
            "Epoch 25/100\n",
            "5/5 [==============================] - 0s 5ms/step - loss: 0.0246 - val_loss: 0.0681\n",
            "Epoch 26/100\n",
            "5/5 [==============================] - 0s 8ms/step - loss: 0.0249 - val_loss: 0.0717\n",
            "Epoch 27/100\n",
            "5/5 [==============================] - 0s 7ms/step - loss: 0.0239 - val_loss: 0.0699\n",
            "Epoch 28/100\n",
            "5/5 [==============================] - 0s 6ms/step - loss: 0.0263 - val_loss: 0.0609\n",
            "Epoch 29/100\n",
            "5/5 [==============================] - 0s 6ms/step - loss: 0.0240 - val_loss: 0.0518\n",
            "Epoch 30/100\n",
            "5/5 [==============================] - 0s 6ms/step - loss: 0.0243 - val_loss: 0.0490\n",
            "Epoch 31/100\n",
            "5/5 [==============================] - 0s 5ms/step - loss: 0.0241 - val_loss: 0.0477\n",
            "Epoch 32/100\n",
            "5/5 [==============================] - 0s 5ms/step - loss: 0.0239 - val_loss: 0.0447\n",
            "Epoch 33/100\n",
            "5/5 [==============================] - 0s 6ms/step - loss: 0.0230 - val_loss: 0.0437\n",
            "Epoch 34/100\n",
            "5/5 [==============================] - 0s 6ms/step - loss: 0.0250 - val_loss: 0.0421\n",
            "Epoch 35/100\n",
            "5/5 [==============================] - 0s 6ms/step - loss: 0.0236 - val_loss: 0.0374\n",
            "Epoch 36/100\n",
            "5/5 [==============================] - 0s 6ms/step - loss: 0.0230 - val_loss: 0.0362\n",
            "Epoch 37/100\n",
            "5/5 [==============================] - 0s 6ms/step - loss: 0.0175 - val_loss: 0.0352\n",
            "Epoch 38/100\n",
            "5/5 [==============================] - 0s 6ms/step - loss: 0.0184 - val_loss: 0.0456\n",
            "Epoch 39/100\n",
            "5/5 [==============================] - 0s 6ms/step - loss: 0.0219 - val_loss: 0.0453\n",
            "Epoch 40/100\n",
            "5/5 [==============================] - 0s 5ms/step - loss: 0.0212 - val_loss: 0.0359\n",
            "Epoch 41/100\n",
            "5/5 [==============================] - 0s 5ms/step - loss: 0.0238 - val_loss: 0.0333\n",
            "Epoch 42/100\n",
            "5/5 [==============================] - 0s 7ms/step - loss: 0.0191 - val_loss: 0.0388\n",
            "Epoch 43/100\n",
            "5/5 [==============================] - 0s 7ms/step - loss: 0.0233 - val_loss: 0.0386\n",
            "Epoch 44/100\n",
            "5/5 [==============================] - 0s 6ms/step - loss: 0.0218 - val_loss: 0.0454\n",
            "Epoch 45/100\n",
            "5/5 [==============================] - 0s 6ms/step - loss: 0.0209 - val_loss: 0.0413\n",
            "Epoch 46/100\n",
            "5/5 [==============================] - 0s 7ms/step - loss: 0.0184 - val_loss: 0.0367\n",
            "Epoch 47/100\n",
            "5/5 [==============================] - 0s 6ms/step - loss: 0.0172 - val_loss: 0.0300\n",
            "Epoch 48/100\n",
            "5/5 [==============================] - 0s 6ms/step - loss: 0.0191 - val_loss: 0.0363\n",
            "Epoch 49/100\n",
            "5/5 [==============================] - 0s 5ms/step - loss: 0.0196 - val_loss: 0.0390\n",
            "Epoch 50/100\n",
            "5/5 [==============================] - 0s 5ms/step - loss: 0.0195 - val_loss: 0.0366\n",
            "Epoch 51/100\n",
            "5/5 [==============================] - 0s 6ms/step - loss: 0.0180 - val_loss: 0.0407\n",
            "Epoch 52/100\n",
            "5/5 [==============================] - 0s 6ms/step - loss: 0.0193 - val_loss: 0.0382\n",
            "Epoch 53/100\n",
            "5/5 [==============================] - 0s 5ms/step - loss: 0.0168 - val_loss: 0.0357\n",
            "Epoch 54/100\n",
            "5/5 [==============================] - 0s 6ms/step - loss: 0.0185 - val_loss: 0.0401\n",
            "Epoch 55/100\n",
            "5/5 [==============================] - 0s 6ms/step - loss: 0.0196 - val_loss: 0.0436\n",
            "Epoch 56/100\n",
            "5/5 [==============================] - 0s 6ms/step - loss: 0.0193 - val_loss: 0.0331\n",
            "Epoch 57/100\n",
            "5/5 [==============================] - 0s 6ms/step - loss: 0.0179 - val_loss: 0.0364\n"
          ],
          "name": "stdout"
        },
        {
          "output_type": "execute_result",
          "data": {
            "text/plain": [
              "<keras.callbacks.History at 0x7f2de8b6af90>"
            ]
          },
          "metadata": {
            "tags": []
          },
          "execution_count": 158
        }
      ]
    },
    {
      "cell_type": "code",
      "metadata": {
        "colab": {
          "base_uri": "https://localhost:8080/",
          "height": 331
        },
        "id": "jxii-pms-ChY",
        "outputId": "af0dc4ad-23d7-40c2-af51-a922deadc399"
      },
      "source": [
        "y_test_pre_cnn = predict(model_CNN, y_test)\n",
        "print(\"CNN RESULTS\")\n",
        "rmse, mae = evaluate(y_test, y_test_pre_cnn)\n",
        "RMSE_cnn.append(rmse)\n",
        "MAE_cnn.append(mae)\n",
        "print(\"RMSE = \", rmse)\n",
        "print(\"MAE = \", mae)\n",
        "\n",
        "visualize(y_test, y_test_pre_cnn, \"results of CNN\")"
      ],
      "execution_count": null,
      "outputs": [
        {
          "output_type": "stream",
          "text": [
            "CNN RESULTS\n",
            "RMSE =  0.038239107\n",
            "MAE =  0.032763522\n"
          ],
          "name": "stdout"
        },
        {
          "output_type": "display_data",
          "data": {
            "image/png": "[encoded data removed]",
            "text/plain": [
              "<Figure size 432x288 with 1 Axes>"
            ]
          },
          "metadata": {
            "tags": [],
            "needs_background": "light"
          }
        }
      ]
    },
    {
      "cell_type": "code",
      "metadata": {
        "colab": {
          "base_uri": "https://localhost:8080/"
        },
        "id": "x5cXy0F22J2x",
        "outputId": "b685002a-d133-4235-8062-ac02126b06a7"
      },
      "source": [
        "model_MLP = model_mlp()\n",
        "fit(model_MLP, X_train, X_test, y_train, y_test)"
      ],
      "execution_count": null,
      "outputs": [
        {
          "output_type": "stream",
          "text": [
            "Epoch 1/100\n",
            "5/5 [==============================] - 1s 49ms/step - loss: 0.0850 - val_loss: 0.6043\n",
            "Epoch 2/100\n",
            "5/5 [==============================] - 0s 10ms/step - loss: 0.0809 - val_loss: 0.5809\n",
            "Epoch 3/100\n",
            "5/5 [==============================] - 0s 6ms/step - loss: 0.0773 - val_loss: 0.5569\n",
            "Epoch 4/100\n",
            "5/5 [==============================] - 0s 5ms/step - loss: 0.0742 - val_loss: 0.5340\n",
            "Epoch 5/100\n",
            "5/5 [==============================] - 0s 5ms/step - loss: 0.0714 - val_loss: 0.5124\n",
            "Epoch 6/100\n",
            "5/5 [==============================] - 0s 5ms/step - loss: 0.0690 - val_loss: 0.4924\n",
            "Epoch 7/100\n",
            "5/5 [==============================] - 0s 7ms/step - loss: 0.0671 - val_loss: 0.4749\n",
            "Epoch 8/100\n",
            "5/5 [==============================] - 0s 6ms/step - loss: 0.0653 - val_loss: 0.4587\n",
            "Epoch 9/100\n",
            "5/5 [==============================] - 0s 10ms/step - loss: 0.0637 - val_loss: 0.4440\n",
            "Epoch 10/100\n",
            "5/5 [==============================] - 0s 5ms/step - loss: 0.0623 - val_loss: 0.4301\n",
            "Epoch 11/100\n",
            "5/5 [==============================] - 0s 5ms/step - loss: 0.0609 - val_loss: 0.4186\n",
            "Epoch 12/100\n",
            "5/5 [==============================] - 0s 5ms/step - loss: 0.0596 - val_loss: 0.4091\n",
            "Epoch 13/100\n",
            "5/5 [==============================] - 0s 5ms/step - loss: 0.0583 - val_loss: 0.4006\n",
            "Epoch 14/100\n",
            "5/5 [==============================] - 0s 5ms/step - loss: 0.0570 - val_loss: 0.3922\n",
            "Epoch 15/100\n",
            "5/5 [==============================] - 0s 5ms/step - loss: 0.0557 - val_loss: 0.3828\n",
            "Epoch 16/100\n",
            "5/5 [==============================] - 0s 5ms/step - loss: 0.0543 - val_loss: 0.3721\n",
            "Epoch 17/100\n",
            "5/5 [==============================] - 0s 7ms/step - loss: 0.0530 - val_loss: 0.3608\n",
            "Epoch 18/100\n",
            "5/5 [==============================] - 0s 6ms/step - loss: 0.0516 - val_loss: 0.3492\n",
            "Epoch 19/100\n",
            "5/5 [==============================] - 0s 7ms/step - loss: 0.0504 - val_loss: 0.3379\n",
            "Epoch 20/100\n",
            "5/5 [==============================] - 0s 6ms/step - loss: 0.0495 - val_loss: 0.3270\n",
            "Epoch 21/100\n",
            "5/5 [==============================] - 0s 5ms/step - loss: 0.0487 - val_loss: 0.3168\n",
            "Epoch 22/100\n",
            "5/5 [==============================] - 0s 5ms/step - loss: 0.0480 - val_loss: 0.3076\n",
            "Epoch 23/100\n",
            "5/5 [==============================] - 0s 7ms/step - loss: 0.0475 - val_loss: 0.2992\n",
            "Epoch 24/100\n",
            "5/5 [==============================] - 0s 5ms/step - loss: 0.0469 - val_loss: 0.2917\n",
            "Epoch 25/100\n",
            "5/5 [==============================] - 0s 5ms/step - loss: 0.0463 - val_loss: 0.2862\n",
            "Epoch 26/100\n",
            "5/5 [==============================] - 0s 6ms/step - loss: 0.0456 - val_loss: 0.2822\n",
            "Epoch 27/100\n",
            "5/5 [==============================] - 0s 6ms/step - loss: 0.0448 - val_loss: 0.2782\n",
            "Epoch 28/100\n",
            "5/5 [==============================] - 0s 5ms/step - loss: 0.0439 - val_loss: 0.2730\n",
            "Epoch 29/100\n",
            "5/5 [==============================] - 0s 5ms/step - loss: 0.0429 - val_loss: 0.2661\n",
            "Epoch 30/100\n",
            "5/5 [==============================] - 0s 5ms/step - loss: 0.0417 - val_loss: 0.2581\n",
            "Epoch 31/100\n",
            "5/5 [==============================] - 0s 5ms/step - loss: 0.0406 - val_loss: 0.2518\n",
            "Epoch 32/100\n",
            "5/5 [==============================] - 0s 5ms/step - loss: 0.0396 - val_loss: 0.2459\n",
            "Epoch 33/100\n",
            "5/5 [==============================] - 0s 5ms/step - loss: 0.0388 - val_loss: 0.2394\n",
            "Epoch 34/100\n",
            "5/5 [==============================] - 0s 5ms/step - loss: 0.0380 - val_loss: 0.2326\n",
            "Epoch 35/100\n",
            "5/5 [==============================] - 0s 5ms/step - loss: 0.0374 - val_loss: 0.2286\n",
            "Epoch 36/100\n",
            "5/5 [==============================] - 0s 5ms/step - loss: 0.0367 - val_loss: 0.2259\n",
            "Epoch 37/100\n",
            "5/5 [==============================] - 0s 5ms/step - loss: 0.0362 - val_loss: 0.2234\n",
            "Epoch 38/100\n",
            "5/5 [==============================] - 0s 7ms/step - loss: 0.0356 - val_loss: 0.2208\n",
            "Epoch 39/100\n",
            "5/5 [==============================] - 0s 6ms/step - loss: 0.0350 - val_loss: 0.2185\n",
            "Epoch 40/100\n",
            "5/5 [==============================] - 0s 5ms/step - loss: 0.0344 - val_loss: 0.2161\n",
            "Epoch 41/100\n",
            "5/5 [==============================] - 0s 5ms/step - loss: 0.0338 - val_loss: 0.2131\n",
            "Epoch 42/100\n",
            "5/5 [==============================] - 0s 6ms/step - loss: 0.0332 - val_loss: 0.2108\n",
            "Epoch 43/100\n",
            "5/5 [==============================] - 0s 6ms/step - loss: 0.0326 - val_loss: 0.2079\n",
            "Epoch 44/100\n",
            "5/5 [==============================] - 0s 5ms/step - loss: 0.0320 - val_loss: 0.2045\n",
            "Epoch 45/100\n",
            "5/5 [==============================] - 0s 5ms/step - loss: 0.0312 - val_loss: 0.1995\n",
            "Epoch 46/100\n",
            "5/5 [==============================] - 0s 5ms/step - loss: 0.0303 - val_loss: 0.1928\n",
            "Epoch 47/100\n",
            "5/5 [==============================] - 0s 5ms/step - loss: 0.0293 - val_loss: 0.1852\n",
            "Epoch 48/100\n",
            "5/5 [==============================] - 0s 6ms/step - loss: 0.0285 - val_loss: 0.1782\n",
            "Epoch 49/100\n",
            "5/5 [==============================] - 0s 5ms/step - loss: 0.0276 - val_loss: 0.1731\n",
            "Epoch 50/100\n",
            "5/5 [==============================] - 0s 5ms/step - loss: 0.0272 - val_loss: 0.1687\n",
            "Epoch 51/100\n",
            "5/5 [==============================] - 0s 5ms/step - loss: 0.0268 - val_loss: 0.1678\n",
            "Epoch 52/100\n",
            "5/5 [==============================] - 0s 6ms/step - loss: 0.0265 - val_loss: 0.1647\n",
            "Epoch 53/100\n",
            "5/5 [==============================] - 0s 6ms/step - loss: 0.0261 - val_loss: 0.1606\n",
            "Epoch 54/100\n",
            "5/5 [==============================] - 0s 5ms/step - loss: 0.0256 - val_loss: 0.1572\n",
            "Epoch 55/100\n",
            "5/5 [==============================] - 0s 5ms/step - loss: 0.0251 - val_loss: 0.1541\n",
            "Epoch 56/100\n",
            "5/5 [==============================] - 0s 7ms/step - loss: 0.0247 - val_loss: 0.1512\n",
            "Epoch 57/100\n",
            "5/5 [==============================] - 0s 5ms/step - loss: 0.0243 - val_loss: 0.1490\n",
            "Epoch 58/100\n",
            "5/5 [==============================] - 0s 6ms/step - loss: 0.0239 - val_loss: 0.1480\n",
            "Epoch 59/100\n",
            "5/5 [==============================] - 0s 7ms/step - loss: 0.0235 - val_loss: 0.1464\n",
            "Epoch 60/100\n",
            "5/5 [==============================] - 0s 5ms/step - loss: 0.0231 - val_loss: 0.1454\n",
            "Epoch 61/100\n",
            "5/5 [==============================] - 0s 7ms/step - loss: 0.0227 - val_loss: 0.1435\n",
            "Epoch 62/100\n",
            "5/5 [==============================] - 0s 6ms/step - loss: 0.0223 - val_loss: 0.1413\n",
            "Epoch 63/100\n",
            "5/5 [==============================] - 0s 6ms/step - loss: 0.0220 - val_loss: 0.1405\n",
            "Epoch 64/100\n",
            "5/5 [==============================] - 0s 6ms/step - loss: 0.0216 - val_loss: 0.1381\n",
            "Epoch 65/100\n",
            "5/5 [==============================] - 0s 7ms/step - loss: 0.0213 - val_loss: 0.1376\n",
            "Epoch 66/100\n",
            "5/5 [==============================] - 0s 5ms/step - loss: 0.0210 - val_loss: 0.1361\n",
            "Epoch 67/100\n",
            "5/5 [==============================] - 0s 6ms/step - loss: 0.0207 - val_loss: 0.1346\n",
            "Epoch 68/100\n",
            "5/5 [==============================] - 0s 6ms/step - loss: 0.0204 - val_loss: 0.1335\n",
            "Epoch 69/100\n",
            "5/5 [==============================] - 0s 6ms/step - loss: 0.0202 - val_loss: 0.1322\n",
            "Epoch 70/100\n",
            "5/5 [==============================] - 0s 8ms/step - loss: 0.0200 - val_loss: 0.1308\n",
            "Epoch 71/100\n",
            "5/5 [==============================] - 0s 6ms/step - loss: 0.0198 - val_loss: 0.1304\n",
            "Epoch 72/100\n",
            "5/5 [==============================] - 0s 6ms/step - loss: 0.0196 - val_loss: 0.1286\n",
            "Epoch 73/100\n",
            "5/5 [==============================] - 0s 7ms/step - loss: 0.0194 - val_loss: 0.1283\n",
            "Epoch 74/100\n",
            "5/5 [==============================] - 0s 6ms/step - loss: 0.0192 - val_loss: 0.1267\n",
            "Epoch 75/100\n",
            "5/5 [==============================] - 0s 6ms/step - loss: 0.0190 - val_loss: 0.1256\n",
            "Epoch 76/100\n",
            "5/5 [==============================] - 0s 5ms/step - loss: 0.0188 - val_loss: 0.1247\n",
            "Epoch 77/100\n",
            "5/5 [==============================] - 0s 5ms/step - loss: 0.0186 - val_loss: 0.1243\n",
            "Epoch 78/100\n",
            "5/5 [==============================] - 0s 6ms/step - loss: 0.0184 - val_loss: 0.1219\n",
            "Epoch 79/100\n",
            "5/5 [==============================] - 0s 5ms/step - loss: 0.0182 - val_loss: 0.1220\n",
            "Epoch 80/100\n",
            "5/5 [==============================] - 0s 6ms/step - loss: 0.0181 - val_loss: 0.1206\n",
            "Epoch 81/100\n",
            "5/5 [==============================] - 0s 5ms/step - loss: 0.0179 - val_loss: 0.1197\n",
            "Epoch 82/100\n",
            "5/5 [==============================] - 0s 6ms/step - loss: 0.0177 - val_loss: 0.1189\n",
            "Epoch 83/100\n",
            "5/5 [==============================] - 0s 6ms/step - loss: 0.0176 - val_loss: 0.1181\n",
            "Epoch 84/100\n",
            "5/5 [==============================] - 0s 6ms/step - loss: 0.0174 - val_loss: 0.1177\n",
            "Epoch 85/100\n",
            "5/5 [==============================] - 0s 6ms/step - loss: 0.0172 - val_loss: 0.1168\n",
            "Epoch 86/100\n",
            "5/5 [==============================] - 0s 6ms/step - loss: 0.0171 - val_loss: 0.1170\n",
            "Epoch 87/100\n",
            "5/5 [==============================] - 0s 6ms/step - loss: 0.0170 - val_loss: 0.1159\n",
            "Epoch 88/100\n",
            "5/5 [==============================] - 0s 6ms/step - loss: 0.0169 - val_loss: 0.1148\n",
            "Epoch 89/100\n",
            "5/5 [==============================] - 0s 6ms/step - loss: 0.0168 - val_loss: 0.1148\n",
            "Epoch 90/100\n",
            "5/5 [==============================] - 0s 7ms/step - loss: 0.0167 - val_loss: 0.1139\n",
            "Epoch 91/100\n",
            "5/5 [==============================] - 0s 6ms/step - loss: 0.0166 - val_loss: 0.1149\n",
            "Epoch 92/100\n",
            "5/5 [==============================] - 0s 5ms/step - loss: 0.0164 - val_loss: 0.1135\n",
            "Epoch 93/100\n",
            "5/5 [==============================] - 0s 5ms/step - loss: 0.0163 - val_loss: 0.1140\n",
            "Epoch 94/100\n",
            "5/5 [==============================] - 0s 6ms/step - loss: 0.0161 - val_loss: 0.1114\n",
            "Epoch 95/100\n",
            "5/5 [==============================] - 0s 7ms/step - loss: 0.0159 - val_loss: 0.1115\n",
            "Epoch 96/100\n",
            "5/5 [==============================] - 0s 7ms/step - loss: 0.0158 - val_loss: 0.1104\n",
            "Epoch 97/100\n",
            "5/5 [==============================] - 0s 6ms/step - loss: 0.0157 - val_loss: 0.1096\n",
            "Epoch 98/100\n",
            "5/5 [==============================] - 0s 7ms/step - loss: 0.0156 - val_loss: 0.1086\n",
            "Epoch 99/100\n",
            "5/5 [==============================] - 0s 7ms/step - loss: 0.0155 - val_loss: 0.1090\n",
            "Epoch 100/100\n",
            "5/5 [==============================] - 0s 5ms/step - loss: 0.0154 - val_loss: 0.1091\n"
          ],
          "name": "stdout"
        },
        {
          "output_type": "execute_result",
          "data": {
            "text/plain": [
              "<keras.callbacks.History at 0x7f2de6158d10>"
            ]
          },
          "metadata": {
            "tags": []
          },
          "execution_count": 160
        }
      ]
    },
    {
      "cell_type": "code",
      "metadata": {
        "colab": {
          "base_uri": "https://localhost:8080/",
          "height": 331
        },
        "id": "O5cUpvb82Kgs",
        "outputId": "0d06e120-7609-4f62-85ef-2b78920a5335"
      },
      "source": [
        "y_test_pre_mlp = predict(model_MLP, y_test)\n",
        "print(\"MLP RESULTS\")\n",
        "rmse, mae = evaluate(y_test, y_test_pre_mlp)\n",
        "RMSE_mlp.append(rmse)\n",
        "MAE_mlp.append(mae)\n",
        "print(\"RMSE = \", rmse)\n",
        "print(\"MAE = \", mae)\n",
        "\n",
        "visualize(y_test, y_test_pre_mlp, \"results of MLP\")"
      ],
      "execution_count": null,
      "outputs": [
        {
          "output_type": "stream",
          "text": [
            "MLP RESULTS\n",
            "RMSE =  0.04609532\n",
            "MAE =  0.041411243\n"
          ],
          "name": "stdout"
        },
        {
          "output_type": "display_data",
          "data": {
            "image/png": "[encoded data removed]",
            "text/plain": [
              "<Figure size 432x288 with 1 Axes>"
            ]
          },
          "metadata": {
            "tags": [],
            "needs_background": "light"
          }
        }
      ]
    },
    {
      "cell_type": "code",
      "metadata": {
        "colab": {
          "base_uri": "https://localhost:8080/"
        },
        "id": "DARcZlZJ4gBP",
        "outputId": "6fea33af-2bdc-4186-89a6-bfef967bdc17"
      },
      "source": [
        "model_LSTM = model_lstm()\n",
        "fit(model_LSTM, X_train, X_test, y_train, y_test)"
      ],
      "execution_count": null,
      "outputs": [
        {
          "output_type": "stream",
          "text": [
            "Epoch 1/100\n",
            "5/5 [==============================] - 3s 202ms/step - loss: 0.1130 - val_loss: 0.7734\n",
            "Epoch 2/100\n",
            "5/5 [==============================] - 0s 7ms/step - loss: 0.0935 - val_loss: 0.7314\n",
            "Epoch 3/100\n",
            "5/5 [==============================] - 0s 7ms/step - loss: 0.0792 - val_loss: 0.6886\n",
            "Epoch 4/100\n",
            "5/5 [==============================] - 0s 7ms/step - loss: 0.0683 - val_loss: 0.6431\n",
            "Epoch 5/100\n",
            "5/5 [==============================] - 0s 7ms/step - loss: 0.0605 - val_loss: 0.5932\n",
            "Epoch 6/100\n",
            "5/5 [==============================] - 0s 7ms/step - loss: 0.0564 - val_loss: 0.5385\n",
            "Epoch 7/100\n",
            "5/5 [==============================] - 0s 7ms/step - loss: 0.0620 - val_loss: 0.4913\n",
            "Epoch 8/100\n",
            "5/5 [==============================] - 0s 8ms/step - loss: 0.0722 - val_loss: 0.4672\n",
            "Epoch 9/100\n",
            "5/5 [==============================] - 0s 10ms/step - loss: 0.0745 - val_loss: 0.4679\n",
            "Epoch 10/100\n",
            "5/5 [==============================] - 0s 8ms/step - loss: 0.0683 - val_loss: 0.4754\n",
            "Epoch 11/100\n",
            "5/5 [==============================] - 0s 8ms/step - loss: 0.0613 - val_loss: 0.4731\n",
            "Epoch 12/100\n",
            "5/5 [==============================] - 0s 7ms/step - loss: 0.0569 - val_loss: 0.4581\n",
            "Epoch 13/100\n",
            "5/5 [==============================] - 0s 7ms/step - loss: 0.0546 - val_loss: 0.4395\n",
            "Epoch 14/100\n",
            "5/5 [==============================] - 0s 7ms/step - loss: 0.0532 - val_loss: 0.4244\n",
            "Epoch 15/100\n",
            "5/5 [==============================] - 0s 8ms/step - loss: 0.0504 - val_loss: 0.4112\n",
            "Epoch 16/100\n",
            "5/5 [==============================] - 0s 8ms/step - loss: 0.0467 - val_loss: 0.3946\n",
            "Epoch 17/100\n",
            "5/5 [==============================] - 0s 7ms/step - loss: 0.0435 - val_loss: 0.3695\n",
            "Epoch 18/100\n",
            "5/5 [==============================] - 0s 7ms/step - loss: 0.0413 - val_loss: 0.3400\n",
            "Epoch 19/100\n",
            "5/5 [==============================] - 0s 7ms/step - loss: 0.0396 - val_loss: 0.3114\n",
            "Epoch 20/100\n",
            "5/5 [==============================] - 0s 7ms/step - loss: 0.0371 - val_loss: 0.2826\n",
            "Epoch 21/100\n",
            "5/5 [==============================] - 0s 7ms/step - loss: 0.0343 - val_loss: 0.2472\n",
            "Epoch 22/100\n",
            "5/5 [==============================] - 0s 7ms/step - loss: 0.0317 - val_loss: 0.2071\n",
            "Epoch 23/100\n",
            "5/5 [==============================] - 0s 7ms/step - loss: 0.0291 - val_loss: 0.1644\n",
            "Epoch 24/100\n",
            "5/5 [==============================] - 0s 9ms/step - loss: 0.0265 - val_loss: 0.1204\n",
            "Epoch 25/100\n",
            "5/5 [==============================] - 0s 7ms/step - loss: 0.0235 - val_loss: 0.0699\n",
            "Epoch 26/100\n",
            "5/5 [==============================] - 0s 6ms/step - loss: 0.0208 - val_loss: 0.0325\n",
            "Epoch 27/100\n",
            "5/5 [==============================] - 0s 7ms/step - loss: 0.0187 - val_loss: 0.0246\n",
            "Epoch 28/100\n",
            "5/5 [==============================] - 0s 7ms/step - loss: 0.0170 - val_loss: 0.0447\n",
            "Epoch 29/100\n",
            "5/5 [==============================] - 0s 7ms/step - loss: 0.0161 - val_loss: 0.0490\n",
            "Epoch 30/100\n",
            "5/5 [==============================] - 0s 7ms/step - loss: 0.0152 - val_loss: 0.0342\n",
            "Epoch 31/100\n",
            "5/5 [==============================] - 0s 7ms/step - loss: 0.0145 - val_loss: 0.0330\n",
            "Epoch 32/100\n",
            "5/5 [==============================] - 0s 8ms/step - loss: 0.0140 - val_loss: 0.0321\n",
            "Epoch 33/100\n",
            "5/5 [==============================] - 0s 7ms/step - loss: 0.0135 - val_loss: 0.0367\n",
            "Epoch 34/100\n",
            "5/5 [==============================] - 0s 7ms/step - loss: 0.0130 - val_loss: 0.0407\n",
            "Epoch 35/100\n",
            "5/5 [==============================] - 0s 7ms/step - loss: 0.0124 - val_loss: 0.0483\n",
            "Epoch 36/100\n",
            "5/5 [==============================] - 0s 7ms/step - loss: 0.0119 - val_loss: 0.0473\n",
            "Epoch 37/100\n",
            "5/5 [==============================] - 0s 7ms/step - loss: 0.0116 - val_loss: 0.0504\n"
          ],
          "name": "stdout"
        },
        {
          "output_type": "execute_result",
          "data": {
            "text/plain": [
              "<keras.callbacks.History at 0x7f2de56b7450>"
            ]
          },
          "metadata": {
            "tags": []
          },
          "execution_count": 162
        }
      ]
    },
    {
      "cell_type": "code",
      "metadata": {
        "colab": {
          "base_uri": "https://localhost:8080/",
          "height": 331
        },
        "id": "z8zA3Kjj4gE9",
        "outputId": "ca859b32-95b2-46d8-a702-3a8d1ddae9ce"
      },
      "source": [
        "y_test_pre_lstm = predict(model_LSTM, y_test)\n",
        "print(\"LSTM RESULTS\")\n",
        "rmse, mae = evaluate(y_test, y_test_pre_lstm)\n",
        "RMSE_lstm.append(rmse)\n",
        "MAE_lstm.append(mae)\n",
        "print(\"RMSE = \", rmse)\n",
        "print(\"MAE = \", mae)\n",
        "\n",
        "visualize(y_test, y_test_pre_lstm, \"results of LSTM\")"
      ],
      "execution_count": null,
      "outputs": [
        {
          "output_type": "stream",
          "text": [
            "LSTM RESULTS\n",
            "RMSE =  0.090673305\n",
            "MAE =  0.08324918\n"
          ],
          "name": "stdout"
        },
        {
          "output_type": "display_data",
          "data": {
            "image/png": "[encoded data removed]",
            "text/plain": [
              "<Figure size 432x288 with 1 Axes>"
            ]
          },
          "metadata": {
            "tags": [],
            "needs_background": "light"
          }
        }
      ]
    },
    {
      "cell_type": "code",
      "metadata": {
        "colab": {
          "base_uri": "https://localhost:8080/"
        },
        "id": "pffz85tSHHGk",
        "outputId": "ed67e77b-d462-4cdd-d027-192d406eda6a"
      },
      "source": [
        "model_GRU = model_gru()\n",
        "fit(model_GRU, X_train, X_test, y_train, y_test)"
      ],
      "execution_count": null,
      "outputs": [
        {
          "output_type": "stream",
          "text": [
            "Epoch 1/100\n",
            "5/5 [==============================] - 3s 190ms/step - loss: 0.0330 - val_loss: 0.2219\n",
            "Epoch 2/100\n",
            "5/5 [==============================] - 0s 11ms/step - loss: 0.0483 - val_loss: 0.1754\n",
            "Epoch 3/100\n",
            "5/5 [==============================] - 0s 7ms/step - loss: 0.0498 - val_loss: 0.1914\n",
            "Epoch 4/100\n",
            "5/5 [==============================] - 0s 7ms/step - loss: 0.0337 - val_loss: 0.1954\n",
            "Epoch 5/100\n",
            "5/5 [==============================] - 0s 7ms/step - loss: 0.0253 - val_loss: 0.1675\n",
            "Epoch 6/100\n",
            "5/5 [==============================] - 0s 8ms/step - loss: 0.0209 - val_loss: 0.1233\n",
            "Epoch 7/100\n",
            "5/5 [==============================] - 0s 7ms/step - loss: 0.0228 - val_loss: 0.0977\n",
            "Epoch 8/100\n",
            "5/5 [==============================] - 0s 7ms/step - loss: 0.0186 - val_loss: 0.0960\n",
            "Epoch 9/100\n",
            "5/5 [==============================] - 0s 7ms/step - loss: 0.0139 - val_loss: 0.0733\n",
            "Epoch 10/100\n",
            "5/5 [==============================] - 0s 7ms/step - loss: 0.0125 - val_loss: 0.0582\n",
            "Epoch 11/100\n",
            "5/5 [==============================] - 0s 7ms/step - loss: 0.0120 - val_loss: 0.0609\n",
            "Epoch 12/100\n",
            "5/5 [==============================] - 0s 7ms/step - loss: 0.0117 - val_loss: 0.0606\n",
            "Epoch 13/100\n",
            "5/5 [==============================] - 0s 7ms/step - loss: 0.0111 - val_loss: 0.0586\n",
            "Epoch 14/100\n",
            "5/5 [==============================] - 0s 8ms/step - loss: 0.0104 - val_loss: 0.0659\n",
            "Epoch 15/100\n",
            "5/5 [==============================] - 0s 7ms/step - loss: 0.0103 - val_loss: 0.0666\n",
            "Epoch 16/100\n",
            "5/5 [==============================] - 0s 7ms/step - loss: 0.0100 - val_loss: 0.0593\n",
            "Epoch 17/100\n",
            "5/5 [==============================] - 0s 8ms/step - loss: 0.0097 - val_loss: 0.0599\n",
            "Epoch 18/100\n",
            "5/5 [==============================] - 0s 7ms/step - loss: 0.0093 - val_loss: 0.0539\n",
            "Epoch 19/100\n",
            "5/5 [==============================] - 0s 7ms/step - loss: 0.0089 - val_loss: 0.0552\n",
            "Epoch 20/100\n",
            "5/5 [==============================] - 0s 7ms/step - loss: 0.0086 - val_loss: 0.0545\n",
            "Epoch 21/100\n",
            "5/5 [==============================] - 0s 7ms/step - loss: 0.0083 - val_loss: 0.0519\n",
            "Epoch 22/100\n",
            "5/5 [==============================] - 0s 12ms/step - loss: 0.0080 - val_loss: 0.0498\n",
            "Epoch 23/100\n",
            "5/5 [==============================] - 0s 7ms/step - loss: 0.0075 - val_loss: 0.0472\n",
            "Epoch 24/100\n",
            "5/5 [==============================] - 0s 8ms/step - loss: 0.0073 - val_loss: 0.0447\n",
            "Epoch 25/100\n",
            "5/5 [==============================] - 0s 7ms/step - loss: 0.0074 - val_loss: 0.0453\n",
            "Epoch 26/100\n",
            "5/5 [==============================] - 0s 7ms/step - loss: 0.0072 - val_loss: 0.0402\n",
            "Epoch 27/100\n",
            "5/5 [==============================] - 0s 8ms/step - loss: 0.0085 - val_loss: 0.0427\n",
            "Epoch 28/100\n",
            "5/5 [==============================] - 0s 7ms/step - loss: 0.0084 - val_loss: 0.0372\n",
            "Epoch 29/100\n",
            "5/5 [==============================] - 0s 7ms/step - loss: 0.0107 - val_loss: 0.0393\n",
            "Epoch 30/100\n",
            "5/5 [==============================] - 0s 8ms/step - loss: 0.0083 - val_loss: 0.0385\n",
            "Epoch 31/100\n",
            "5/5 [==============================] - 0s 7ms/step - loss: 0.0101 - val_loss: 0.0371\n",
            "Epoch 32/100\n",
            "5/5 [==============================] - 0s 8ms/step - loss: 0.0077 - val_loss: 0.0424\n",
            "Epoch 33/100\n",
            "5/5 [==============================] - 0s 8ms/step - loss: 0.0080 - val_loss: 0.0368\n",
            "Epoch 34/100\n",
            "5/5 [==============================] - 0s 8ms/step - loss: 0.0067 - val_loss: 0.0402\n",
            "Epoch 35/100\n",
            "5/5 [==============================] - 0s 9ms/step - loss: 0.0069 - val_loss: 0.0383\n",
            "Epoch 36/100\n",
            "5/5 [==============================] - 0s 8ms/step - loss: 0.0063 - val_loss: 0.0377\n",
            "Epoch 37/100\n",
            "5/5 [==============================] - 0s 8ms/step - loss: 0.0073 - val_loss: 0.0386\n",
            "Epoch 38/100\n",
            "5/5 [==============================] - 0s 7ms/step - loss: 0.0070 - val_loss: 0.0363\n",
            "Epoch 39/100\n",
            "5/5 [==============================] - 0s 7ms/step - loss: 0.0102 - val_loss: 0.0368\n",
            "Epoch 40/100\n",
            "5/5 [==============================] - 0s 7ms/step - loss: 0.0071 - val_loss: 0.0363\n",
            "Epoch 41/100\n",
            "5/5 [==============================] - 0s 8ms/step - loss: 0.0081 - val_loss: 0.0364\n",
            "Epoch 42/100\n",
            "5/5 [==============================] - 0s 7ms/step - loss: 0.0064 - val_loss: 0.0366\n",
            "Epoch 43/100\n",
            "5/5 [==============================] - 0s 7ms/step - loss: 0.0075 - val_loss: 0.0374\n",
            "Epoch 44/100\n",
            "5/5 [==============================] - 0s 7ms/step - loss: 0.0061 - val_loss: 0.0363\n",
            "Epoch 45/100\n",
            "5/5 [==============================] - 0s 8ms/step - loss: 0.0089 - val_loss: 0.0371\n",
            "Epoch 46/100\n",
            "5/5 [==============================] - 0s 7ms/step - loss: 0.0067 - val_loss: 0.0364\n",
            "Epoch 47/100\n",
            "5/5 [==============================] - 0s 8ms/step - loss: 0.0087 - val_loss: 0.0367\n",
            "Epoch 48/100\n",
            "5/5 [==============================] - 0s 9ms/step - loss: 0.0063 - val_loss: 0.0367\n",
            "Epoch 49/100\n",
            "5/5 [==============================] - 0s 8ms/step - loss: 0.0068 - val_loss: 0.0363\n",
            "Epoch 50/100\n",
            "5/5 [==============================] - 0s 7ms/step - loss: 0.0057 - val_loss: 0.0371\n",
            "Epoch 51/100\n",
            "5/5 [==============================] - 0s 7ms/step - loss: 0.0058 - val_loss: 0.0375\n",
            "Epoch 52/100\n",
            "5/5 [==============================] - 0s 8ms/step - loss: 0.0056 - val_loss: 0.0365\n",
            "Epoch 53/100\n",
            "5/5 [==============================] - 0s 8ms/step - loss: 0.0076 - val_loss: 0.0378\n",
            "Epoch 54/100\n",
            "5/5 [==============================] - 0s 8ms/step - loss: 0.0071 - val_loss: 0.0359\n",
            "Epoch 55/100\n",
            "5/5 [==============================] - 0s 8ms/step - loss: 0.0098 - val_loss: 0.0361\n",
            "Epoch 56/100\n",
            "5/5 [==============================] - 0s 8ms/step - loss: 0.0063 - val_loss: 0.0361\n",
            "Epoch 57/100\n",
            "5/5 [==============================] - 0s 8ms/step - loss: 0.0065 - val_loss: 0.0364\n",
            "Epoch 58/100\n",
            "5/5 [==============================] - 0s 8ms/step - loss: 0.0061 - val_loss: 0.0365\n",
            "Epoch 59/100\n",
            "5/5 [==============================] - 0s 8ms/step - loss: 0.0064 - val_loss: 0.0372\n",
            "Epoch 60/100\n",
            "5/5 [==============================] - 0s 8ms/step - loss: 0.0055 - val_loss: 0.0363\n",
            "Epoch 61/100\n",
            "5/5 [==============================] - 0s 8ms/step - loss: 0.0070 - val_loss: 0.0371\n",
            "Epoch 62/100\n",
            "5/5 [==============================] - 0s 7ms/step - loss: 0.0068 - val_loss: 0.0357\n",
            "Epoch 63/100\n",
            "5/5 [==============================] - 0s 9ms/step - loss: 0.0082 - val_loss: 0.0362\n",
            "Epoch 64/100\n",
            "5/5 [==============================] - 0s 7ms/step - loss: 0.0058 - val_loss: 0.0362\n",
            "Epoch 65/100\n",
            "5/5 [==============================] - 0s 7ms/step - loss: 0.0065 - val_loss: 0.0366\n",
            "Epoch 66/100\n",
            "5/5 [==============================] - 0s 9ms/step - loss: 0.0059 - val_loss: 0.0360\n",
            "Epoch 67/100\n",
            "5/5 [==============================] - 0s 8ms/step - loss: 0.0073 - val_loss: 0.0368\n",
            "Epoch 68/100\n",
            "5/5 [==============================] - 0s 8ms/step - loss: 0.0059 - val_loss: 0.0358\n",
            "Epoch 69/100\n",
            "5/5 [==============================] - 0s 8ms/step - loss: 0.0074 - val_loss: 0.0369\n",
            "Epoch 70/100\n",
            "5/5 [==============================] - 0s 8ms/step - loss: 0.0059 - val_loss: 0.0358\n",
            "Epoch 71/100\n",
            "5/5 [==============================] - 0s 7ms/step - loss: 0.0079 - val_loss: 0.0368\n",
            "Epoch 72/100\n",
            "5/5 [==============================] - 0s 8ms/step - loss: 0.0061 - val_loss: 0.0364\n"
          ],
          "name": "stdout"
        },
        {
          "output_type": "execute_result",
          "data": {
            "text/plain": [
              "<keras.callbacks.History at 0x7f2de8bb2610>"
            ]
          },
          "metadata": {
            "tags": []
          },
          "execution_count": 164
        }
      ]
    },
    {
      "cell_type": "code",
      "metadata": {
        "colab": {
          "base_uri": "https://localhost:8080/",
          "height": 331
        },
        "id": "sGY5tCePHHJb",
        "outputId": "91c06327-748e-4176-ae1f-416f45419d68"
      },
      "source": [
        "y_test_pre_gru = predict(model_GRU, y_test)\n",
        "print(\"GRU RESULTS\")\n",
        "rmse, mae = evaluate(y_test, y_test_pre_gru)\n",
        "RMSE_gru.append(rmse)\n",
        "MAE_gru.append(mae)\n",
        "print(\"RMSE = \", rmse)\n",
        "print(\"MAE = \", mae)\n",
        "\n",
        "visualize(y_test, y_test_pre_gru, \"results of GRU\")\n"
      ],
      "execution_count": null,
      "outputs": [
        {
          "output_type": "stream",
          "text": [
            "GRU RESULTS\n",
            "RMSE =  0.050555658\n",
            "MAE =  0.0458404\n"
          ],
          "name": "stdout"
        },
        {
          "output_type": "display_data",
          "data": {
            "image/png": "[encoded data removed]",
            "text/plain": [
              "<Figure size 432x288 with 1 Axes>"
            ]
          },
          "metadata": {
            "tags": [],
            "needs_background": "light"
          }
        }
      ]
    },
    {
      "cell_type": "markdown",
      "metadata": {
        "id": "NNUCDsv24NM1"
      },
      "source": [
        "# Tamil Nadu\n",
        "\n"
      ]
    },
    {
      "cell_type": "code",
      "metadata": {
        "id": "7TTMRAEL4hCV"
      },
      "source": [
        "X_train,X_test, y_train, y_test = prepare(df_TN, scaling_range=(0,1),time_step=5,multi_feature=True, response_variable_index=0,data_split_ratio=0.8)"
      ],
      "execution_count": null,
      "outputs": []
    },
    {
      "cell_type": "code",
      "metadata": {
        "colab": {
          "base_uri": "https://localhost:8080/"
        },
        "id": "9TG_s4VP97yi",
        "outputId": "8442be21-d285-40ad-a560-d79baa45215d"
      },
      "source": [
        "model_CNN = model_cnn()\n",
        "fit(model_CNN, X_train, X_test, y_train, y_test)"
      ],
      "execution_count": null,
      "outputs": [
        {
          "output_type": "stream",
          "text": [
            "Epoch 1/100\n",
            "5/5 [==============================] - 1s 65ms/step - loss: 0.0326 - val_loss: 0.5332\n",
            "Epoch 2/100\n",
            "5/5 [==============================] - 0s 5ms/step - loss: 0.0262 - val_loss: 0.4206\n",
            "Epoch 3/100\n",
            "5/5 [==============================] - 0s 5ms/step - loss: 0.0247 - val_loss: 0.3229\n",
            "Epoch 4/100\n",
            "5/5 [==============================] - 0s 7ms/step - loss: 0.0226 - val_loss: 0.2331\n",
            "Epoch 5/100\n",
            "5/5 [==============================] - 0s 6ms/step - loss: 0.0230 - val_loss: 0.1606\n",
            "Epoch 6/100\n",
            "5/5 [==============================] - 0s 5ms/step - loss: 0.0173 - val_loss: 0.1163\n",
            "Epoch 7/100\n",
            "5/5 [==============================] - 0s 5ms/step - loss: 0.0151 - val_loss: 0.1115\n",
            "Epoch 8/100\n",
            "5/5 [==============================] - 0s 5ms/step - loss: 0.0160 - val_loss: 0.0889\n",
            "Epoch 9/100\n",
            "5/5 [==============================] - 0s 5ms/step - loss: 0.0180 - val_loss: 0.0913\n",
            "Epoch 10/100\n",
            "5/5 [==============================] - 0s 5ms/step - loss: 0.0135 - val_loss: 0.1173\n",
            "Epoch 11/100\n",
            "5/5 [==============================] - 0s 5ms/step - loss: 0.0162 - val_loss: 0.1206\n",
            "Epoch 12/100\n",
            "5/5 [==============================] - 0s 5ms/step - loss: 0.0138 - val_loss: 0.1105\n",
            "Epoch 13/100\n",
            "5/5 [==============================] - 0s 5ms/step - loss: 0.0157 - val_loss: 0.0987\n",
            "Epoch 14/100\n",
            "5/5 [==============================] - 0s 5ms/step - loss: 0.0114 - val_loss: 0.0848\n",
            "Epoch 15/100\n",
            "5/5 [==============================] - 0s 6ms/step - loss: 0.0110 - val_loss: 0.0652\n",
            "Epoch 16/100\n",
            "5/5 [==============================] - 0s 5ms/step - loss: 0.0131 - val_loss: 0.0591\n",
            "Epoch 17/100\n",
            "5/5 [==============================] - 0s 6ms/step - loss: 0.0141 - val_loss: 0.0742\n",
            "Epoch 18/100\n",
            "5/5 [==============================] - 0s 6ms/step - loss: 0.0145 - val_loss: 0.0888\n",
            "Epoch 19/100\n",
            "5/5 [==============================] - 0s 7ms/step - loss: 0.0114 - val_loss: 0.0714\n",
            "Epoch 20/100\n",
            "5/5 [==============================] - 0s 5ms/step - loss: 0.0095 - val_loss: 0.0466\n",
            "Epoch 21/100\n",
            "5/5 [==============================] - 0s 6ms/step - loss: 0.0126 - val_loss: 0.0415\n",
            "Epoch 22/100\n",
            "5/5 [==============================] - 0s 5ms/step - loss: 0.0100 - val_loss: 0.0392\n",
            "Epoch 23/100\n",
            "5/5 [==============================] - 0s 5ms/step - loss: 0.0120 - val_loss: 0.0386\n",
            "Epoch 24/100\n",
            "5/5 [==============================] - 0s 6ms/step - loss: 0.0133 - val_loss: 0.0439\n",
            "Epoch 25/100\n",
            "5/5 [==============================] - 0s 5ms/step - loss: 0.0117 - val_loss: 0.0540\n",
            "Epoch 26/100\n",
            "5/5 [==============================] - 0s 5ms/step - loss: 0.0103 - val_loss: 0.0479\n",
            "Epoch 27/100\n",
            "5/5 [==============================] - 0s 5ms/step - loss: 0.0107 - val_loss: 0.0402\n",
            "Epoch 28/100\n",
            "5/5 [==============================] - 0s 6ms/step - loss: 0.0085 - val_loss: 0.0375\n",
            "Epoch 29/100\n",
            "5/5 [==============================] - 0s 6ms/step - loss: 0.0096 - val_loss: 0.0374\n",
            "Epoch 30/100\n",
            "5/5 [==============================] - 0s 6ms/step - loss: 0.0090 - val_loss: 0.0383\n",
            "Epoch 31/100\n",
            "5/5 [==============================] - 0s 6ms/step - loss: 0.0103 - val_loss: 0.0387\n",
            "Epoch 32/100\n",
            "5/5 [==============================] - 0s 6ms/step - loss: 0.0113 - val_loss: 0.0429\n",
            "Epoch 33/100\n",
            "5/5 [==============================] - 0s 5ms/step - loss: 0.0105 - val_loss: 0.0404\n",
            "Epoch 34/100\n",
            "5/5 [==============================] - 0s 6ms/step - loss: 0.0086 - val_loss: 0.0366\n",
            "Epoch 35/100\n",
            "5/5 [==============================] - 0s 5ms/step - loss: 0.0095 - val_loss: 0.0374\n",
            "Epoch 36/100\n",
            "5/5 [==============================] - 0s 6ms/step - loss: 0.0081 - val_loss: 0.0382\n",
            "Epoch 37/100\n",
            "5/5 [==============================] - 0s 7ms/step - loss: 0.0074 - val_loss: 0.0387\n",
            "Epoch 38/100\n",
            "5/5 [==============================] - 0s 6ms/step - loss: 0.0104 - val_loss: 0.0390\n",
            "Epoch 39/100\n",
            "5/5 [==============================] - 0s 6ms/step - loss: 0.0095 - val_loss: 0.0354\n",
            "Epoch 40/100\n",
            "5/5 [==============================] - 0s 7ms/step - loss: 0.0107 - val_loss: 0.0529\n",
            "Epoch 41/100\n",
            "5/5 [==============================] - 0s 5ms/step - loss: 0.0098 - val_loss: 0.0437\n",
            "Epoch 42/100\n",
            "5/5 [==============================] - 0s 5ms/step - loss: 0.0095 - val_loss: 0.0330\n",
            "Epoch 43/100\n",
            "5/5 [==============================] - 0s 5ms/step - loss: 0.0092 - val_loss: 0.0360\n",
            "Epoch 44/100\n",
            "5/5 [==============================] - 0s 6ms/step - loss: 0.0085 - val_loss: 0.0362\n",
            "Epoch 45/100\n",
            "5/5 [==============================] - 0s 6ms/step - loss: 0.0093 - val_loss: 0.0360\n",
            "Epoch 46/100\n",
            "5/5 [==============================] - 0s 6ms/step - loss: 0.0084 - val_loss: 0.0323\n",
            "Epoch 47/100\n",
            "5/5 [==============================] - 0s 6ms/step - loss: 0.0083 - val_loss: 0.0333\n",
            "Epoch 48/100\n",
            "5/5 [==============================] - 0s 10ms/step - loss: 0.0110 - val_loss: 0.0344\n",
            "Epoch 49/100\n",
            "5/5 [==============================] - 0s 6ms/step - loss: 0.0095 - val_loss: 0.0333\n",
            "Epoch 50/100\n",
            "5/5 [==============================] - 0s 6ms/step - loss: 0.0099 - val_loss: 0.0307\n",
            "Epoch 51/100\n",
            "5/5 [==============================] - 0s 5ms/step - loss: 0.0100 - val_loss: 0.0324\n",
            "Epoch 52/100\n",
            "5/5 [==============================] - 0s 6ms/step - loss: 0.0094 - val_loss: 0.0427\n",
            "Epoch 53/100\n",
            "5/5 [==============================] - 0s 5ms/step - loss: 0.0101 - val_loss: 0.0283\n",
            "Epoch 54/100\n",
            "5/5 [==============================] - 0s 5ms/step - loss: 0.0089 - val_loss: 0.0317\n",
            "Epoch 55/100\n",
            "5/5 [==============================] - 0s 5ms/step - loss: 0.0101 - val_loss: 0.0689\n",
            "Epoch 56/100\n",
            "5/5 [==============================] - 0s 5ms/step - loss: 0.0093 - val_loss: 0.0370\n",
            "Epoch 57/100\n",
            "5/5 [==============================] - 0s 5ms/step - loss: 0.0103 - val_loss: 0.0308\n",
            "Epoch 58/100\n",
            "5/5 [==============================] - 0s 5ms/step - loss: 0.0097 - val_loss: 0.0284\n",
            "Epoch 59/100\n",
            "5/5 [==============================] - 0s 5ms/step - loss: 0.0082 - val_loss: 0.0270\n",
            "Epoch 60/100\n",
            "5/5 [==============================] - 0s 5ms/step - loss: 0.0097 - val_loss: 0.0308\n",
            "Epoch 61/100\n",
            "5/5 [==============================] - 0s 5ms/step - loss: 0.0092 - val_loss: 0.0284\n",
            "Epoch 62/100\n",
            "5/5 [==============================] - 0s 7ms/step - loss: 0.0078 - val_loss: 0.0287\n",
            "Epoch 63/100\n",
            "5/5 [==============================] - 0s 7ms/step - loss: 0.0109 - val_loss: 0.0293\n",
            "Epoch 64/100\n",
            "5/5 [==============================] - 0s 7ms/step - loss: 0.0075 - val_loss: 0.0285\n",
            "Epoch 65/100\n",
            "5/5 [==============================] - 0s 7ms/step - loss: 0.0098 - val_loss: 0.0280\n",
            "Epoch 66/100\n",
            "5/5 [==============================] - 0s 7ms/step - loss: 0.0081 - val_loss: 0.0319\n",
            "Epoch 67/100\n",
            "5/5 [==============================] - 0s 7ms/step - loss: 0.0081 - val_loss: 0.0355\n",
            "Epoch 68/100\n",
            "5/5 [==============================] - 0s 6ms/step - loss: 0.0068 - val_loss: 0.0505\n",
            "Epoch 69/100\n",
            "5/5 [==============================] - 0s 6ms/step - loss: 0.0089 - val_loss: 0.0422\n"
          ],
          "name": "stdout"
        },
        {
          "output_type": "execute_result",
          "data": {
            "text/plain": [
              "<keras.callbacks.History at 0x7f2de1a8c590>"
            ]
          },
          "metadata": {
            "tags": []
          },
          "execution_count": 167
        }
      ]
    },
    {
      "cell_type": "code",
      "metadata": {
        "colab": {
          "base_uri": "https://localhost:8080/",
          "height": 331
        },
        "id": "1EPykJwi-DwH",
        "outputId": "4bab3d60-bc17-43ed-9dee-0b5272ffb4f9"
      },
      "source": [
        "y_test_pre_cnn = predict(model_CNN, y_test)\n",
        "print(\"CNN RESULTS\")\n",
        "rmse, mae = evaluate(y_test, y_test_pre_cnn)\n",
        "RMSE_cnn.append(rmse)\n",
        "MAE_cnn.append(mae)\n",
        "print(\"RMSE = \", rmse)\n",
        "print(\"MAE = \", mae)\n",
        "\n",
        "visualize(y_test, y_test_pre_cnn, \"results of CNN\")"
      ],
      "execution_count": null,
      "outputs": [
        {
          "output_type": "stream",
          "text": [
            "CNN RESULTS\n",
            "RMSE =  0.08631824\n",
            "MAE =  0.07687096\n"
          ],
          "name": "stdout"
        },
        {
          "output_type": "display_data",
          "data": {
            "image/png": "[encoded data removed]",
            "text/plain": [
              "<Figure size 432x288 with 1 Axes>"
            ]
          },
          "metadata": {
            "tags": [],
            "needs_background": "light"
          }
        }
      ]
    },
    {
      "cell_type": "code",
      "metadata": {
        "colab": {
          "base_uri": "https://localhost:8080/"
        },
        "id": "i67B5Vk-2Lky",
        "outputId": "c5168ef3-d1ec-4ba1-915d-0cd57df3761e"
      },
      "source": [
        "model_MLP = model_mlp()\n",
        "fit(model_MLP, X_train, X_test, y_train, y_test)"
      ],
      "execution_count": null,
      "outputs": [
        {
          "output_type": "stream",
          "text": [
            "Epoch 1/100\n",
            "5/5 [==============================] - 1s 51ms/step - loss: 0.0305 - val_loss: 0.4457\n",
            "Epoch 2/100\n",
            "5/5 [==============================] - 0s 5ms/step - loss: 0.0300 - val_loss: 0.4124\n",
            "Epoch 3/100\n",
            "5/5 [==============================] - 0s 5ms/step - loss: 0.0292 - val_loss: 0.3865\n",
            "Epoch 4/100\n",
            "5/5 [==============================] - 0s 5ms/step - loss: 0.0282 - val_loss: 0.3662\n",
            "Epoch 5/100\n",
            "5/5 [==============================] - 0s 5ms/step - loss: 0.0272 - val_loss: 0.3471\n",
            "Epoch 6/100\n",
            "5/5 [==============================] - 0s 5ms/step - loss: 0.0262 - val_loss: 0.3259\n",
            "Epoch 7/100\n",
            "5/5 [==============================] - 0s 6ms/step - loss: 0.0251 - val_loss: 0.3029\n",
            "Epoch 8/100\n",
            "5/5 [==============================] - 0s 6ms/step - loss: 0.0240 - val_loss: 0.2802\n",
            "Epoch 9/100\n",
            "5/5 [==============================] - 0s 6ms/step - loss: 0.0229 - val_loss: 0.2598\n",
            "Epoch 10/100\n",
            "5/5 [==============================] - 0s 7ms/step - loss: 0.0219 - val_loss: 0.2412\n",
            "Epoch 11/100\n",
            "5/5 [==============================] - 0s 5ms/step - loss: 0.0209 - val_loss: 0.2251\n",
            "Epoch 12/100\n",
            "5/5 [==============================] - 0s 5ms/step - loss: 0.0200 - val_loss: 0.2154\n",
            "Epoch 13/100\n",
            "5/5 [==============================] - 0s 5ms/step - loss: 0.0192 - val_loss: 0.2073\n",
            "Epoch 14/100\n",
            "5/5 [==============================] - 0s 5ms/step - loss: 0.0186 - val_loss: 0.1996\n",
            "Epoch 15/100\n",
            "5/5 [==============================] - 0s 7ms/step - loss: 0.0180 - val_loss: 0.1908\n",
            "Epoch 16/100\n",
            "5/5 [==============================] - 0s 5ms/step - loss: 0.0175 - val_loss: 0.1832\n",
            "Epoch 17/100\n",
            "5/5 [==============================] - 0s 8ms/step - loss: 0.0169 - val_loss: 0.1777\n",
            "Epoch 18/100\n",
            "5/5 [==============================] - 0s 7ms/step - loss: 0.0164 - val_loss: 0.1735\n",
            "Epoch 19/100\n",
            "5/5 [==============================] - 0s 8ms/step - loss: 0.0159 - val_loss: 0.1698\n",
            "Epoch 20/100\n",
            "5/5 [==============================] - 0s 8ms/step - loss: 0.0155 - val_loss: 0.1641\n",
            "Epoch 21/100\n",
            "5/5 [==============================] - 0s 11ms/step - loss: 0.0150 - val_loss: 0.1565\n",
            "Epoch 22/100\n",
            "5/5 [==============================] - 0s 5ms/step - loss: 0.0145 - val_loss: 0.1480\n",
            "Epoch 23/100\n",
            "5/5 [==============================] - 0s 5ms/step - loss: 0.0141 - val_loss: 0.1416\n",
            "Epoch 24/100\n",
            "5/5 [==============================] - 0s 5ms/step - loss: 0.0137 - val_loss: 0.1369\n",
            "Epoch 25/100\n",
            "5/5 [==============================] - 0s 6ms/step - loss: 0.0133 - val_loss: 0.1331\n",
            "Epoch 26/100\n",
            "5/5 [==============================] - 0s 6ms/step - loss: 0.0129 - val_loss: 0.1314\n",
            "Epoch 27/100\n",
            "5/5 [==============================] - 0s 12ms/step - loss: 0.0125 - val_loss: 0.1309\n",
            "Epoch 28/100\n",
            "5/5 [==============================] - 0s 6ms/step - loss: 0.0122 - val_loss: 0.1319\n",
            "Epoch 29/100\n",
            "5/5 [==============================] - 0s 6ms/step - loss: 0.0120 - val_loss: 0.1321\n",
            "Epoch 30/100\n",
            "5/5 [==============================] - 0s 5ms/step - loss: 0.0117 - val_loss: 0.1313\n",
            "Epoch 31/100\n",
            "5/5 [==============================] - 0s 6ms/step - loss: 0.0114 - val_loss: 0.1293\n",
            "Epoch 32/100\n",
            "5/5 [==============================] - 0s 5ms/step - loss: 0.0112 - val_loss: 0.1266\n",
            "Epoch 33/100\n",
            "5/5 [==============================] - 0s 5ms/step - loss: 0.0110 - val_loss: 0.1260\n",
            "Epoch 34/100\n",
            "5/5 [==============================] - 0s 5ms/step - loss: 0.0108 - val_loss: 0.1260\n",
            "Epoch 35/100\n",
            "5/5 [==============================] - 0s 6ms/step - loss: 0.0107 - val_loss: 0.1241\n",
            "Epoch 36/100\n",
            "5/5 [==============================] - 0s 6ms/step - loss: 0.0105 - val_loss: 0.1206\n",
            "Epoch 37/100\n",
            "5/5 [==============================] - 0s 6ms/step - loss: 0.0104 - val_loss: 0.1202\n",
            "Epoch 38/100\n",
            "5/5 [==============================] - 0s 6ms/step - loss: 0.0102 - val_loss: 0.1195\n",
            "Epoch 39/100\n",
            "5/5 [==============================] - 0s 6ms/step - loss: 0.0100 - val_loss: 0.1178\n",
            "Epoch 40/100\n",
            "5/5 [==============================] - 0s 5ms/step - loss: 0.0099 - val_loss: 0.1183\n",
            "Epoch 41/100\n",
            "5/5 [==============================] - 0s 5ms/step - loss: 0.0097 - val_loss: 0.1163\n",
            "Epoch 42/100\n",
            "5/5 [==============================] - 0s 6ms/step - loss: 0.0096 - val_loss: 0.1138\n",
            "Epoch 43/100\n",
            "5/5 [==============================] - 0s 6ms/step - loss: 0.0095 - val_loss: 0.1140\n",
            "Epoch 44/100\n",
            "5/5 [==============================] - 0s 7ms/step - loss: 0.0094 - val_loss: 0.1130\n",
            "Epoch 45/100\n",
            "5/5 [==============================] - 0s 5ms/step - loss: 0.0092 - val_loss: 0.1150\n",
            "Epoch 46/100\n",
            "5/5 [==============================] - 0s 6ms/step - loss: 0.0092 - val_loss: 0.1134\n",
            "Epoch 47/100\n",
            "5/5 [==============================] - 0s 6ms/step - loss: 0.0090 - val_loss: 0.1100\n",
            "Epoch 48/100\n",
            "5/5 [==============================] - 0s 7ms/step - loss: 0.0089 - val_loss: 0.1085\n",
            "Epoch 49/100\n",
            "5/5 [==============================] - 0s 5ms/step - loss: 0.0088 - val_loss: 0.1099\n",
            "Epoch 50/100\n",
            "5/5 [==============================] - 0s 5ms/step - loss: 0.0088 - val_loss: 0.1074\n",
            "Epoch 51/100\n",
            "5/5 [==============================] - 0s 6ms/step - loss: 0.0087 - val_loss: 0.1087\n",
            "Epoch 52/100\n",
            "5/5 [==============================] - 0s 6ms/step - loss: 0.0086 - val_loss: 0.1082\n",
            "Epoch 53/100\n",
            "5/5 [==============================] - 0s 5ms/step - loss: 0.0086 - val_loss: 0.1034\n",
            "Epoch 54/100\n",
            "5/5 [==============================] - 0s 6ms/step - loss: 0.0085 - val_loss: 0.1054\n",
            "Epoch 55/100\n",
            "5/5 [==============================] - 0s 5ms/step - loss: 0.0085 - val_loss: 0.1057\n",
            "Epoch 56/100\n",
            "5/5 [==============================] - 0s 6ms/step - loss: 0.0084 - val_loss: 0.1020\n",
            "Epoch 57/100\n",
            "5/5 [==============================] - 0s 5ms/step - loss: 0.0083 - val_loss: 0.1026\n",
            "Epoch 58/100\n",
            "5/5 [==============================] - 0s 5ms/step - loss: 0.0083 - val_loss: 0.1015\n",
            "Epoch 59/100\n",
            "5/5 [==============================] - 0s 6ms/step - loss: 0.0082 - val_loss: 0.0987\n",
            "Epoch 60/100\n",
            "5/5 [==============================] - 0s 13ms/step - loss: 0.0081 - val_loss: 0.1002\n",
            "Epoch 61/100\n",
            "5/5 [==============================] - 0s 6ms/step - loss: 0.0080 - val_loss: 0.0985\n",
            "Epoch 62/100\n",
            "5/5 [==============================] - 0s 7ms/step - loss: 0.0080 - val_loss: 0.0970\n",
            "Epoch 63/100\n",
            "5/5 [==============================] - 0s 5ms/step - loss: 0.0079 - val_loss: 0.0963\n",
            "Epoch 64/100\n",
            "5/5 [==============================] - 0s 6ms/step - loss: 0.0079 - val_loss: 0.0977\n",
            "Epoch 65/100\n",
            "5/5 [==============================] - 0s 7ms/step - loss: 0.0078 - val_loss: 0.0950\n",
            "Epoch 66/100\n",
            "5/5 [==============================] - 0s 5ms/step - loss: 0.0079 - val_loss: 0.0938\n",
            "Epoch 67/100\n",
            "5/5 [==============================] - 0s 5ms/step - loss: 0.0077 - val_loss: 0.0971\n",
            "Epoch 68/100\n",
            "5/5 [==============================] - 0s 5ms/step - loss: 0.0076 - val_loss: 0.0941\n",
            "Epoch 69/100\n",
            "5/5 [==============================] - 0s 5ms/step - loss: 0.0076 - val_loss: 0.0930\n",
            "Epoch 70/100\n",
            "5/5 [==============================] - 0s 6ms/step - loss: 0.0076 - val_loss: 0.0934\n",
            "Epoch 71/100\n",
            "5/5 [==============================] - 0s 6ms/step - loss: 0.0075 - val_loss: 0.0918\n",
            "Epoch 72/100\n",
            "5/5 [==============================] - 0s 6ms/step - loss: 0.0075 - val_loss: 0.0917\n",
            "Epoch 73/100\n",
            "5/5 [==============================] - 0s 6ms/step - loss: 0.0074 - val_loss: 0.0917\n",
            "Epoch 74/100\n",
            "5/5 [==============================] - 0s 6ms/step - loss: 0.0074 - val_loss: 0.0896\n",
            "Epoch 75/100\n",
            "5/5 [==============================] - 0s 7ms/step - loss: 0.0073 - val_loss: 0.0903\n",
            "Epoch 76/100\n",
            "5/5 [==============================] - 0s 8ms/step - loss: 0.0073 - val_loss: 0.0899\n",
            "Epoch 77/100\n",
            "5/5 [==============================] - 0s 5ms/step - loss: 0.0072 - val_loss: 0.0890\n",
            "Epoch 78/100\n",
            "5/5 [==============================] - 0s 7ms/step - loss: 0.0071 - val_loss: 0.0891\n",
            "Epoch 79/100\n",
            "5/5 [==============================] - 0s 7ms/step - loss: 0.0071 - val_loss: 0.0893\n",
            "Epoch 80/100\n",
            "5/5 [==============================] - 0s 7ms/step - loss: 0.0071 - val_loss: 0.0889\n",
            "Epoch 81/100\n",
            "5/5 [==============================] - 0s 5ms/step - loss: 0.0070 - val_loss: 0.0863\n",
            "Epoch 82/100\n",
            "5/5 [==============================] - 0s 6ms/step - loss: 0.0070 - val_loss: 0.0864\n",
            "Epoch 83/100\n",
            "5/5 [==============================] - 0s 6ms/step - loss: 0.0070 - val_loss: 0.0866\n",
            "Epoch 84/100\n",
            "5/5 [==============================] - 0s 6ms/step - loss: 0.0069 - val_loss: 0.0840\n",
            "Epoch 85/100\n",
            "5/5 [==============================] - 0s 6ms/step - loss: 0.0068 - val_loss: 0.0860\n",
            "Epoch 86/100\n",
            "5/5 [==============================] - 0s 6ms/step - loss: 0.0068 - val_loss: 0.0837\n",
            "Epoch 87/100\n",
            "5/5 [==============================] - 0s 6ms/step - loss: 0.0067 - val_loss: 0.0846\n",
            "Epoch 88/100\n",
            "5/5 [==============================] - 0s 6ms/step - loss: 0.0068 - val_loss: 0.0849\n",
            "Epoch 89/100\n",
            "5/5 [==============================] - 0s 6ms/step - loss: 0.0067 - val_loss: 0.0833\n",
            "Epoch 90/100\n",
            "5/5 [==============================] - 0s 5ms/step - loss: 0.0067 - val_loss: 0.0822\n",
            "Epoch 91/100\n",
            "5/5 [==============================] - 0s 6ms/step - loss: 0.0066 - val_loss: 0.0816\n",
            "Epoch 92/100\n",
            "5/5 [==============================] - 0s 6ms/step - loss: 0.0067 - val_loss: 0.0819\n",
            "Epoch 93/100\n",
            "5/5 [==============================] - 0s 5ms/step - loss: 0.0065 - val_loss: 0.0825\n",
            "Epoch 94/100\n",
            "5/5 [==============================] - 0s 7ms/step - loss: 0.0066 - val_loss: 0.0784\n",
            "Epoch 95/100\n",
            "5/5 [==============================] - 0s 6ms/step - loss: 0.0065 - val_loss: 0.0815\n",
            "Epoch 96/100\n",
            "5/5 [==============================] - 0s 10ms/step - loss: 0.0065 - val_loss: 0.0802\n",
            "Epoch 97/100\n",
            "5/5 [==============================] - 0s 5ms/step - loss: 0.0064 - val_loss: 0.0807\n",
            "Epoch 98/100\n",
            "5/5 [==============================] - 0s 6ms/step - loss: 0.0064 - val_loss: 0.0785\n",
            "Epoch 99/100\n",
            "5/5 [==============================] - 0s 6ms/step - loss: 0.0063 - val_loss: 0.0797\n",
            "Epoch 100/100\n",
            "5/5 [==============================] - 0s 5ms/step - loss: 0.0063 - val_loss: 0.0791\n"
          ],
          "name": "stdout"
        },
        {
          "output_type": "execute_result",
          "data": {
            "text/plain": [
              "<keras.callbacks.History at 0x7f2ddf038f50>"
            ]
          },
          "metadata": {
            "tags": []
          },
          "execution_count": 169
        }
      ]
    },
    {
      "cell_type": "code",
      "metadata": {
        "colab": {
          "base_uri": "https://localhost:8080/",
          "height": 331
        },
        "id": "1wUISxiG2TP9",
        "outputId": "327d1e0c-08f6-4bc1-f663-b702b6d90913"
      },
      "source": [
        "y_test_pre_mlp = predict(model_MLP, y_test)\n",
        "print(\"MLP RESULTS\")\n",
        "rmse, mae = evaluate(y_test, y_test_pre_mlp)\n",
        "RMSE_mlp.append(rmse)\n",
        "MAE_mlp.append(mae)\n",
        "print(\"RMSE = \", rmse)\n",
        "print(\"MAE = \", mae)\n",
        "\n",
        "visualize(y_test, y_test_pre_mlp, \"results of MLP\")"
      ],
      "execution_count": null,
      "outputs": [
        {
          "output_type": "stream",
          "text": [
            "MLP RESULTS\n",
            "RMSE =  0.05040225\n",
            "MAE =  0.045379575\n"
          ],
          "name": "stdout"
        },
        {
          "output_type": "display_data",
          "data": {
            "image/png": "[encoded data removed]",
            "text/plain": [
              "<Figure size 432x288 with 1 Axes>"
            ]
          },
          "metadata": {
            "tags": [],
            "needs_background": "light"
          }
        }
      ]
    },
    {
      "cell_type": "code",
      "metadata": {
        "colab": {
          "base_uri": "https://localhost:8080/"
        },
        "id": "hgRp9KIX4hDr",
        "outputId": "c5230b33-9753-493a-8418-aa227c3c5e75"
      },
      "source": [
        "model_LSTM = model_lstm()\n",
        "fit(model_LSTM, X_train, X_test, y_train, y_test)"
      ],
      "execution_count": null,
      "outputs": [
        {
          "output_type": "stream",
          "text": [
            "Epoch 1/100\n",
            "5/5 [==============================] - 3s 209ms/step - loss: 0.0446 - val_loss: 0.7419\n",
            "Epoch 2/100\n",
            "5/5 [==============================] - 0s 7ms/step - loss: 0.0492 - val_loss: 0.7041\n",
            "Epoch 3/100\n",
            "5/5 [==============================] - 0s 8ms/step - loss: 0.0533 - val_loss: 0.6749\n",
            "Epoch 4/100\n",
            "5/5 [==============================] - 0s 7ms/step - loss: 0.0546 - val_loss: 0.6511\n",
            "Epoch 5/100\n",
            "5/5 [==============================] - 0s 7ms/step - loss: 0.0538 - val_loss: 0.6297\n",
            "Epoch 6/100\n",
            "5/5 [==============================] - 0s 7ms/step - loss: 0.0519 - val_loss: 0.6084\n",
            "Epoch 7/100\n",
            "5/5 [==============================] - 0s 8ms/step - loss: 0.0496 - val_loss: 0.5857\n",
            "Epoch 8/100\n",
            "5/5 [==============================] - 0s 8ms/step - loss: 0.0472 - val_loss: 0.5599\n",
            "Epoch 9/100\n",
            "5/5 [==============================] - 0s 8ms/step - loss: 0.0448 - val_loss: 0.5296\n",
            "Epoch 10/100\n",
            "5/5 [==============================] - 0s 8ms/step - loss: 0.0425 - val_loss: 0.4929\n",
            "Epoch 11/100\n",
            "5/5 [==============================] - 0s 8ms/step - loss: 0.0404 - val_loss: 0.4490\n",
            "Epoch 12/100\n",
            "5/5 [==============================] - 0s 8ms/step - loss: 0.0383 - val_loss: 0.3967\n",
            "Epoch 13/100\n",
            "5/5 [==============================] - 0s 7ms/step - loss: 0.0357 - val_loss: 0.3334\n",
            "Epoch 14/100\n",
            "5/5 [==============================] - 0s 8ms/step - loss: 0.0327 - val_loss: 0.2570\n",
            "Epoch 15/100\n",
            "5/5 [==============================] - 0s 8ms/step - loss: 0.0290 - val_loss: 0.1638\n",
            "Epoch 16/100\n",
            "5/5 [==============================] - 0s 8ms/step - loss: 0.0245 - val_loss: 0.0685\n",
            "Epoch 17/100\n",
            "5/5 [==============================] - 0s 8ms/step - loss: 0.0190 - val_loss: 0.0932\n",
            "Epoch 18/100\n",
            "5/5 [==============================] - 0s 8ms/step - loss: 0.0132 - val_loss: 0.2459\n",
            "Epoch 19/100\n",
            "5/5 [==============================] - 0s 8ms/step - loss: 0.0111 - val_loss: 0.3630\n",
            "Epoch 20/100\n",
            "5/5 [==============================] - 0s 8ms/step - loss: 0.0076 - val_loss: 0.3591\n",
            "Epoch 21/100\n",
            "5/5 [==============================] - 0s 8ms/step - loss: 0.0088 - val_loss: 0.3146\n",
            "Epoch 22/100\n",
            "5/5 [==============================] - 0s 9ms/step - loss: 0.0053 - val_loss: 0.2470\n",
            "Epoch 23/100\n",
            "5/5 [==============================] - 0s 8ms/step - loss: 0.0066 - val_loss: 0.1989\n",
            "Epoch 24/100\n",
            "5/5 [==============================] - 0s 8ms/step - loss: 0.0070 - val_loss: 0.2134\n",
            "Epoch 25/100\n",
            "5/5 [==============================] - 0s 8ms/step - loss: 0.0083 - val_loss: 0.2076\n",
            "Epoch 26/100\n",
            "5/5 [==============================] - 0s 8ms/step - loss: 0.0071 - val_loss: 0.2000\n"
          ],
          "name": "stdout"
        },
        {
          "output_type": "execute_result",
          "data": {
            "text/plain": [
              "<keras.callbacks.History at 0x7f2dde59ebd0>"
            ]
          },
          "metadata": {
            "tags": []
          },
          "execution_count": 171
        }
      ]
    },
    {
      "cell_type": "code",
      "metadata": {
        "colab": {
          "base_uri": "https://localhost:8080/",
          "height": 331
        },
        "id": "4Upn9Fhc4hHS",
        "outputId": "1d287b85-dd2d-4813-f145-538a53cb6649"
      },
      "source": [
        "y_test_pre_lstm = predict(model_LSTM, y_test)\n",
        "print(\"LSTM RESULTS\")\n",
        "rmse, mae = evaluate(y_test, y_test_pre_lstm)\n",
        "RMSE_lstm.append(rmse)\n",
        "MAE_lstm.append(mae)\n",
        "print(\"RMSE = \", rmse)\n",
        "print(\"MAE = \", mae)\n",
        "\n",
        "visualize(y_test, y_test_pre_lstm, \"results of LSTM\")"
      ],
      "execution_count": null,
      "outputs": [
        {
          "output_type": "stream",
          "text": [
            "LSTM RESULTS\n",
            "RMSE =  0.26960456\n",
            "MAE =  0.24480058\n"
          ],
          "name": "stdout"
        },
        {
          "output_type": "display_data",
          "data": {
            "image/png": "[encoded data removed]",
            "text/plain": [
              "<Figure size 432x288 with 1 Axes>"
            ]
          },
          "metadata": {
            "tags": [],
            "needs_background": "light"
          }
        }
      ]
    },
    {
      "cell_type": "code",
      "metadata": {
        "colab": {
          "base_uri": "https://localhost:8080/"
        },
        "id": "pyUTeilyHPro",
        "outputId": "ba21f3e8-1563-464c-ea1f-78219821de6b"
      },
      "source": [
        "model_GRU = model_gru()\n",
        "fit(model_GRU, X_train, X_test, y_train, y_test)"
      ],
      "execution_count": null,
      "outputs": [
        {
          "output_type": "stream",
          "text": [
            "Epoch 1/100\n",
            "5/5 [==============================] - 3s 195ms/step - loss: 0.0413 - val_loss: 0.7392\n",
            "Epoch 2/100\n",
            "5/5 [==============================] - 0s 7ms/step - loss: 0.0553 - val_loss: 0.7079\n",
            "Epoch 3/100\n",
            "5/5 [==============================] - 0s 8ms/step - loss: 0.0591 - val_loss: 0.6869\n",
            "Epoch 4/100\n",
            "5/5 [==============================] - 0s 8ms/step - loss: 0.0553 - val_loss: 0.6702\n",
            "Epoch 5/100\n",
            "5/5 [==============================] - 0s 8ms/step - loss: 0.0474 - val_loss: 0.6532\n",
            "Epoch 6/100\n",
            "5/5 [==============================] - 0s 7ms/step - loss: 0.0382 - val_loss: 0.6325\n",
            "Epoch 7/100\n",
            "5/5 [==============================] - 0s 9ms/step - loss: 0.0304 - val_loss: 0.6010\n",
            "Epoch 8/100\n",
            "5/5 [==============================] - 0s 9ms/step - loss: 0.0256 - val_loss: 0.5604\n",
            "Epoch 9/100\n",
            "5/5 [==============================] - 0s 7ms/step - loss: 0.0244 - val_loss: 0.5178\n",
            "Epoch 10/100\n",
            "5/5 [==============================] - 0s 7ms/step - loss: 0.0202 - val_loss: 0.4731\n",
            "Epoch 11/100\n",
            "5/5 [==============================] - 0s 7ms/step - loss: 0.0165 - val_loss: 0.4165\n",
            "Epoch 12/100\n",
            "5/5 [==============================] - 0s 8ms/step - loss: 0.0142 - val_loss: 0.3636\n",
            "Epoch 13/100\n",
            "5/5 [==============================] - 0s 7ms/step - loss: 0.0130 - val_loss: 0.3088\n",
            "Epoch 14/100\n",
            "5/5 [==============================] - 0s 7ms/step - loss: 0.0120 - val_loss: 0.2525\n",
            "Epoch 15/100\n",
            "5/5 [==============================] - 0s 7ms/step - loss: 0.0118 - val_loss: 0.2021\n",
            "Epoch 16/100\n",
            "5/5 [==============================] - 0s 8ms/step - loss: 0.0118 - val_loss: 0.1775\n",
            "Epoch 17/100\n",
            "5/5 [==============================] - 0s 7ms/step - loss: 0.0125 - val_loss: 0.1732\n",
            "Epoch 18/100\n",
            "5/5 [==============================] - 0s 7ms/step - loss: 0.0111 - val_loss: 0.1792\n",
            "Epoch 19/100\n",
            "5/5 [==============================] - 0s 7ms/step - loss: 0.0087 - val_loss: 0.1887\n",
            "Epoch 20/100\n",
            "5/5 [==============================] - 0s 7ms/step - loss: 0.0074 - val_loss: 0.1899\n",
            "Epoch 21/100\n",
            "5/5 [==============================] - 0s 7ms/step - loss: 0.0065 - val_loss: 0.1828\n",
            "Epoch 22/100\n",
            "5/5 [==============================] - 0s 7ms/step - loss: 0.0056 - val_loss: 0.1704\n",
            "Epoch 23/100\n",
            "5/5 [==============================] - 0s 7ms/step - loss: 0.0052 - val_loss: 0.1576\n",
            "Epoch 24/100\n",
            "5/5 [==============================] - 0s 7ms/step - loss: 0.0049 - val_loss: 0.1490\n",
            "Epoch 25/100\n",
            "5/5 [==============================] - 0s 8ms/step - loss: 0.0048 - val_loss: 0.1396\n",
            "Epoch 26/100\n",
            "5/5 [==============================] - 0s 7ms/step - loss: 0.0051 - val_loss: 0.1206\n",
            "Epoch 27/100\n",
            "5/5 [==============================] - 0s 8ms/step - loss: 0.0055 - val_loss: 0.1163\n",
            "Epoch 28/100\n",
            "5/5 [==============================] - 0s 7ms/step - loss: 0.0069 - val_loss: 0.0887\n",
            "Epoch 29/100\n",
            "5/5 [==============================] - 0s 9ms/step - loss: 0.0054 - val_loss: 0.0944\n",
            "Epoch 30/100\n",
            "5/5 [==============================] - 0s 8ms/step - loss: 0.0089 - val_loss: 0.0748\n",
            "Epoch 31/100\n",
            "5/5 [==============================] - 0s 8ms/step - loss: 0.0038 - val_loss: 0.0800\n",
            "Epoch 32/100\n",
            "5/5 [==============================] - 0s 8ms/step - loss: 0.0059 - val_loss: 0.0790\n",
            "Epoch 33/100\n",
            "5/5 [==============================] - 0s 8ms/step - loss: 0.0034 - val_loss: 0.0775\n",
            "Epoch 34/100\n",
            "5/5 [==============================] - 0s 7ms/step - loss: 0.0039 - val_loss: 0.0659\n",
            "Epoch 35/100\n",
            "5/5 [==============================] - 0s 7ms/step - loss: 0.0037 - val_loss: 0.0750\n",
            "Epoch 36/100\n",
            "5/5 [==============================] - 0s 7ms/step - loss: 0.0051 - val_loss: 0.0528\n",
            "Epoch 37/100\n",
            "5/5 [==============================] - 0s 7ms/step - loss: 0.0050 - val_loss: 0.0585\n",
            "Epoch 38/100\n",
            "5/5 [==============================] - 0s 7ms/step - loss: 0.0079 - val_loss: 0.0383\n",
            "Epoch 39/100\n",
            "5/5 [==============================] - 0s 7ms/step - loss: 0.0026 - val_loss: 0.0507\n",
            "Epoch 40/100\n",
            "5/5 [==============================] - 0s 7ms/step - loss: 0.0045 - val_loss: 0.0447\n",
            "Epoch 41/100\n",
            "5/5 [==============================] - 0s 7ms/step - loss: 0.0039 - val_loss: 0.0406\n",
            "Epoch 42/100\n",
            "5/5 [==============================] - 0s 8ms/step - loss: 0.0073 - val_loss: 0.0291\n",
            "Epoch 43/100\n",
            "5/5 [==============================] - 0s 7ms/step - loss: 0.0027 - val_loss: 0.0426\n",
            "Epoch 44/100\n",
            "5/5 [==============================] - 0s 8ms/step - loss: 0.0050 - val_loss: 0.0639\n",
            "Epoch 45/100\n",
            "5/5 [==============================] - 0s 7ms/step - loss: 0.0065 - val_loss: 0.0417\n",
            "Epoch 46/100\n",
            "5/5 [==============================] - 0s 8ms/step - loss: 0.0032 - val_loss: 0.0319\n",
            "Epoch 47/100\n",
            "5/5 [==============================] - 0s 8ms/step - loss: 0.0093 - val_loss: 0.0352\n",
            "Epoch 48/100\n",
            "5/5 [==============================] - 0s 8ms/step - loss: 0.0041 - val_loss: 0.0426\n",
            "Epoch 49/100\n",
            "5/5 [==============================] - 0s 8ms/step - loss: 0.0083 - val_loss: 0.0406\n",
            "Epoch 50/100\n",
            "5/5 [==============================] - 0s 8ms/step - loss: 0.0021 - val_loss: 0.0345\n",
            "Epoch 51/100\n",
            "5/5 [==============================] - 0s 8ms/step - loss: 0.0034 - val_loss: 0.0384\n",
            "Epoch 52/100\n",
            "5/5 [==============================] - 0s 9ms/step - loss: 0.0036 - val_loss: 0.0484\n"
          ],
          "name": "stdout"
        },
        {
          "output_type": "execute_result",
          "data": {
            "text/plain": [
              "<keras.callbacks.History at 0x7f2ddad26450>"
            ]
          },
          "metadata": {
            "tags": []
          },
          "execution_count": 173
        }
      ]
    },
    {
      "cell_type": "code",
      "metadata": {
        "colab": {
          "base_uri": "https://localhost:8080/",
          "height": 331
        },
        "id": "BsRT9VavHPuj",
        "outputId": "ab49dbf5-8a85-4e3c-fc77-9c90a656e2c8"
      },
      "source": [
        "y_test_pre_gru = predict(model_GRU, y_test)\n",
        "print(\"GRU RESULTS\")\n",
        "rmse, mae = evaluate(y_test, y_test_pre_gru)\n",
        "RMSE_gru.append(rmse)\n",
        "MAE_gru.append(mae)\n",
        "print(\"RMSE = \", rmse)\n",
        "print(\"MAE = \", mae)\n",
        "\n",
        "visualize(y_test, y_test_pre_gru, \"results of GRU\")\n"
      ],
      "execution_count": null,
      "outputs": [
        {
          "output_type": "stream",
          "text": [
            "GRU RESULTS\n",
            "RMSE =  0.03165576\n",
            "MAE =  0.02949378\n"
          ],
          "name": "stdout"
        },
        {
          "output_type": "display_data",
          "data": {
            "image/png": "[encoded data removed]",
            "text/plain": [
              "<Figure size 432x288 with 1 Axes>"
            ]
          },
          "metadata": {
            "tags": [],
            "needs_background": "light"
          }
        }
      ]
    },
    {
      "cell_type": "markdown",
      "metadata": {
        "id": "qtSdq2La4NVe"
      },
      "source": [
        "# Uttar Pradesh"
      ]
    },
    {
      "cell_type": "code",
      "metadata": {
        "id": "-KxhTpBr4h65"
      },
      "source": [
        "X_train,X_test, y_train, y_test = prepare(df_UP, scaling_range=(0,1),time_step=5,multi_feature=True, response_variable_index=0,data_split_ratio=0.8)"
      ],
      "execution_count": null,
      "outputs": []
    },
    {
      "cell_type": "code",
      "metadata": {
        "colab": {
          "base_uri": "https://localhost:8080/"
        },
        "id": "hgeO1DSk99Li",
        "outputId": "1d9a50b5-c0b5-43d1-e527-6f237d679c0e"
      },
      "source": [
        "model_CNN = model_cnn()\n",
        "fit(model_CNN, X_train, X_test, y_train, y_test)"
      ],
      "execution_count": null,
      "outputs": [
        {
          "output_type": "stream",
          "text": [
            "Epoch 1/100\n",
            "5/5 [==============================] - 1s 59ms/step - loss: 0.0820 - val_loss: 0.7314\n",
            "Epoch 2/100\n",
            "5/5 [==============================] - 0s 5ms/step - loss: 0.0691 - val_loss: 0.6380\n",
            "Epoch 3/100\n",
            "5/5 [==============================] - 0s 5ms/step - loss: 0.0608 - val_loss: 0.5469\n",
            "Epoch 4/100\n",
            "5/5 [==============================] - 0s 6ms/step - loss: 0.0547 - val_loss: 0.4572\n",
            "Epoch 5/100\n",
            "5/5 [==============================] - 0s 5ms/step - loss: 0.0455 - val_loss: 0.3677\n",
            "Epoch 6/100\n",
            "5/5 [==============================] - 0s 6ms/step - loss: 0.0427 - val_loss: 0.2800\n",
            "Epoch 7/100\n",
            "5/5 [==============================] - 0s 6ms/step - loss: 0.0394 - val_loss: 0.1979\n",
            "Epoch 8/100\n",
            "5/5 [==============================] - 0s 6ms/step - loss: 0.0410 - val_loss: 0.1322\n",
            "Epoch 9/100\n",
            "5/5 [==============================] - 0s 5ms/step - loss: 0.0368 - val_loss: 0.0857\n",
            "Epoch 10/100\n",
            "5/5 [==============================] - 0s 6ms/step - loss: 0.0365 - val_loss: 0.0495\n",
            "Epoch 11/100\n",
            "5/5 [==============================] - 0s 5ms/step - loss: 0.0315 - val_loss: 0.0366\n",
            "Epoch 12/100\n",
            "5/5 [==============================] - 0s 6ms/step - loss: 0.0298 - val_loss: 0.0362\n",
            "Epoch 13/100\n",
            "5/5 [==============================] - 0s 7ms/step - loss: 0.0247 - val_loss: 0.0428\n",
            "Epoch 14/100\n",
            "5/5 [==============================] - 0s 5ms/step - loss: 0.0229 - val_loss: 0.0489\n",
            "Epoch 15/100\n",
            "5/5 [==============================] - 0s 6ms/step - loss: 0.0206 - val_loss: 0.0406\n",
            "Epoch 16/100\n",
            "5/5 [==============================] - 0s 6ms/step - loss: 0.0201 - val_loss: 0.0346\n",
            "Epoch 17/100\n",
            "5/5 [==============================] - 0s 6ms/step - loss: 0.0190 - val_loss: 0.0355\n",
            "Epoch 18/100\n",
            "5/5 [==============================] - 0s 6ms/step - loss: 0.0178 - val_loss: 0.0382\n",
            "Epoch 19/100\n",
            "5/5 [==============================] - 0s 5ms/step - loss: 0.0140 - val_loss: 0.0348\n",
            "Epoch 20/100\n",
            "5/5 [==============================] - 0s 6ms/step - loss: 0.0147 - val_loss: 0.0344\n",
            "Epoch 21/100\n",
            "5/5 [==============================] - 0s 10ms/step - loss: 0.0152 - val_loss: 0.0417\n",
            "Epoch 22/100\n",
            "5/5 [==============================] - 0s 6ms/step - loss: 0.0151 - val_loss: 0.0485\n",
            "Epoch 23/100\n",
            "5/5 [==============================] - 0s 7ms/step - loss: 0.0169 - val_loss: 0.0396\n",
            "Epoch 24/100\n",
            "5/5 [==============================] - 0s 6ms/step - loss: 0.0161 - val_loss: 0.0334\n",
            "Epoch 25/100\n",
            "5/5 [==============================] - 0s 7ms/step - loss: 0.0130 - val_loss: 0.0464\n",
            "Epoch 26/100\n",
            "5/5 [==============================] - 0s 5ms/step - loss: 0.0145 - val_loss: 0.0814\n",
            "Epoch 27/100\n",
            "5/5 [==============================] - 0s 6ms/step - loss: 0.0172 - val_loss: 0.0897\n",
            "Epoch 28/100\n",
            "5/5 [==============================] - 0s 5ms/step - loss: 0.0138 - val_loss: 0.0711\n",
            "Epoch 29/100\n",
            "5/5 [==============================] - 0s 5ms/step - loss: 0.0144 - val_loss: 0.0562\n",
            "Epoch 30/100\n",
            "5/5 [==============================] - 0s 6ms/step - loss: 0.0166 - val_loss: 0.0480\n",
            "Epoch 31/100\n",
            "5/5 [==============================] - 0s 6ms/step - loss: 0.0153 - val_loss: 0.0354\n",
            "Epoch 32/100\n",
            "5/5 [==============================] - 0s 6ms/step - loss: 0.0120 - val_loss: 0.0396\n",
            "Epoch 33/100\n",
            "5/5 [==============================] - 0s 5ms/step - loss: 0.0131 - val_loss: 0.0411\n",
            "Epoch 34/100\n",
            "5/5 [==============================] - 0s 6ms/step - loss: 0.0125 - val_loss: 0.0475\n"
          ],
          "name": "stdout"
        },
        {
          "output_type": "execute_result",
          "data": {
            "text/plain": [
              "<keras.callbacks.History at 0x7f2de27aa610>"
            ]
          },
          "metadata": {
            "tags": []
          },
          "execution_count": 176
        }
      ]
    },
    {
      "cell_type": "code",
      "metadata": {
        "colab": {
          "base_uri": "https://localhost:8080/",
          "height": 331
        },
        "id": "gxdDvXnn-E6G",
        "outputId": "28eddd14-e1c3-4da7-e3a5-5b0ce98bba7c"
      },
      "source": [
        "y_test_pre_cnn = predict(model_CNN, y_test)\n",
        "print(\"CNN RESULTS\")\n",
        "rmse, mae = evaluate(y_test, y_test_pre_cnn)\n",
        "RMSE_cnn.append(rmse)\n",
        "MAE_cnn.append(mae)\n",
        "print(\"RMSE = \", rmse)\n",
        "print(\"MAE = \", mae)\n",
        "\n",
        "visualize(y_test, y_test_pre_cnn, \"results of CNN\")"
      ],
      "execution_count": null,
      "outputs": [
        {
          "output_type": "stream",
          "text": [
            "CNN RESULTS\n",
            "RMSE =  0.0389462\n",
            "MAE =  0.028493\n"
          ],
          "name": "stdout"
        },
        {
          "output_type": "display_data",
          "data": {
            "image/png": "[encoded data removed]",
            "text/plain": [
              "<Figure size 432x288 with 1 Axes>"
            ]
          },
          "metadata": {
            "tags": [],
            "needs_background": "light"
          }
        }
      ]
    },
    {
      "cell_type": "code",
      "metadata": {
        "colab": {
          "base_uri": "https://localhost:8080/"
        },
        "id": "NHp66Pwz2NFq",
        "outputId": "fc127e9f-b3e2-4b5c-a530-f0cec768541d"
      },
      "source": [
        "model_MLP = model_mlp()\n",
        "fit(model_MLP, X_train, X_test, y_train, y_test)"
      ],
      "execution_count": null,
      "outputs": [
        {
          "output_type": "stream",
          "text": [
            "Epoch 1/100\n",
            "5/5 [==============================] - 1s 48ms/step - loss: 0.0616 - val_loss: 0.5973\n",
            "Epoch 2/100\n",
            "5/5 [==============================] - 0s 6ms/step - loss: 0.0604 - val_loss: 0.5867\n",
            "Epoch 3/100\n",
            "5/5 [==============================] - 0s 5ms/step - loss: 0.0597 - val_loss: 0.5789\n",
            "Epoch 4/100\n",
            "5/5 [==============================] - 0s 6ms/step - loss: 0.0591 - val_loss: 0.5711\n",
            "Epoch 5/100\n",
            "5/5 [==============================] - 0s 6ms/step - loss: 0.0585 - val_loss: 0.5628\n",
            "Epoch 6/100\n",
            "5/5 [==============================] - 0s 6ms/step - loss: 0.0578 - val_loss: 0.5543\n",
            "Epoch 7/100\n",
            "5/5 [==============================] - 0s 7ms/step - loss: 0.0573 - val_loss: 0.5457\n",
            "Epoch 8/100\n",
            "5/5 [==============================] - 0s 10ms/step - loss: 0.0567 - val_loss: 0.5371\n",
            "Epoch 9/100\n",
            "5/5 [==============================] - 0s 5ms/step - loss: 0.0561 - val_loss: 0.5285\n",
            "Epoch 10/100\n",
            "5/5 [==============================] - 0s 5ms/step - loss: 0.0555 - val_loss: 0.5202\n",
            "Epoch 11/100\n",
            "5/5 [==============================] - 0s 10ms/step - loss: 0.0549 - val_loss: 0.5132\n",
            "Epoch 12/100\n",
            "5/5 [==============================] - 0s 5ms/step - loss: 0.0544 - val_loss: 0.5063\n",
            "Epoch 13/100\n",
            "5/5 [==============================] - 0s 5ms/step - loss: 0.0538 - val_loss: 0.4998\n",
            "Epoch 14/100\n",
            "5/5 [==============================] - 0s 6ms/step - loss: 0.0533 - val_loss: 0.4936\n",
            "Epoch 15/100\n",
            "5/5 [==============================] - 0s 5ms/step - loss: 0.0528 - val_loss: 0.4887\n",
            "Epoch 16/100\n",
            "5/5 [==============================] - 0s 6ms/step - loss: 0.0522 - val_loss: 0.4850\n",
            "Epoch 17/100\n",
            "5/5 [==============================] - 0s 5ms/step - loss: 0.0517 - val_loss: 0.4809\n",
            "Epoch 18/100\n",
            "5/5 [==============================] - 0s 5ms/step - loss: 0.0512 - val_loss: 0.4771\n",
            "Epoch 19/100\n",
            "5/5 [==============================] - 0s 6ms/step - loss: 0.0507 - val_loss: 0.4733\n",
            "Epoch 20/100\n",
            "5/5 [==============================] - 0s 6ms/step - loss: 0.0499 - val_loss: 0.4658\n",
            "Epoch 21/100\n",
            "5/5 [==============================] - 0s 6ms/step - loss: 0.0486 - val_loss: 0.4502\n",
            "Epoch 22/100\n",
            "5/5 [==============================] - 0s 7ms/step - loss: 0.0469 - val_loss: 0.4311\n",
            "Epoch 23/100\n",
            "5/5 [==============================] - 0s 7ms/step - loss: 0.0453 - val_loss: 0.4105\n",
            "Epoch 24/100\n",
            "5/5 [==============================] - 0s 5ms/step - loss: 0.0436 - val_loss: 0.3891\n",
            "Epoch 25/100\n",
            "5/5 [==============================] - 0s 10ms/step - loss: 0.0419 - val_loss: 0.3674\n",
            "Epoch 26/100\n",
            "5/5 [==============================] - 0s 8ms/step - loss: 0.0403 - val_loss: 0.3504\n",
            "Epoch 27/100\n",
            "5/5 [==============================] - 0s 7ms/step - loss: 0.0384 - val_loss: 0.3352\n",
            "Epoch 28/100\n",
            "5/5 [==============================] - 0s 5ms/step - loss: 0.0366 - val_loss: 0.3193\n",
            "Epoch 29/100\n",
            "5/5 [==============================] - 0s 6ms/step - loss: 0.0351 - val_loss: 0.3031\n",
            "Epoch 30/100\n",
            "5/5 [==============================] - 0s 5ms/step - loss: 0.0336 - val_loss: 0.2865\n",
            "Epoch 31/100\n",
            "5/5 [==============================] - 0s 5ms/step - loss: 0.0321 - val_loss: 0.2709\n",
            "Epoch 32/100\n",
            "5/5 [==============================] - 0s 5ms/step - loss: 0.0307 - val_loss: 0.2579\n",
            "Epoch 33/100\n",
            "5/5 [==============================] - 0s 5ms/step - loss: 0.0295 - val_loss: 0.2473\n",
            "Epoch 34/100\n",
            "5/5 [==============================] - 0s 5ms/step - loss: 0.0287 - val_loss: 0.2362\n",
            "Epoch 35/100\n",
            "5/5 [==============================] - 0s 5ms/step - loss: 0.0280 - val_loss: 0.2275\n",
            "Epoch 36/100\n",
            "5/5 [==============================] - 0s 5ms/step - loss: 0.0273 - val_loss: 0.2215\n",
            "Epoch 37/100\n",
            "5/5 [==============================] - 0s 6ms/step - loss: 0.0268 - val_loss: 0.2166\n",
            "Epoch 38/100\n",
            "5/5 [==============================] - 0s 5ms/step - loss: 0.0262 - val_loss: 0.2116\n",
            "Epoch 39/100\n",
            "5/5 [==============================] - 0s 5ms/step - loss: 0.0255 - val_loss: 0.2062\n",
            "Epoch 40/100\n",
            "5/5 [==============================] - 0s 5ms/step - loss: 0.0246 - val_loss: 0.1987\n",
            "Epoch 41/100\n",
            "5/5 [==============================] - 0s 6ms/step - loss: 0.0237 - val_loss: 0.1892\n",
            "Epoch 42/100\n",
            "5/5 [==============================] - 0s 6ms/step - loss: 0.0231 - val_loss: 0.1794\n",
            "Epoch 43/100\n",
            "5/5 [==============================] - 0s 7ms/step - loss: 0.0225 - val_loss: 0.1714\n",
            "Epoch 44/100\n",
            "5/5 [==============================] - 0s 6ms/step - loss: 0.0219 - val_loss: 0.1653\n",
            "Epoch 45/100\n",
            "5/5 [==============================] - 0s 7ms/step - loss: 0.0213 - val_loss: 0.1603\n",
            "Epoch 46/100\n",
            "5/5 [==============================] - 0s 5ms/step - loss: 0.0207 - val_loss: 0.1560\n",
            "Epoch 47/100\n",
            "5/5 [==============================] - 0s 6ms/step - loss: 0.0201 - val_loss: 0.1522\n",
            "Epoch 48/100\n",
            "5/5 [==============================] - 0s 5ms/step - loss: 0.0196 - val_loss: 0.1487\n",
            "Epoch 49/100\n",
            "5/5 [==============================] - 0s 6ms/step - loss: 0.0192 - val_loss: 0.1456\n",
            "Epoch 50/100\n",
            "5/5 [==============================] - 0s 6ms/step - loss: 0.0188 - val_loss: 0.1439\n",
            "Epoch 51/100\n",
            "5/5 [==============================] - 0s 7ms/step - loss: 0.0185 - val_loss: 0.1430\n",
            "Epoch 52/100\n",
            "5/5 [==============================] - 0s 5ms/step - loss: 0.0181 - val_loss: 0.1418\n",
            "Epoch 53/100\n",
            "5/5 [==============================] - 0s 7ms/step - loss: 0.0178 - val_loss: 0.1415\n",
            "Epoch 54/100\n",
            "5/5 [==============================] - 0s 5ms/step - loss: 0.0175 - val_loss: 0.1409\n",
            "Epoch 55/100\n",
            "5/5 [==============================] - 0s 6ms/step - loss: 0.0173 - val_loss: 0.1402\n",
            "Epoch 56/100\n",
            "5/5 [==============================] - 0s 5ms/step - loss: 0.0172 - val_loss: 0.1397\n",
            "Epoch 57/100\n",
            "5/5 [==============================] - 0s 5ms/step - loss: 0.0171 - val_loss: 0.1389\n",
            "Epoch 58/100\n",
            "5/5 [==============================] - 0s 7ms/step - loss: 0.0170 - val_loss: 0.1388\n",
            "Epoch 59/100\n",
            "5/5 [==============================] - 0s 6ms/step - loss: 0.0169 - val_loss: 0.1383\n",
            "Epoch 60/100\n",
            "5/5 [==============================] - 0s 6ms/step - loss: 0.0167 - val_loss: 0.1380\n",
            "Epoch 61/100\n",
            "5/5 [==============================] - 0s 6ms/step - loss: 0.0166 - val_loss: 0.1378\n",
            "Epoch 62/100\n",
            "5/5 [==============================] - 0s 5ms/step - loss: 0.0165 - val_loss: 0.1372\n",
            "Epoch 63/100\n",
            "5/5 [==============================] - 0s 6ms/step - loss: 0.0164 - val_loss: 0.1370\n",
            "Epoch 64/100\n",
            "5/5 [==============================] - 0s 6ms/step - loss: 0.0163 - val_loss: 0.1372\n",
            "Epoch 65/100\n",
            "5/5 [==============================] - 0s 6ms/step - loss: 0.0162 - val_loss: 0.1366\n",
            "Epoch 66/100\n",
            "5/5 [==============================] - 0s 6ms/step - loss: 0.0161 - val_loss: 0.1363\n",
            "Epoch 67/100\n",
            "5/5 [==============================] - 0s 7ms/step - loss: 0.0161 - val_loss: 0.1356\n",
            "Epoch 68/100\n",
            "5/5 [==============================] - 0s 8ms/step - loss: 0.0160 - val_loss: 0.1356\n",
            "Epoch 69/100\n",
            "5/5 [==============================] - 0s 9ms/step - loss: 0.0159 - val_loss: 0.1354\n",
            "Epoch 70/100\n",
            "5/5 [==============================] - 0s 8ms/step - loss: 0.0158 - val_loss: 0.1345\n",
            "Epoch 71/100\n",
            "5/5 [==============================] - 0s 5ms/step - loss: 0.0157 - val_loss: 0.1347\n",
            "Epoch 72/100\n",
            "5/5 [==============================] - 0s 5ms/step - loss: 0.0157 - val_loss: 0.1343\n",
            "Epoch 73/100\n",
            "5/5 [==============================] - 0s 6ms/step - loss: 0.0156 - val_loss: 0.1338\n",
            "Epoch 74/100\n",
            "5/5 [==============================] - 0s 5ms/step - loss: 0.0155 - val_loss: 0.1339\n",
            "Epoch 75/100\n",
            "5/5 [==============================] - 0s 6ms/step - loss: 0.0154 - val_loss: 0.1336\n",
            "Epoch 76/100\n",
            "5/5 [==============================] - 0s 5ms/step - loss: 0.0154 - val_loss: 0.1333\n",
            "Epoch 77/100\n",
            "5/5 [==============================] - 0s 5ms/step - loss: 0.0153 - val_loss: 0.1327\n",
            "Epoch 78/100\n",
            "5/5 [==============================] - 0s 5ms/step - loss: 0.0154 - val_loss: 0.1331\n",
            "Epoch 79/100\n",
            "5/5 [==============================] - 0s 7ms/step - loss: 0.0152 - val_loss: 0.1323\n",
            "Epoch 80/100\n",
            "5/5 [==============================] - 0s 8ms/step - loss: 0.0151 - val_loss: 0.1320\n",
            "Epoch 81/100\n",
            "5/5 [==============================] - 0s 6ms/step - loss: 0.0151 - val_loss: 0.1316\n",
            "Epoch 82/100\n",
            "5/5 [==============================] - 0s 6ms/step - loss: 0.0150 - val_loss: 0.1319\n",
            "Epoch 83/100\n",
            "5/5 [==============================] - 0s 6ms/step - loss: 0.0150 - val_loss: 0.1316\n",
            "Epoch 84/100\n",
            "5/5 [==============================] - 0s 5ms/step - loss: 0.0150 - val_loss: 0.1313\n",
            "Epoch 85/100\n",
            "5/5 [==============================] - 0s 7ms/step - loss: 0.0148 - val_loss: 0.1309\n",
            "Epoch 86/100\n",
            "5/5 [==============================] - 0s 6ms/step - loss: 0.0147 - val_loss: 0.1306\n",
            "Epoch 87/100\n",
            "5/5 [==============================] - 0s 6ms/step - loss: 0.0147 - val_loss: 0.1304\n",
            "Epoch 88/100\n",
            "5/5 [==============================] - 0s 10ms/step - loss: 0.0147 - val_loss: 0.1301\n",
            "Epoch 89/100\n",
            "5/5 [==============================] - 0s 6ms/step - loss: 0.0146 - val_loss: 0.1293\n",
            "Epoch 90/100\n",
            "5/5 [==============================] - 0s 5ms/step - loss: 0.0146 - val_loss: 0.1297\n",
            "Epoch 91/100\n",
            "5/5 [==============================] - 0s 6ms/step - loss: 0.0145 - val_loss: 0.1291\n",
            "Epoch 92/100\n",
            "5/5 [==============================] - 0s 6ms/step - loss: 0.0145 - val_loss: 0.1295\n",
            "Epoch 93/100\n",
            "5/5 [==============================] - 0s 6ms/step - loss: 0.0144 - val_loss: 0.1289\n",
            "Epoch 94/100\n",
            "5/5 [==============================] - 0s 7ms/step - loss: 0.0143 - val_loss: 0.1290\n",
            "Epoch 95/100\n",
            "5/5 [==============================] - 0s 5ms/step - loss: 0.0143 - val_loss: 0.1283\n",
            "Epoch 96/100\n",
            "5/5 [==============================] - 0s 6ms/step - loss: 0.0142 - val_loss: 0.1283\n",
            "Epoch 97/100\n",
            "5/5 [==============================] - 0s 6ms/step - loss: 0.0142 - val_loss: 0.1278\n",
            "Epoch 98/100\n",
            "5/5 [==============================] - 0s 6ms/step - loss: 0.0142 - val_loss: 0.1276\n",
            "Epoch 99/100\n",
            "5/5 [==============================] - 0s 6ms/step - loss: 0.0141 - val_loss: 0.1276\n",
            "Epoch 100/100\n",
            "5/5 [==============================] - 0s 6ms/step - loss: 0.0141 - val_loss: 0.1275\n"
          ],
          "name": "stdout"
        },
        {
          "output_type": "execute_result",
          "data": {
            "text/plain": [
              "<keras.callbacks.History at 0x7f2dd77d2e10>"
            ]
          },
          "metadata": {
            "tags": []
          },
          "execution_count": 178
        }
      ]
    },
    {
      "cell_type": "code",
      "metadata": {
        "colab": {
          "base_uri": "https://localhost:8080/",
          "height": 331
        },
        "id": "TfXWcbLf2UjA",
        "outputId": "43a4c96a-b64b-440e-bffd-bf502d4a137a"
      },
      "source": [
        "y_test_pre_mlp = predict(model_MLP, y_test)\n",
        "print(\"MLP RESULTS\")\n",
        "rmse, mae = evaluate(y_test, y_test_pre_mlp)\n",
        "RMSE_mlp.append(rmse)\n",
        "MAE_mlp.append(mae)\n",
        "print(\"RMSE = \", rmse)\n",
        "print(\"MAE = \", mae)\n",
        "\n",
        "visualize(y_test, y_test_pre_mlp, \"results of MLP\")"
      ],
      "execution_count": null,
      "outputs": [
        {
          "output_type": "stream",
          "text": [
            "MLP RESULTS\n",
            "RMSE =  0.0551385\n",
            "MAE =  0.046122722\n"
          ],
          "name": "stdout"
        },
        {
          "output_type": "display_data",
          "data": {
            "image/png": "[encoded data removed]",
            "text/plain": [
              "<Figure size 432x288 with 1 Axes>"
            ]
          },
          "metadata": {
            "tags": [],
            "needs_background": "light"
          }
        }
      ]
    },
    {
      "cell_type": "code",
      "metadata": {
        "colab": {
          "base_uri": "https://localhost:8080/"
        },
        "id": "mwluJUvQ4h9y",
        "outputId": "9a03c0e5-692c-42ee-83c4-b0a5c8357a7b"
      },
      "source": [
        "model_LSTM = model_lstm()\n",
        "fit(model_LSTM, X_train, X_test, y_train, y_test)"
      ],
      "execution_count": null,
      "outputs": [
        {
          "output_type": "stream",
          "text": [
            "Epoch 1/100\n",
            "5/5 [==============================] - 3s 201ms/step - loss: 0.0542 - val_loss: 0.5793\n",
            "Epoch 2/100\n",
            "5/5 [==============================] - 0s 8ms/step - loss: 0.0542 - val_loss: 0.5203\n",
            "Epoch 3/100\n",
            "5/5 [==============================] - 0s 7ms/step - loss: 0.0550 - val_loss: 0.4609\n",
            "Epoch 4/100\n",
            "5/5 [==============================] - 0s 7ms/step - loss: 0.0549 - val_loss: 0.3994\n",
            "Epoch 5/100\n",
            "5/5 [==============================] - 0s 7ms/step - loss: 0.0540 - val_loss: 0.3341\n",
            "Epoch 6/100\n",
            "5/5 [==============================] - 0s 8ms/step - loss: 0.0525 - val_loss: 0.2666\n",
            "Epoch 7/100\n",
            "5/5 [==============================] - 0s 8ms/step - loss: 0.0505 - val_loss: 0.1988\n",
            "Epoch 8/100\n",
            "5/5 [==============================] - 0s 7ms/step - loss: 0.0478 - val_loss: 0.1387\n",
            "Epoch 9/100\n",
            "5/5 [==============================] - 0s 8ms/step - loss: 0.0419 - val_loss: 0.0941\n",
            "Epoch 10/100\n",
            "5/5 [==============================] - 0s 10ms/step - loss: 0.0317 - val_loss: 0.0767\n",
            "Epoch 11/100\n",
            "5/5 [==============================] - 0s 7ms/step - loss: 0.0199 - val_loss: 0.0707\n",
            "Epoch 12/100\n",
            "5/5 [==============================] - 0s 7ms/step - loss: 0.0101 - val_loss: 0.0896\n",
            "Epoch 13/100\n",
            "5/5 [==============================] - 0s 7ms/step - loss: 0.0099 - val_loss: 0.1050\n",
            "Epoch 14/100\n",
            "5/5 [==============================] - 0s 8ms/step - loss: 0.0078 - val_loss: 0.0967\n",
            "Epoch 15/100\n",
            "5/5 [==============================] - 0s 9ms/step - loss: 0.0076 - val_loss: 0.0777\n",
            "Epoch 16/100\n",
            "5/5 [==============================] - 0s 7ms/step - loss: 0.0076 - val_loss: 0.0707\n",
            "Epoch 17/100\n",
            "5/5 [==============================] - 0s 7ms/step - loss: 0.0066 - val_loss: 0.0764\n",
            "Epoch 18/100\n",
            "5/5 [==============================] - 0s 8ms/step - loss: 0.0071 - val_loss: 0.0753\n",
            "Epoch 19/100\n",
            "5/5 [==============================] - 0s 7ms/step - loss: 0.0062 - val_loss: 0.0708\n",
            "Epoch 20/100\n",
            "5/5 [==============================] - 0s 7ms/step - loss: 0.0064 - val_loss: 0.0666\n",
            "Epoch 21/100\n",
            "5/5 [==============================] - 0s 7ms/step - loss: 0.0060 - val_loss: 0.0693\n",
            "Epoch 22/100\n",
            "5/5 [==============================] - 0s 7ms/step - loss: 0.0066 - val_loss: 0.0660\n",
            "Epoch 23/100\n",
            "5/5 [==============================] - 0s 8ms/step - loss: 0.0061 - val_loss: 0.0653\n",
            "Epoch 24/100\n",
            "5/5 [==============================] - 0s 7ms/step - loss: 0.0061 - val_loss: 0.0637\n",
            "Epoch 25/100\n",
            "5/5 [==============================] - 0s 9ms/step - loss: 0.0058 - val_loss: 0.0614\n",
            "Epoch 26/100\n",
            "5/5 [==============================] - 0s 7ms/step - loss: 0.0064 - val_loss: 0.0575\n",
            "Epoch 27/100\n",
            "5/5 [==============================] - 0s 7ms/step - loss: 0.0056 - val_loss: 0.0627\n",
            "Epoch 28/100\n",
            "5/5 [==============================] - 0s 7ms/step - loss: 0.0061 - val_loss: 0.0581\n",
            "Epoch 29/100\n",
            "5/5 [==============================] - 0s 7ms/step - loss: 0.0064 - val_loss: 0.0646\n",
            "Epoch 30/100\n",
            "5/5 [==============================] - 0s 7ms/step - loss: 0.0058 - val_loss: 0.0542\n",
            "Epoch 31/100\n",
            "5/5 [==============================] - 0s 8ms/step - loss: 0.0061 - val_loss: 0.0551\n",
            "Epoch 32/100\n",
            "5/5 [==============================] - 0s 7ms/step - loss: 0.0058 - val_loss: 0.0497\n",
            "Epoch 33/100\n",
            "5/5 [==============================] - 0s 7ms/step - loss: 0.0058 - val_loss: 0.0556\n",
            "Epoch 34/100\n",
            "5/5 [==============================] - 0s 7ms/step - loss: 0.0057 - val_loss: 0.0492\n",
            "Epoch 35/100\n",
            "5/5 [==============================] - 0s 7ms/step - loss: 0.0067 - val_loss: 0.0545\n",
            "Epoch 36/100\n",
            "5/5 [==============================] - 0s 7ms/step - loss: 0.0049 - val_loss: 0.0481\n",
            "Epoch 37/100\n",
            "5/5 [==============================] - 0s 9ms/step - loss: 0.0052 - val_loss: 0.0477\n",
            "Epoch 38/100\n",
            "5/5 [==============================] - 0s 7ms/step - loss: 0.0056 - val_loss: 0.0425\n",
            "Epoch 39/100\n",
            "5/5 [==============================] - 0s 10ms/step - loss: 0.0052 - val_loss: 0.0488\n",
            "Epoch 40/100\n",
            "5/5 [==============================] - 0s 12ms/step - loss: 0.0058 - val_loss: 0.0433\n",
            "Epoch 41/100\n",
            "5/5 [==============================] - 0s 8ms/step - loss: 0.0063 - val_loss: 0.0500\n",
            "Epoch 42/100\n",
            "5/5 [==============================] - 0s 8ms/step - loss: 0.0049 - val_loss: 0.0424\n",
            "Epoch 43/100\n",
            "5/5 [==============================] - 0s 7ms/step - loss: 0.0047 - val_loss: 0.0453\n",
            "Epoch 44/100\n",
            "5/5 [==============================] - 0s 7ms/step - loss: 0.0052 - val_loss: 0.0419\n",
            "Epoch 45/100\n",
            "5/5 [==============================] - 0s 7ms/step - loss: 0.0055 - val_loss: 0.0476\n",
            "Epoch 46/100\n",
            "5/5 [==============================] - 0s 8ms/step - loss: 0.0055 - val_loss: 0.0368\n",
            "Epoch 47/100\n",
            "5/5 [==============================] - 0s 7ms/step - loss: 0.0058 - val_loss: 0.0425\n",
            "Epoch 48/100\n",
            "5/5 [==============================] - 0s 8ms/step - loss: 0.0054 - val_loss: 0.0347\n",
            "Epoch 49/100\n",
            "5/5 [==============================] - 0s 7ms/step - loss: 0.0051 - val_loss: 0.0385\n",
            "Epoch 50/100\n",
            "5/5 [==============================] - 0s 7ms/step - loss: 0.0053 - val_loss: 0.0336\n",
            "Epoch 51/100\n",
            "5/5 [==============================] - 0s 6ms/step - loss: 0.0049 - val_loss: 0.0375\n",
            "Epoch 52/100\n",
            "5/5 [==============================] - 0s 7ms/step - loss: 0.0052 - val_loss: 0.0319\n",
            "Epoch 53/100\n",
            "5/5 [==============================] - 0s 6ms/step - loss: 0.0049 - val_loss: 0.0349\n",
            "Epoch 54/100\n",
            "5/5 [==============================] - 0s 9ms/step - loss: 0.0055 - val_loss: 0.0308\n",
            "Epoch 55/100\n",
            "5/5 [==============================] - 0s 8ms/step - loss: 0.0048 - val_loss: 0.0324\n",
            "Epoch 56/100\n",
            "5/5 [==============================] - 0s 8ms/step - loss: 0.0058 - val_loss: 0.0300\n",
            "Epoch 57/100\n",
            "5/5 [==============================] - 0s 8ms/step - loss: 0.0044 - val_loss: 0.0308\n",
            "Epoch 58/100\n",
            "5/5 [==============================] - 0s 8ms/step - loss: 0.0057 - val_loss: 0.0298\n",
            "Epoch 59/100\n",
            "5/5 [==============================] - 0s 7ms/step - loss: 0.0047 - val_loss: 0.0314\n",
            "Epoch 60/100\n",
            "5/5 [==============================] - 0s 8ms/step - loss: 0.0047 - val_loss: 0.0276\n",
            "Epoch 61/100\n",
            "5/5 [==============================] - 0s 8ms/step - loss: 0.0038 - val_loss: 0.0288\n",
            "Epoch 62/100\n",
            "5/5 [==============================] - 0s 14ms/step - loss: 0.0041 - val_loss: 0.0281\n",
            "Epoch 63/100\n",
            "5/5 [==============================] - 0s 7ms/step - loss: 0.0044 - val_loss: 0.0313\n",
            "Epoch 64/100\n",
            "5/5 [==============================] - 0s 8ms/step - loss: 0.0041 - val_loss: 0.0259\n",
            "Epoch 65/100\n",
            "5/5 [==============================] - 0s 8ms/step - loss: 0.0039 - val_loss: 0.0259\n",
            "Epoch 66/100\n",
            "5/5 [==============================] - 0s 8ms/step - loss: 0.0039 - val_loss: 0.0276\n",
            "Epoch 67/100\n",
            "5/5 [==============================] - 0s 7ms/step - loss: 0.0058 - val_loss: 0.0245\n",
            "Epoch 68/100\n",
            "5/5 [==============================] - 0s 7ms/step - loss: 0.0056 - val_loss: 0.0246\n",
            "Epoch 69/100\n",
            "5/5 [==============================] - 0s 8ms/step - loss: 0.0051 - val_loss: 0.0278\n",
            "Epoch 70/100\n",
            "5/5 [==============================] - 0s 8ms/step - loss: 0.0053 - val_loss: 0.0272\n",
            "Epoch 71/100\n",
            "5/5 [==============================] - 0s 8ms/step - loss: 0.0062 - val_loss: 0.0292\n",
            "Epoch 72/100\n",
            "5/5 [==============================] - 0s 9ms/step - loss: 0.0052 - val_loss: 0.0238\n",
            "Epoch 73/100\n",
            "5/5 [==============================] - 0s 8ms/step - loss: 0.0039 - val_loss: 0.0266\n",
            "Epoch 74/100\n",
            "5/5 [==============================] - 0s 8ms/step - loss: 0.0042 - val_loss: 0.0244\n",
            "Epoch 75/100\n",
            "5/5 [==============================] - 0s 8ms/step - loss: 0.0050 - val_loss: 0.0298\n",
            "Epoch 76/100\n",
            "5/5 [==============================] - 0s 8ms/step - loss: 0.0047 - val_loss: 0.0231\n",
            "Epoch 77/100\n",
            "5/5 [==============================] - 0s 8ms/step - loss: 0.0046 - val_loss: 0.0286\n",
            "Epoch 78/100\n",
            "5/5 [==============================] - 0s 8ms/step - loss: 0.0048 - val_loss: 0.0255\n",
            "Epoch 79/100\n",
            "5/5 [==============================] - 0s 8ms/step - loss: 0.0044 - val_loss: 0.0298\n",
            "Epoch 80/100\n",
            "5/5 [==============================] - 0s 8ms/step - loss: 0.0033 - val_loss: 0.0255\n",
            "Epoch 81/100\n",
            "5/5 [==============================] - 0s 8ms/step - loss: 0.0035 - val_loss: 0.0316\n",
            "Epoch 82/100\n",
            "5/5 [==============================] - 0s 8ms/step - loss: 0.0043 - val_loss: 0.0265\n",
            "Epoch 83/100\n",
            "5/5 [==============================] - 0s 9ms/step - loss: 0.0038 - val_loss: 0.0238\n",
            "Epoch 84/100\n",
            "5/5 [==============================] - 0s 9ms/step - loss: 0.0037 - val_loss: 0.0269\n",
            "Epoch 85/100\n",
            "5/5 [==============================] - 0s 9ms/step - loss: 0.0037 - val_loss: 0.0235\n",
            "Epoch 86/100\n",
            "5/5 [==============================] - 0s 8ms/step - loss: 0.0032 - val_loss: 0.0278\n"
          ],
          "name": "stdout"
        },
        {
          "output_type": "execute_result",
          "data": {
            "text/plain": [
              "<keras.callbacks.History at 0x7f2dd5c9e510>"
            ]
          },
          "metadata": {
            "tags": []
          },
          "execution_count": 180
        }
      ]
    },
    {
      "cell_type": "code",
      "metadata": {
        "colab": {
          "base_uri": "https://localhost:8080/",
          "height": 331
        },
        "id": "mokkcAgrwv8n",
        "outputId": "afa78e00-cdb2-485d-d3f0-d9c7cc46fc2b"
      },
      "source": [
        "y_test_pre_lstm = predict(model_LSTM, y_test)\n",
        "print(\"LSTM RESULTS\")\n",
        "rmse, mae = evaluate(y_test, y_test_pre_lstm)\n",
        "RMSE_lstm.append(rmse)\n",
        "MAE_lstm.append(mae)\n",
        "print(\"RMSE = \", rmse)\n",
        "print(\"MAE = \", mae)\n",
        "\n",
        "visualize(y_test, y_test_pre_lstm, \"results of LSTM\")"
      ],
      "execution_count": null,
      "outputs": [
        {
          "output_type": "stream",
          "text": [
            "LSTM RESULTS\n",
            "RMSE =  0.023254726\n",
            "MAE =  0.019920524\n"
          ],
          "name": "stdout"
        },
        {
          "output_type": "display_data",
          "data": {
            "image/png": "[encoded data removed]",
            "text/plain": [
              "<Figure size 432x288 with 1 Axes>"
            ]
          },
          "metadata": {
            "tags": [],
            "needs_background": "light"
          }
        }
      ]
    },
    {
      "cell_type": "code",
      "metadata": {
        "colab": {
          "base_uri": "https://localhost:8080/"
        },
        "id": "cSzZ_eBGHRTS",
        "outputId": "46819dd3-0c06-4db6-a4be-a4d1fce383c9"
      },
      "source": [
        "model_GRU = model_gru()\n",
        "fit(model_GRU, X_train, X_test, y_train, y_test)"
      ],
      "execution_count": null,
      "outputs": [
        {
          "output_type": "stream",
          "text": [
            "Epoch 1/100\n",
            "5/5 [==============================] - 3s 190ms/step - loss: 0.0630 - val_loss: 0.7401\n",
            "Epoch 2/100\n",
            "5/5 [==============================] - 0s 7ms/step - loss: 0.0758 - val_loss: 0.6594\n",
            "Epoch 3/100\n",
            "5/5 [==============================] - 0s 7ms/step - loss: 0.0795 - val_loss: 0.5897\n",
            "Epoch 4/100\n",
            "5/5 [==============================] - 0s 7ms/step - loss: 0.0787 - val_loss: 0.5277\n",
            "Epoch 5/100\n",
            "5/5 [==============================] - 0s 7ms/step - loss: 0.0754 - val_loss: 0.4708\n",
            "Epoch 6/100\n",
            "5/5 [==============================] - 0s 7ms/step - loss: 0.0694 - val_loss: 0.4165\n",
            "Epoch 7/100\n",
            "5/5 [==============================] - 0s 8ms/step - loss: 0.0613 - val_loss: 0.3633\n",
            "Epoch 8/100\n",
            "5/5 [==============================] - 0s 7ms/step - loss: 0.0509 - val_loss: 0.3094\n",
            "Epoch 9/100\n",
            "5/5 [==============================] - 0s 8ms/step - loss: 0.0385 - val_loss: 0.2533\n",
            "Epoch 10/100\n",
            "5/5 [==============================] - 0s 7ms/step - loss: 0.0249 - val_loss: 0.1995\n",
            "Epoch 11/100\n",
            "5/5 [==============================] - 0s 7ms/step - loss: 0.0116 - val_loss: 0.1395\n",
            "Epoch 12/100\n",
            "5/5 [==============================] - 0s 7ms/step - loss: 0.0096 - val_loss: 0.0749\n",
            "Epoch 13/100\n",
            "5/5 [==============================] - 0s 8ms/step - loss: 0.0089 - val_loss: 0.0639\n",
            "Epoch 14/100\n",
            "5/5 [==============================] - 0s 9ms/step - loss: 0.0141 - val_loss: 0.0526\n",
            "Epoch 15/100\n",
            "5/5 [==============================] - 0s 9ms/step - loss: 0.0099 - val_loss: 0.0491\n",
            "Epoch 16/100\n",
            "5/5 [==============================] - 0s 8ms/step - loss: 0.0085 - val_loss: 0.0749\n",
            "Epoch 17/100\n",
            "5/5 [==============================] - 0s 8ms/step - loss: 0.0078 - val_loss: 0.0670\n",
            "Epoch 18/100\n",
            "5/5 [==============================] - 0s 10ms/step - loss: 0.0102 - val_loss: 0.0707\n",
            "Epoch 19/100\n",
            "5/5 [==============================] - 0s 8ms/step - loss: 0.0081 - val_loss: 0.0631\n",
            "Epoch 20/100\n",
            "5/5 [==============================] - 0s 7ms/step - loss: 0.0071 - val_loss: 0.0420\n",
            "Epoch 21/100\n",
            "5/5 [==============================] - 0s 8ms/step - loss: 0.0089 - val_loss: 0.0550\n",
            "Epoch 22/100\n",
            "5/5 [==============================] - 0s 9ms/step - loss: 0.0067 - val_loss: 0.0519\n",
            "Epoch 23/100\n",
            "5/5 [==============================] - 0s 7ms/step - loss: 0.0067 - val_loss: 0.0524\n",
            "Epoch 24/100\n",
            "5/5 [==============================] - 0s 8ms/step - loss: 0.0060 - val_loss: 0.0444\n",
            "Epoch 25/100\n",
            "5/5 [==============================] - 0s 8ms/step - loss: 0.0073 - val_loss: 0.0528\n",
            "Epoch 26/100\n",
            "5/5 [==============================] - 0s 7ms/step - loss: 0.0063 - val_loss: 0.0410\n",
            "Epoch 27/100\n",
            "5/5 [==============================] - 0s 7ms/step - loss: 0.0066 - val_loss: 0.0482\n",
            "Epoch 28/100\n",
            "5/5 [==============================] - 0s 7ms/step - loss: 0.0066 - val_loss: 0.0337\n",
            "Epoch 29/100\n",
            "5/5 [==============================] - 0s 7ms/step - loss: 0.0063 - val_loss: 0.0449\n",
            "Epoch 30/100\n",
            "5/5 [==============================] - 0s 7ms/step - loss: 0.0075 - val_loss: 0.0328\n",
            "Epoch 31/100\n",
            "5/5 [==============================] - 0s 7ms/step - loss: 0.0061 - val_loss: 0.0525\n",
            "Epoch 32/100\n",
            "5/5 [==============================] - 0s 8ms/step - loss: 0.0060 - val_loss: 0.0386\n",
            "Epoch 33/100\n",
            "5/5 [==============================] - 0s 9ms/step - loss: 0.0063 - val_loss: 0.0407\n",
            "Epoch 34/100\n",
            "5/5 [==============================] - 0s 7ms/step - loss: 0.0062 - val_loss: 0.0294\n",
            "Epoch 35/100\n",
            "5/5 [==============================] - 0s 8ms/step - loss: 0.0054 - val_loss: 0.0390\n",
            "Epoch 36/100\n",
            "5/5 [==============================] - 0s 8ms/step - loss: 0.0056 - val_loss: 0.0369\n",
            "Epoch 37/100\n",
            "5/5 [==============================] - 0s 8ms/step - loss: 0.0062 - val_loss: 0.0389\n",
            "Epoch 38/100\n",
            "5/5 [==============================] - 0s 7ms/step - loss: 0.0055 - val_loss: 0.0323\n",
            "Epoch 39/100\n",
            "5/5 [==============================] - 0s 8ms/step - loss: 0.0064 - val_loss: 0.0557\n",
            "Epoch 40/100\n",
            "5/5 [==============================] - 0s 8ms/step - loss: 0.0074 - val_loss: 0.0388\n",
            "Epoch 41/100\n",
            "5/5 [==============================] - 0s 8ms/step - loss: 0.0047 - val_loss: 0.0274\n",
            "Epoch 42/100\n",
            "5/5 [==============================] - 0s 8ms/step - loss: 0.0048 - val_loss: 0.0411\n",
            "Epoch 43/100\n",
            "5/5 [==============================] - 0s 16ms/step - loss: 0.0053 - val_loss: 0.0422\n",
            "Epoch 44/100\n",
            "5/5 [==============================] - 0s 8ms/step - loss: 0.0090 - val_loss: 0.0380\n",
            "Epoch 45/100\n",
            "5/5 [==============================] - 0s 7ms/step - loss: 0.0048 - val_loss: 0.0272\n",
            "Epoch 46/100\n",
            "5/5 [==============================] - 0s 8ms/step - loss: 0.0059 - val_loss: 0.0378\n",
            "Epoch 47/100\n",
            "5/5 [==============================] - 0s 10ms/step - loss: 0.0048 - val_loss: 0.0332\n",
            "Epoch 48/100\n",
            "5/5 [==============================] - 0s 7ms/step - loss: 0.0075 - val_loss: 0.0377\n",
            "Epoch 49/100\n",
            "5/5 [==============================] - 0s 8ms/step - loss: 0.0052 - val_loss: 0.0271\n",
            "Epoch 50/100\n",
            "5/5 [==============================] - 0s 8ms/step - loss: 0.0092 - val_loss: 0.0344\n",
            "Epoch 51/100\n",
            "5/5 [==============================] - 0s 8ms/step - loss: 0.0083 - val_loss: 0.0449\n",
            "Epoch 52/100\n",
            "5/5 [==============================] - 0s 7ms/step - loss: 0.0058 - val_loss: 0.0358\n",
            "Epoch 53/100\n",
            "5/5 [==============================] - 0s 7ms/step - loss: 0.0109 - val_loss: 0.0397\n",
            "Epoch 54/100\n",
            "5/5 [==============================] - 0s 7ms/step - loss: 0.0090 - val_loss: 0.0633\n",
            "Epoch 55/100\n",
            "5/5 [==============================] - 0s 8ms/step - loss: 0.0066 - val_loss: 0.0356\n",
            "Epoch 56/100\n",
            "5/5 [==============================] - 0s 7ms/step - loss: 0.0074 - val_loss: 0.0390\n",
            "Epoch 57/100\n",
            "5/5 [==============================] - 0s 9ms/step - loss: 0.0067 - val_loss: 0.0231\n",
            "Epoch 58/100\n",
            "5/5 [==============================] - 0s 8ms/step - loss: 0.0061 - val_loss: 0.0436\n",
            "Epoch 59/100\n",
            "5/5 [==============================] - 0s 9ms/step - loss: 0.0039 - val_loss: 0.0394\n",
            "Epoch 60/100\n",
            "5/5 [==============================] - 0s 10ms/step - loss: 0.0058 - val_loss: 0.0497\n",
            "Epoch 61/100\n",
            "5/5 [==============================] - 0s 8ms/step - loss: 0.0041 - val_loss: 0.0374\n",
            "Epoch 62/100\n",
            "5/5 [==============================] - 0s 8ms/step - loss: 0.0051 - val_loss: 0.0413\n",
            "Epoch 63/100\n",
            "5/5 [==============================] - 0s 7ms/step - loss: 0.0066 - val_loss: 0.0463\n",
            "Epoch 64/100\n",
            "5/5 [==============================] - 0s 7ms/step - loss: 0.0051 - val_loss: 0.0387\n",
            "Epoch 65/100\n",
            "5/5 [==============================] - 0s 7ms/step - loss: 0.0050 - val_loss: 0.0423\n",
            "Epoch 66/100\n",
            "5/5 [==============================] - 0s 7ms/step - loss: 0.0061 - val_loss: 0.0371\n",
            "Epoch 67/100\n",
            "5/5 [==============================] - 0s 8ms/step - loss: 0.0047 - val_loss: 0.0354\n"
          ],
          "name": "stdout"
        },
        {
          "output_type": "execute_result",
          "data": {
            "text/plain": [
              "<keras.callbacks.History at 0x7f2dd3c75f10>"
            ]
          },
          "metadata": {
            "tags": []
          },
          "execution_count": 182
        }
      ]
    },
    {
      "cell_type": "code",
      "metadata": {
        "colab": {
          "base_uri": "https://localhost:8080/",
          "height": 331
        },
        "id": "TySlHNNEHb2m",
        "outputId": "4e024d29-5feb-454e-aa65-93324c51642b"
      },
      "source": [
        "y_test_pre_gru = predict(model_GRU, y_test)\n",
        "print(\"GRU RESULTS\")\n",
        "rmse, mae = evaluate(y_test, y_test_pre_gru)\n",
        "RMSE_gru.append(rmse)\n",
        "MAE_gru.append(mae)\n",
        "print(\"RMSE = \", rmse)\n",
        "print(\"MAE = \", mae)\n",
        "\n",
        "visualize(y_test, y_test_pre_gru, \"results of GRU\")\n"
      ],
      "execution_count": null,
      "outputs": [
        {
          "output_type": "stream",
          "text": [
            "GRU RESULTS\n",
            "RMSE =  0.0218837\n",
            "MAE =  0.018456776\n"
          ],
          "name": "stdout"
        },
        {
          "output_type": "display_data",
          "data": {
            "image/png": "[encoded data removed]",
            "text/plain": [
              "<Figure size 432x288 with 1 Axes>"
            ]
          },
          "metadata": {
            "tags": [],
            "needs_background": "light"
          }
        }
      ]
    },
    {
      "cell_type": "markdown",
      "metadata": {
        "id": "TfrWgDg_HdTj"
      },
      "source": [
        "# Comparison"
      ]
    },
    {
      "cell_type": "code",
      "metadata": {
        "id": "BomQ0MEfHhW-"
      },
      "source": [
        "compare = pd.DataFrame()\n",
        "compare[\"State\"] = states\n",
        "compare[\"rmse_mlp\"] = RMSE_mlp\n",
        "compare[\"rmse_lstm\"] = RMSE_lstm\n",
        "compare[\"rmse_gru\"] = RMSE_gru\n",
        "compare[\"rmse_cnn\"] = RMSE_cnn\n",
        "compare[\"mae_mlp\"] = MAE_mlp\n",
        "compare[\"mae_lstm\"] = MAE_lstm\n",
        "compare[\"mae_gru\"] = MAE_gru\n",
        "compare[\"mae_cnn\"] = MAE_cnn\n"
      ],
      "execution_count": null,
      "outputs": []
    },
    {
      "cell_type": "code",
      "metadata": {
        "colab": {
          "base_uri": "https://localhost:8080/",
          "height": 203
        },
        "id": "_qlYElihJLv-",
        "outputId": "d1a0a386-5671-43c4-aa3b-69674d7912ca"
      },
      "source": [
        "compare = compare.round(4)\n",
        "compare.head()"
      ],
      "execution_count": null,
      "outputs": [
        {
          "output_type": "execute_result",
          "data": {
            "text/html": [
              "<div>\n",
              "<style scoped>\n",
              "    .dataframe tbody tr th:only-of-type {\n",
              "        vertical-align: middle;\n",
              "    }\n",
              "\n",
              "    .dataframe tbody tr th {\n",
              "        vertical-align: top;\n",
              "    }\n",
              "\n",
              "    .dataframe thead th {\n",
              "        text-align: right;\n",
              "    }\n",
              "</style>\n",
              "<table border=\"1\" class=\"dataframe\">\n",
              "  <thead>\n",
              "    <tr style=\"text-align: right;\">\n",
              "      <th></th>\n",
              "      <th>State</th>\n",
              "      <th>rmse_mlp</th>\n",
              "      <th>rmse_lstm</th>\n",
              "      <th>rmse_gru</th>\n",
              "      <th>rmse_cnn</th>\n",
              "      <th>mae_mlp</th>\n",
              "      <th>mae_lstm</th>\n",
              "      <th>mae_gru</th>\n",
              "      <th>mae_cnn</th>\n",
              "    </tr>\n",
              "  </thead>\n",
              "  <tbody>\n",
              "    <tr>\n",
              "      <th>0</th>\n",
              "      <td>Maharashtra</td>\n",
              "      <td>0.7947</td>\n",
              "      <td>0.0429</td>\n",
              "      <td>0.1000</td>\n",
              "      <td>0.0497</td>\n",
              "      <td>0.7888</td>\n",
              "      <td>0.0409</td>\n",
              "      <td>0.0990</td>\n",
              "      <td>0.0392</td>\n",
              "    </tr>\n",
              "    <tr>\n",
              "      <th>1</th>\n",
              "      <td>Karnataka</td>\n",
              "      <td>0.0567</td>\n",
              "      <td>0.2655</td>\n",
              "      <td>0.0359</td>\n",
              "      <td>0.0905</td>\n",
              "      <td>0.0415</td>\n",
              "      <td>0.2387</td>\n",
              "      <td>0.0332</td>\n",
              "      <td>0.0752</td>\n",
              "    </tr>\n",
              "    <tr>\n",
              "      <th>2</th>\n",
              "      <td>Kerala</td>\n",
              "      <td>0.0461</td>\n",
              "      <td>0.0907</td>\n",
              "      <td>0.0506</td>\n",
              "      <td>0.0382</td>\n",
              "      <td>0.0414</td>\n",
              "      <td>0.0832</td>\n",
              "      <td>0.0458</td>\n",
              "      <td>0.0328</td>\n",
              "    </tr>\n",
              "    <tr>\n",
              "      <th>3</th>\n",
              "      <td>Tamil Nadu</td>\n",
              "      <td>0.0504</td>\n",
              "      <td>0.2696</td>\n",
              "      <td>0.0317</td>\n",
              "      <td>0.0863</td>\n",
              "      <td>0.0454</td>\n",
              "      <td>0.2448</td>\n",
              "      <td>0.0295</td>\n",
              "      <td>0.0769</td>\n",
              "    </tr>\n",
              "    <tr>\n",
              "      <th>4</th>\n",
              "      <td>Uttar Pradesh</td>\n",
              "      <td>0.0551</td>\n",
              "      <td>0.0233</td>\n",
              "      <td>0.0219</td>\n",
              "      <td>0.0389</td>\n",
              "      <td>0.0461</td>\n",
              "      <td>0.0199</td>\n",
              "      <td>0.0185</td>\n",
              "      <td>0.0285</td>\n",
              "    </tr>\n",
              "  </tbody>\n",
              "</table>\n",
              "</div>"
            ],
            "text/plain": [
              "           State  rmse_mlp  rmse_lstm  ...  mae_lstm  mae_gru  mae_cnn\n",
              "0    Maharashtra    0.7947     0.0429  ...    0.0409   0.0990   0.0392\n",
              "1      Karnataka    0.0567     0.2655  ...    0.2387   0.0332   0.0752\n",
              "2         Kerala    0.0461     0.0907  ...    0.0832   0.0458   0.0328\n",
              "3     Tamil Nadu    0.0504     0.2696  ...    0.2448   0.0295   0.0769\n",
              "4  Uttar Pradesh    0.0551     0.0233  ...    0.0199   0.0185   0.0285\n",
              "\n",
              "[5 rows x 9 columns]"
            ]
          },
          "metadata": {
            "tags": []
          },
          "execution_count": 185
        }
      ]
    },
    {
      "cell_type": "code",
      "metadata": {
        "id": "ae5SYuSOJ9qV",
        "colab": {
          "base_uri": "https://localhost:8080/"
        },
        "outputId": "551a121f-c351-412a-d053-1410ac547d7d"
      },
      "source": [
        "compare.mean(axis=0)"
      ],
      "execution_count": null,
      "outputs": [
        {
          "output_type": "execute_result",
          "data": {
            "text/plain": [
              "rmse_mlp     0.20060\n",
              "rmse_lstm    0.13840\n",
              "rmse_gru     0.04802\n",
              "rmse_cnn     0.06072\n",
              "mae_mlp      0.19264\n",
              "mae_lstm     0.12550\n",
              "mae_gru      0.04520\n",
              "mae_cnn      0.05052\n",
              "dtype: float64"
            ]
          },
          "metadata": {
            "tags": []
          },
          "execution_count": 186
        }
      ]
    },
    {
      "cell_type": "code",
      "metadata": {
        "id": "kwwnTtg-wMTF"
      },
      "source": [
        ""
      ],
      "execution_count": null,
      "outputs": []
    },
    {
      "cell_type": "markdown",
      "metadata": {
        "id": "NzgqEFhu5Ox0"
      },
      "source": [
        "# RMSE Radar Chart"
      ]
    },
    {
      "cell_type": "code",
      "metadata": {
        "colab": {
          "base_uri": "https://localhost:8080/",
          "height": 527
        },
        "id": "bBgbbx6kwMW8",
        "outputId": "cd3db6d8-8eb5-4f64-a425-2f702982918e"
      },
      "source": [
        "categories = states\n",
        "categories = [*categories, categories[0]]\n",
        "\n",
        "CNN = RMSE_cnn\n",
        "MLP = RMSE_mlp\n",
        "LSTM = RMSE_lstm\n",
        "GRU = RMSE_gru\n",
        "CNN = [*CNN, CNN[0]]\n",
        "MLP = [*MLP, MLP[0]]\n",
        "LSTM = [*LSTM, LSTM[0]]\n",
        "GRU = [*GRU, GRU[0]]\n",
        "\n",
        "label_loc = np.linspace(start=0, stop=6, num=len(CNN))\n",
        "\n",
        "plt.figure(figsize=(8, 8))\n",
        "plt.subplot(polar=True)\n",
        "plt.plot(label_loc, CNN, label='CNN')\n",
        "plt.plot(label_loc, MLP, label='MLP')\n",
        "plt.plot(label_loc, LSTM, label='LSTM')\n",
        "plt.plot(label_loc, GRU, label='GRU')\n",
        "plt.title('RMSE Radar Chart', size=20, y=1.05)\n",
        "lines, labels = plt.thetagrids(np.degrees(label_loc), labels=categories)\n",
        "plt.legend()\n",
        "plt.show()"
      ],
      "execution_count": null,
      "outputs": [
        {
          "output_type": "display_data",
          "data": {
            "image/png": "[encoded data removed]",
            "text/plain": [
              "<Figure size 576x576 with 1 Axes>"
            ]
          },
          "metadata": {
            "tags": [],
            "needs_background": "light"
          }
        }
      ]
    },
    {
      "cell_type": "markdown",
      "metadata": {
        "id": "WKfnkWoQ5RlM"
      },
      "source": [
        "# MAE Radar Chart"
      ]
    },
    {
      "cell_type": "code",
      "metadata": {
        "colab": {
          "base_uri": "https://localhost:8080/",
          "height": 527
        },
        "id": "YkeFbJpl5T0Z",
        "outputId": "24d66c54-f192-4ef6-8f44-fa46a0b9e006"
      },
      "source": [
        "CNN = MAE_cnn\n",
        "MLP = MAE_mlp\n",
        "LSTM = MAE_lstm\n",
        "GRU = MAE_gru\n",
        "CNN = [*CNN, CNN[0]]\n",
        "MLP = [*MLP, MLP[0]]\n",
        "LSTM = [*LSTM, LSTM[0]]\n",
        "GRU = [*GRU, GRU[0]]\n",
        "\n",
        "label_loc = np.linspace(start=0, stop=6, num=len(CNN))\n",
        "\n",
        "plt.figure(figsize=(8, 8))\n",
        "plt.subplot(polar=True)\n",
        "plt.plot(label_loc, CNN, label='CNN')\n",
        "plt.plot(label_loc, MLP, label='MLP')\n",
        "plt.plot(label_loc, LSTM, label='LSTM')\n",
        "plt.plot(label_loc, GRU, label='GRU')\n",
        "plt.title('MAE Radar Chart', size=20, y=1.05)\n",
        "lines, labels = plt.thetagrids(np.degrees(label_loc), labels=categories)\n",
        "plt.legend()\n",
        "plt.show()"
      ],
      "execution_count": null,
      "outputs": [
        {
          "output_type": "display_data",
          "data": {
            "image/png": "[encoded data removed]",
            "text/plain": [
              "<Figure size 576x576 with 1 Axes>"
            ]
          },
          "metadata": {
            "tags": [],
            "needs_background": "light"
          }
        }
      ]
    }
  ]
}